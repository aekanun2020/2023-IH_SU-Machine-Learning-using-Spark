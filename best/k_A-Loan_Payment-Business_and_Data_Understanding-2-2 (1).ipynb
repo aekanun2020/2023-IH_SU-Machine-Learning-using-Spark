{
 "cells": [
  {
   "cell_type": "code",
   "execution_count": 1,
   "id": "b1ec9580",
   "metadata": {},
   "outputs": [
    {
     "name": "stderr",
     "output_type": "stream",
     "text": [
      "23/01/20 06:52:12 WARN NativeCodeLoader: Unable to load native-hadoop library for your platform... using builtin-java classes where applicable\n",
      "Using Spark's default log4j profile: org/apache/spark/log4j-defaults.properties\n",
      "Setting default log level to \"WARN\".\n",
      "To adjust logging level use sc.setLogLevel(newLevel). For SparkR, use setLogLevel(newLevel).\n"
     ]
    }
   ],
   "source": [
    "# ปรับแต่งค่าการทำงานของ Spark\n",
    "from pyspark.sql import SparkSession\n",
    "\n",
    "spark = SparkSession.\\\n",
    "     builder.\\\n",
    "     appName(\"Kong Spark\").\\\n",
    "     master(\"spark://spark-master:7077\").\\\n",
    "     config(\"spark.executor.memory\", \"4000m\").\\\n",
    "     config(\"spark.executor.cores\", \"2\").\\\n",
    "     config(\"spark.cores.max\", \"8\").\\\n",
    "     getOrCreate()\n"
   ]
  },
  {
   "cell_type": "code",
   "execution_count": 2,
   "id": "03b97bd0",
   "metadata": {},
   "outputs": [],
   "source": [
    "# กำหนดตัวแปร\n",
    "\n",
    "HIGHDISPERSION_LIST= ['delinq_2yrs','pub_rec','annual_inc','revol_bal','dti'] #เก็บชื่อคอลัมน์\n",
    "HIGHNULL_LIST = ['dti','revol_util'] #เก็บชื่อคอลัมน์\n",
    "HIGHOUTLIER = ['loan_amnt','delinq_2yrs','annual_inc']\n",
    "NULL_LIST = [] #เก็บชื่อคอลัมน์\n",
    "NULL_PERC = 0.1 #สูงกว่าค่านี้ เป็น High Null ซึ่งอาจใช้วิธีลบทั้ง row ที่มี null ไม่ได้ เพราะอาจทำให้สูญเสียทั้ง row ไปเยอะเกินควร\n",
    "DISPERSION_PERC = 100 #สูงกว่าค่านี้ (%) เป็น High Dispersion"
   ]
  },
  {
   "cell_type": "code",
   "execution_count": 3,
   "id": "d510c81c",
   "metadata": {},
   "outputs": [],
   "source": [
    "from pyspark.sql import functions as sparkf\n",
    "from pyspark.sql.types import *"
   ]
  },
  {
   "cell_type": "code",
   "execution_count": 4,
   "id": "b472ef0f",
   "metadata": {},
   "outputs": [],
   "source": [
    "#! pip install scipy"
   ]
  },
  {
   "cell_type": "code",
   "execution_count": 5,
   "id": "aa7c5359",
   "metadata": {},
   "outputs": [],
   "source": [
    "# เรียกใช้ Module/Library ของ Python\n",
    "\n",
    "import numpy as np\n",
    "import scipy as sp\n",
    "import pandas as pd\n",
    "import matplotlib as mpl\n",
    "import matplotlib.pyplot as plt\n",
    "import seaborn as sns\n",
    "\n",
    "# Pandas options\n",
    "pd.set_option('display.max_colwidth', 1000, 'display.max_rows', None, 'display.max_columns', None)\n",
    "\n",
    "# Plotting options\n",
    "%matplotlib inline\n",
    "mpl.style.use('ggplot')\n",
    "sns.set(style='whitegrid')\n",
    "\n",
    "import warnings\n",
    "warnings.filterwarnings(\"ignore\")"
   ]
  },
  {
   "cell_type": "markdown",
   "id": "36b4f285",
   "metadata": {},
   "source": [
    "## 1. Business Understaing\n",
    "    \n",
    "    1.1 Problem Statement: ต้องการทราบว่า ลูกหนี้แต่ละรายจะมาจ่ายหนี้ครบตามสัญญาเงินกู้ (Fully-paid) หรือไม่มาจ่ายฯ (Charged-off)\n",
    "    1.2 Project Objective: การจัดเก็บหนี้ดีขึ้นช่วยเพิ่มรายได้ให้กับกิจการ\n",
    "    1.3 Task of Data Science: Binary Classification\n",
    "    1.4 Cleansing Policy: ธุรกิจมี columns ที่แนะนำว่ามีความสัมพันธ์/ส่งผลต่อการชำระหนี้คืนตามสัญญา, ลบได้ทั้ง row หากมี missing ใน columns และแทนที่ได้ตามความเหมาะสม\n",
    "    1.5 Success Criteria: มี Recall/Sensitivity ไม่น้อยกว่า 0.65 บน Testing set แบบ Hold-out"
   ]
  },
  {
   "cell_type": "markdown",
   "id": "656cee35",
   "metadata": {},
   "source": [
    "## 2. Data Understanding\n",
    "    \n",
    "    - มี Label เป็น column: loan_status\n",
    "    - มีขนาดใหญ่ (volume)เกินกว่าเทคโนโลยีปัจจุบัน (Python) จะทำงานได้อย่างมีประสิทธิภาพ จึงต้องใช้ Spark ร่วมด้วย\n",
    "    - CSV เป็น semi-structural data ที่มี header ซึ่งสามารถนำไปพัฒนาเป็น schema ของ structural data (Spark DataFrame) ได้\n",
    "    - Data Dict.: https://docs.google.com/spreadsheets/d/1qtZBSJ-JS7S2tGC0W9Yxp992LmrDaAwGcJB419Htbbw/edit#gid=1163295822"
   ]
  },
  {
   "cell_type": "code",
   "execution_count": 6,
   "id": "a5efc999",
   "metadata": {},
   "outputs": [],
   "source": [
    "#กำหนด columns ที่ธุรกิจให้คำแนะนำฯ ไว้\n",
    "\n",
    "businessAttrs_df = [\"loan_amnt\",\"term\",\"int_rate\"\\\n",
    "                                ,\"installment\",\"grade\",\"emp_length\",\\\n",
    "                           \"home_ownership\",\"annual_inc\"\\\n",
    "                                ,\"verification_status\",\"loan_status\",\\\n",
    "                           \"purpose\",\"addr_state\",\"dti\",\"delinq_2yrs\"\\\n",
    "                                ,\"earliest_cr_line\",\\\n",
    "                           \"open_acc\",\"pub_rec\"\\\n",
    "                                ,\"revol_bal\",\"revol_util\",\"total_acc\",\"issue_d\"]"
   ]
  },
  {
   "cell_type": "code",
   "execution_count": 7,
   "id": "4ea17eac",
   "metadata": {},
   "outputs": [],
   "source": [
    "#! apt-get update"
   ]
  },
  {
   "cell_type": "code",
   "execution_count": 8,
   "id": "585e3c64",
   "metadata": {},
   "outputs": [],
   "source": [
    "#! apt-get install wget -y"
   ]
  },
  {
   "cell_type": "code",
   "execution_count": 9,
   "id": "667db725",
   "metadata": {},
   "outputs": [],
   "source": [
    "#! wget https://storage.googleapis.com/ntclass/LoanStats_web.csv"
   ]
  },
  {
   "cell_type": "code",
   "execution_count": 10,
   "id": "29f21c97",
   "metadata": {},
   "outputs": [],
   "source": [
    "# ! wc -l LoanStats_web.csv"
   ]
  },
  {
   "cell_type": "code",
   "execution_count": 11,
   "id": "21b1e221",
   "metadata": {},
   "outputs": [],
   "source": [
    "# ! head -3 LoanStats_web.csv"
   ]
  },
  {
   "cell_type": "code",
   "execution_count": 12,
   "id": "01c0b73d",
   "metadata": {},
   "outputs": [
    {
     "name": "stderr",
     "output_type": "stream",
     "text": [
      "                                                                                \r"
     ]
    }
   ],
   "source": [
    "# Spark อ่านข้อมูลจาก .csv แล้ว convert เป็น DataFrame\n",
    "\n",
    "raw_df = spark.read.option('header',True)\\\n",
    ".option(\"quote\", \"\\\"\")\\\n",
    ".option('mode','DROPMALFORMED')\\\n",
    ".option('inferSchema',True)\\\n",
    ".csv('LoanStats_web.csv')\\\n",
    ".select(businessAttrs_df)"
   ]
  },
  {
   "cell_type": "code",
   "execution_count": 13,
   "id": "df0742bc",
   "metadata": {},
   "outputs": [],
   "source": [
    "# Spark นับจำนวน row ใน DataFrame\n",
    "\n",
    "# raw_df.count()"
   ]
  },
  {
   "cell_type": "code",
   "execution_count": 14,
   "id": "d9b3a0e1",
   "metadata": {},
   "outputs": [],
   "source": [
    "# raw_df.printSchema()"
   ]
  },
  {
   "cell_type": "code",
   "execution_count": 15,
   "id": "312ded60",
   "metadata": {},
   "outputs": [
    {
     "name": "stderr",
     "output_type": "stream",
     "text": [
      "23/01/20 06:52:42 WARN package: Truncated the string representation of a plan since it was too large. This behavior can be adjusted by setting 'spark.sql.debug.maxToStringFields'.\n",
      "                                                                                \r"
     ]
    }
   ],
   "source": [
    "allRows_count = raw_df.count()"
   ]
  },
  {
   "cell_type": "code",
   "execution_count": null,
   "id": "55c2c548",
   "metadata": {},
   "outputs": [],
   "source": []
  },
  {
   "cell_type": "markdown",
   "id": "e65737d1",
   "metadata": {},
   "source": [
    "### 2.1 Univariate Analysis"
   ]
  },
  {
   "cell_type": "code",
   "execution_count": 16,
   "id": "dbde4ea4",
   "metadata": {},
   "outputs": [],
   "source": [
    "# Spark วิเคราะห์ column แล้วแสดงค่าทางสถิติ 5 ค่า ของแต่ละ column โดยมี Python Pandas ช่วยในการแสดงผล\n",
    "\n",
    "# raw_df.describe().toPandas().transpose()\n",
    "\n",
    "#### ผลจากการดู Range ขัอเกต คือ annual_inc มี 0 ด้วย"
   ]
  },
  {
   "cell_type": "code",
   "execution_count": 17,
   "id": "feb4e0e1",
   "metadata": {},
   "outputs": [],
   "source": [
    "#### ขยายผลกลุ่ม annual_inc = 0 ต่อไป เพื่อดูว่า ปล่อยกู้ในกลุ่มนี้ ยังงัยบ้าง\n",
    "# raw_df.filter(sparkf.col('annual_inc')==0).describe().toPandas().transpose()"
   ]
  },
  {
   "cell_type": "code",
   "execution_count": 18,
   "id": "ae29f3ed",
   "metadata": {},
   "outputs": [],
   "source": [
    "#### code ก่อนหน้านี้เห็นว่า กลุ่ม annual_inc = 0 มีการปล่อยกู้ด้วยวงเงินสูงสุด 40,000\n",
    "#### code ในส่วนนี้ เห็นว่า คนที่ได้รับเงินกู้ไป 40,000 มีจำนวน 126 คน ซึ่งมากที่สุดแล้วในกลุ่ม annual_inc = 0\n",
    "# raw_df.filter(sparkf.col('annual_inc')==0).groupBy('loan_amnt').count()\\\n",
    "# .orderBy('count', ascending=False).show()"
   ]
  },
  {
   "cell_type": "code",
   "execution_count": 19,
   "id": "da4d6d30",
   "metadata": {},
   "outputs": [
    {
     "name": "stderr",
     "output_type": "stream",
     "text": [
      "                                                                                \r"
     ]
    }
   ],
   "source": [
    "# Spark และ Pandas ร่วมกันคำนวณ Coefficient of Variation (CV)\n",
    "\n",
    "basicStat_pd = raw_df.describe().toPandas().transpose()\n",
    "\n",
    "header_series = basicStat_pd.iloc[0]\n",
    "\n",
    "noColBasicStat_pd = basicStat_pd[1:]\n",
    "\n",
    "noColBasicStat_pd.columns = header_series\n",
    "\n",
    "basicStat_pd = noColBasicStat_pd\n",
    "\n",
    "basicStat_pd = basicStat_pd[['count','mean','stddev']].astype('float64')\n",
    "\n",
    "basicStat_pd = basicStat_pd.assign(CV=lambda x: round((x['stddev']/x['mean'])*100,2))\\\n",
    ".sort_values('CV',ascending=False)\n",
    "\n",
    "# basicStat_pd"
   ]
  },
  {
   "cell_type": "code",
   "execution_count": 20,
   "id": "48e4dc89",
   "metadata": {},
   "outputs": [
    {
     "data": {
      "text/html": [
       "<div>\n",
       "<style scoped>\n",
       "    .dataframe tbody tr th:only-of-type {\n",
       "        vertical-align: middle;\n",
       "    }\n",
       "\n",
       "    .dataframe tbody tr th {\n",
       "        vertical-align: top;\n",
       "    }\n",
       "\n",
       "    .dataframe thead th {\n",
       "        text-align: right;\n",
       "    }\n",
       "</style>\n",
       "<table border=\"1\" class=\"dataframe\">\n",
       "  <thead>\n",
       "    <tr style=\"text-align: right;\">\n",
       "      <th>summary</th>\n",
       "      <th>count</th>\n",
       "      <th>mean</th>\n",
       "      <th>stddev</th>\n",
       "      <th>CV</th>\n",
       "    </tr>\n",
       "  </thead>\n",
       "  <tbody>\n",
       "    <tr>\n",
       "      <th>delinq_2yrs</th>\n",
       "      <td>1432440.0</td>\n",
       "      <td>0.301472</td>\n",
       "      <td>0.864319</td>\n",
       "      <td>286.70</td>\n",
       "    </tr>\n",
       "    <tr>\n",
       "      <th>pub_rec</th>\n",
       "      <td>1432439.0</td>\n",
       "      <td>0.205392</td>\n",
       "      <td>0.586109</td>\n",
       "      <td>285.36</td>\n",
       "    </tr>\n",
       "    <tr>\n",
       "      <th>annual_inc</th>\n",
       "      <td>1432440.0</td>\n",
       "      <td>81034.582933</td>\n",
       "      <td>134183.356967</td>\n",
       "      <td>165.59</td>\n",
       "    </tr>\n",
       "    <tr>\n",
       "      <th>revol_bal</th>\n",
       "      <td>1432439.0</td>\n",
       "      <td>16846.678102</td>\n",
       "      <td>23301.014583</td>\n",
       "      <td>138.31</td>\n",
       "    </tr>\n",
       "  </tbody>\n",
       "</table>\n",
       "</div>"
      ],
      "text/plain": [
       "summary          count          mean         stddev      CV\n",
       "delinq_2yrs  1432440.0      0.301472       0.864319  286.70\n",
       "pub_rec      1432439.0      0.205392       0.586109  285.36\n",
       "annual_inc   1432440.0  81034.582933  134183.356967  165.59\n",
       "revol_bal    1432439.0  16846.678102   23301.014583  138.31"
      ]
     },
     "execution_count": 20,
     "metadata": {},
     "output_type": "execute_result"
    }
   ],
   "source": [
    "# Spark และ Pandas ร่วมกันกรองออกมาเฉพาะ CV ที่เกิน DISPERSION_PERC\n",
    "\n",
    "basicStat_pd[basicStat_pd.assign(CV=lambda x: round((x['stddev']/x['mean'])*100,2))\\\n",
    ".sort_values('CV',ascending=False)['CV']>DISPERSION_PERC]"
   ]
  },
  {
   "cell_type": "code",
   "execution_count": 21,
   "id": "2170daca",
   "metadata": {},
   "outputs": [],
   "source": [
    "# Spark และ Pandas ได้รับรายชื่อ Col. ที่มี Dispersion เกินกว่าค่า DISPERSION_PERC\n",
    "HIGHDISPERSION_LIST = basicStat_pd[basicStat_pd.assign(CV=lambda x: round((x['stddev']/x['mean'])*100,2))\\\n",
    ".sort_values('CV',ascending=False)['CV']>DISPERSION_PERC][:].axes[0].values.tolist()"
   ]
  },
  {
   "cell_type": "code",
   "execution_count": 22,
   "id": "25f05d68",
   "metadata": {},
   "outputs": [
    {
     "data": {
      "text/plain": [
       "['delinq_2yrs', 'pub_rec', 'annual_inc', 'revol_bal']"
      ]
     },
     "execution_count": 22,
     "metadata": {},
     "output_type": "execute_result"
    }
   ],
   "source": [
    "HIGHDISPERSION_LIST"
   ]
  },
  {
   "cell_type": "code",
   "execution_count": 23,
   "id": "dd415ac8",
   "metadata": {},
   "outputs": [],
   "source": [
    "# raw_df.count()"
   ]
  },
  {
   "cell_type": "code",
   "execution_count": 24,
   "id": "f2d63310",
   "metadata": {},
   "outputs": [],
   "source": [
    "#วิเคราะห์ NULL\n",
    "\n",
    "# basicStat_pd.assign(percentageNull=lambda x: ((allRows_count-x['count'])/allRows_count)*100)\\\n",
    "# .sort_values('percentageNull',ascending=True)"
   ]
  },
  {
   "cell_type": "raw",
   "id": "3e292e6c",
   "metadata": {},
   "source": [
    "#วิเคราะห์ NULL\n",
    "\n",
    "basicStat_pd.assign(percentageNull=lambda x: round(((allRows_count-x['count'])/allRows_count)*100,2))\\\n",
    ".sort_values('percentageNull',ascending=False)"
   ]
  },
  {
   "cell_type": "code",
   "execution_count": 25,
   "id": "b21fa854",
   "metadata": {},
   "outputs": [],
   "source": [
    "# Spark และ Pandas ได้รับรายชื่อ Col. ที่มี Null เกินกว่าค่า NULL_PERC\n",
    "\n",
    "HIGHNULL_LIST = basicStat_pd[basicStat_pd.assign(percentageNull=lambda x: ((allRows_count-x['count'])/allRows_count)*100)\\\n",
    ".sort_values('percentageNull',ascending=False)['percentageNull']>NULL_PERC][:].axes[0].values.tolist()"
   ]
  },
  {
   "cell_type": "raw",
   "id": "0b241816",
   "metadata": {},
   "source": [
    "# Spark และ Pandas ได้รับรายชื่อ Col. ที่มี Null เกินกว่าค่า NULL_PERC\n",
    "\n",
    "HIGHNULL_LIST = basicStat_pd[basicStat_pd.assign(percentageNull=lambda x: round(((allRows_count-x['count'])/allRows_count)*100,2))\\\n",
    ".sort_values('percentageNull',ascending=False)['percentageNull']>NULL_PERC][:].axes[0].values.tolist()"
   ]
  },
  {
   "cell_type": "code",
   "execution_count": 26,
   "id": "d5c15da3",
   "metadata": {},
   "outputs": [
    {
     "data": {
      "text/plain": [
       "['dti']"
      ]
     },
     "execution_count": 26,
     "metadata": {},
     "output_type": "execute_result"
    }
   ],
   "source": [
    "HIGHNULL_LIST"
   ]
  },
  {
   "cell_type": "code",
   "execution_count": 27,
   "id": "def19973",
   "metadata": {},
   "outputs": [],
   "source": [
    "# Spark และ Pandas ได้รับรายชื่อ Col. ที่มี Null \n",
    "NULL_LIST = basicStat_pd[basicStat_pd.assign(countNull=lambda x: allRows_count-x['count'])\\\n",
    ".sort_values('countNull',ascending=False)['countNull']>0][:].axes[0].values.tolist()"
   ]
  },
  {
   "cell_type": "code",
   "execution_count": 28,
   "id": "5700cd1d",
   "metadata": {},
   "outputs": [],
   "source": [
    "# Spark วิเคราะห์ Imbalance Class\n",
    "\n",
    "# raw_df.groupBy('loan_status').count().show()"
   ]
  },
  {
   "cell_type": "code",
   "execution_count": 29,
   "id": "6649da7f",
   "metadata": {},
   "outputs": [],
   "source": [
    "# raw_df.select('loan_status').distinct().show()"
   ]
  },
  {
   "cell_type": "code",
   "execution_count": 30,
   "id": "ea815931",
   "metadata": {},
   "outputs": [],
   "source": [
    "# raw_df.printSchema()"
   ]
  },
  {
   "cell_type": "code",
   "execution_count": 31,
   "id": "138bde21",
   "metadata": {},
   "outputs": [],
   "source": [
    "# raw_df.withColumn('calculatedDTI',sparkf.col('loan_amnt')/sparkf.col('annual_inc'))\\\n",
    "# .select('loan_amnt','annual_inc','dti','calculatedDTI').groupBy('loan_amnt','annual_inc','dti','calculatedDTI').count()\\\n",
    "# .orderBy('dti', ascending=False).show()\n",
    "\n",
    "### ค่า dti เชื่อถือได้หรือไม่"
   ]
  },
  {
   "cell_type": "code",
   "execution_count": 32,
   "id": "a339fe61",
   "metadata": {},
   "outputs": [],
   "source": [
    "# raw_df.withColumn('calculatedDTI',sparkf.col('loan_amnt')/sparkf.col('annual_inc'))\\\n",
    "# .select('loan_amnt','annual_inc','dti','calculatedDTI').filter(sparkf.col('calculatedDTI').isNull()).show()\n",
    "\n",
    "#### พบว่า มี annual_inc = 0 แต่ได้รับเงินกู้ ซึ่งไม่ควรให้ ML จดจำ pattern แบบนี้ไปใช้**"
   ]
  },
  {
   "cell_type": "code",
   "execution_count": 33,
   "id": "b7ad1004",
   "metadata": {},
   "outputs": [],
   "source": [
    "# selectedCol_raw_pd = raw_df.toPandas()\n",
    "# import seaborn\n",
    "# seaborn.boxplot(x = selectedCol_raw_pd['loan_amnt'])"
   ]
  },
  {
   "cell_type": "code",
   "execution_count": 34,
   "id": "1a803739",
   "metadata": {},
   "outputs": [],
   "source": [
    "# selectedCol_raw_pd.shape"
   ]
  },
  {
   "cell_type": "code",
   "execution_count": 35,
   "id": "89f042bf",
   "metadata": {},
   "outputs": [],
   "source": [
    "# raw_df.groupBy('loan_status').count().show()"
   ]
  },
  {
   "cell_type": "code",
   "execution_count": 36,
   "id": "765d56f2",
   "metadata": {},
   "outputs": [],
   "source": [
    "# raw_df.printSchema()"
   ]
  },
  {
   "cell_type": "markdown",
   "id": "3cab2f48",
   "metadata": {},
   "source": [
    "## Multivariative/Bivariate Ananalysis with Correlation"
   ]
  },
  {
   "cell_type": "code",
   "execution_count": 37,
   "id": "a6a40a4b",
   "metadata": {},
   "outputs": [],
   "source": [
    "\n",
    "# ประกาศฟังก์ชั่นที่ใช้ทำ Histogram กับ Boxplot เพื่อวิเคราะห์ distribution (shape), outlier และความสัมพันธ์ (correlation)\n",
    "\n",
    "def plot_var(arg_df, col_name, full_name, continuous):\n",
    "    \"\"\"\n",
    "    Visualize a variable with and without faceting on the loan status.\n",
    "    - col_name is the variable name in the dataframe\n",
    "    - full_name is the full variable name\n",
    "    - continuous is True if the variable is continuous, False otherwise\n",
    "    \"\"\"\n",
    "#     f, (ax1, ax2) = plt.subplots(nrows=1, ncols=2, figsize=(12,3), dpi=90)\n",
    "    f, (ax1, ax2) = plt.subplots(nrows=1, ncols=2, figsize=(20,3), dpi=50)\n",
    "    \n",
    "    # Plot without loan status\n",
    "    if continuous:\n",
    "        sns.distplot(arg_df.loc[arg_df[col_name].notnull(), col_name], kde=False, ax=ax1)\n",
    "    else:\n",
    "        sns.countplot(x=arg_df[col_name], order=sorted(arg_df[col_name].unique()), color='#5975A4', saturation=1, ax=ax1)\n",
    "    ax1.set_xlabel(full_name)\n",
    "    ax1.set_ylabel('Count')\n",
    "    ax1.set_title(full_name)\n",
    "\n",
    "    # Plot with loan status\n",
    "    if continuous:\n",
    "        sns.boxplot(x=col_name, y='loan_status', data=arg_df, ax=ax2)\n",
    "        ax2.set_ylabel('')\n",
    "        ax2.set_title(full_name + ' by Loan Status')\n",
    "    else:\n",
    "        charge_off_rates = arg_df.groupby(col_name)['loan_status'].value_counts(normalize=True).loc[:,'Charged Off']\n",
    "        sns.barplot(x=charge_off_rates.index, y=charge_off_rates.values, color='#5975A4', saturation=1, ax=ax2)\n",
    "        ax2.set_ylabel('Fraction of arg_df Charged-off')\n",
    "        ax2.set_title('Charge-off Rate by ' + full_name)\n",
    "    ax2.set_xlabel(full_name)\n",
    "    \n",
    "    plt.tight_layout()"
   ]
  },
  {
   "cell_type": "code",
   "execution_count": 38,
   "id": "7d708140",
   "metadata": {},
   "outputs": [],
   "source": [
    "# delinq_2yrs (The number of 30+ days past-due incidences of delinquency in the borrower's credit file for the past 2 years)\n",
    "# numerical discrete"
   ]
  },
  {
   "cell_type": "code",
   "execution_count": 39,
   "id": "8e10a75a",
   "metadata": {},
   "outputs": [],
   "source": [
    "#delinq_2yrs: string (nullable = true)\n",
    "# change type withColumn\n",
    "\n",
    "correctedType_raw_df = raw_df.withColumn('delinq_2yrs',sparkf.col('delinq_2yrs').cast(IntegerType()))"
   ]
  },
  {
   "cell_type": "code",
   "execution_count": 40,
   "id": "69c6ff6b",
   "metadata": {},
   "outputs": [],
   "source": [
    "#correctedType_raw_pd = correctedType_raw_df.toPandas()"
   ]
  },
  {
   "cell_type": "code",
   "execution_count": 41,
   "id": "f61c807a",
   "metadata": {},
   "outputs": [],
   "source": [
    "#plot_var(raw_df.filter(sparkf.col('annual_inc') == 0).toPandas(),'loan_amnt', 'Loan Amount', continuous=True)"
   ]
  },
  {
   "cell_type": "code",
   "execution_count": 42,
   "id": "b4417ed4",
   "metadata": {},
   "outputs": [],
   "source": [
    "#plot_var(raw_df.filter(sparkf.col('annual_inc') != 0).toPandas(),'loan_amnt', 'Loan Amount', continuous=True)"
   ]
  },
  {
   "cell_type": "code",
   "execution_count": 43,
   "id": "afd6c17c",
   "metadata": {},
   "outputs": [],
   "source": [
    "#plot_var(correctedType_raw_pd,'loan_amnt', 'loan_amnt', continuous=True)"
   ]
  },
  {
   "cell_type": "code",
   "execution_count": 44,
   "id": "60ca7f81",
   "metadata": {},
   "outputs": [],
   "source": [
    "#plot_var(correctedType_raw_pd,'delinq_2yrs', 'loan_status', continuous=False)"
   ]
  },
  {
   "cell_type": "code",
   "execution_count": 45,
   "id": "9bc23081",
   "metadata": {},
   "outputs": [],
   "source": [
    "#plot_var(correctedType_raw_pd,'annual_inc', 'annual_inc', continuous=True)"
   ]
  },
  {
   "cell_type": "code",
   "execution_count": 46,
   "id": "78ce0eca",
   "metadata": {},
   "outputs": [],
   "source": [
    "#correctedType_raw_df.select('delinq_2yrs').describe().show()"
   ]
  },
  {
   "cell_type": "code",
   "execution_count": 47,
   "id": "ae5d39f3",
   "metadata": {},
   "outputs": [],
   "source": [
    "#correctedType_raw_df.groupBy('delinq_2yrs').count().orderBy('delinq_2yrs',ascending=False).show(100)"
   ]
  },
  {
   "cell_type": "code",
   "execution_count": 48,
   "id": "f73d211b",
   "metadata": {},
   "outputs": [],
   "source": [
    "#correctedType_raw_df.describe().toPandas().transpose()"
   ]
  },
  {
   "cell_type": "code",
   "execution_count": 49,
   "id": "50fb23b9",
   "metadata": {},
   "outputs": [],
   "source": [
    "#correctedType_raw_pd.info()"
   ]
  },
  {
   "cell_type": "code",
   "execution_count": 50,
   "id": "0fa1b7d9",
   "metadata": {},
   "outputs": [],
   "source": [
    "# กำหนดตัวแปร\n",
    "\n",
    "HIGHDISPERSION_LIST= ['delinq_2yrs','pub_rec','annual_inc','revol_bal','dti'] #เก็บชื่อคอลัมน์\n",
    "HIGHNULL_LIST = ['dti','revol_util'] #เก็บชื่อคอลัมน์\n",
    "HIGHOUTLIER = ['loan_amnt','delinq_2yrs','annual_inc']\n",
    "NULL_LIST = [] #เก็บชื่อคอลัมน์\n",
    "NULL_PERC = 0.1 #สูงกว่าค่านี้ เป็น High Null ซึ่งอาจใช้วิธีลบทั้ง row ที่มี null ไม่ได้ เพราะอาจทำให้สูญเสียทั้ง row ไปเยอะเกินควร\n",
    "DISPERSION_PERC = 100 #สูงกว่าค่านี้ (%) เป็น High Dispersion"
   ]
  },
  {
   "cell_type": "markdown",
   "id": "0dda047c",
   "metadata": {},
   "source": [
    "# 3. Data Preparation"
   ]
  },
  {
   "cell_type": "code",
   "execution_count": 51,
   "id": "fb84b3f8",
   "metadata": {},
   "outputs": [],
   "source": [
    "noHighNull_df = correctedType_raw_df.dropna(subset=HIGHNULL_LIST)"
   ]
  },
  {
   "cell_type": "code",
   "execution_count": 52,
   "id": "f110608f",
   "metadata": {},
   "outputs": [],
   "source": [
    "#noHighNull_df.describe().toPandas().transpose()"
   ]
  },
  {
   "cell_type": "markdown",
   "id": "afc3a8c1",
   "metadata": {},
   "source": [
    "## 1.Dropna"
   ]
  },
  {
   "cell_type": "code",
   "execution_count": 53,
   "id": "46f557be",
   "metadata": {},
   "outputs": [],
   "source": [
    "noNull_df = noHighNull_df.dropna()"
   ]
  },
  {
   "cell_type": "code",
   "execution_count": 54,
   "id": "c41b5db7",
   "metadata": {},
   "outputs": [],
   "source": [
    "#noNull_df.describe().toPandas().transpose()"
   ]
  },
  {
   "cell_type": "markdown",
   "id": "3bdce187",
   "metadata": {},
   "source": [
    "## 2.จัดการ term ลบ months ออก"
   ]
  },
  {
   "cell_type": "code",
   "execution_count": 55,
   "id": "b22a3bc9",
   "metadata": {},
   "outputs": [],
   "source": [
    "#noNull_df.groupBy('term').count().show()"
   ]
  },
  {
   "cell_type": "code",
   "execution_count": 56,
   "id": "cd0c5940",
   "metadata": {},
   "outputs": [],
   "source": [
    "#noNull_df.select('term').printSchema()"
   ]
  },
  {
   "cell_type": "code",
   "execution_count": 57,
   "id": "33d02ab3",
   "metadata": {},
   "outputs": [],
   "source": [
    "# noNull_df.withColumn('term',sparkf.when(sparkf.col('term').isNotNull(),sparkf.regexp_replace(sparkf.col('term'),' months','')).otherwise(sparkf.col('term')))\\\n",
    "# .groupBy('term').count().show()"
   ]
  },
  {
   "cell_type": "code",
   "execution_count": 58,
   "id": "a1a7dd6f",
   "metadata": {},
   "outputs": [],
   "source": [
    "#noNull_df.select('term').printSchema()"
   ]
  },
  {
   "cell_type": "raw",
   "id": "e2e32d7e",
   "metadata": {},
   "source": [
    "# plot_var(noNull_df.select(sparkf.col('term')).toPandas(),'term','loan_status', continuous=False)"
   ]
  },
  {
   "cell_type": "markdown",
   "id": "ef8835b1",
   "metadata": {},
   "source": [
    "### cast type to Interger"
   ]
  },
  {
   "cell_type": "code",
   "execution_count": 59,
   "id": "9167e73d",
   "metadata": {},
   "outputs": [],
   "source": [
    "# noNull_df.withColumn('term',sparkf.when(sparkf.col('term').isNotNull(),sparkf.regexp_replace(sparkf.col('term'),' months','')).otherwise(sparkf.col('term')))\\\n",
    "# .withColumn('term',sparkf.col('term').cast(IntegerType()))\\\n",
    "# .select('term').printSchema()"
   ]
  },
  {
   "cell_type": "markdown",
   "id": "b05a4b98",
   "metadata": {},
   "source": [
    "## 3.จัดการ int_rate remote '%'"
   ]
  },
  {
   "cell_type": "code",
   "execution_count": 60,
   "id": "a7ff4468",
   "metadata": {},
   "outputs": [],
   "source": [
    "# noNull_df\\\n",
    "# .select('int_rate')\\\n",
    "# .describe().toPandas().transpose()"
   ]
  },
  {
   "cell_type": "code",
   "execution_count": 61,
   "id": "607cf69a",
   "metadata": {},
   "outputs": [],
   "source": [
    "# noNull_df.withColumn('int_rate',sparkf.regexp_replace(sparkf.col('int_rate'),'%',''))\\\n",
    "# .withColumn('int_rate',sparkf.col('int_rate').cast(FloatType()))\\\n",
    "# .select('int_rate').describe().toPandas().transpose()"
   ]
  },
  {
   "cell_type": "markdown",
   "id": "b6d914e4",
   "metadata": {},
   "source": [
    "## 4.จัดการ emp_length"
   ]
  },
  {
   "cell_type": "code",
   "execution_count": 62,
   "id": "48db270d",
   "metadata": {},
   "outputs": [],
   "source": [
    "# noNull_df.withColumn('new_emp_length',sparkf.regexp_replace(sparkf.col('emp_length'),'< 1 year','0'))\\\n",
    "# .withColumn('new_emp_length',sparkf.regexp_replace(sparkf.col('new_emp_length'),'[^0-9]',''))\\\n",
    "# .withColumn('new_emp_length',sparkf.col('new_emp_length').cast(IntegerType()))\\\n",
    "# .select('emp_length','new_emp_length')\\\n",
    "# .groupBy('emp_length','new_emp_length').count().show()"
   ]
  },
  {
   "cell_type": "code",
   "execution_count": 63,
   "id": "bc7804c7",
   "metadata": {},
   "outputs": [],
   "source": [
    "# noNull_df.withColumn('new_emp_length',sparkf.regexp_replace(sparkf.col('emp_length'),'< 1 year','0'))\\\n",
    "# .withColumn('new_emp_length',sparkf.regexp_replace(sparkf.col('new_emp_length'),'[^0-9]',''))\\\n",
    "# .withColumn('new_emp_length',sparkf.col('new_emp_length').cast(IntegerType()))\\\n",
    "# .dropna()\\\n",
    "# .select('emp_length','new_emp_length')\\\n",
    "# .groupBy('emp_length','new_emp_length').count().show()"
   ]
  },
  {
   "cell_type": "markdown",
   "id": "6b70662c",
   "metadata": {},
   "source": [
    "## 5.loan_amount"
   ]
  },
  {
   "cell_type": "code",
   "execution_count": 64,
   "id": "374c17cc",
   "metadata": {},
   "outputs": [],
   "source": [
    "# noNull_df\\\n",
    "# .withColumn('loan_amnt',sparkf.col('loan_amnt').cast(FloatType()))\\\n",
    "# .filter(sparkf.col('loan_amnt') < 37000.0)\\\n",
    "# .describe().toPandas().transpose()"
   ]
  },
  {
   "cell_type": "markdown",
   "id": "751740f8",
   "metadata": {},
   "source": [
    "## 6.annual_inc"
   ]
  },
  {
   "cell_type": "code",
   "execution_count": 65,
   "id": "b72a43d6",
   "metadata": {},
   "outputs": [
    {
     "name": "stderr",
     "output_type": "stream",
     "text": [
      "                                                                                \r"
     ]
    },
    {
     "data": {
      "text/html": [
       "<div>\n",
       "<style scoped>\n",
       "    .dataframe tbody tr th:only-of-type {\n",
       "        vertical-align: middle;\n",
       "    }\n",
       "\n",
       "    .dataframe tbody tr th {\n",
       "        vertical-align: top;\n",
       "    }\n",
       "\n",
       "    .dataframe thead th {\n",
       "        text-align: right;\n",
       "    }\n",
       "</style>\n",
       "<table border=\"1\" class=\"dataframe\">\n",
       "  <thead>\n",
       "    <tr style=\"text-align: right;\">\n",
       "      <th></th>\n",
       "      <th>0</th>\n",
       "      <th>1</th>\n",
       "      <th>2</th>\n",
       "      <th>3</th>\n",
       "      <th>4</th>\n",
       "    </tr>\n",
       "  </thead>\n",
       "  <tbody>\n",
       "    <tr>\n",
       "      <th>summary</th>\n",
       "      <td>count</td>\n",
       "      <td>mean</td>\n",
       "      <td>stddev</td>\n",
       "      <td>min</td>\n",
       "      <td>max</td>\n",
       "    </tr>\n",
       "    <tr>\n",
       "      <th>annual_inc</th>\n",
       "      <td>1429660</td>\n",
       "      <td>81111.82013504994</td>\n",
       "      <td>134221.72384257097</td>\n",
       "      <td>20.0</td>\n",
       "      <td>6.1E7</td>\n",
       "    </tr>\n",
       "  </tbody>\n",
       "</table>\n",
       "</div>"
      ],
      "text/plain": [
       "                  0                  1                   2     3      4\n",
       "summary       count               mean              stddev   min    max\n",
       "annual_inc  1429660  81111.82013504994  134221.72384257097  20.0  6.1E7"
      ]
     },
     "execution_count": 65,
     "metadata": {},
     "output_type": "execute_result"
    }
   ],
   "source": [
    "noNull_df\\\n",
    ".withColumn('annual_inc',sparkf.col('annual_inc').cast(FloatType()))\\\n",
    ".filter(sparkf.col('annual_inc') != 0.0)\\\n",
    ".select('annual_inc').describe().toPandas().transpose()"
   ]
  },
  {
   "cell_type": "code",
   "execution_count": 66,
   "id": "c69a0c88",
   "metadata": {},
   "outputs": [],
   "source": [
    "#plot_var(noNull_df.toPandas(), 'annual_inc', 'annual_inc', continuous=False)"
   ]
  },
  {
   "cell_type": "code",
   "execution_count": 67,
   "id": "b176a8be",
   "metadata": {},
   "outputs": [],
   "source": [
    "#plot_var(noNull_df.toPandas(), 'annual_inc', 'annual_inc', continuous=True)"
   ]
  },
  {
   "cell_type": "markdown",
   "id": "c8dec695",
   "metadata": {},
   "source": [
    "## รวม 2-6"
   ]
  },
  {
   "cell_type": "code",
   "execution_count": 68,
   "id": "3301efb2",
   "metadata": {},
   "outputs": [],
   "source": [
    "# crunched_df = noNull_df\\\n",
    "# # .withColumn('term',sparkf.when(sparkf.col('term').isNotNull(),sparkf.regexp_replace(sparkf.col('term'),' months','')).otherwise(sparkf.col('term')))\\\n",
    "# # .withColumn('term',sparkf.col('term').cast(IntegerType()))\\\n",
    "# .withColumn('int_rate',sparkf.regexp_replace(sparkf.col('int_rate'),'%',''))\\\n",
    "# .withColumn('int_rate',sparkf.col('int_rate').cast(FloatType()))\\\n",
    "# # .withColumn('new_emp_length',sparkf.regexp_replace(sparkf.col('emp_length'),'< 1 year','0'))\\\n",
    "# # .withColumn('new_emp_length',sparkf.regexp_replace(sparkf.col('new_emp_length'),'[^0-9]',''))\\\n",
    "# # .withColumn('emp_length',sparkf.col('new_emp_length').cast(IntegerType()))\\\n",
    "# .withColumn('loan_amnt',sparkf.col('loan_amnt').cast(FloatType()))\\\n",
    "# .filter(sparkf.col('loan_amnt') < 40000.0)\\\n",
    "# # .withColumn('annual_inc',sparkf.col('annual_inc').cast(FloatType()))\\\n",
    "# # .filter(sparkf.col('annual_inc') != 0.0)\\\n",
    "# .dropna()"
   ]
  },
  {
   "cell_type": "code",
   "execution_count": 69,
   "id": "4950d822",
   "metadata": {},
   "outputs": [],
   "source": [
    "# crunched_df = noNull_df\\\n",
    "# .withColumn('int_rate',sparkf.regexp_replace(sparkf.col('int_rate'),'%',''))\\\n",
    "# .withColumn('int_rate',sparkf.col('int_rate').cast(FloatType()))\\\n",
    "# .withColumn('loan_amnt',sparkf.col('loan_amnt').cast(FloatType()))\\\n",
    "# .filter(sparkf.col('loan_amnt') < 40000.0)\\\n",
    "# .dropna()"
   ]
  },
  {
   "cell_type": "code",
   "execution_count": 70,
   "id": "3ffabe5f",
   "metadata": {},
   "outputs": [],
   "source": [
    "crunched_df = noNull_df\\\n",
    ".withColumn('term',sparkf.when(sparkf.col('term').isNotNull(),sparkf.regexp_replace(sparkf.col('term'),' months','')).otherwise(sparkf.col('term')))\\\n",
    ".withColumn('term',sparkf.col('term').cast(IntegerType()))\\\n",
    ".withColumn('int_rate',sparkf.regexp_replace(sparkf.col('int_rate'),'%',''))\\\n",
    ".withColumn('int_rate',sparkf.col('int_rate').cast(FloatType()))\\\n",
    ".withColumn('loan_amnt',sparkf.col('loan_amnt').cast(FloatType()))\\\n",
    ".filter(sparkf.col('loan_amnt') < 40000.0)\\\n",
    ".withColumn('annual_inc',sparkf.col('annual_inc').cast(FloatType()))\\\n",
    ".filter(sparkf.col('annual_inc') < 150000.0)\\\n",
    ".dropna()"
   ]
  },
  {
   "cell_type": "code",
   "execution_count": 71,
   "id": "46b21e80",
   "metadata": {},
   "outputs": [],
   "source": [
    "# crunched_df.select('term','int_rate','emp_length','loan_amnt').describe().toPandas().transpose()"
   ]
  },
  {
   "cell_type": "code",
   "execution_count": 72,
   "id": "e86ed6df",
   "metadata": {},
   "outputs": [],
   "source": [
    "# crunched_df.select('loan_status').describe().show()"
   ]
  },
  {
   "cell_type": "code",
   "execution_count": 73,
   "id": "319ef144",
   "metadata": {},
   "outputs": [],
   "source": [
    "# crunched_df.groupBy('loan_status').count().show()"
   ]
  },
  {
   "cell_type": "code",
   "execution_count": 74,
   "id": "3ea6f155",
   "metadata": {},
   "outputs": [],
   "source": [
    "# crunched_df.select('term','int_rate','emp_length','loan_amnt')\\\n",
    "# .filter((sparkf.col('loan_status')=='Fully Paid')|(sparkf.col('loan_status')=='Charged Off'))\\\n",
    "# .describe().show()"
   ]
  },
  {
   "cell_type": "code",
   "execution_count": 75,
   "id": "b6a77ecc",
   "metadata": {},
   "outputs": [],
   "source": [
    "# crunched_df.select('term','int_rate','emp_length','loan_amnt','loan_status')\\\n",
    "# .filter((sparkf.col('loan_status')=='Fully Paid')|(sparkf.col('loan_status')=='Charged Off'))\\\n",
    "# .groupBy('loan_status').count().show()"
   ]
  },
  {
   "cell_type": "code",
   "execution_count": 76,
   "id": "2b1076a1",
   "metadata": {},
   "outputs": [],
   "source": [
    "# crunched_df.select('term','int_rate','emp_length','loan_amnt')\\\n",
    "# .filter((sparkf.col('loan_status')=='Fully Paid')|(sparkf.col('loan_status')=='Charged Off'))\\\n",
    "# .count()"
   ]
  },
  {
   "cell_type": "markdown",
   "id": "ddd42ee2",
   "metadata": {},
   "source": [
    "#### ABT ที่ได้รับประกอบด้วยข้อมูล\n"
   ]
  },
  {
   "cell_type": "code",
   "execution_count": 77,
   "id": "8fee2ced",
   "metadata": {},
   "outputs": [],
   "source": [
    "# abt_df = crunched_df.select('term','int_rate','emp_length','loan_amnt','annual_inc','loan_status')\\\n",
    "# .filter((sparkf.col('loan_status')=='Fully Paid')|(sparkf.col('loan_status')=='Charged Off'))"
   ]
  },
  {
   "cell_type": "code",
   "execution_count": 78,
   "id": "72d19f2c",
   "metadata": {},
   "outputs": [],
   "source": [
    "abt_df = crunched_df.select('term','int_rate','loan_amnt','annual_inc','loan_status')\\\n",
    ".filter((sparkf.col('loan_status')=='Fully Paid')|(sparkf.col('loan_status')=='Charged Off'))"
   ]
  },
  {
   "cell_type": "code",
   "execution_count": 79,
   "id": "b524d648",
   "metadata": {},
   "outputs": [],
   "source": [
    "# abt_df.describe().show()"
   ]
  },
  {
   "cell_type": "markdown",
   "id": "28323b9a",
   "metadata": {},
   "source": [
    "### imbalance"
   ]
  },
  {
   "cell_type": "code",
   "execution_count": 80,
   "id": "913bb57b",
   "metadata": {},
   "outputs": [],
   "source": [
    "FullyPaid_training_df = abt_df.filter(sparkf.col('loan_status') == 'Fully Paid').sample(0.253)"
   ]
  },
  {
   "cell_type": "code",
   "execution_count": 81,
   "id": "979c3b83",
   "metadata": {},
   "outputs": [],
   "source": [
    "ChargedOff_training_df = abt_df.filter(sparkf.col('loan_status') == 'Charged Off')"
   ]
  },
  {
   "cell_type": "code",
   "execution_count": 82,
   "id": "1ba25192",
   "metadata": {},
   "outputs": [
    {
     "name": "stderr",
     "output_type": "stream",
     "text": [
      "                                                                                \r"
     ]
    },
    {
     "data": {
      "text/plain": [
       "134838"
      ]
     },
     "execution_count": 82,
     "metadata": {},
     "output_type": "execute_result"
    }
   ],
   "source": [
    "FullyPaid_training_num = FullyPaid_training_df.count()\n",
    "FullyPaid_training_num"
   ]
  },
  {
   "cell_type": "code",
   "execution_count": 83,
   "id": "0bf53dbf",
   "metadata": {},
   "outputs": [
    {
     "name": "stderr",
     "output_type": "stream",
     "text": [
      "                                                                                \r"
     ]
    },
    {
     "data": {
      "text/plain": [
       "142557"
      ]
     },
     "execution_count": 83,
     "metadata": {},
     "output_type": "execute_result"
    }
   ],
   "source": [
    "ChargedOff_training_num = ChargedOff_training_df.count()\n",
    "ChargedOff_training_num"
   ]
  },
  {
   "cell_type": "code",
   "execution_count": 84,
   "id": "b80aaa21",
   "metadata": {},
   "outputs": [],
   "source": [
    "final_df = FullyPaid_training_df.union(ChargedOff_training_df)"
   ]
  },
  {
   "cell_type": "markdown",
   "id": "8b56dcd9",
   "metadata": {},
   "source": [
    "## Modeling"
   ]
  },
  {
   "cell_type": "code",
   "execution_count": 85,
   "id": "b6423187",
   "metadata": {},
   "outputs": [],
   "source": [
    "# split data train & test\n",
    "weights = [0.8, 0.2]\n",
    "seed = 0\n",
    "# train_df, test_df = data_df.randomSplit([.8,.2])\n",
    "train_df, test_df = final_df.randomSplit(weights, seed)"
   ]
  },
  {
   "cell_type": "code",
   "execution_count": 86,
   "id": "21602f38",
   "metadata": {},
   "outputs": [
    {
     "name": "stderr",
     "output_type": "stream",
     "text": [
      "                                                                                \r"
     ]
    },
    {
     "data": {
      "text/plain": [
       "221929"
      ]
     },
     "execution_count": 86,
     "metadata": {},
     "output_type": "execute_result"
    }
   ],
   "source": [
    "train_df.count()"
   ]
  },
  {
   "cell_type": "code",
   "execution_count": 87,
   "id": "762e4b78",
   "metadata": {},
   "outputs": [
    {
     "name": "stderr",
     "output_type": "stream",
     "text": [
      "                                                                                \r"
     ]
    },
    {
     "data": {
      "text/plain": [
       "55466"
      ]
     },
     "execution_count": 87,
     "metadata": {},
     "output_type": "execute_result"
    }
   ],
   "source": [
    "test_df.count()"
   ]
  },
  {
   "cell_type": "code",
   "execution_count": 88,
   "id": "0846adb1",
   "metadata": {},
   "outputs": [],
   "source": [
    "#train_df.groupBy('term').count().show()"
   ]
  },
  {
   "cell_type": "code",
   "execution_count": 89,
   "id": "066cc7af",
   "metadata": {},
   "outputs": [],
   "source": [
    "#plot_var(train_df.toPandas(), 'term', 'term', continuous=False)"
   ]
  },
  {
   "cell_type": "code",
   "execution_count": 90,
   "id": "a9183642",
   "metadata": {},
   "outputs": [],
   "source": [
    "#train_df.select('emp_length').describe().show()"
   ]
  },
  {
   "cell_type": "code",
   "execution_count": 91,
   "id": "dc1f905d",
   "metadata": {},
   "outputs": [],
   "source": [
    "#plot_var(train_df.toPandas(), 'emp_length', 'emp_length', continuous=True)"
   ]
  },
  {
   "cell_type": "code",
   "execution_count": 92,
   "id": "e9b3c6d9",
   "metadata": {},
   "outputs": [],
   "source": [
    "#plot_var(train_df.toPandas(), 'emp_length', 'emp_length', continuous=False)"
   ]
  },
  {
   "cell_type": "raw",
   "id": "f977b6b6",
   "metadata": {},
   "source": [
    "#plot_var(train_df.filter(sparkf.col('annual_inc') != 0).toPandas(),'annual_inc', 'annual_inc', continuous=True)"
   ]
  },
  {
   "cell_type": "raw",
   "id": "f8876aeb",
   "metadata": {},
   "source": [
    "#plot_var(train_df.toPandas(), 'annual_inc', 'annual_inc', continuous=False)"
   ]
  },
  {
   "cell_type": "code",
   "execution_count": 93,
   "id": "978df789",
   "metadata": {},
   "outputs": [],
   "source": [
    "from pyspark.ml.feature import StringIndexer, OneHotEncoder, VectorAssembler"
   ]
  },
  {
   "cell_type": "code",
   "execution_count": 94,
   "id": "79b780b4",
   "metadata": {},
   "outputs": [],
   "source": [
    "# feture encoding\n",
    "labelIndexer_func = StringIndexer(inputCol='loan_status',outputCol='label',stringOrderType='alphabetDesc')"
   ]
  },
  {
   "cell_type": "code",
   "execution_count": 95,
   "id": "da9c139f",
   "metadata": {},
   "outputs": [],
   "source": [
    "#new\n",
    "# labelIndexer_func.fit(train_df).transform(train_df)\\\n",
    "# .groupBy('loan_status','label').count().show()"
   ]
  },
  {
   "cell_type": "code",
   "execution_count": 96,
   "id": "36eccbe3",
   "metadata": {},
   "outputs": [],
   "source": [
    "# verify only !\n",
    "# labelIndexer_func.fit(train_df).transform(train_df)\\\n",
    "# .groupBy('loan_status','label').count().show()"
   ]
  },
  {
   "cell_type": "code",
   "execution_count": 97,
   "id": "cfce89f1",
   "metadata": {},
   "outputs": [],
   "source": [
    "#. รวมค่าของแต่ละ. feature ในการ train\n",
    "featureVec_func = VectorAssembler(inputCols=['term','int_rate','loan_amnt','annual_inc'], outputCol='featureVec')"
   ]
  },
  {
   "cell_type": "code",
   "execution_count": 98,
   "id": "d0abf26a",
   "metadata": {},
   "outputs": [],
   "source": [
    "## verify\n",
    "\n",
    "#featureVec_func.transform(train_df).show(truncate=False)"
   ]
  },
  {
   "cell_type": "code",
   "execution_count": 99,
   "id": "13578e72",
   "metadata": {},
   "outputs": [],
   "source": [
    "from pyspark.ml.classification import DecisionTreeClassifier, RandomForestClassifier"
   ]
  },
  {
   "cell_type": "code",
   "execution_count": 100,
   "id": "f9c4c5ff",
   "metadata": {},
   "outputs": [],
   "source": [
    "algo_DT = DecisionTreeClassifier(featuresCol='featureVec',labelCol='label')"
   ]
  },
  {
   "cell_type": "code",
   "execution_count": 101,
   "id": "f6937f13",
   "metadata": {},
   "outputs": [],
   "source": [
    "from pyspark.ml.pipeline import Pipeline"
   ]
  },
  {
   "cell_type": "code",
   "execution_count": 102,
   "id": "455424c4",
   "metadata": {},
   "outputs": [],
   "source": [
    "pipeline_DT = Pipeline().setStages([labelIndexer_func,featureVec_func,algo_DT])"
   ]
  },
  {
   "cell_type": "code",
   "execution_count": 103,
   "id": "03097996",
   "metadata": {},
   "outputs": [
    {
     "name": "stderr",
     "output_type": "stream",
     "text": [
      "                                                                                \r"
     ]
    }
   ],
   "source": [
    "model_DT = pipeline_DT.fit(train_df)"
   ]
  },
  {
   "cell_type": "markdown",
   "id": "89d3fad3",
   "metadata": {},
   "source": [
    "### Model Evaluation การวัดและประเมินการทำงานของโมเดล ทดสอบ"
   ]
  },
  {
   "cell_type": "code",
   "execution_count": 104,
   "id": "ab75969b",
   "metadata": {},
   "outputs": [],
   "source": [
    "# view detail tune model\n",
    "# must be change loan_status to numerical data\n",
    "\n",
    "#test_df.describe().show()"
   ]
  },
  {
   "cell_type": "code",
   "execution_count": 105,
   "id": "58e0733c",
   "metadata": {},
   "outputs": [],
   "source": [
    "# model_DT"
   ]
  },
  {
   "cell_type": "code",
   "execution_count": 106,
   "id": "6e76cd3d",
   "metadata": {},
   "outputs": [],
   "source": [
    "# model_DT.stages"
   ]
  },
  {
   "cell_type": "code",
   "execution_count": 107,
   "id": "17c7719c",
   "metadata": {},
   "outputs": [],
   "source": [
    "# ทำงานและวัดผล\n",
    "result_DT = model_DT.transform(test_df)"
   ]
  },
  {
   "cell_type": "code",
   "execution_count": 108,
   "id": "acf70c14",
   "metadata": {},
   "outputs": [],
   "source": [
    "# result_DT.select('prediction').show()"
   ]
  },
  {
   "cell_type": "code",
   "execution_count": 109,
   "id": "eb490c77",
   "metadata": {},
   "outputs": [],
   "source": [
    "# result_DT.describe().show()"
   ]
  },
  {
   "cell_type": "markdown",
   "id": "5a2ce054",
   "metadata": {},
   "source": [
    "## Feture Engineering"
   ]
  },
  {
   "cell_type": "code",
   "execution_count": 110,
   "id": "6e2c4a3d",
   "metadata": {},
   "outputs": [],
   "source": [
    "def ExtractFeatureImp(featureImp, dataset, featuresCol):\n",
    "    list_extract = []\n",
    "    for i in dataset.schema[featuresCol].metadata[\"ml_attr\"][\"attrs\"]:\n",
    "        list_extract = list_extract + dataset.schema[featuresCol].metadata[\"ml_attr\"][\"attrs\"][i]\n",
    "    varlist = pd.DataFrame(list_extract)\n",
    "    varlist['score'] = varlist['idx'].apply(lambda x: featureImp[x])\n",
    "    return(varlist.sort_values('score', ascending = False))"
   ]
  },
  {
   "cell_type": "code",
   "execution_count": 111,
   "id": "f7b46042",
   "metadata": {},
   "outputs": [],
   "source": [
    "featureImportances = model_DT.stages[2].featureImportances.toArray()"
   ]
  },
  {
   "cell_type": "code",
   "execution_count": 112,
   "id": "39dbdefa",
   "metadata": {},
   "outputs": [
    {
     "data": {
      "text/html": [
       "<div>\n",
       "<style scoped>\n",
       "    .dataframe tbody tr th:only-of-type {\n",
       "        vertical-align: middle;\n",
       "    }\n",
       "\n",
       "    .dataframe tbody tr th {\n",
       "        vertical-align: top;\n",
       "    }\n",
       "\n",
       "    .dataframe thead th {\n",
       "        text-align: right;\n",
       "    }\n",
       "</style>\n",
       "<table border=\"1\" class=\"dataframe\">\n",
       "  <thead>\n",
       "    <tr style=\"text-align: right;\">\n",
       "      <th></th>\n",
       "      <th>idx</th>\n",
       "      <th>name</th>\n",
       "      <th>score</th>\n",
       "    </tr>\n",
       "  </thead>\n",
       "  <tbody>\n",
       "    <tr>\n",
       "      <th>1</th>\n",
       "      <td>1</td>\n",
       "      <td>int_rate</td>\n",
       "      <td>0.928924</td>\n",
       "    </tr>\n",
       "    <tr>\n",
       "      <th>0</th>\n",
       "      <td>0</td>\n",
       "      <td>term</td>\n",
       "      <td>0.050851</td>\n",
       "    </tr>\n",
       "    <tr>\n",
       "      <th>2</th>\n",
       "      <td>2</td>\n",
       "      <td>loan_amnt</td>\n",
       "      <td>0.015808</td>\n",
       "    </tr>\n",
       "    <tr>\n",
       "      <th>3</th>\n",
       "      <td>3</td>\n",
       "      <td>annual_inc</td>\n",
       "      <td>0.004416</td>\n",
       "    </tr>\n",
       "  </tbody>\n",
       "</table>\n",
       "</div>"
      ],
      "text/plain": [
       "   idx        name     score\n",
       "1    1    int_rate  0.928924\n",
       "0    0        term  0.050851\n",
       "2    2   loan_amnt  0.015808\n",
       "3    3  annual_inc  0.004416"
      ]
     },
     "execution_count": 112,
     "metadata": {},
     "output_type": "execute_result"
    }
   ],
   "source": [
    "ExtractFeatureImp(featureImportances, result_DT, \"featureVec\").head(30)"
   ]
  },
  {
   "cell_type": "markdown",
   "id": "f1ccf3b3",
   "metadata": {},
   "source": [
    "### Easy Evaluation"
   ]
  },
  {
   "cell_type": "code",
   "execution_count": 113,
   "id": "0419a8ad",
   "metadata": {},
   "outputs": [
    {
     "name": "stderr",
     "output_type": "stream",
     "text": [
      "                                                                                \r"
     ]
    },
    {
     "name": "stdout",
     "output_type": "stream",
     "text": [
      "+-----------+-----+----------+-----+\n",
      "|loan_status|label|prediction|count|\n",
      "+-----------+-----+----------+-----+\n",
      "|Charged Off|  1.0|       1.0|20627|\n",
      "| Fully Paid|  0.0|       0.0|14902|\n",
      "+-----------+-----+----------+-----+\n",
      "\n"
     ]
    }
   ],
   "source": [
    "#### label == prediction\n",
    "result_DT.select('loan_status','label','prediction').filter(sparkf.col('label')==sparkf.col('prediction'))\\\n",
    ".groupBy('loan_status','label','prediction').count().show()"
   ]
  },
  {
   "cell_type": "code",
   "execution_count": 114,
   "id": "2aa0edba",
   "metadata": {},
   "outputs": [
    {
     "name": "stderr",
     "output_type": "stream",
     "text": [
      "                                                                                \r"
     ]
    },
    {
     "name": "stdout",
     "output_type": "stream",
     "text": [
      "+-----------+-----+----------+-----+\n",
      "|loan_status|label|prediction|count|\n",
      "+-----------+-----+----------+-----+\n",
      "|Charged Off|  1.0|       0.0| 7914|\n",
      "| Fully Paid|  0.0|       1.0|12023|\n",
      "+-----------+-----+----------+-----+\n",
      "\n"
     ]
    }
   ],
   "source": [
    "#### label != prediction\n",
    "result_DT.select('loan_status','label','prediction').filter(sparkf.col('label')!=sparkf.col('prediction'))\\\n",
    ".groupBy('loan_status','label','prediction').count().show()"
   ]
  },
  {
   "cell_type": "code",
   "execution_count": 115,
   "id": "853536e4",
   "metadata": {},
   "outputs": [],
   "source": [
    "# test_df.groupBy('loan_status').count().show()"
   ]
  },
  {
   "cell_type": "code",
   "execution_count": 116,
   "id": "2dd7e17a",
   "metadata": {},
   "outputs": [],
   "source": [
    "# manual \n",
    "# TP = 19241; FN = 7817;\n",
    "# FP = 11709; TN = 15621;"
   ]
  },
  {
   "cell_type": "code",
   "execution_count": 117,
   "id": "9ce919f7",
   "metadata": {},
   "outputs": [
    {
     "name": "stderr",
     "output_type": "stream",
     "text": [
      "                                                                                \r"
     ]
    },
    {
     "data": {
      "text/plain": [
       "7914"
      ]
     },
     "execution_count": 117,
     "metadata": {},
     "output_type": "execute_result"
    }
   ],
   "source": [
    "FN = result_DT.select('loan_status','label','prediction')\\\n",
    ".filter((sparkf.col('label') == 1) & (sparkf.col('prediction') == 0))\\\n",
    ".groupBy('loan_status','label','prediction').count().take(1)[0]['count']\n",
    "FN"
   ]
  },
  {
   "cell_type": "code",
   "execution_count": 118,
   "id": "4b4b3d81",
   "metadata": {},
   "outputs": [
    {
     "name": "stderr",
     "output_type": "stream",
     "text": [
      "                                                                                \r"
     ]
    },
    {
     "data": {
      "text/plain": [
       "12023"
      ]
     },
     "execution_count": 118,
     "metadata": {},
     "output_type": "execute_result"
    }
   ],
   "source": [
    "FP = result_DT.select('loan_status','label','prediction')\\\n",
    ".filter((sparkf.col('label') == 0) & (sparkf.col('prediction') == 1))\\\n",
    ".groupBy('loan_status','label','prediction').count().take(1)[0]['count']\n",
    "FP"
   ]
  },
  {
   "cell_type": "code",
   "execution_count": 119,
   "id": "8de087e2",
   "metadata": {},
   "outputs": [
    {
     "name": "stderr",
     "output_type": "stream",
     "text": [
      "                                                                                \r"
     ]
    },
    {
     "data": {
      "text/plain": [
       "20627"
      ]
     },
     "execution_count": 119,
     "metadata": {},
     "output_type": "execute_result"
    }
   ],
   "source": [
    "TP = result_DT.select('loan_status','label','prediction')\\\n",
    ".filter((sparkf.col('label') == 1) & (sparkf.col('prediction') == 1))\\\n",
    ".groupBy('loan_status','label','prediction').count().take(1)[0]['count']\n",
    "TP"
   ]
  },
  {
   "cell_type": "code",
   "execution_count": 120,
   "id": "62ff9427",
   "metadata": {},
   "outputs": [
    {
     "name": "stderr",
     "output_type": "stream",
     "text": [
      "                                                                                \r"
     ]
    },
    {
     "data": {
      "text/plain": [
       "14902"
      ]
     },
     "execution_count": 120,
     "metadata": {},
     "output_type": "execute_result"
    }
   ],
   "source": [
    "TN = result_DT.select('loan_status','label','prediction')\\\n",
    ".filter((sparkf.col('label') == 0) & (sparkf.col('prediction') == 0))\\\n",
    ".groupBy('loan_status','label','prediction').count().take(1)[0]['count']\n",
    "TN"
   ]
  },
  {
   "cell_type": "code",
   "execution_count": 121,
   "id": "df2ba2c3",
   "metadata": {},
   "outputs": [
    {
     "data": {
      "text/plain": [
       "0.7227146911460706"
      ]
     },
     "execution_count": 121,
     "metadata": {},
     "output_type": "execute_result"
    }
   ],
   "source": [
    "TPR = TP/(TP+FN)\n",
    "TPR"
   ]
  },
  {
   "cell_type": "code",
   "execution_count": 122,
   "id": "c08e3b7e",
   "metadata": {},
   "outputs": [
    {
     "data": {
      "text/plain": [
       "0.5534633240482822"
      ]
     },
     "execution_count": 122,
     "metadata": {},
     "output_type": "execute_result"
    }
   ],
   "source": [
    "TNR = TN/(TN+FP)\n",
    "TNR"
   ]
  },
  {
   "cell_type": "code",
   "execution_count": 123,
   "id": "a247ffd6",
   "metadata": {},
   "outputs": [
    {
     "data": {
      "text/plain": [
       "0.44653667595171775"
      ]
     },
     "execution_count": 123,
     "metadata": {},
     "output_type": "execute_result"
    }
   ],
   "source": [
    "FPR = FP/(TN+FP)\n",
    "FPR"
   ]
  },
  {
   "cell_type": "code",
   "execution_count": 124,
   "id": "c184572b",
   "metadata": {},
   "outputs": [
    {
     "data": {
      "text/plain": [
       "0.27728530885392944"
      ]
     },
     "execution_count": 124,
     "metadata": {},
     "output_type": "execute_result"
    }
   ],
   "source": [
    "FNR = FN/(TP+FN)\n",
    "FNR"
   ]
  },
  {
   "cell_type": "code",
   "execution_count": null,
   "id": "382a4b22",
   "metadata": {},
   "outputs": [],
   "source": []
  },
  {
   "cell_type": "code",
   "execution_count": null,
   "id": "cf4b7928",
   "metadata": {},
   "outputs": [],
   "source": []
  }
 ],
 "metadata": {
  "kernelspec": {
   "display_name": "Python 3 (ipykernel)",
   "language": "python",
   "name": "python3"
  },
  "language_info": {
   "codemirror_mode": {
    "name": "ipython",
    "version": 3
   },
   "file_extension": ".py",
   "mimetype": "text/x-python",
   "name": "python",
   "nbconvert_exporter": "python",
   "pygments_lexer": "ipython3",
   "version": "3.9.2"
  }
 },
 "nbformat": 4,
 "nbformat_minor": 5
}
