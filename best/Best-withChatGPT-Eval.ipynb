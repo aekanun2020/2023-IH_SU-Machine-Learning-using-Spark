{
 "cells": [
  {
   "cell_type": "code",
   "execution_count": 1,
   "id": "3b8ff13d",
   "metadata": {},
   "outputs": [
    {
     "name": "stderr",
     "output_type": "stream",
     "text": [
      "23/12/05 14:57:06 WARN NativeCodeLoader: Unable to load native-hadoop library for your platform... using builtin-java classes where applicable\n",
      "Using Spark's default log4j profile: org/apache/spark/log4j-defaults.properties\n",
      "Setting default log level to \"WARN\".\n",
      "To adjust logging level use sc.setLogLevel(newLevel). For SparkR, use setLogLevel(newLevel).\n"
     ]
    }
   ],
   "source": [
    "# ปรับแต่งค่าการทำงานของ Spark\n",
    "from pyspark.sql import SparkSession\n",
    "\n",
    "spark = SparkSession.\\\n",
    "        builder.\\\n",
    "        appName(\"ChiSqSelector:Gender vs. Route\").\\\n",
    "        master(\"spark://spark-master:7077\").\\\n",
    "        config(\"spark.executor.memory\", \"1000m\").\\\n",
    "        config(\"spark.executor.cores\", \"2\").\\\n",
    "        config(\"spark.cores.max\", \"6\").\\\n",
    "        getOrCreate()"
   ]
  },
  {
   "cell_type": "code",
   "execution_count": 2,
   "id": "26bd38ce",
   "metadata": {},
   "outputs": [],
   "source": [
    "from pyspark.sql import functions as sparkf\n",
    "from pyspark.sql.types import *"
   ]
  },
  {
   "cell_type": "markdown",
   "id": "4f97cfae",
   "metadata": {},
   "source": [
    "## 1. Business Understaing\n",
    "    \n",
    "    1.1 Problem Statement: ต้องการทราบว่า ลูกหนี้แต่ละรายจะมาจ่ายหนี้ครบตามสัญญาเงินกู้ (Fully-paid) หรือไม่มาจ่ายฯ (Charged-off)\n",
    "    1.2 Project Objective: การจัดเก็บหนี้ดีขึ้นช่วยเพิ่มรายได้ให้กับกิจการ\n",
    "    1.3 Task of Data Science: Binary Classification\n",
    "    1.4 Cleansing Policy: ธุรกิจมี columns ที่แนะนำว่ามีความสัมพันธ์/ส่งผลต่อการชำระหนี้คืนตามสัญญา, ลบได้ทั้ง row หากมี missing ใน columns และแทนที่ได้ตามความเหมาะสม\n",
    "    1.5 Success Criteria: มี Recall/Sensitivity ไม่น้อยกว่า 0.65 บน Testing set แบบ Hold-out"
   ]
  },
  {
   "cell_type": "markdown",
   "id": "0c4787eb",
   "metadata": {},
   "source": [
    "## 2. Data Understanding\n",
    "    \n",
    "    - มี Label เป็น column: loan_status\n",
    "    - มีขนาดใหญ่ (volume)เกินกว่าเทคโนโลยีปัจจุบัน (Python) จะทำงานได้อย่างมีประสิทธิภาพ จึงต้องใช้ Spark ร่วมด้วย\n",
    "    - CSV เป็น semi-structural data ที่มี header ซึ่งสามารถนำไปพัฒนาเป็น schema ของ structural data (Spark DataFrame) ได้\n",
    "    - Data Dict.: https://docs.google.com/spreadsheets/d/1qtZBSJ-JS7S2tGC0W9Yxp992LmrDaAwGcJB419Htbbw/edit#gid=1163295822"
   ]
  },
  {
   "cell_type": "code",
   "execution_count": 3,
   "id": "7a48f5c7",
   "metadata": {},
   "outputs": [],
   "source": [
    "#กำหนด columns ที่ธุรกิจให้คำแนะนำฯ ไว้\n",
    "\n",
    "businessAttrs_df = [\"loan_amnt\",\"term\",\"int_rate\"\\\n",
    "                                ,\"installment\",\"grade\",\"emp_length\",\\\n",
    "                           \"home_ownership\",\"annual_inc\"\\\n",
    "                                ,\"verification_status\",\"loan_status\",\\\n",
    "                           \"purpose\",\"addr_state\",\"dti\",\"delinq_2yrs\"\\\n",
    "                                ,\"earliest_cr_line\",\\\n",
    "                           \"open_acc\",\"pub_rec\"\\\n",
    "                                ,\"revol_bal\",\"revol_util\",\"total_acc\",\"issue_d\",'acc_now_delinq']"
   ]
  },
  {
   "cell_type": "code",
   "execution_count": 4,
   "id": "801b84b1",
   "metadata": {},
   "outputs": [],
   "source": [
    "#! apt-get install wget -y"
   ]
  },
  {
   "cell_type": "code",
   "execution_count": 5,
   "id": "57644aff",
   "metadata": {},
   "outputs": [],
   "source": [
    "#! wget https://storage.googleapis.com/ntclass/LoanStats_web.csv"
   ]
  },
  {
   "cell_type": "code",
   "execution_count": 6,
   "id": "55acc1d7",
   "metadata": {},
   "outputs": [
    {
     "name": "stderr",
     "output_type": "stream",
     "text": [
      "                                                                                \r"
     ]
    }
   ],
   "source": [
    "# Spark อ่านข้อมูลจาก .csv แล้ว convert เป็น DataFrame\n",
    "\n",
    "raw_df = spark.read.option('header',True)\\\n",
    ".option(\"quote\", \"\\\"\")\\\n",
    ".option('mode','DROPMALFORMED')\\\n",
    ".option('inferSchema',True)\\\n",
    ".csv('LoanStats_web.csv')\\\n",
    ".select(businessAttrs_df)"
   ]
  },
  {
   "cell_type": "markdown",
   "id": "a38ae835",
   "metadata": {},
   "source": [
    "### 2.1 Univariate Analysis"
   ]
  },
  {
   "cell_type": "markdown",
   "id": "fccbac08",
   "metadata": {},
   "source": [
    "### 2.2 Bivariate/Multivariate Analysis"
   ]
  },
  {
   "cell_type": "markdown",
   "id": "04171cda",
   "metadata": {},
   "source": [
    "# 3. Data Preparation"
   ]
  },
  {
   "cell_type": "markdown",
   "id": "c036b113",
   "metadata": {},
   "source": [
    "#### 3.1 Cleansing and Transformation - Batch 1"
   ]
  },
  {
   "cell_type": "code",
   "execution_count": 7,
   "id": "4ecba354",
   "metadata": {},
   "outputs": [],
   "source": [
    "#### ใหม่ ณ 16 JAN 2023\n",
    "# ใช้ Spark ปรับแต่งค่าใน column: annual_inc, loan_status, revol_util, int_rate และ issue_d\n",
    "# ใช้ Spark สร้าง column ใหม่ขึ้นมา คือ calculatedDTI\n",
    "\n",
    "crunched_df = raw_df\\\n",
    ".filter(sparkf.col('annual_inc') != 0)\\\n",
    ".filter((sparkf.col('loan_status') == 'Fully Paid')|(sparkf.col('loan_status') == 'Charged Off'))\\\n",
    ".withColumn('calculatedDTI',sparkf.col('loan_amnt')/sparkf.col('annual_inc'))\\\n",
    ".withColumn('revol_util',sparkf.when(sparkf.col('revol_util').isNotNull(),sparkf.regexp_replace(sparkf.col('revol_util'),'%',''))\\\n",
    "                  .otherwise(sparkf.col('revol_util')))\\\n",
    ".filter(sparkf.col('revol_util') < 120)\\\n",
    ".withColumn('int_rate',sparkf.when(sparkf.col('int_rate').isNotNull(),sparkf.regexp_replace(sparkf.col('int_rate'),'%',''))\\\n",
    "                  .otherwise(sparkf.col('int_rate')))\\\n",
    ".withColumn('issue_d',sparkf.regexp_extract(sparkf.col('issue_d'),'\\d+',0))\\\n",
    ".withColumn('revol_util',sparkf.col('revol_util').cast(IntegerType()))\\\n",
    ".withColumn('int_rate',sparkf.col('int_rate').cast(FloatType()))\\\n",
    ".withColumn('issue_d',sparkf.col('issue_d').cast(IntegerType()))\\\n",
    ".withColumn('delinq_2yrs',sparkf.col('delinq_2yrs').cast(FloatType()))\\\n",
    ".dropna()"
   ]
  },
  {
   "cell_type": "code",
   "execution_count": null,
   "id": "3f703f05",
   "metadata": {},
   "outputs": [],
   "source": []
  },
  {
   "cell_type": "code",
   "execution_count": null,
   "id": "88423f9f",
   "metadata": {},
   "outputs": [],
   "source": []
  },
  {
   "cell_type": "code",
   "execution_count": null,
   "id": "83614432",
   "metadata": {},
   "outputs": [],
   "source": []
  },
  {
   "cell_type": "code",
   "execution_count": 8,
   "id": "49d5c16f",
   "metadata": {},
   "outputs": [
    {
     "name": "stderr",
     "output_type": "stream",
     "text": [
      "                                                                                \r"
     ]
    },
    {
     "data": {
      "text/html": [
       "<div>\n",
       "<style scoped>\n",
       "    .dataframe tbody tr th:only-of-type {\n",
       "        vertical-align: middle;\n",
       "    }\n",
       "\n",
       "    .dataframe tbody tr th {\n",
       "        vertical-align: top;\n",
       "    }\n",
       "\n",
       "    .dataframe thead th {\n",
       "        text-align: right;\n",
       "    }\n",
       "</style>\n",
       "<table border=\"1\" class=\"dataframe\">\n",
       "  <thead>\n",
       "    <tr style=\"text-align: right;\">\n",
       "      <th></th>\n",
       "      <th>0</th>\n",
       "      <th>1</th>\n",
       "      <th>2</th>\n",
       "      <th>3</th>\n",
       "      <th>4</th>\n",
       "    </tr>\n",
       "  </thead>\n",
       "  <tbody>\n",
       "    <tr>\n",
       "      <th>summary</th>\n",
       "      <td>count</td>\n",
       "      <td>mean</td>\n",
       "      <td>stddev</td>\n",
       "      <td>min</td>\n",
       "      <td>max</td>\n",
       "    </tr>\n",
       "    <tr>\n",
       "      <th>loan_amnt</th>\n",
       "      <td>698342</td>\n",
       "      <td>14499.922351798976</td>\n",
       "      <td>9223.066319877244</td>\n",
       "      <td>1000</td>\n",
       "      <td>40000</td>\n",
       "    </tr>\n",
       "    <tr>\n",
       "      <th>term</th>\n",
       "      <td>698342</td>\n",
       "      <td>None</td>\n",
       "      <td>None</td>\n",
       "      <td>36 months</td>\n",
       "      <td>60 months</td>\n",
       "    </tr>\n",
       "    <tr>\n",
       "      <th>int_rate</th>\n",
       "      <td>698342</td>\n",
       "      <td>13.231893765288989</td>\n",
       "      <td>5.174107541702221</td>\n",
       "      <td>5.31</td>\n",
       "      <td>30.99</td>\n",
       "    </tr>\n",
       "    <tr>\n",
       "      <th>installment</th>\n",
       "      <td>698342</td>\n",
       "      <td>446.6912345097157</td>\n",
       "      <td>282.599606452106</td>\n",
       "      <td>30.12</td>\n",
       "      <td>1715.42</td>\n",
       "    </tr>\n",
       "    <tr>\n",
       "      <th>grade</th>\n",
       "      <td>698342</td>\n",
       "      <td>None</td>\n",
       "      <td>None</td>\n",
       "      <td>A</td>\n",
       "      <td>G</td>\n",
       "    </tr>\n",
       "    <tr>\n",
       "      <th>emp_length</th>\n",
       "      <td>698342</td>\n",
       "      <td>None</td>\n",
       "      <td>None</td>\n",
       "      <td>1 year</td>\n",
       "      <td>n/a</td>\n",
       "    </tr>\n",
       "    <tr>\n",
       "      <th>home_ownership</th>\n",
       "      <td>698342</td>\n",
       "      <td>None</td>\n",
       "      <td>None</td>\n",
       "      <td>ANY</td>\n",
       "      <td>RENT</td>\n",
       "    </tr>\n",
       "    <tr>\n",
       "      <th>annual_inc</th>\n",
       "      <td>698342</td>\n",
       "      <td>79530.96412655976</td>\n",
       "      <td>78144.23143077888</td>\n",
       "      <td>23.0</td>\n",
       "      <td>9573072.0</td>\n",
       "    </tr>\n",
       "    <tr>\n",
       "      <th>verification_status</th>\n",
       "      <td>698342</td>\n",
       "      <td>None</td>\n",
       "      <td>None</td>\n",
       "      <td>Not Verified</td>\n",
       "      <td>Verified</td>\n",
       "    </tr>\n",
       "    <tr>\n",
       "      <th>loan_status</th>\n",
       "      <td>698342</td>\n",
       "      <td>None</td>\n",
       "      <td>None</td>\n",
       "      <td>Charged Off</td>\n",
       "      <td>Fully Paid</td>\n",
       "    </tr>\n",
       "    <tr>\n",
       "      <th>purpose</th>\n",
       "      <td>698342</td>\n",
       "      <td>None</td>\n",
       "      <td>None</td>\n",
       "      <td>car</td>\n",
       "      <td>wedding</td>\n",
       "    </tr>\n",
       "    <tr>\n",
       "      <th>addr_state</th>\n",
       "      <td>698342</td>\n",
       "      <td>None</td>\n",
       "      <td>None</td>\n",
       "      <td>AK</td>\n",
       "      <td>WY</td>\n",
       "    </tr>\n",
       "    <tr>\n",
       "      <th>dti</th>\n",
       "      <td>698342</td>\n",
       "      <td>18.692250845574076</td>\n",
       "      <td>13.593891477773948</td>\n",
       "      <td>-1</td>\n",
       "      <td>999</td>\n",
       "    </tr>\n",
       "    <tr>\n",
       "      <th>delinq_2yrs</th>\n",
       "      <td>698342</td>\n",
       "      <td>0.3281586958825332</td>\n",
       "      <td>0.9012859773439462</td>\n",
       "      <td>0.0</td>\n",
       "      <td>29.0</td>\n",
       "    </tr>\n",
       "    <tr>\n",
       "      <th>earliest_cr_line</th>\n",
       "      <td>698342</td>\n",
       "      <td>None</td>\n",
       "      <td>None</td>\n",
       "      <td>Apr-1955</td>\n",
       "      <td>Sep-2015</td>\n",
       "    </tr>\n",
       "    <tr>\n",
       "      <th>open_acc</th>\n",
       "      <td>698342</td>\n",
       "      <td>11.77128255210198</td>\n",
       "      <td>5.769888628784486</td>\n",
       "      <td>1</td>\n",
       "      <td>86</td>\n",
       "    </tr>\n",
       "    <tr>\n",
       "      <th>pub_rec</th>\n",
       "      <td>698342</td>\n",
       "      <td>0.25011527303241105</td>\n",
       "      <td>0.6682581018804886</td>\n",
       "      <td>0</td>\n",
       "      <td>61</td>\n",
       "    </tr>\n",
       "    <tr>\n",
       "      <th>revol_bal</th>\n",
       "      <td>698342</td>\n",
       "      <td>16101.565339045912</td>\n",
       "      <td>22716.564383991285</td>\n",
       "      <td>0</td>\n",
       "      <td>1113293</td>\n",
       "    </tr>\n",
       "    <tr>\n",
       "      <th>revol_util</th>\n",
       "      <td>698342</td>\n",
       "      <td>47.399188363294776</td>\n",
       "      <td>24.664061604919468</td>\n",
       "      <td>0</td>\n",
       "      <td>119</td>\n",
       "    </tr>\n",
       "    <tr>\n",
       "      <th>total_acc</th>\n",
       "      <td>698342</td>\n",
       "      <td>24.458484524774395</td>\n",
       "      <td>12.174564403700815</td>\n",
       "      <td>2</td>\n",
       "      <td>176</td>\n",
       "    </tr>\n",
       "    <tr>\n",
       "      <th>issue_d</th>\n",
       "      <td>698342</td>\n",
       "      <td>2016.6668680961477</td>\n",
       "      <td>0.7761254749136229</td>\n",
       "      <td>2016</td>\n",
       "      <td>2019</td>\n",
       "    </tr>\n",
       "    <tr>\n",
       "      <th>acc_now_delinq</th>\n",
       "      <td>698342</td>\n",
       "      <td>0.005482986845986637</td>\n",
       "      <td>0.07852420118848297</td>\n",
       "      <td>0</td>\n",
       "      <td>4</td>\n",
       "    </tr>\n",
       "    <tr>\n",
       "      <th>calculatedDTI</th>\n",
       "      <td>698342</td>\n",
       "      <td>0.21698781428656444</td>\n",
       "      <td>1.8167938285879743</td>\n",
       "      <td>1.7142857142857143E-4</td>\n",
       "      <td>1200.0</td>\n",
       "    </tr>\n",
       "  </tbody>\n",
       "</table>\n",
       "</div>"
      ],
      "text/plain": [
       "                          0                     1                    2  \\\n",
       "summary               count                  mean               stddev   \n",
       "loan_amnt            698342    14499.922351798976    9223.066319877244   \n",
       "term                 698342                  None                 None   \n",
       "int_rate             698342    13.231893765288989    5.174107541702221   \n",
       "installment          698342     446.6912345097157     282.599606452106   \n",
       "grade                698342                  None                 None   \n",
       "emp_length           698342                  None                 None   \n",
       "home_ownership       698342                  None                 None   \n",
       "annual_inc           698342     79530.96412655976    78144.23143077888   \n",
       "verification_status  698342                  None                 None   \n",
       "loan_status          698342                  None                 None   \n",
       "purpose              698342                  None                 None   \n",
       "addr_state           698342                  None                 None   \n",
       "dti                  698342    18.692250845574076   13.593891477773948   \n",
       "delinq_2yrs          698342    0.3281586958825332   0.9012859773439462   \n",
       "earliest_cr_line     698342                  None                 None   \n",
       "open_acc             698342     11.77128255210198    5.769888628784486   \n",
       "pub_rec              698342   0.25011527303241105   0.6682581018804886   \n",
       "revol_bal            698342    16101.565339045912   22716.564383991285   \n",
       "revol_util           698342    47.399188363294776   24.664061604919468   \n",
       "total_acc            698342    24.458484524774395   12.174564403700815   \n",
       "issue_d              698342    2016.6668680961477   0.7761254749136229   \n",
       "acc_now_delinq       698342  0.005482986845986637  0.07852420118848297   \n",
       "calculatedDTI        698342   0.21698781428656444   1.8167938285879743   \n",
       "\n",
       "                                         3           4  \n",
       "summary                                min         max  \n",
       "loan_amnt                             1000       40000  \n",
       "term                             36 months   60 months  \n",
       "int_rate                              5.31       30.99  \n",
       "installment                          30.12     1715.42  \n",
       "grade                                    A           G  \n",
       "emp_length                          1 year         n/a  \n",
       "home_ownership                         ANY        RENT  \n",
       "annual_inc                            23.0   9573072.0  \n",
       "verification_status           Not Verified    Verified  \n",
       "loan_status                    Charged Off  Fully Paid  \n",
       "purpose                                car     wedding  \n",
       "addr_state                              AK          WY  \n",
       "dti                                     -1         999  \n",
       "delinq_2yrs                            0.0        29.0  \n",
       "earliest_cr_line                  Apr-1955    Sep-2015  \n",
       "open_acc                                 1          86  \n",
       "pub_rec                                  0          61  \n",
       "revol_bal                                0     1113293  \n",
       "revol_util                               0         119  \n",
       "total_acc                                2         176  \n",
       "issue_d                               2016        2019  \n",
       "acc_now_delinq                           0           4  \n",
       "calculatedDTI        1.7142857142857143E-4      1200.0  "
      ]
     },
     "execution_count": 8,
     "metadata": {},
     "output_type": "execute_result"
    }
   ],
   "source": [
    "crunched_df.describe().toPandas().transpose()"
   ]
  },
  {
   "cell_type": "code",
   "execution_count": 9,
   "id": "e2d0f804",
   "metadata": {},
   "outputs": [],
   "source": [
    "from pyspark.ml.feature import VectorAssembler, ChiSqSelector, StringIndexer"
   ]
  },
  {
   "cell_type": "code",
   "execution_count": null,
   "id": "9dcc7a33",
   "metadata": {},
   "outputs": [],
   "source": []
  },
  {
   "cell_type": "code",
   "execution_count": null,
   "id": "86203e40",
   "metadata": {},
   "outputs": [],
   "source": []
  },
  {
   "cell_type": "code",
   "execution_count": null,
   "id": "20bb4666",
   "metadata": {},
   "outputs": [],
   "source": []
  },
  {
   "cell_type": "code",
   "execution_count": null,
   "id": "b388ddfc",
   "metadata": {},
   "outputs": [],
   "source": []
  },
  {
   "cell_type": "code",
   "execution_count": null,
   "id": "385046a1",
   "metadata": {},
   "outputs": [],
   "source": []
  },
  {
   "cell_type": "markdown",
   "id": "e45771a4",
   "metadata": {},
   "source": [
    "#### 3.2 Cleansing and Transformation - Batch 2"
   ]
  },
  {
   "cell_type": "raw",
   "id": "632d1c51",
   "metadata": {},
   "source": [
    "# Spark สร้าง ABT - sensivity: 0.5908141962421712\n",
    "\n",
    "final_df = crunched_df\\\n",
    ".withColumn('term',sparkf.when(sparkf.col('term').isNotNull(),sparkf.regexp_replace(sparkf.col('term'),' months','')).otherwise(sparkf.col('term')))\\\n",
    ".withColumn('term',sparkf.col('term').cast(IntegerType()))\\\n",
    ".filter(sparkf.col('loan_amnt') < 40000.0)\\\n",
    ".filter(sparkf.col('annual_inc')<150000)\\\n",
    ".withColumn('is_debtConsolidation', sparkf.when(sparkf.col('purpose')=='debt_consolidation',1).otherwise(0))"
   ]
  },
  {
   "cell_type": "code",
   "execution_count": 10,
   "id": "08b844ea",
   "metadata": {},
   "outputs": [],
   "source": [
    "# Spark สร้าง ABT - sensivity: 0.6932773109243697\n",
    "\n",
    "final_df = crunched_df\\\n",
    ".withColumn('term',sparkf.when(sparkf.col('term').isNotNull(),sparkf.regexp_replace(sparkf.col('term'),' months','')).otherwise(sparkf.col('term')))\\\n",
    ".withColumn('term',sparkf.col('term').cast(IntegerType()))\\\n",
    ".filter(sparkf.col('loan_amnt') < 40000.0)\\\n",
    ".filter(sparkf.col('annual_inc')<150000)\\\n",
    ".filter(((sparkf.col('int_rate')<22)&(sparkf.col('loan_status')=='Fully Paid'))\\\n",
    "        |((sparkf.col('loan_status')=='Charged Off')&(sparkf.col('int_rate')<28)))\\\n",
    ".withColumn('is_debtConsolidation', sparkf.when(sparkf.col('purpose')=='debt_consolidation',1).otherwise(0))"
   ]
  },
  {
   "cell_type": "code",
   "execution_count": null,
   "id": "da5e6903",
   "metadata": {},
   "outputs": [],
   "source": []
  },
  {
   "cell_type": "markdown",
   "id": "31d11365",
   "metadata": {},
   "source": [
    "# 4. Modeling & 5. Model Evaluation"
   ]
  },
  {
   "cell_type": "code",
   "execution_count": 11,
   "id": "c2605311",
   "metadata": {},
   "outputs": [],
   "source": [
    "# Spark ทำ Hold-out Tesing set\n",
    "\n",
    "candidate_training_df = final_df.filter(sparkf.col('issue_d') < 2019)\n",
    "testing_df = final_df.filter(sparkf.col('issue_d') >= 2019)"
   ]
  },
  {
   "cell_type": "code",
   "execution_count": 12,
   "id": "7898304f",
   "metadata": {},
   "outputs": [
    {
     "name": "stderr",
     "output_type": "stream",
     "text": [
      "23/12/05 14:58:23 WARN package: Truncated the string representation of a plan since it was too large. This behavior can be adjusted by setting 'spark.sql.debug.maxToStringFields'.\n",
      "[Stage 13:===================================>                    (47 + 4) / 75]\r"
     ]
    },
    {
     "name": "stdout",
     "output_type": "stream",
     "text": [
      "+-----------+------+\n",
      "|loan_status| count|\n",
      "+-----------+------+\n",
      "| Fully Paid|470712|\n",
      "|Charged Off|131831|\n",
      "+-----------+------+\n",
      "\n"
     ]
    },
    {
     "name": "stderr",
     "output_type": "stream",
     "text": [
      "                                                                                \r"
     ]
    }
   ],
   "source": [
    "candidate_training_df.groupBy('loan_status').count().show()"
   ]
  },
  {
   "cell_type": "code",
   "execution_count": 13,
   "id": "28e79356",
   "metadata": {},
   "outputs": [
    {
     "name": "stderr",
     "output_type": "stream",
     "text": [
      "                                                                                \r"
     ]
    }
   ],
   "source": [
    "# Spark ทำการสุ่มเลือกข้อมูลเฉพาะจาก training set เพื่อลดจำนวน Fully Paid\n",
    "\n",
    "FullyPaid_training_df = candidate_training_df.filter(sparkf.col('loan_status') == 'Fully Paid').sample(0.30)\n",
    "\n",
    "ChargedOff_training_df = candidate_training_df.filter(sparkf.col('loan_status') == 'Charged Off')\n",
    "\n",
    "FullyPaid_training_num = FullyPaid_training_df.count()\n",
    "\n",
    "ChargedOff_training_num = ChargedOff_training_df.count()\n",
    "\n",
    "training_df = FullyPaid_training_df.union(ChargedOff_training_df)"
   ]
  },
  {
   "cell_type": "code",
   "execution_count": 14,
   "id": "35649029",
   "metadata": {},
   "outputs": [
    {
     "name": "stderr",
     "output_type": "stream",
     "text": [
      "                                                                                \r"
     ]
    },
    {
     "name": "stdout",
     "output_type": "stream",
     "text": [
      "+-----------+------+\n",
      "|loan_status| count|\n",
      "+-----------+------+\n",
      "| Fully Paid|140715|\n",
      "|Charged Off|131831|\n",
      "+-----------+------+\n",
      "\n"
     ]
    }
   ],
   "source": [
    "# Spark ทำสรุปจำนวน row ของแต่ละ class ที่มีความ Balance Class มากขึ้น\n",
    "training_df.groupBy('loan_status').count().show()"
   ]
  },
  {
   "cell_type": "code",
   "execution_count": 15,
   "id": "417dc347",
   "metadata": {},
   "outputs": [
    {
     "name": "stderr",
     "output_type": "stream",
     "text": [
      "                                                                                \r"
     ]
    },
    {
     "data": {
      "text/html": [
       "<div>\n",
       "<style scoped>\n",
       "    .dataframe tbody tr th:only-of-type {\n",
       "        vertical-align: middle;\n",
       "    }\n",
       "\n",
       "    .dataframe tbody tr th {\n",
       "        vertical-align: top;\n",
       "    }\n",
       "\n",
       "    .dataframe thead th {\n",
       "        text-align: right;\n",
       "    }\n",
       "</style>\n",
       "<table border=\"1\" class=\"dataframe\">\n",
       "  <thead>\n",
       "    <tr style=\"text-align: right;\">\n",
       "      <th></th>\n",
       "      <th>0</th>\n",
       "      <th>1</th>\n",
       "      <th>2</th>\n",
       "      <th>3</th>\n",
       "      <th>4</th>\n",
       "    </tr>\n",
       "  </thead>\n",
       "  <tbody>\n",
       "    <tr>\n",
       "      <th>summary</th>\n",
       "      <td>count</td>\n",
       "      <td>mean</td>\n",
       "      <td>stddev</td>\n",
       "      <td>min</td>\n",
       "      <td>max</td>\n",
       "    </tr>\n",
       "    <tr>\n",
       "      <th>loan_amnt</th>\n",
       "      <td>272546</td>\n",
       "      <td>13880.799938359029</td>\n",
       "      <td>8439.54169977546</td>\n",
       "      <td>1000</td>\n",
       "      <td>39950</td>\n",
       "    </tr>\n",
       "    <tr>\n",
       "      <th>term</th>\n",
       "      <td>272546</td>\n",
       "      <td>41.490977669824545</td>\n",
       "      <td>10.081319417986444</td>\n",
       "      <td>36</td>\n",
       "      <td>60</td>\n",
       "    </tr>\n",
       "    <tr>\n",
       "      <th>int_rate</th>\n",
       "      <td>272546</td>\n",
       "      <td>13.632829479044378</td>\n",
       "      <td>4.699033389891922</td>\n",
       "      <td>5.31</td>\n",
       "      <td>27.99</td>\n",
       "    </tr>\n",
       "    <tr>\n",
       "      <th>installment</th>\n",
       "      <td>272546</td>\n",
       "      <td>427.42008226135124</td>\n",
       "      <td>259.45584519487187</td>\n",
       "      <td>30.12</td>\n",
       "      <td>1506.65</td>\n",
       "    </tr>\n",
       "    <tr>\n",
       "      <th>grade</th>\n",
       "      <td>272546</td>\n",
       "      <td>None</td>\n",
       "      <td>None</td>\n",
       "      <td>A</td>\n",
       "      <td>G</td>\n",
       "    </tr>\n",
       "    <tr>\n",
       "      <th>emp_length</th>\n",
       "      <td>272546</td>\n",
       "      <td>None</td>\n",
       "      <td>None</td>\n",
       "      <td>1 year</td>\n",
       "      <td>n/a</td>\n",
       "    </tr>\n",
       "    <tr>\n",
       "      <th>home_ownership</th>\n",
       "      <td>272546</td>\n",
       "      <td>None</td>\n",
       "      <td>None</td>\n",
       "      <td>ANY</td>\n",
       "      <td>RENT</td>\n",
       "    </tr>\n",
       "    <tr>\n",
       "      <th>annual_inc</th>\n",
       "      <td>272546</td>\n",
       "      <td>66990.3270880145</td>\n",
       "      <td>28985.156894226904</td>\n",
       "      <td>32.0</td>\n",
       "      <td>149999.0</td>\n",
       "    </tr>\n",
       "    <tr>\n",
       "      <th>verification_status</th>\n",
       "      <td>272546</td>\n",
       "      <td>None</td>\n",
       "      <td>None</td>\n",
       "      <td>Not Verified</td>\n",
       "      <td>Verified</td>\n",
       "    </tr>\n",
       "    <tr>\n",
       "      <th>loan_status</th>\n",
       "      <td>272546</td>\n",
       "      <td>None</td>\n",
       "      <td>None</td>\n",
       "      <td>Charged Off</td>\n",
       "      <td>Fully Paid</td>\n",
       "    </tr>\n",
       "    <tr>\n",
       "      <th>purpose</th>\n",
       "      <td>272546</td>\n",
       "      <td>None</td>\n",
       "      <td>None</td>\n",
       "      <td>car</td>\n",
       "      <td>wedding</td>\n",
       "    </tr>\n",
       "    <tr>\n",
       "      <th>addr_state</th>\n",
       "      <td>272546</td>\n",
       "      <td>None</td>\n",
       "      <td>None</td>\n",
       "      <td>AK</td>\n",
       "      <td>WY</td>\n",
       "    </tr>\n",
       "    <tr>\n",
       "      <th>dti</th>\n",
       "      <td>272546</td>\n",
       "      <td>19.491347112047112</td>\n",
       "      <td>13.693276461738455</td>\n",
       "      <td>-1</td>\n",
       "      <td>999</td>\n",
       "    </tr>\n",
       "    <tr>\n",
       "      <th>delinq_2yrs</th>\n",
       "      <td>272546</td>\n",
       "      <td>0.3362221423172602</td>\n",
       "      <td>0.9141945649215583</td>\n",
       "      <td>0.0</td>\n",
       "      <td>21.0</td>\n",
       "    </tr>\n",
       "    <tr>\n",
       "      <th>earliest_cr_line</th>\n",
       "      <td>272546</td>\n",
       "      <td>None</td>\n",
       "      <td>None</td>\n",
       "      <td>Apr-1960</td>\n",
       "      <td>Sep-2015</td>\n",
       "    </tr>\n",
       "    <tr>\n",
       "      <th>open_acc</th>\n",
       "      <td>272546</td>\n",
       "      <td>11.619664203473908</td>\n",
       "      <td>5.683092058809808</td>\n",
       "      <td>1</td>\n",
       "      <td>74</td>\n",
       "    </tr>\n",
       "    <tr>\n",
       "      <th>pub_rec</th>\n",
       "      <td>272546</td>\n",
       "      <td>0.2634894659984003</td>\n",
       "      <td>0.6890537726814524</td>\n",
       "      <td>0</td>\n",
       "      <td>61</td>\n",
       "    </tr>\n",
       "    <tr>\n",
       "      <th>revol_bal</th>\n",
       "      <td>272546</td>\n",
       "      <td>13982.580243335071</td>\n",
       "      <td>15400.536613758188</td>\n",
       "      <td>0</td>\n",
       "      <td>559399</td>\n",
       "    </tr>\n",
       "    <tr>\n",
       "      <th>revol_util</th>\n",
       "      <td>272546</td>\n",
       "      <td>48.23023269466439</td>\n",
       "      <td>24.248229533784475</td>\n",
       "      <td>0</td>\n",
       "      <td>119</td>\n",
       "    </tr>\n",
       "    <tr>\n",
       "      <th>total_acc</th>\n",
       "      <td>272546</td>\n",
       "      <td>23.787753260000148</td>\n",
       "      <td>11.958702284174885</td>\n",
       "      <td>2</td>\n",
       "      <td>176</td>\n",
       "    </tr>\n",
       "    <tr>\n",
       "      <th>issue_d</th>\n",
       "      <td>272546</td>\n",
       "      <td>2016.6219060268725</td>\n",
       "      <td>0.7294593379658397</td>\n",
       "      <td>2016</td>\n",
       "      <td>2018</td>\n",
       "    </tr>\n",
       "    <tr>\n",
       "      <th>acc_now_delinq</th>\n",
       "      <td>272546</td>\n",
       "      <td>0.005155093085203966</td>\n",
       "      <td>0.07622986964304074</td>\n",
       "      <td>0</td>\n",
       "      <td>4</td>\n",
       "    </tr>\n",
       "    <tr>\n",
       "      <th>calculatedDTI</th>\n",
       "      <td>272546</td>\n",
       "      <td>0.22922317804857678</td>\n",
       "      <td>1.2576283784084068</td>\n",
       "      <td>0.006711409395973154</td>\n",
       "      <td>636.71875</td>\n",
       "    </tr>\n",
       "    <tr>\n",
       "      <th>is_debtConsolidation</th>\n",
       "      <td>272546</td>\n",
       "      <td>0.577476829599407</td>\n",
       "      <td>0.4939617759811685</td>\n",
       "      <td>0</td>\n",
       "      <td>1</td>\n",
       "    </tr>\n",
       "  </tbody>\n",
       "</table>\n",
       "</div>"
      ],
      "text/plain": [
       "                           0                     1                    2  \\\n",
       "summary                count                  mean               stddev   \n",
       "loan_amnt             272546    13880.799938359029     8439.54169977546   \n",
       "term                  272546    41.490977669824545   10.081319417986444   \n",
       "int_rate              272546    13.632829479044378    4.699033389891922   \n",
       "installment           272546    427.42008226135124   259.45584519487187   \n",
       "grade                 272546                  None                 None   \n",
       "emp_length            272546                  None                 None   \n",
       "home_ownership        272546                  None                 None   \n",
       "annual_inc            272546      66990.3270880145   28985.156894226904   \n",
       "verification_status   272546                  None                 None   \n",
       "loan_status           272546                  None                 None   \n",
       "purpose               272546                  None                 None   \n",
       "addr_state            272546                  None                 None   \n",
       "dti                   272546    19.491347112047112   13.693276461738455   \n",
       "delinq_2yrs           272546    0.3362221423172602   0.9141945649215583   \n",
       "earliest_cr_line      272546                  None                 None   \n",
       "open_acc              272546    11.619664203473908    5.683092058809808   \n",
       "pub_rec               272546    0.2634894659984003   0.6890537726814524   \n",
       "revol_bal             272546    13982.580243335071   15400.536613758188   \n",
       "revol_util            272546     48.23023269466439   24.248229533784475   \n",
       "total_acc             272546    23.787753260000148   11.958702284174885   \n",
       "issue_d               272546    2016.6219060268725   0.7294593379658397   \n",
       "acc_now_delinq        272546  0.005155093085203966  0.07622986964304074   \n",
       "calculatedDTI         272546   0.22922317804857678   1.2576283784084068   \n",
       "is_debtConsolidation  272546     0.577476829599407   0.4939617759811685   \n",
       "\n",
       "                                         3           4  \n",
       "summary                                min         max  \n",
       "loan_amnt                             1000       39950  \n",
       "term                                    36          60  \n",
       "int_rate                              5.31       27.99  \n",
       "installment                          30.12     1506.65  \n",
       "grade                                    A           G  \n",
       "emp_length                          1 year         n/a  \n",
       "home_ownership                         ANY        RENT  \n",
       "annual_inc                            32.0    149999.0  \n",
       "verification_status           Not Verified    Verified  \n",
       "loan_status                    Charged Off  Fully Paid  \n",
       "purpose                                car     wedding  \n",
       "addr_state                              AK          WY  \n",
       "dti                                     -1         999  \n",
       "delinq_2yrs                            0.0        21.0  \n",
       "earliest_cr_line                  Apr-1960    Sep-2015  \n",
       "open_acc                                 1          74  \n",
       "pub_rec                                  0          61  \n",
       "revol_bal                                0      559399  \n",
       "revol_util                               0         119  \n",
       "total_acc                                2         176  \n",
       "issue_d                               2016        2018  \n",
       "acc_now_delinq                           0           4  \n",
       "calculatedDTI         0.006711409395973154   636.71875  \n",
       "is_debtConsolidation                     0           1  "
      ]
     },
     "execution_count": 15,
     "metadata": {},
     "output_type": "execute_result"
    }
   ],
   "source": [
    "training_df.describe().toPandas().transpose()"
   ]
  },
  {
   "cell_type": "code",
   "execution_count": 16,
   "id": "2d47783d",
   "metadata": {},
   "outputs": [
    {
     "name": "stderr",
     "output_type": "stream",
     "text": [
      "                                                                                \r"
     ]
    },
    {
     "data": {
      "text/html": [
       "<div>\n",
       "<style scoped>\n",
       "    .dataframe tbody tr th:only-of-type {\n",
       "        vertical-align: middle;\n",
       "    }\n",
       "\n",
       "    .dataframe tbody tr th {\n",
       "        vertical-align: top;\n",
       "    }\n",
       "\n",
       "    .dataframe thead th {\n",
       "        text-align: right;\n",
       "    }\n",
       "</style>\n",
       "<table border=\"1\" class=\"dataframe\">\n",
       "  <thead>\n",
       "    <tr style=\"text-align: right;\">\n",
       "      <th></th>\n",
       "      <th>0</th>\n",
       "      <th>1</th>\n",
       "      <th>2</th>\n",
       "      <th>3</th>\n",
       "      <th>4</th>\n",
       "    </tr>\n",
       "  </thead>\n",
       "  <tbody>\n",
       "    <tr>\n",
       "      <th>summary</th>\n",
       "      <td>count</td>\n",
       "      <td>mean</td>\n",
       "      <td>stddev</td>\n",
       "      <td>min</td>\n",
       "      <td>max</td>\n",
       "    </tr>\n",
       "    <tr>\n",
       "      <th>loan_amnt</th>\n",
       "      <td>6716</td>\n",
       "      <td>13053.867629541393</td>\n",
       "      <td>8579.982755367357</td>\n",
       "      <td>1000</td>\n",
       "      <td>38975</td>\n",
       "    </tr>\n",
       "    <tr>\n",
       "      <th>term</th>\n",
       "      <td>6716</td>\n",
       "      <td>41.710541989279335</td>\n",
       "      <td>10.220482942364024</td>\n",
       "      <td>36</td>\n",
       "      <td>60</td>\n",
       "    </tr>\n",
       "    <tr>\n",
       "      <th>int_rate</th>\n",
       "      <td>6716</td>\n",
       "      <td>12.78878348380629</td>\n",
       "      <td>4.202868875110118</td>\n",
       "      <td>6.46</td>\n",
       "      <td>27.27</td>\n",
       "    </tr>\n",
       "    <tr>\n",
       "      <th>installment</th>\n",
       "      <td>6716</td>\n",
       "      <td>388.8376280524116</td>\n",
       "      <td>246.2480716289674</td>\n",
       "      <td>30.64</td>\n",
       "      <td>1336.43</td>\n",
       "    </tr>\n",
       "    <tr>\n",
       "      <th>grade</th>\n",
       "      <td>6716</td>\n",
       "      <td>None</td>\n",
       "      <td>None</td>\n",
       "      <td>A</td>\n",
       "      <td>E</td>\n",
       "    </tr>\n",
       "    <tr>\n",
       "      <th>emp_length</th>\n",
       "      <td>6716</td>\n",
       "      <td>None</td>\n",
       "      <td>None</td>\n",
       "      <td>1 year</td>\n",
       "      <td>n/a</td>\n",
       "    </tr>\n",
       "    <tr>\n",
       "      <th>home_ownership</th>\n",
       "      <td>6716</td>\n",
       "      <td>None</td>\n",
       "      <td>None</td>\n",
       "      <td>ANY</td>\n",
       "      <td>RENT</td>\n",
       "    </tr>\n",
       "    <tr>\n",
       "      <th>annual_inc</th>\n",
       "      <td>6716</td>\n",
       "      <td>70493.97817301966</td>\n",
       "      <td>30007.79471769585</td>\n",
       "      <td>250.0</td>\n",
       "      <td>149925.0</td>\n",
       "    </tr>\n",
       "    <tr>\n",
       "      <th>verification_status</th>\n",
       "      <td>6716</td>\n",
       "      <td>None</td>\n",
       "      <td>None</td>\n",
       "      <td>Not Verified</td>\n",
       "      <td>Verified</td>\n",
       "    </tr>\n",
       "    <tr>\n",
       "      <th>loan_status</th>\n",
       "      <td>6716</td>\n",
       "      <td>None</td>\n",
       "      <td>None</td>\n",
       "      <td>Charged Off</td>\n",
       "      <td>Fully Paid</td>\n",
       "    </tr>\n",
       "    <tr>\n",
       "      <th>purpose</th>\n",
       "      <td>6716</td>\n",
       "      <td>None</td>\n",
       "      <td>None</td>\n",
       "      <td>car</td>\n",
       "      <td>vacation</td>\n",
       "    </tr>\n",
       "    <tr>\n",
       "      <th>addr_state</th>\n",
       "      <td>6716</td>\n",
       "      <td>None</td>\n",
       "      <td>None</td>\n",
       "      <td>AK</td>\n",
       "      <td>WY</td>\n",
       "    </tr>\n",
       "    <tr>\n",
       "      <th>dti</th>\n",
       "      <td>6716</td>\n",
       "      <td>19.75030524121498</td>\n",
       "      <td>31.28660081329343</td>\n",
       "      <td>0</td>\n",
       "      <td>999</td>\n",
       "    </tr>\n",
       "    <tr>\n",
       "      <th>delinq_2yrs</th>\n",
       "      <td>6716</td>\n",
       "      <td>0.20741512805241216</td>\n",
       "      <td>0.712621112395756</td>\n",
       "      <td>0.0</td>\n",
       "      <td>14.0</td>\n",
       "    </tr>\n",
       "    <tr>\n",
       "      <th>earliest_cr_line</th>\n",
       "      <td>6716</td>\n",
       "      <td>None</td>\n",
       "      <td>None</td>\n",
       "      <td>Apr-1970</td>\n",
       "      <td>Sep-2015</td>\n",
       "    </tr>\n",
       "    <tr>\n",
       "      <th>open_acc</th>\n",
       "      <td>6716</td>\n",
       "      <td>11.516229898749256</td>\n",
       "      <td>5.923981461615417</td>\n",
       "      <td>1</td>\n",
       "      <td>63</td>\n",
       "    </tr>\n",
       "    <tr>\n",
       "      <th>pub_rec</th>\n",
       "      <td>6716</td>\n",
       "      <td>0.14085765336509828</td>\n",
       "      <td>0.35802649683692694</td>\n",
       "      <td>0</td>\n",
       "      <td>4</td>\n",
       "    </tr>\n",
       "    <tr>\n",
       "      <th>revol_bal</th>\n",
       "      <td>6716</td>\n",
       "      <td>12606.15202501489</td>\n",
       "      <td>14301.96753349796</td>\n",
       "      <td>0</td>\n",
       "      <td>236946</td>\n",
       "    </tr>\n",
       "    <tr>\n",
       "      <th>revol_util</th>\n",
       "      <td>6716</td>\n",
       "      <td>35.60125074449077</td>\n",
       "      <td>24.777587419804476</td>\n",
       "      <td>0</td>\n",
       "      <td>102</td>\n",
       "    </tr>\n",
       "    <tr>\n",
       "      <th>total_acc</th>\n",
       "      <td>6716</td>\n",
       "      <td>24.796754020250148</td>\n",
       "      <td>13.081527785732117</td>\n",
       "      <td>2</td>\n",
       "      <td>142</td>\n",
       "    </tr>\n",
       "    <tr>\n",
       "      <th>issue_d</th>\n",
       "      <td>6716</td>\n",
       "      <td>2019.0</td>\n",
       "      <td>0.0</td>\n",
       "      <td>2019</td>\n",
       "      <td>2019</td>\n",
       "    </tr>\n",
       "    <tr>\n",
       "      <th>acc_now_delinq</th>\n",
       "      <td>6716</td>\n",
       "      <td>0.0</td>\n",
       "      <td>0.0</td>\n",
       "      <td>0</td>\n",
       "      <td>0</td>\n",
       "    </tr>\n",
       "    <tr>\n",
       "      <th>calculatedDTI</th>\n",
       "      <td>6716</td>\n",
       "      <td>0.24064031104433659</td>\n",
       "      <td>1.372297253022421</td>\n",
       "      <td>0.006896551724137931</td>\n",
       "      <td>91.14285714285714</td>\n",
       "    </tr>\n",
       "    <tr>\n",
       "      <th>is_debtConsolidation</th>\n",
       "      <td>6716</td>\n",
       "      <td>0.5284395473496128</td>\n",
       "      <td>0.4992277053414849</td>\n",
       "      <td>0</td>\n",
       "      <td>1</td>\n",
       "    </tr>\n",
       "  </tbody>\n",
       "</table>\n",
       "</div>"
      ],
      "text/plain": [
       "                          0                    1                    2  \\\n",
       "summary               count                 mean               stddev   \n",
       "loan_amnt              6716   13053.867629541393    8579.982755367357   \n",
       "term                   6716   41.710541989279335   10.220482942364024   \n",
       "int_rate               6716    12.78878348380629    4.202868875110118   \n",
       "installment            6716    388.8376280524116    246.2480716289674   \n",
       "grade                  6716                 None                 None   \n",
       "emp_length             6716                 None                 None   \n",
       "home_ownership         6716                 None                 None   \n",
       "annual_inc             6716    70493.97817301966    30007.79471769585   \n",
       "verification_status    6716                 None                 None   \n",
       "loan_status            6716                 None                 None   \n",
       "purpose                6716                 None                 None   \n",
       "addr_state             6716                 None                 None   \n",
       "dti                    6716    19.75030524121498    31.28660081329343   \n",
       "delinq_2yrs            6716  0.20741512805241216    0.712621112395756   \n",
       "earliest_cr_line       6716                 None                 None   \n",
       "open_acc               6716   11.516229898749256    5.923981461615417   \n",
       "pub_rec                6716  0.14085765336509828  0.35802649683692694   \n",
       "revol_bal              6716    12606.15202501489    14301.96753349796   \n",
       "revol_util             6716    35.60125074449077   24.777587419804476   \n",
       "total_acc              6716   24.796754020250148   13.081527785732117   \n",
       "issue_d                6716               2019.0                  0.0   \n",
       "acc_now_delinq         6716                  0.0                  0.0   \n",
       "calculatedDTI          6716  0.24064031104433659    1.372297253022421   \n",
       "is_debtConsolidation   6716   0.5284395473496128   0.4992277053414849   \n",
       "\n",
       "                                         3                  4  \n",
       "summary                                min                max  \n",
       "loan_amnt                             1000              38975  \n",
       "term                                    36                 60  \n",
       "int_rate                              6.46              27.27  \n",
       "installment                          30.64            1336.43  \n",
       "grade                                    A                  E  \n",
       "emp_length                          1 year                n/a  \n",
       "home_ownership                         ANY               RENT  \n",
       "annual_inc                           250.0           149925.0  \n",
       "verification_status           Not Verified           Verified  \n",
       "loan_status                    Charged Off         Fully Paid  \n",
       "purpose                                car           vacation  \n",
       "addr_state                              AK                 WY  \n",
       "dti                                      0                999  \n",
       "delinq_2yrs                            0.0               14.0  \n",
       "earliest_cr_line                  Apr-1970           Sep-2015  \n",
       "open_acc                                 1                 63  \n",
       "pub_rec                                  0                  4  \n",
       "revol_bal                                0             236946  \n",
       "revol_util                               0                102  \n",
       "total_acc                                2                142  \n",
       "issue_d                               2019               2019  \n",
       "acc_now_delinq                           0                  0  \n",
       "calculatedDTI         0.006896551724137931  91.14285714285714  \n",
       "is_debtConsolidation                     0                  1  "
      ]
     },
     "execution_count": 16,
     "metadata": {},
     "output_type": "execute_result"
    }
   ],
   "source": [
    "testing_df.describe().toPandas().transpose()"
   ]
  },
  {
   "cell_type": "markdown",
   "id": "4be5d5db",
   "metadata": {},
   "source": [
    "#### Feature Transformation (Encoding)"
   ]
  },
  {
   "cell_type": "code",
   "execution_count": 17,
   "id": "9657299e",
   "metadata": {},
   "outputs": [],
   "source": [
    "numeric_candidateFeatures_list = ['int_rate','term','loan_amnt','annual_inc']\n",
    "#numeric_candidateFeatures_list = ['int_rate','installment','loan_amnt','annual_inc','revol_util','delinq_2yrs','is_debtConsolidation','term']"
   ]
  },
  {
   "cell_type": "raw",
   "id": "34b41c12",
   "metadata": {},
   "source": [
    "#numeric_candidateFeatures_list = ['loan_amnt','int_rate','calculatedDTI']\n",
    "numeric_candidateFeatures_list = ['int_rate','installment','pub_rec','loan_amnt','annual_inc']"
   ]
  },
  {
   "cell_type": "code",
   "execution_count": 18,
   "id": "a54551e9",
   "metadata": {},
   "outputs": [],
   "source": [
    "cat_candidateFeatures_list = ['grade','home_ownership','verification_status','addr_state']\n",
    "#cat_candidateFeatures_list = []"
   ]
  },
  {
   "cell_type": "code",
   "execution_count": 19,
   "id": "412eafdf",
   "metadata": {},
   "outputs": [],
   "source": [
    "from pyspark.ml.feature import *\n",
    "from pyspark.ml.pipeline import Pipeline\n",
    "from pyspark.ml.classification import *"
   ]
  },
  {
   "cell_type": "code",
   "execution_count": 20,
   "id": "cde0a709",
   "metadata": {},
   "outputs": [],
   "source": [
    "label_Indexer = StringIndexer(inputCol='loan_status',outputCol='label')"
   ]
  },
  {
   "cell_type": "code",
   "execution_count": 21,
   "id": "ec614057",
   "metadata": {},
   "outputs": [],
   "source": [
    "cat_Indexer = StringIndexer(inputCols=cat_candidateFeatures_list,outputCols=['grade_index','home_ownership_index'\\\n",
    "                                                                             ,'verification_status_index','addr_state_index'])\n",
    "cat_OneHot  = OneHotEncoder(inputCols=['grade_index','home_ownership_index'\\\n",
    "                                                                             ,'verification_status_index','addr_state_index']\\\n",
    "                            ,outputCols=['grade_binarized','home_ownership_binarized'\\\n",
    "                                         ,'verification_status_binarized','addr_state_binarized'])"
   ]
  },
  {
   "cell_type": "code",
   "execution_count": 22,
   "id": "3bfde345",
   "metadata": {},
   "outputs": [],
   "source": [
    "#feature_list = numeric_candidateFeatures_list+['grade_binarized','home_ownership_binarized','verification_status_binarized','addr_state_binarized','cat_delinq_2yrs_binarized']\n",
    "feature_list = numeric_candidateFeatures_list"
   ]
  },
  {
   "cell_type": "code",
   "execution_count": 23,
   "id": "746f7d07",
   "metadata": {},
   "outputs": [
    {
     "data": {
      "text/plain": [
       "['int_rate', 'term', 'loan_amnt', 'annual_inc']"
      ]
     },
     "execution_count": 23,
     "metadata": {},
     "output_type": "execute_result"
    }
   ],
   "source": [
    "feature_list"
   ]
  },
  {
   "cell_type": "code",
   "execution_count": 24,
   "id": "e700696b",
   "metadata": {},
   "outputs": [],
   "source": [
    "feature_Assembler = VectorAssembler(inputCols=feature_list,outputCol='features')"
   ]
  },
  {
   "cell_type": "code",
   "execution_count": 25,
   "id": "bac6e7c4",
   "metadata": {},
   "outputs": [],
   "source": [
    "def ExtractFeatureImp(featureImp, dataset, featuresCol):\n",
    "    list_extract = []\n",
    "    for i in dataset.schema[featuresCol].metadata[\"ml_attr\"][\"attrs\"]:\n",
    "        list_extract = list_extract + dataset.schema[featuresCol].metadata[\"ml_attr\"][\"attrs\"][i]\n",
    "    varlist = pd.DataFrame(list_extract)\n",
    "    varlist['score'] = varlist['idx'].apply(lambda x: featureImp[x])\n",
    "    return(varlist.sort_values('score', ascending = False))"
   ]
  },
  {
   "cell_type": "markdown",
   "id": "fbdc5f77",
   "metadata": {},
   "source": [
    "#### Algorithm: Decision Tree Classifier"
   ]
  },
  {
   "cell_type": "code",
   "execution_count": 26,
   "id": "3ee523af",
   "metadata": {},
   "outputs": [],
   "source": [
    "algo = DecisionTreeClassifier(featuresCol='features',labelCol='label')"
   ]
  },
  {
   "cell_type": "code",
   "execution_count": 27,
   "id": "f1a3546e",
   "metadata": {},
   "outputs": [],
   "source": [
    "pipeline_transformation = Pipeline().setStages([cat_Indexer,cat_OneHot,feature_Assembler,label_Indexer,algo])"
   ]
  },
  {
   "cell_type": "code",
   "execution_count": 28,
   "id": "d5bfd29f",
   "metadata": {},
   "outputs": [
    {
     "name": "stderr",
     "output_type": "stream",
     "text": [
      "                                                                                \r"
     ]
    }
   ],
   "source": [
    "model = pipeline_transformation.fit(training_df)"
   ]
  },
  {
   "cell_type": "code",
   "execution_count": 29,
   "id": "0f20f406",
   "metadata": {},
   "outputs": [],
   "source": [
    "result_df = model.transform(testing_df)"
   ]
  },
  {
   "cell_type": "code",
   "execution_count": 30,
   "id": "5e8a9846",
   "metadata": {},
   "outputs": [
    {
     "name": "stderr",
     "output_type": "stream",
     "text": [
      "                                                                                \r"
     ]
    },
    {
     "name": "stdout",
     "output_type": "stream",
     "text": [
      "+-----------+-----+----------+-----+\n",
      "|loan_status|label|prediction|count|\n",
      "+-----------+-----+----------+-----+\n",
      "|Charged Off|  1.0|       1.0|  328|\n",
      "|Charged Off|  1.0|       0.0|  148|\n",
      "+-----------+-----+----------+-----+\n",
      "\n"
     ]
    }
   ],
   "source": [
    "result_df.select('loan_status','label','prediction').filter(sparkf.col('label') == 1)\\\n",
    ".groupBy('loan_status','label','prediction').count().show()"
   ]
  },
  {
   "cell_type": "code",
   "execution_count": 31,
   "id": "1422262d",
   "metadata": {},
   "outputs": [
    {
     "name": "stderr",
     "output_type": "stream",
     "text": [
      "                                                                                \r"
     ]
    }
   ],
   "source": [
    "TP = result_df.select('loan_status','label','prediction')\\\n",
    ".filter((sparkf.col('label') == 1)&(sparkf.col('prediction') == 1))\\\n",
    ".groupBy('loan_status','label','prediction').count().take(1)[0]['count']"
   ]
  },
  {
   "cell_type": "code",
   "execution_count": 32,
   "id": "d1fd13ad",
   "metadata": {},
   "outputs": [
    {
     "name": "stderr",
     "output_type": "stream",
     "text": [
      "                                                                                \r"
     ]
    }
   ],
   "source": [
    "ALL_POSITIVE = result_df.select('loan_status','label','prediction').filter((sparkf.col('label') == 1)).count()"
   ]
  },
  {
   "cell_type": "code",
   "execution_count": 33,
   "id": "d46c1876",
   "metadata": {},
   "outputs": [
    {
     "name": "stderr",
     "output_type": "stream",
     "text": [
      "                                                                                \r"
     ]
    }
   ],
   "source": [
    "ALL_NEGATIVE = result_df.select('loan_status','label','prediction').filter((sparkf.col('label') == 0)).count()"
   ]
  },
  {
   "cell_type": "code",
   "execution_count": 34,
   "id": "fc2aa9fd",
   "metadata": {},
   "outputs": [
    {
     "data": {
      "text/plain": [
       "6716"
      ]
     },
     "execution_count": 34,
     "metadata": {},
     "output_type": "execute_result"
    }
   ],
   "source": [
    "ALL_POSITIVE+ALL_NEGATIVE"
   ]
  },
  {
   "cell_type": "code",
   "execution_count": 35,
   "id": "b6811c44",
   "metadata": {},
   "outputs": [
    {
     "name": "stderr",
     "output_type": "stream",
     "text": [
      "                                                                                \r"
     ]
    },
    {
     "data": {
      "text/plain": [
       "6716"
      ]
     },
     "execution_count": 35,
     "metadata": {},
     "output_type": "execute_result"
    }
   ],
   "source": [
    "result_df.count()"
   ]
  },
  {
   "cell_type": "code",
   "execution_count": 36,
   "id": "b5c3e05f",
   "metadata": {},
   "outputs": [],
   "source": [
    "SENSITIVITY = TP/ALL_POSITIVE"
   ]
  },
  {
   "cell_type": "code",
   "execution_count": 37,
   "id": "32f4cf4c",
   "metadata": {},
   "outputs": [
    {
     "data": {
      "text/plain": [
       "0.6890756302521008"
      ]
     },
     "execution_count": 37,
     "metadata": {},
     "output_type": "execute_result"
    }
   ],
   "source": [
    "SENSITIVITY"
   ]
  },
  {
   "cell_type": "code",
   "execution_count": 38,
   "id": "8fb229c8",
   "metadata": {},
   "outputs": [
    {
     "name": "stderr",
     "output_type": "stream",
     "text": [
      "                                                                                \r"
     ]
    }
   ],
   "source": [
    "TN = result_df.select('loan_status','label','prediction')\\\n",
    ".filter((sparkf.col('label') == 0)&(sparkf.col('prediction') == 0))\\\n",
    ".groupBy('loan_status','label','prediction').count().take(1)[0]['count']"
   ]
  },
  {
   "cell_type": "code",
   "execution_count": 39,
   "id": "b4bb03f8",
   "metadata": {},
   "outputs": [],
   "source": [
    "SPECIFICITY = TN/ALL_NEGATIVE"
   ]
  },
  {
   "cell_type": "code",
   "execution_count": 40,
   "id": "1cc78672",
   "metadata": {},
   "outputs": [
    {
     "data": {
      "text/plain": [
       "0.5501602564102565"
      ]
     },
     "execution_count": 40,
     "metadata": {},
     "output_type": "execute_result"
    }
   ],
   "source": [
    "SPECIFICITY"
   ]
  },
  {
   "cell_type": "code",
   "execution_count": null,
   "id": "2a820e38",
   "metadata": {},
   "outputs": [],
   "source": []
  },
  {
   "cell_type": "code",
   "execution_count": 41,
   "id": "f4e738f3",
   "metadata": {},
   "outputs": [],
   "source": [
    "import pandas as pd"
   ]
  },
  {
   "cell_type": "code",
   "execution_count": 42,
   "id": "88941083",
   "metadata": {},
   "outputs": [],
   "source": [
    "featureImportances = model.stages[4].featureImportances.toArray()"
   ]
  },
  {
   "cell_type": "code",
   "execution_count": 43,
   "id": "9557e37d",
   "metadata": {},
   "outputs": [
    {
     "data": {
      "text/html": [
       "<div>\n",
       "<style scoped>\n",
       "    .dataframe tbody tr th:only-of-type {\n",
       "        vertical-align: middle;\n",
       "    }\n",
       "\n",
       "    .dataframe tbody tr th {\n",
       "        vertical-align: top;\n",
       "    }\n",
       "\n",
       "    .dataframe thead th {\n",
       "        text-align: right;\n",
       "    }\n",
       "</style>\n",
       "<table border=\"1\" class=\"dataframe\">\n",
       "  <thead>\n",
       "    <tr style=\"text-align: right;\">\n",
       "      <th></th>\n",
       "      <th>idx</th>\n",
       "      <th>name</th>\n",
       "      <th>score</th>\n",
       "    </tr>\n",
       "  </thead>\n",
       "  <tbody>\n",
       "    <tr>\n",
       "      <th>0</th>\n",
       "      <td>0</td>\n",
       "      <td>int_rate</td>\n",
       "      <td>0.981430</td>\n",
       "    </tr>\n",
       "    <tr>\n",
       "      <th>1</th>\n",
       "      <td>1</td>\n",
       "      <td>term</td>\n",
       "      <td>0.012885</td>\n",
       "    </tr>\n",
       "    <tr>\n",
       "      <th>2</th>\n",
       "      <td>2</td>\n",
       "      <td>loan_amnt</td>\n",
       "      <td>0.005685</td>\n",
       "    </tr>\n",
       "    <tr>\n",
       "      <th>3</th>\n",
       "      <td>3</td>\n",
       "      <td>annual_inc</td>\n",
       "      <td>0.000000</td>\n",
       "    </tr>\n",
       "  </tbody>\n",
       "</table>\n",
       "</div>"
      ],
      "text/plain": [
       "   idx        name     score\n",
       "0    0    int_rate  0.981430\n",
       "1    1        term  0.012885\n",
       "2    2   loan_amnt  0.005685\n",
       "3    3  annual_inc  0.000000"
      ]
     },
     "execution_count": 43,
     "metadata": {},
     "output_type": "execute_result"
    }
   ],
   "source": [
    "ExtractFeatureImp(featureImportances, result_df, \"features\").head(30)"
   ]
  },
  {
   "cell_type": "code",
   "execution_count": 44,
   "id": "9d658f52",
   "metadata": {},
   "outputs": [],
   "source": [
    "### บรรทัดด้านล่างนี้เป็นโค้ดที่ ChatGPT แนะนำ: https://chat.openai.com/share/192264a6-6d84-4fad-b653-cec155d4addd"
   ]
  },
  {
   "cell_type": "code",
   "execution_count": 45,
   "id": "030cb2fa",
   "metadata": {},
   "outputs": [
    {
     "name": "stderr",
     "output_type": "stream",
     "text": [
      "23/12/05 15:05:39 WARN DAGScheduler: Broadcasting large task binary with size 1100.1 KiB\n",
      "23/12/05 15:05:41 WARN DAGScheduler: Broadcasting large task binary with size 1596.6 KiB\n",
      "23/12/05 15:05:50 WARN DAGScheduler: Broadcasting large task binary with size 1061.2 KiB\n",
      "23/12/05 15:05:51 WARN DAGScheduler: Broadcasting large task binary with size 1542.0 KiB\n",
      "23/12/05 15:06:00 WARN DAGScheduler: Broadcasting large task binary with size 1046.4 KiB\n",
      "23/12/05 15:06:01 WARN DAGScheduler: Broadcasting large task binary with size 1534.3 KiB\n",
      "23/12/05 15:07:15 WARN DAGScheduler: Broadcasting large task binary with size 1142.5 KiB\n",
      "23/12/05 15:07:17 WARN DAGScheduler: Broadcasting large task binary with size 1645.2 KiB\n",
      "23/12/05 15:07:25 WARN DAGScheduler: Broadcasting large task binary with size 1143.5 KiB\n",
      "23/12/05 15:07:26 WARN DAGScheduler: Broadcasting large task binary with size 1662.2 KiB\n",
      "23/12/05 15:07:34 WARN DAGScheduler: Broadcasting large task binary with size 1050.1 KiB\n",
      "23/12/05 15:07:35 WARN DAGScheduler: Broadcasting large task binary with size 1556.6 KiB\n",
      "23/12/05 15:08:44 WARN DAGScheduler: Broadcasting large task binary with size 1143.2 KiB\n",
      "23/12/05 15:08:45 WARN DAGScheduler: Broadcasting large task binary with size 1675.3 KiB\n",
      "23/12/05 15:08:53 WARN DAGScheduler: Broadcasting large task binary with size 1093.1 KiB\n",
      "23/12/05 15:08:54 WARN DAGScheduler: Broadcasting large task binary with size 1604.3 KiB\n",
      "23/12/05 15:09:02 WARN DAGScheduler: Broadcasting large task binary with size 1017.3 KiB\n",
      "23/12/05 15:09:03 WARN DAGScheduler: Broadcasting large task binary with size 1502.1 KiB\n",
      "23/12/05 15:10:09 WARN DAGScheduler: Broadcasting large task binary with size 1107.7 KiB\n",
      "23/12/05 15:10:10 WARN DAGScheduler: Broadcasting large task binary with size 1613.0 KiB\n",
      "23/12/05 15:10:18 WARN DAGScheduler: Broadcasting large task binary with size 1072.5 KiB\n",
      "23/12/05 15:10:19 WARN DAGScheduler: Broadcasting large task binary with size 1581.5 KiB\n",
      "23/12/05 15:10:27 WARN DAGScheduler: Broadcasting large task binary with size 1027.7 KiB\n",
      "23/12/05 15:10:28 WARN DAGScheduler: Broadcasting large task binary with size 1515.1 KiB\n",
      "23/12/05 15:11:34 WARN DAGScheduler: Broadcasting large task binary with size 1105.0 KiB\n",
      "23/12/05 15:11:35 WARN DAGScheduler: Broadcasting large task binary with size 1601.0 KiB\n",
      "23/12/05 15:11:43 WARN DAGScheduler: Broadcasting large task binary with size 1068.6 KiB\n",
      "23/12/05 15:11:44 WARN DAGScheduler: Broadcasting large task binary with size 1557.7 KiB\n",
      "23/12/05 15:11:52 WARN DAGScheduler: Broadcasting large task binary with size 1024.4 KiB\n",
      "23/12/05 15:11:53 WARN DAGScheduler: Broadcasting large task binary with size 1528.1 KiB\n",
      "[Stage 1849:=================================================>      (8 + 1) / 9]\r"
     ]
    },
    {
     "name": "stdout",
     "output_type": "stream",
     "text": [
      "Recall/Sensitivity:  0.09817370240849571\n"
     ]
    },
    {
     "name": "stderr",
     "output_type": "stream",
     "text": [
      "                                                                                \r"
     ]
    }
   ],
   "source": [
    "from pyspark.ml.tuning import ParamGridBuilder, CrossValidator\n",
    "from pyspark.ml.evaluation import BinaryClassificationEvaluator\n",
    "\n",
    "# เพิ่มการปรับแต่งพารามิเตอร์ใน Decision Tree Classifier\n",
    "paramGrid = ParamGridBuilder()\\\n",
    "    .addGrid(algo.maxDepth, [5, 10, 15])\\\n",
    "    .addGrid(algo.maxBins, [32, 40, 48])\\\n",
    "    .build()\n",
    "\n",
    "# ใช้ CrossValidator สำหรับการทดสอบพารามิเตอร์ต่างๆ\n",
    "cv = CrossValidator(estimator=pipeline_transformation,\n",
    "                    estimatorParamMaps=paramGrid,\n",
    "                    evaluator=BinaryClassificationEvaluator(),\n",
    "                    numFolds=5)\n",
    "\n",
    "# ฝึกฝนโมเดล\n",
    "cvModel = cv.fit(training_df)\n",
    "\n",
    "# ทดสอบโมเดล\n",
    "predictions = cvModel.transform(testing_df)\n",
    "\n",
    "# ประเมินโมเดล\n",
    "evaluator = BinaryClassificationEvaluator(labelCol='label', rawPredictionCol='prediction', metricName='areaUnderPR')\n",
    "recall = evaluator.evaluate(predictions, {evaluator.metricName: \"areaUnderPR\"})\n",
    "print(\"Recall/Sensitivity: \", recall)\n"
   ]
  },
  {
   "cell_type": "code",
   "execution_count": 46,
   "id": "044d577b",
   "metadata": {},
   "outputs": [
    {
     "name": "stderr",
     "output_type": "stream",
     "text": [
      "                                                                                \r"
     ]
    },
    {
     "name": "stdout",
     "output_type": "stream",
     "text": [
      "+-----------+-----+----------+-----+\n",
      "|loan_status|label|prediction|count|\n",
      "+-----------+-----+----------+-----+\n",
      "|Charged Off|  1.0|       1.0|  334|\n",
      "|Charged Off|  1.0|       0.0|  142|\n",
      "+-----------+-----+----------+-----+\n",
      "\n"
     ]
    }
   ],
   "source": [
    "predictions.select('loan_status','label','prediction').filter(sparkf.col('label') == 1)\\\n",
    ".groupBy('loan_status','label','prediction').count().show()"
   ]
  },
  {
   "cell_type": "code",
   "execution_count": 47,
   "id": "97f5969b",
   "metadata": {},
   "outputs": [
    {
     "name": "stderr",
     "output_type": "stream",
     "text": [
      "                                                                                \r"
     ]
    }
   ],
   "source": [
    "TP = predictions.select('loan_status','label','prediction')\\\n",
    ".filter((sparkf.col('label') == 1)&(sparkf.col('prediction') == 1))\\\n",
    ".groupBy('loan_status','label','prediction').count().take(1)[0]['count']"
   ]
  },
  {
   "cell_type": "code",
   "execution_count": 49,
   "id": "59aa23da",
   "metadata": {},
   "outputs": [
    {
     "name": "stderr",
     "output_type": "stream",
     "text": [
      "                                                                                \r"
     ]
    }
   ],
   "source": [
    "ALL_POSITIVE = predictions.select('loan_status','label','prediction').filter((sparkf.col('label') == 1)).count()"
   ]
  },
  {
   "cell_type": "code",
   "execution_count": 50,
   "id": "ce626735",
   "metadata": {},
   "outputs": [
    {
     "data": {
      "text/plain": [
       "476"
      ]
     },
     "execution_count": 50,
     "metadata": {},
     "output_type": "execute_result"
    }
   ],
   "source": [
    "ALL_POSITIVE"
   ]
  },
  {
   "cell_type": "code",
   "execution_count": 51,
   "id": "4ae5982b",
   "metadata": {},
   "outputs": [
    {
     "data": {
      "text/plain": [
       "334"
      ]
     },
     "execution_count": 51,
     "metadata": {},
     "output_type": "execute_result"
    }
   ],
   "source": [
    "TP"
   ]
  },
  {
   "cell_type": "code",
   "execution_count": 52,
   "id": "338bc462",
   "metadata": {},
   "outputs": [],
   "source": [
    "SENSITIVITY = TP/ALL_POSITIVE"
   ]
  },
  {
   "cell_type": "code",
   "execution_count": 53,
   "id": "868b3823",
   "metadata": {},
   "outputs": [
    {
     "data": {
      "text/plain": [
       "0.7016806722689075"
      ]
     },
     "execution_count": 53,
     "metadata": {},
     "output_type": "execute_result"
    }
   ],
   "source": [
    "SENSITIVITY"
   ]
  },
  {
   "cell_type": "code",
   "execution_count": null,
   "id": "6edc21f7",
   "metadata": {},
   "outputs": [],
   "source": []
  }
 ],
 "metadata": {
  "kernelspec": {
   "display_name": "Python 3 (ipykernel)",
   "language": "python",
   "name": "python3"
  },
  "language_info": {
   "codemirror_mode": {
    "name": "ipython",
    "version": 3
   },
   "file_extension": ".py",
   "mimetype": "text/x-python",
   "name": "python",
   "nbconvert_exporter": "python",
   "pygments_lexer": "ipython3",
   "version": "3.9.2"
  }
 },
 "nbformat": 4,
 "nbformat_minor": 5
}
