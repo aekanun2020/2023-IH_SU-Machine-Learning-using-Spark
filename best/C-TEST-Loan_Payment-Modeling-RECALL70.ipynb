{
 "cells": [
  {
   "cell_type": "code",
   "execution_count": 1,
   "id": "9c15d075",
   "metadata": {},
   "outputs": [
    {
     "name": "stderr",
     "output_type": "stream",
     "text": [
      "23/06/25 03:18:19 WARN NativeCodeLoader: Unable to load native-hadoop library for your platform... using builtin-java classes where applicable\n",
      "Using Spark's default log4j profile: org/apache/spark/log4j-defaults.properties\n",
      "Setting default log level to \"WARN\".\n",
      "To adjust logging level use sc.setLogLevel(newLevel). For SparkR, use setLogLevel(newLevel).\n"
     ]
    }
   ],
   "source": [
    "# ปรับแต่งค่าการทำงานของ Spark\n",
    "from pyspark.sql import SparkSession\n",
    "\n",
    "spark = SparkSession.\\\n",
    "        builder.\\\n",
    "        appName(\"ChiSqSelector:Gender vs. Route\").\\\n",
    "        master(\"spark://spark-master:7077\").\\\n",
    "        config(\"spark.executor.memory\", \"1000m\").\\\n",
    "        config(\"spark.executor.cores\", \"2\").\\\n",
    "        config(\"spark.cores.max\", \"6\").\\\n",
    "        getOrCreate()"
   ]
  },
  {
   "cell_type": "code",
   "execution_count": 2,
   "id": "42cb5e26",
   "metadata": {},
   "outputs": [],
   "source": [
    "from pyspark.sql import functions as sparkf\n",
    "from pyspark.sql.types import *"
   ]
  },
  {
   "cell_type": "markdown",
   "id": "d1fa4ff8",
   "metadata": {},
   "source": [
    "## 1. Business Understaing\n",
    "    \n",
    "    1.1 Problem Statement: ต้องการทราบว่า ลูกหนี้แต่ละรายจะมาจ่ายหนี้ครบตามสัญญาเงินกู้ (Fully-paid) หรือไม่มาจ่ายฯ (Charged-off)\n",
    "    1.2 Project Objective: การจัดเก็บหนี้ดีขึ้นช่วยเพิ่มรายได้ให้กับกิจการ\n",
    "    1.3 Task of Data Science: Binary Classification\n",
    "    1.4 Cleansing Policy: ธุรกิจมี columns ที่แนะนำว่ามีความสัมพันธ์/ส่งผลต่อการชำระหนี้คืนตามสัญญา, ลบได้ทั้ง row หากมี missing ใน columns และแทนที่ได้ตามความเหมาะสม\n",
    "    1.5 Success Criteria: มี Recall/Sensitivity ไม่น้อยกว่า 0.65 บน Testing set แบบ Hold-out"
   ]
  },
  {
   "cell_type": "markdown",
   "id": "f9a5df69",
   "metadata": {},
   "source": [
    "## 2. Data Understanding\n",
    "    \n",
    "    - มี Label เป็น column: loan_status\n",
    "    - มีขนาดใหญ่ (volume)เกินกว่าเทคโนโลยีปัจจุบัน (Python) จะทำงานได้อย่างมีประสิทธิภาพ จึงต้องใช้ Spark ร่วมด้วย\n",
    "    - CSV เป็น semi-structural data ที่มี header ซึ่งสามารถนำไปพัฒนาเป็น schema ของ structural data (Spark DataFrame) ได้\n",
    "    - Data Dict.: https://docs.google.com/spreadsheets/d/1qtZBSJ-JS7S2tGC0W9Yxp992LmrDaAwGcJB419Htbbw/edit#gid=1163295822"
   ]
  },
  {
   "cell_type": "code",
   "execution_count": 3,
   "id": "a9bd435a",
   "metadata": {},
   "outputs": [],
   "source": [
    "#กำหนด columns ที่ธุรกิจให้คำแนะนำฯ ไว้\n",
    "\n",
    "businessAttrs_df = [\"loan_amnt\",\"term\",\"int_rate\"\\\n",
    "                                ,\"installment\",\"grade\",\"emp_length\",\\\n",
    "                           \"home_ownership\",\"annual_inc\"\\\n",
    "                                ,\"verification_status\",\"loan_status\",\\\n",
    "                           \"purpose\",\"addr_state\",\"dti\",\"delinq_2yrs\"\\\n",
    "                                ,\"earliest_cr_line\",\\\n",
    "                           \"open_acc\",\"pub_rec\"\\\n",
    "                                ,\"revol_bal\",\"revol_util\",\"total_acc\",\"issue_d\",'acc_now_delinq']"
   ]
  },
  {
   "cell_type": "code",
   "execution_count": 4,
   "id": "39cc9201",
   "metadata": {},
   "outputs": [],
   "source": [
    "#! apt-get install wget -y"
   ]
  },
  {
   "cell_type": "code",
   "execution_count": 5,
   "id": "607dd200",
   "metadata": {},
   "outputs": [],
   "source": [
    "#! wget https://storage.googleapis.com/ntclass/LoanStats_web.csv"
   ]
  },
  {
   "cell_type": "code",
   "execution_count": 6,
   "id": "63fb37fe",
   "metadata": {},
   "outputs": [
    {
     "name": "stderr",
     "output_type": "stream",
     "text": [
      "                                                                                \r"
     ]
    }
   ],
   "source": [
    "# Spark อ่านข้อมูลจาก .csv แล้ว convert เป็น DataFrame\n",
    "\n",
    "raw_df = spark.read.option('header',True)\\\n",
    ".option(\"quote\", \"\\\"\")\\\n",
    ".option('mode','DROPMALFORMED')\\\n",
    ".option('inferSchema',True)\\\n",
    ".csv('LoanStats_web.csv')\\\n",
    ".select(businessAttrs_df)"
   ]
  },
  {
   "cell_type": "markdown",
   "id": "1a5480be",
   "metadata": {},
   "source": [
    "### 2.1 Univariate Analysis"
   ]
  },
  {
   "cell_type": "markdown",
   "id": "dd9cebff",
   "metadata": {},
   "source": [
    "### 2.2 Bivariate/Multivariate Analysis"
   ]
  },
  {
   "cell_type": "markdown",
   "id": "9ed6d7e8",
   "metadata": {},
   "source": [
    "# 3. Data Preparation"
   ]
  },
  {
   "cell_type": "markdown",
   "id": "ff8f08de",
   "metadata": {},
   "source": [
    "#### 3.1 Cleansing and Transformation - Batch 1"
   ]
  },
  {
   "cell_type": "code",
   "execution_count": 7,
   "id": "daf0f9f0",
   "metadata": {},
   "outputs": [],
   "source": [
    "#### ใหม่ ณ 16 JAN 2023\n",
    "# ใช้ Spark ปรับแต่งค่าใน column: annual_inc, loan_status, revol_util, int_rate และ issue_d\n",
    "# ใช้ Spark สร้าง column ใหม่ขึ้นมา คือ calculatedDTI\n",
    "\n",
    "crunched_df = raw_df\\\n",
    ".filter(sparkf.col('annual_inc') != 0)\\\n",
    ".filter((sparkf.col('loan_status') == 'Fully Paid')|(sparkf.col('loan_status') == 'Charged Off'))\\\n",
    ".withColumn('calculatedDTI',sparkf.col('loan_amnt')/sparkf.col('annual_inc'))\\\n",
    ".withColumn('revol_util',sparkf.when(sparkf.col('revol_util').isNotNull(),sparkf.regexp_replace(sparkf.col('revol_util'),'%',''))\\\n",
    "                  .otherwise(sparkf.col('revol_util')))\\\n",
    ".filter(sparkf.col('revol_util') < 120)\\\n",
    ".withColumn('int_rate',sparkf.when(sparkf.col('int_rate').isNotNull(),sparkf.regexp_replace(sparkf.col('int_rate'),'%',''))\\\n",
    "                  .otherwise(sparkf.col('int_rate')))\\\n",
    ".withColumn('issue_d',sparkf.regexp_extract(sparkf.col('issue_d'),'\\d+',0))\\\n",
    ".withColumn('revol_util',sparkf.col('revol_util').cast(IntegerType()))\\\n",
    ".withColumn('int_rate',sparkf.col('int_rate').cast(FloatType()))\\\n",
    ".withColumn('issue_d',sparkf.col('issue_d').cast(IntegerType()))\\\n",
    ".withColumn('delinq_2yrs',sparkf.col('delinq_2yrs').cast(FloatType()))\\\n",
    ".dropna()"
   ]
  },
  {
   "cell_type": "code",
   "execution_count": null,
   "id": "aaa6aaf9",
   "metadata": {},
   "outputs": [],
   "source": []
  },
  {
   "cell_type": "code",
   "execution_count": null,
   "id": "90054c26",
   "metadata": {},
   "outputs": [],
   "source": []
  },
  {
   "cell_type": "code",
   "execution_count": null,
   "id": "85a43c15",
   "metadata": {},
   "outputs": [],
   "source": []
  },
  {
   "cell_type": "code",
   "execution_count": 8,
   "id": "5fd55be1",
   "metadata": {},
   "outputs": [
    {
     "name": "stderr",
     "output_type": "stream",
     "text": [
      "                                                                                \r"
     ]
    },
    {
     "data": {
      "text/html": [
       "<div>\n",
       "<style scoped>\n",
       "    .dataframe tbody tr th:only-of-type {\n",
       "        vertical-align: middle;\n",
       "    }\n",
       "\n",
       "    .dataframe tbody tr th {\n",
       "        vertical-align: top;\n",
       "    }\n",
       "\n",
       "    .dataframe thead th {\n",
       "        text-align: right;\n",
       "    }\n",
       "</style>\n",
       "<table border=\"1\" class=\"dataframe\">\n",
       "  <thead>\n",
       "    <tr style=\"text-align: right;\">\n",
       "      <th></th>\n",
       "      <th>0</th>\n",
       "      <th>1</th>\n",
       "      <th>2</th>\n",
       "      <th>3</th>\n",
       "      <th>4</th>\n",
       "    </tr>\n",
       "  </thead>\n",
       "  <tbody>\n",
       "    <tr>\n",
       "      <th>summary</th>\n",
       "      <td>count</td>\n",
       "      <td>mean</td>\n",
       "      <td>stddev</td>\n",
       "      <td>min</td>\n",
       "      <td>max</td>\n",
       "    </tr>\n",
       "    <tr>\n",
       "      <th>loan_amnt</th>\n",
       "      <td>698342</td>\n",
       "      <td>14499.922351798976</td>\n",
       "      <td>9223.066319877242</td>\n",
       "      <td>1000</td>\n",
       "      <td>40000</td>\n",
       "    </tr>\n",
       "    <tr>\n",
       "      <th>term</th>\n",
       "      <td>698342</td>\n",
       "      <td>None</td>\n",
       "      <td>None</td>\n",
       "      <td>36 months</td>\n",
       "      <td>60 months</td>\n",
       "    </tr>\n",
       "    <tr>\n",
       "      <th>int_rate</th>\n",
       "      <td>698342</td>\n",
       "      <td>13.231893765288989</td>\n",
       "      <td>5.174107541702221</td>\n",
       "      <td>5.31</td>\n",
       "      <td>30.99</td>\n",
       "    </tr>\n",
       "    <tr>\n",
       "      <th>installment</th>\n",
       "      <td>698342</td>\n",
       "      <td>446.6912345097158</td>\n",
       "      <td>282.599606452106</td>\n",
       "      <td>30.12</td>\n",
       "      <td>1715.42</td>\n",
       "    </tr>\n",
       "    <tr>\n",
       "      <th>grade</th>\n",
       "      <td>698342</td>\n",
       "      <td>None</td>\n",
       "      <td>None</td>\n",
       "      <td>A</td>\n",
       "      <td>G</td>\n",
       "    </tr>\n",
       "    <tr>\n",
       "      <th>emp_length</th>\n",
       "      <td>698342</td>\n",
       "      <td>None</td>\n",
       "      <td>None</td>\n",
       "      <td>1 year</td>\n",
       "      <td>n/a</td>\n",
       "    </tr>\n",
       "    <tr>\n",
       "      <th>home_ownership</th>\n",
       "      <td>698342</td>\n",
       "      <td>None</td>\n",
       "      <td>None</td>\n",
       "      <td>ANY</td>\n",
       "      <td>RENT</td>\n",
       "    </tr>\n",
       "    <tr>\n",
       "      <th>annual_inc</th>\n",
       "      <td>698342</td>\n",
       "      <td>79530.96412655976</td>\n",
       "      <td>78144.23143077889</td>\n",
       "      <td>23.0</td>\n",
       "      <td>9573072.0</td>\n",
       "    </tr>\n",
       "    <tr>\n",
       "      <th>verification_status</th>\n",
       "      <td>698342</td>\n",
       "      <td>None</td>\n",
       "      <td>None</td>\n",
       "      <td>Not Verified</td>\n",
       "      <td>Verified</td>\n",
       "    </tr>\n",
       "    <tr>\n",
       "      <th>loan_status</th>\n",
       "      <td>698342</td>\n",
       "      <td>None</td>\n",
       "      <td>None</td>\n",
       "      <td>Charged Off</td>\n",
       "      <td>Fully Paid</td>\n",
       "    </tr>\n",
       "    <tr>\n",
       "      <th>purpose</th>\n",
       "      <td>698342</td>\n",
       "      <td>None</td>\n",
       "      <td>None</td>\n",
       "      <td>car</td>\n",
       "      <td>wedding</td>\n",
       "    </tr>\n",
       "    <tr>\n",
       "      <th>addr_state</th>\n",
       "      <td>698342</td>\n",
       "      <td>None</td>\n",
       "      <td>None</td>\n",
       "      <td>AK</td>\n",
       "      <td>WY</td>\n",
       "    </tr>\n",
       "    <tr>\n",
       "      <th>dti</th>\n",
       "      <td>698342</td>\n",
       "      <td>18.692250845574073</td>\n",
       "      <td>13.593891477773948</td>\n",
       "      <td>-1</td>\n",
       "      <td>999</td>\n",
       "    </tr>\n",
       "    <tr>\n",
       "      <th>delinq_2yrs</th>\n",
       "      <td>698342</td>\n",
       "      <td>0.3281586958825332</td>\n",
       "      <td>0.9012859773439462</td>\n",
       "      <td>0.0</td>\n",
       "      <td>29.0</td>\n",
       "    </tr>\n",
       "    <tr>\n",
       "      <th>earliest_cr_line</th>\n",
       "      <td>698342</td>\n",
       "      <td>None</td>\n",
       "      <td>None</td>\n",
       "      <td>Apr-1955</td>\n",
       "      <td>Sep-2015</td>\n",
       "    </tr>\n",
       "    <tr>\n",
       "      <th>open_acc</th>\n",
       "      <td>698342</td>\n",
       "      <td>11.77128255210198</td>\n",
       "      <td>5.769888628784486</td>\n",
       "      <td>1</td>\n",
       "      <td>86</td>\n",
       "    </tr>\n",
       "    <tr>\n",
       "      <th>pub_rec</th>\n",
       "      <td>698342</td>\n",
       "      <td>0.25011527303241105</td>\n",
       "      <td>0.6682581018804886</td>\n",
       "      <td>0</td>\n",
       "      <td>61</td>\n",
       "    </tr>\n",
       "    <tr>\n",
       "      <th>revol_bal</th>\n",
       "      <td>698342</td>\n",
       "      <td>16101.565339045912</td>\n",
       "      <td>22716.56438399129</td>\n",
       "      <td>0</td>\n",
       "      <td>1113293</td>\n",
       "    </tr>\n",
       "    <tr>\n",
       "      <th>revol_util</th>\n",
       "      <td>698342</td>\n",
       "      <td>47.399188363294776</td>\n",
       "      <td>24.664061604919468</td>\n",
       "      <td>0</td>\n",
       "      <td>119</td>\n",
       "    </tr>\n",
       "    <tr>\n",
       "      <th>total_acc</th>\n",
       "      <td>698342</td>\n",
       "      <td>24.458484524774395</td>\n",
       "      <td>12.174564403700815</td>\n",
       "      <td>2</td>\n",
       "      <td>176</td>\n",
       "    </tr>\n",
       "    <tr>\n",
       "      <th>issue_d</th>\n",
       "      <td>698342</td>\n",
       "      <td>2016.6668680961477</td>\n",
       "      <td>0.7761254749136072</td>\n",
       "      <td>2016</td>\n",
       "      <td>2019</td>\n",
       "    </tr>\n",
       "    <tr>\n",
       "      <th>acc_now_delinq</th>\n",
       "      <td>698342</td>\n",
       "      <td>0.005482986845986637</td>\n",
       "      <td>0.07852420118848298</td>\n",
       "      <td>0</td>\n",
       "      <td>4</td>\n",
       "    </tr>\n",
       "    <tr>\n",
       "      <th>calculatedDTI</th>\n",
       "      <td>698342</td>\n",
       "      <td>0.2169878142865645</td>\n",
       "      <td>1.8167938285879743</td>\n",
       "      <td>1.7142857142857143E-4</td>\n",
       "      <td>1200.0</td>\n",
       "    </tr>\n",
       "  </tbody>\n",
       "</table>\n",
       "</div>"
      ],
      "text/plain": [
       "                          0                     1                    2  \\\n",
       "summary               count                  mean               stddev   \n",
       "loan_amnt            698342    14499.922351798976    9223.066319877242   \n",
       "term                 698342                  None                 None   \n",
       "int_rate             698342    13.231893765288989    5.174107541702221   \n",
       "installment          698342     446.6912345097158     282.599606452106   \n",
       "grade                698342                  None                 None   \n",
       "emp_length           698342                  None                 None   \n",
       "home_ownership       698342                  None                 None   \n",
       "annual_inc           698342     79530.96412655976    78144.23143077889   \n",
       "verification_status  698342                  None                 None   \n",
       "loan_status          698342                  None                 None   \n",
       "purpose              698342                  None                 None   \n",
       "addr_state           698342                  None                 None   \n",
       "dti                  698342    18.692250845574073   13.593891477773948   \n",
       "delinq_2yrs          698342    0.3281586958825332   0.9012859773439462   \n",
       "earliest_cr_line     698342                  None                 None   \n",
       "open_acc             698342     11.77128255210198    5.769888628784486   \n",
       "pub_rec              698342   0.25011527303241105   0.6682581018804886   \n",
       "revol_bal            698342    16101.565339045912    22716.56438399129   \n",
       "revol_util           698342    47.399188363294776   24.664061604919468   \n",
       "total_acc            698342    24.458484524774395   12.174564403700815   \n",
       "issue_d              698342    2016.6668680961477   0.7761254749136072   \n",
       "acc_now_delinq       698342  0.005482986845986637  0.07852420118848298   \n",
       "calculatedDTI        698342    0.2169878142865645   1.8167938285879743   \n",
       "\n",
       "                                         3           4  \n",
       "summary                                min         max  \n",
       "loan_amnt                             1000       40000  \n",
       "term                             36 months   60 months  \n",
       "int_rate                              5.31       30.99  \n",
       "installment                          30.12     1715.42  \n",
       "grade                                    A           G  \n",
       "emp_length                          1 year         n/a  \n",
       "home_ownership                         ANY        RENT  \n",
       "annual_inc                            23.0   9573072.0  \n",
       "verification_status           Not Verified    Verified  \n",
       "loan_status                    Charged Off  Fully Paid  \n",
       "purpose                                car     wedding  \n",
       "addr_state                              AK          WY  \n",
       "dti                                     -1         999  \n",
       "delinq_2yrs                            0.0        29.0  \n",
       "earliest_cr_line                  Apr-1955    Sep-2015  \n",
       "open_acc                                 1          86  \n",
       "pub_rec                                  0          61  \n",
       "revol_bal                                0     1113293  \n",
       "revol_util                               0         119  \n",
       "total_acc                                2         176  \n",
       "issue_d                               2016        2019  \n",
       "acc_now_delinq                           0           4  \n",
       "calculatedDTI        1.7142857142857143E-4      1200.0  "
      ]
     },
     "execution_count": 8,
     "metadata": {},
     "output_type": "execute_result"
    }
   ],
   "source": [
    "crunched_df.describe().toPandas().transpose()"
   ]
  },
  {
   "cell_type": "code",
   "execution_count": 9,
   "id": "edc6ff3d",
   "metadata": {},
   "outputs": [],
   "source": [
    "from pyspark.ml.feature import VectorAssembler, ChiSqSelector, StringIndexer"
   ]
  },
  {
   "cell_type": "code",
   "execution_count": null,
   "id": "6356ef39",
   "metadata": {},
   "outputs": [],
   "source": []
  },
  {
   "cell_type": "code",
   "execution_count": null,
   "id": "4657bcda",
   "metadata": {},
   "outputs": [],
   "source": []
  },
  {
   "cell_type": "code",
   "execution_count": null,
   "id": "052b5549",
   "metadata": {},
   "outputs": [],
   "source": []
  },
  {
   "cell_type": "code",
   "execution_count": null,
   "id": "1b548d0e",
   "metadata": {},
   "outputs": [],
   "source": []
  },
  {
   "cell_type": "code",
   "execution_count": null,
   "id": "883c9b8e",
   "metadata": {},
   "outputs": [],
   "source": []
  },
  {
   "cell_type": "markdown",
   "id": "dc2b66a9",
   "metadata": {},
   "source": [
    "#### 3.2 Cleansing and Transformation - Batch 2"
   ]
  },
  {
   "cell_type": "raw",
   "id": "42a321ed",
   "metadata": {},
   "source": [
    "# Spark สร้าง ABT - sensivity: 0.5908141962421712\n",
    "\n",
    "final_df = crunched_df\\\n",
    ".withColumn('term',sparkf.when(sparkf.col('term').isNotNull(),sparkf.regexp_replace(sparkf.col('term'),' months','')).otherwise(sparkf.col('term')))\\\n",
    ".withColumn('term',sparkf.col('term').cast(IntegerType()))\\\n",
    ".filter(sparkf.col('loan_amnt') < 40000.0)\\\n",
    ".filter(sparkf.col('annual_inc')<150000)\\\n",
    ".withColumn('is_debtConsolidation', sparkf.when(sparkf.col('purpose')=='debt_consolidation',1).otherwise(0))"
   ]
  },
  {
   "cell_type": "code",
   "execution_count": 10,
   "id": "493131e7",
   "metadata": {},
   "outputs": [],
   "source": [
    "# Spark สร้าง ABT - sensivity: 0.6932773109243697\n",
    "\n",
    "final_df = crunched_df\\\n",
    ".withColumn('term',sparkf.when(sparkf.col('term').isNotNull(),sparkf.regexp_replace(sparkf.col('term'),' months','')).otherwise(sparkf.col('term')))\\\n",
    ".withColumn('term',sparkf.col('term').cast(IntegerType()))\\\n",
    ".filter(sparkf.col('loan_amnt') < 40000.0)\\\n",
    ".filter(sparkf.col('annual_inc')<150000)\\\n",
    ".filter(((sparkf.col('int_rate')<22)&(sparkf.col('loan_status')=='Fully Paid'))\\\n",
    "        |((sparkf.col('loan_status')=='Charged Off')&(sparkf.col('int_rate')<28)))\\\n",
    ".withColumn('is_debtConsolidation', sparkf.when(sparkf.col('purpose')=='debt_consolidation',1).otherwise(0))"
   ]
  },
  {
   "cell_type": "code",
   "execution_count": null,
   "id": "47d53e9c",
   "metadata": {},
   "outputs": [],
   "source": []
  },
  {
   "cell_type": "markdown",
   "id": "e837d432",
   "metadata": {},
   "source": [
    "# 4. Modeling & 5. Model Evaluation"
   ]
  },
  {
   "cell_type": "code",
   "execution_count": 11,
   "id": "4bd484ba",
   "metadata": {},
   "outputs": [],
   "source": [
    "# Spark ทำ Hold-out Tesing set\n",
    "\n",
    "candidate_training_df = final_df.filter(sparkf.col('issue_d') < 2019)\n",
    "testing_df = final_df.filter(sparkf.col('issue_d') >= 2019)"
   ]
  },
  {
   "cell_type": "code",
   "execution_count": 12,
   "id": "bdec0238",
   "metadata": {},
   "outputs": [
    {
     "name": "stderr",
     "output_type": "stream",
     "text": [
      "23/06/25 03:19:36 WARN package: Truncated the string representation of a plan since it was too large. This behavior can be adjusted by setting 'spark.sql.debug.maxToStringFields'.\n",
      "[Stage 13:===========================================>            (58 + 6) / 75]\r"
     ]
    },
    {
     "name": "stdout",
     "output_type": "stream",
     "text": [
      "+-----------+------+\n",
      "|loan_status| count|\n",
      "+-----------+------+\n",
      "| Fully Paid|470712|\n",
      "|Charged Off|131831|\n",
      "+-----------+------+\n",
      "\n"
     ]
    },
    {
     "name": "stderr",
     "output_type": "stream",
     "text": [
      "                                                                                \r"
     ]
    }
   ],
   "source": [
    "candidate_training_df.groupBy('loan_status').count().show()"
   ]
  },
  {
   "cell_type": "code",
   "execution_count": 13,
   "id": "0d6eef8e",
   "metadata": {},
   "outputs": [
    {
     "name": "stderr",
     "output_type": "stream",
     "text": [
      "                                                                                \r"
     ]
    }
   ],
   "source": [
    "# Spark ทำการสุ่มเลือกข้อมูลเฉพาะจาก training set เพื่อลดจำนวน Fully Paid\n",
    "\n",
    "FullyPaid_training_df = candidate_training_df.filter(sparkf.col('loan_status') == 'Fully Paid').sample(0.30)\n",
    "\n",
    "ChargedOff_training_df = candidate_training_df.filter(sparkf.col('loan_status') == 'Charged Off')\n",
    "\n",
    "FullyPaid_training_num = FullyPaid_training_df.count()\n",
    "\n",
    "ChargedOff_training_num = ChargedOff_training_df.count()\n",
    "\n",
    "training_df = FullyPaid_training_df.union(ChargedOff_training_df)"
   ]
  },
  {
   "cell_type": "code",
   "execution_count": 14,
   "id": "6994fb5f",
   "metadata": {},
   "outputs": [
    {
     "name": "stderr",
     "output_type": "stream",
     "text": [
      "                                                                                \r"
     ]
    },
    {
     "name": "stdout",
     "output_type": "stream",
     "text": [
      "+-----------+------+\n",
      "|loan_status| count|\n",
      "+-----------+------+\n",
      "| Fully Paid|141169|\n",
      "|Charged Off|131831|\n",
      "+-----------+------+\n",
      "\n"
     ]
    }
   ],
   "source": [
    "# Spark ทำสรุปจำนวน row ของแต่ละ class ที่มีความ Balance Class มากขึ้น\n",
    "training_df.groupBy('loan_status').count().show()"
   ]
  },
  {
   "cell_type": "code",
   "execution_count": 15,
   "id": "22347555",
   "metadata": {},
   "outputs": [
    {
     "name": "stderr",
     "output_type": "stream",
     "text": [
      "                                                                                \r"
     ]
    },
    {
     "data": {
      "text/html": [
       "<div>\n",
       "<style scoped>\n",
       "    .dataframe tbody tr th:only-of-type {\n",
       "        vertical-align: middle;\n",
       "    }\n",
       "\n",
       "    .dataframe tbody tr th {\n",
       "        vertical-align: top;\n",
       "    }\n",
       "\n",
       "    .dataframe thead th {\n",
       "        text-align: right;\n",
       "    }\n",
       "</style>\n",
       "<table border=\"1\" class=\"dataframe\">\n",
       "  <thead>\n",
       "    <tr style=\"text-align: right;\">\n",
       "      <th></th>\n",
       "      <th>0</th>\n",
       "      <th>1</th>\n",
       "      <th>2</th>\n",
       "      <th>3</th>\n",
       "      <th>4</th>\n",
       "    </tr>\n",
       "  </thead>\n",
       "  <tbody>\n",
       "    <tr>\n",
       "      <th>summary</th>\n",
       "      <td>count</td>\n",
       "      <td>mean</td>\n",
       "      <td>stddev</td>\n",
       "      <td>min</td>\n",
       "      <td>max</td>\n",
       "    </tr>\n",
       "    <tr>\n",
       "      <th>loan_amnt</th>\n",
       "      <td>273000</td>\n",
       "      <td>13853.784706959706</td>\n",
       "      <td>8441.588510843314</td>\n",
       "      <td>1000</td>\n",
       "      <td>39925</td>\n",
       "    </tr>\n",
       "    <tr>\n",
       "      <th>term</th>\n",
       "      <td>273000</td>\n",
       "      <td>41.456967032967036</td>\n",
       "      <td>10.05927881352971</td>\n",
       "      <td>36</td>\n",
       "      <td>60</td>\n",
       "    </tr>\n",
       "    <tr>\n",
       "      <th>int_rate</th>\n",
       "      <td>273000</td>\n",
       "      <td>13.616009426151876</td>\n",
       "      <td>4.70093571023568</td>\n",
       "      <td>5.31</td>\n",
       "      <td>27.99</td>\n",
       "    </tr>\n",
       "    <tr>\n",
       "      <th>installment</th>\n",
       "      <td>273000</td>\n",
       "      <td>426.647873516492</td>\n",
       "      <td>259.4131935256982</td>\n",
       "      <td>30.12</td>\n",
       "      <td>1506.65</td>\n",
       "    </tr>\n",
       "    <tr>\n",
       "      <th>grade</th>\n",
       "      <td>273000</td>\n",
       "      <td>None</td>\n",
       "      <td>None</td>\n",
       "      <td>A</td>\n",
       "      <td>G</td>\n",
       "    </tr>\n",
       "    <tr>\n",
       "      <th>emp_length</th>\n",
       "      <td>273000</td>\n",
       "      <td>None</td>\n",
       "      <td>None</td>\n",
       "      <td>1 year</td>\n",
       "      <td>n/a</td>\n",
       "    </tr>\n",
       "    <tr>\n",
       "      <th>home_ownership</th>\n",
       "      <td>273000</td>\n",
       "      <td>None</td>\n",
       "      <td>None</td>\n",
       "      <td>ANY</td>\n",
       "      <td>RENT</td>\n",
       "    </tr>\n",
       "    <tr>\n",
       "      <th>annual_inc</th>\n",
       "      <td>273000</td>\n",
       "      <td>66914.06534054944</td>\n",
       "      <td>28968.962744565815</td>\n",
       "      <td>25.0</td>\n",
       "      <td>149999.0</td>\n",
       "    </tr>\n",
       "    <tr>\n",
       "      <th>verification_status</th>\n",
       "      <td>273000</td>\n",
       "      <td>None</td>\n",
       "      <td>None</td>\n",
       "      <td>Not Verified</td>\n",
       "      <td>Verified</td>\n",
       "    </tr>\n",
       "    <tr>\n",
       "      <th>loan_status</th>\n",
       "      <td>273000</td>\n",
       "      <td>None</td>\n",
       "      <td>None</td>\n",
       "      <td>Charged Off</td>\n",
       "      <td>Fully Paid</td>\n",
       "    </tr>\n",
       "    <tr>\n",
       "      <th>purpose</th>\n",
       "      <td>273000</td>\n",
       "      <td>None</td>\n",
       "      <td>None</td>\n",
       "      <td>car</td>\n",
       "      <td>wedding</td>\n",
       "    </tr>\n",
       "    <tr>\n",
       "      <th>addr_state</th>\n",
       "      <td>273000</td>\n",
       "      <td>None</td>\n",
       "      <td>None</td>\n",
       "      <td>AK</td>\n",
       "      <td>WY</td>\n",
       "    </tr>\n",
       "    <tr>\n",
       "      <th>dti</th>\n",
       "      <td>273000</td>\n",
       "      <td>19.478777216117194</td>\n",
       "      <td>13.795077190325935</td>\n",
       "      <td>0</td>\n",
       "      <td>999</td>\n",
       "    </tr>\n",
       "    <tr>\n",
       "      <th>delinq_2yrs</th>\n",
       "      <td>273000</td>\n",
       "      <td>0.3363150183150183</td>\n",
       "      <td>0.9186556845745132</td>\n",
       "      <td>0.0</td>\n",
       "      <td>21.0</td>\n",
       "    </tr>\n",
       "    <tr>\n",
       "      <th>earliest_cr_line</th>\n",
       "      <td>273000</td>\n",
       "      <td>None</td>\n",
       "      <td>None</td>\n",
       "      <td>Apr-1960</td>\n",
       "      <td>Sep-2015</td>\n",
       "    </tr>\n",
       "    <tr>\n",
       "      <th>open_acc</th>\n",
       "      <td>273000</td>\n",
       "      <td>11.635358974358974</td>\n",
       "      <td>5.687716482999692</td>\n",
       "      <td>1</td>\n",
       "      <td>74</td>\n",
       "    </tr>\n",
       "    <tr>\n",
       "      <th>pub_rec</th>\n",
       "      <td>273000</td>\n",
       "      <td>0.26181684981684983</td>\n",
       "      <td>0.6884043575532867</td>\n",
       "      <td>0</td>\n",
       "      <td>61</td>\n",
       "    </tr>\n",
       "    <tr>\n",
       "      <th>revol_bal</th>\n",
       "      <td>273000</td>\n",
       "      <td>14013.965556776557</td>\n",
       "      <td>15668.072641325476</td>\n",
       "      <td>0</td>\n",
       "      <td>959754</td>\n",
       "    </tr>\n",
       "    <tr>\n",
       "      <th>revol_util</th>\n",
       "      <td>273000</td>\n",
       "      <td>48.17130769230769</td>\n",
       "      <td>24.253589416747495</td>\n",
       "      <td>0</td>\n",
       "      <td>119</td>\n",
       "    </tr>\n",
       "    <tr>\n",
       "      <th>total_acc</th>\n",
       "      <td>273000</td>\n",
       "      <td>23.78879487179487</td>\n",
       "      <td>11.964187443848962</td>\n",
       "      <td>2</td>\n",
       "      <td>176</td>\n",
       "    </tr>\n",
       "    <tr>\n",
       "      <th>issue_d</th>\n",
       "      <td>273000</td>\n",
       "      <td>2016.6224505494506</td>\n",
       "      <td>0.7292907198229646</td>\n",
       "      <td>2016</td>\n",
       "      <td>2018</td>\n",
       "    </tr>\n",
       "    <tr>\n",
       "      <th>acc_now_delinq</th>\n",
       "      <td>273000</td>\n",
       "      <td>0.005351648351648352</td>\n",
       "      <td>0.07667989505794369</td>\n",
       "      <td>0</td>\n",
       "      <td>3</td>\n",
       "    </tr>\n",
       "    <tr>\n",
       "      <th>calculatedDTI</th>\n",
       "      <td>273000</td>\n",
       "      <td>0.2331448121971904</td>\n",
       "      <td>2.6139862253007755</td>\n",
       "      <td>0.006756756756756757</td>\n",
       "      <td>1200.0</td>\n",
       "    </tr>\n",
       "    <tr>\n",
       "      <th>is_debtConsolidation</th>\n",
       "      <td>273000</td>\n",
       "      <td>0.5766300366300366</td>\n",
       "      <td>0.4940938491122087</td>\n",
       "      <td>0</td>\n",
       "      <td>1</td>\n",
       "    </tr>\n",
       "  </tbody>\n",
       "</table>\n",
       "</div>"
      ],
      "text/plain": [
       "                           0                     1                    2  \\\n",
       "summary                count                  mean               stddev   \n",
       "loan_amnt             273000    13853.784706959706    8441.588510843314   \n",
       "term                  273000    41.456967032967036    10.05927881352971   \n",
       "int_rate              273000    13.616009426151876     4.70093571023568   \n",
       "installment           273000      426.647873516492    259.4131935256982   \n",
       "grade                 273000                  None                 None   \n",
       "emp_length            273000                  None                 None   \n",
       "home_ownership        273000                  None                 None   \n",
       "annual_inc            273000     66914.06534054944   28968.962744565815   \n",
       "verification_status   273000                  None                 None   \n",
       "loan_status           273000                  None                 None   \n",
       "purpose               273000                  None                 None   \n",
       "addr_state            273000                  None                 None   \n",
       "dti                   273000    19.478777216117194   13.795077190325935   \n",
       "delinq_2yrs           273000    0.3363150183150183   0.9186556845745132   \n",
       "earliest_cr_line      273000                  None                 None   \n",
       "open_acc              273000    11.635358974358974    5.687716482999692   \n",
       "pub_rec               273000   0.26181684981684983   0.6884043575532867   \n",
       "revol_bal             273000    14013.965556776557   15668.072641325476   \n",
       "revol_util            273000     48.17130769230769   24.253589416747495   \n",
       "total_acc             273000     23.78879487179487   11.964187443848962   \n",
       "issue_d               273000    2016.6224505494506   0.7292907198229646   \n",
       "acc_now_delinq        273000  0.005351648351648352  0.07667989505794369   \n",
       "calculatedDTI         273000    0.2331448121971904   2.6139862253007755   \n",
       "is_debtConsolidation  273000    0.5766300366300366   0.4940938491122087   \n",
       "\n",
       "                                         3           4  \n",
       "summary                                min         max  \n",
       "loan_amnt                             1000       39925  \n",
       "term                                    36          60  \n",
       "int_rate                              5.31       27.99  \n",
       "installment                          30.12     1506.65  \n",
       "grade                                    A           G  \n",
       "emp_length                          1 year         n/a  \n",
       "home_ownership                         ANY        RENT  \n",
       "annual_inc                            25.0    149999.0  \n",
       "verification_status           Not Verified    Verified  \n",
       "loan_status                    Charged Off  Fully Paid  \n",
       "purpose                                car     wedding  \n",
       "addr_state                              AK          WY  \n",
       "dti                                      0         999  \n",
       "delinq_2yrs                            0.0        21.0  \n",
       "earliest_cr_line                  Apr-1960    Sep-2015  \n",
       "open_acc                                 1          74  \n",
       "pub_rec                                  0          61  \n",
       "revol_bal                                0      959754  \n",
       "revol_util                               0         119  \n",
       "total_acc                                2         176  \n",
       "issue_d                               2016        2018  \n",
       "acc_now_delinq                           0           3  \n",
       "calculatedDTI         0.006756756756756757      1200.0  \n",
       "is_debtConsolidation                     0           1  "
      ]
     },
     "execution_count": 15,
     "metadata": {},
     "output_type": "execute_result"
    }
   ],
   "source": [
    "training_df.describe().toPandas().transpose()"
   ]
  },
  {
   "cell_type": "code",
   "execution_count": 16,
   "id": "05b9d090",
   "metadata": {},
   "outputs": [
    {
     "name": "stderr",
     "output_type": "stream",
     "text": [
      "                                                                                \r"
     ]
    },
    {
     "data": {
      "text/html": [
       "<div>\n",
       "<style scoped>\n",
       "    .dataframe tbody tr th:only-of-type {\n",
       "        vertical-align: middle;\n",
       "    }\n",
       "\n",
       "    .dataframe tbody tr th {\n",
       "        vertical-align: top;\n",
       "    }\n",
       "\n",
       "    .dataframe thead th {\n",
       "        text-align: right;\n",
       "    }\n",
       "</style>\n",
       "<table border=\"1\" class=\"dataframe\">\n",
       "  <thead>\n",
       "    <tr style=\"text-align: right;\">\n",
       "      <th></th>\n",
       "      <th>0</th>\n",
       "      <th>1</th>\n",
       "      <th>2</th>\n",
       "      <th>3</th>\n",
       "      <th>4</th>\n",
       "    </tr>\n",
       "  </thead>\n",
       "  <tbody>\n",
       "    <tr>\n",
       "      <th>summary</th>\n",
       "      <td>count</td>\n",
       "      <td>mean</td>\n",
       "      <td>stddev</td>\n",
       "      <td>min</td>\n",
       "      <td>max</td>\n",
       "    </tr>\n",
       "    <tr>\n",
       "      <th>loan_amnt</th>\n",
       "      <td>6716</td>\n",
       "      <td>13053.867629541393</td>\n",
       "      <td>8579.982755367357</td>\n",
       "      <td>1000</td>\n",
       "      <td>38975</td>\n",
       "    </tr>\n",
       "    <tr>\n",
       "      <th>term</th>\n",
       "      <td>6716</td>\n",
       "      <td>41.710541989279335</td>\n",
       "      <td>10.220482942364024</td>\n",
       "      <td>36</td>\n",
       "      <td>60</td>\n",
       "    </tr>\n",
       "    <tr>\n",
       "      <th>int_rate</th>\n",
       "      <td>6716</td>\n",
       "      <td>12.78878348380629</td>\n",
       "      <td>4.202868875110118</td>\n",
       "      <td>6.46</td>\n",
       "      <td>27.27</td>\n",
       "    </tr>\n",
       "    <tr>\n",
       "      <th>installment</th>\n",
       "      <td>6716</td>\n",
       "      <td>388.8376280524116</td>\n",
       "      <td>246.2480716289674</td>\n",
       "      <td>30.64</td>\n",
       "      <td>1336.43</td>\n",
       "    </tr>\n",
       "    <tr>\n",
       "      <th>grade</th>\n",
       "      <td>6716</td>\n",
       "      <td>None</td>\n",
       "      <td>None</td>\n",
       "      <td>A</td>\n",
       "      <td>E</td>\n",
       "    </tr>\n",
       "    <tr>\n",
       "      <th>emp_length</th>\n",
       "      <td>6716</td>\n",
       "      <td>None</td>\n",
       "      <td>None</td>\n",
       "      <td>1 year</td>\n",
       "      <td>n/a</td>\n",
       "    </tr>\n",
       "    <tr>\n",
       "      <th>home_ownership</th>\n",
       "      <td>6716</td>\n",
       "      <td>None</td>\n",
       "      <td>None</td>\n",
       "      <td>ANY</td>\n",
       "      <td>RENT</td>\n",
       "    </tr>\n",
       "    <tr>\n",
       "      <th>annual_inc</th>\n",
       "      <td>6716</td>\n",
       "      <td>70493.97817301966</td>\n",
       "      <td>30007.79471769585</td>\n",
       "      <td>250.0</td>\n",
       "      <td>149925.0</td>\n",
       "    </tr>\n",
       "    <tr>\n",
       "      <th>verification_status</th>\n",
       "      <td>6716</td>\n",
       "      <td>None</td>\n",
       "      <td>None</td>\n",
       "      <td>Not Verified</td>\n",
       "      <td>Verified</td>\n",
       "    </tr>\n",
       "    <tr>\n",
       "      <th>loan_status</th>\n",
       "      <td>6716</td>\n",
       "      <td>None</td>\n",
       "      <td>None</td>\n",
       "      <td>Charged Off</td>\n",
       "      <td>Fully Paid</td>\n",
       "    </tr>\n",
       "    <tr>\n",
       "      <th>purpose</th>\n",
       "      <td>6716</td>\n",
       "      <td>None</td>\n",
       "      <td>None</td>\n",
       "      <td>car</td>\n",
       "      <td>vacation</td>\n",
       "    </tr>\n",
       "    <tr>\n",
       "      <th>addr_state</th>\n",
       "      <td>6716</td>\n",
       "      <td>None</td>\n",
       "      <td>None</td>\n",
       "      <td>AK</td>\n",
       "      <td>WY</td>\n",
       "    </tr>\n",
       "    <tr>\n",
       "      <th>dti</th>\n",
       "      <td>6716</td>\n",
       "      <td>19.75030524121498</td>\n",
       "      <td>31.28660081329343</td>\n",
       "      <td>0</td>\n",
       "      <td>999</td>\n",
       "    </tr>\n",
       "    <tr>\n",
       "      <th>delinq_2yrs</th>\n",
       "      <td>6716</td>\n",
       "      <td>0.20741512805241216</td>\n",
       "      <td>0.712621112395756</td>\n",
       "      <td>0.0</td>\n",
       "      <td>14.0</td>\n",
       "    </tr>\n",
       "    <tr>\n",
       "      <th>earliest_cr_line</th>\n",
       "      <td>6716</td>\n",
       "      <td>None</td>\n",
       "      <td>None</td>\n",
       "      <td>Apr-1970</td>\n",
       "      <td>Sep-2015</td>\n",
       "    </tr>\n",
       "    <tr>\n",
       "      <th>open_acc</th>\n",
       "      <td>6716</td>\n",
       "      <td>11.516229898749256</td>\n",
       "      <td>5.923981461615417</td>\n",
       "      <td>1</td>\n",
       "      <td>63</td>\n",
       "    </tr>\n",
       "    <tr>\n",
       "      <th>pub_rec</th>\n",
       "      <td>6716</td>\n",
       "      <td>0.14085765336509828</td>\n",
       "      <td>0.35802649683692694</td>\n",
       "      <td>0</td>\n",
       "      <td>4</td>\n",
       "    </tr>\n",
       "    <tr>\n",
       "      <th>revol_bal</th>\n",
       "      <td>6716</td>\n",
       "      <td>12606.15202501489</td>\n",
       "      <td>14301.96753349796</td>\n",
       "      <td>0</td>\n",
       "      <td>236946</td>\n",
       "    </tr>\n",
       "    <tr>\n",
       "      <th>revol_util</th>\n",
       "      <td>6716</td>\n",
       "      <td>35.60125074449077</td>\n",
       "      <td>24.777587419804476</td>\n",
       "      <td>0</td>\n",
       "      <td>102</td>\n",
       "    </tr>\n",
       "    <tr>\n",
       "      <th>total_acc</th>\n",
       "      <td>6716</td>\n",
       "      <td>24.796754020250148</td>\n",
       "      <td>13.081527785732117</td>\n",
       "      <td>2</td>\n",
       "      <td>142</td>\n",
       "    </tr>\n",
       "    <tr>\n",
       "      <th>issue_d</th>\n",
       "      <td>6716</td>\n",
       "      <td>2019.0</td>\n",
       "      <td>0.0</td>\n",
       "      <td>2019</td>\n",
       "      <td>2019</td>\n",
       "    </tr>\n",
       "    <tr>\n",
       "      <th>acc_now_delinq</th>\n",
       "      <td>6716</td>\n",
       "      <td>0.0</td>\n",
       "      <td>0.0</td>\n",
       "      <td>0</td>\n",
       "      <td>0</td>\n",
       "    </tr>\n",
       "    <tr>\n",
       "      <th>calculatedDTI</th>\n",
       "      <td>6716</td>\n",
       "      <td>0.24064031104433659</td>\n",
       "      <td>1.372297253022421</td>\n",
       "      <td>0.006896551724137931</td>\n",
       "      <td>91.14285714285714</td>\n",
       "    </tr>\n",
       "    <tr>\n",
       "      <th>is_debtConsolidation</th>\n",
       "      <td>6716</td>\n",
       "      <td>0.5284395473496128</td>\n",
       "      <td>0.4992277053414849</td>\n",
       "      <td>0</td>\n",
       "      <td>1</td>\n",
       "    </tr>\n",
       "  </tbody>\n",
       "</table>\n",
       "</div>"
      ],
      "text/plain": [
       "                          0                    1                    2  \\\n",
       "summary               count                 mean               stddev   \n",
       "loan_amnt              6716   13053.867629541393    8579.982755367357   \n",
       "term                   6716   41.710541989279335   10.220482942364024   \n",
       "int_rate               6716    12.78878348380629    4.202868875110118   \n",
       "installment            6716    388.8376280524116    246.2480716289674   \n",
       "grade                  6716                 None                 None   \n",
       "emp_length             6716                 None                 None   \n",
       "home_ownership         6716                 None                 None   \n",
       "annual_inc             6716    70493.97817301966    30007.79471769585   \n",
       "verification_status    6716                 None                 None   \n",
       "loan_status            6716                 None                 None   \n",
       "purpose                6716                 None                 None   \n",
       "addr_state             6716                 None                 None   \n",
       "dti                    6716    19.75030524121498    31.28660081329343   \n",
       "delinq_2yrs            6716  0.20741512805241216    0.712621112395756   \n",
       "earliest_cr_line       6716                 None                 None   \n",
       "open_acc               6716   11.516229898749256    5.923981461615417   \n",
       "pub_rec                6716  0.14085765336509828  0.35802649683692694   \n",
       "revol_bal              6716    12606.15202501489    14301.96753349796   \n",
       "revol_util             6716    35.60125074449077   24.777587419804476   \n",
       "total_acc              6716   24.796754020250148   13.081527785732117   \n",
       "issue_d                6716               2019.0                  0.0   \n",
       "acc_now_delinq         6716                  0.0                  0.0   \n",
       "calculatedDTI          6716  0.24064031104433659    1.372297253022421   \n",
       "is_debtConsolidation   6716   0.5284395473496128   0.4992277053414849   \n",
       "\n",
       "                                         3                  4  \n",
       "summary                                min                max  \n",
       "loan_amnt                             1000              38975  \n",
       "term                                    36                 60  \n",
       "int_rate                              6.46              27.27  \n",
       "installment                          30.64            1336.43  \n",
       "grade                                    A                  E  \n",
       "emp_length                          1 year                n/a  \n",
       "home_ownership                         ANY               RENT  \n",
       "annual_inc                           250.0           149925.0  \n",
       "verification_status           Not Verified           Verified  \n",
       "loan_status                    Charged Off         Fully Paid  \n",
       "purpose                                car           vacation  \n",
       "addr_state                              AK                 WY  \n",
       "dti                                      0                999  \n",
       "delinq_2yrs                            0.0               14.0  \n",
       "earliest_cr_line                  Apr-1970           Sep-2015  \n",
       "open_acc                                 1                 63  \n",
       "pub_rec                                  0                  4  \n",
       "revol_bal                                0             236946  \n",
       "revol_util                               0                102  \n",
       "total_acc                                2                142  \n",
       "issue_d                               2019               2019  \n",
       "acc_now_delinq                           0                  0  \n",
       "calculatedDTI         0.006896551724137931  91.14285714285714  \n",
       "is_debtConsolidation                     0                  1  "
      ]
     },
     "execution_count": 16,
     "metadata": {},
     "output_type": "execute_result"
    }
   ],
   "source": [
    "testing_df.describe().toPandas().transpose()"
   ]
  },
  {
   "cell_type": "markdown",
   "id": "9e56138f",
   "metadata": {},
   "source": [
    "#### Feature Transformation (Encoding)"
   ]
  },
  {
   "cell_type": "code",
   "execution_count": 17,
   "id": "c14141b2",
   "metadata": {},
   "outputs": [],
   "source": [
    "numeric_candidateFeatures_list = ['int_rate','term','loan_amnt','annual_inc']\n",
    "#numeric_candidateFeatures_list = ['int_rate','installment','loan_amnt','annual_inc','revol_util','delinq_2yrs','is_debtConsolidation','term']"
   ]
  },
  {
   "cell_type": "raw",
   "id": "29f706f2",
   "metadata": {},
   "source": [
    "#numeric_candidateFeatures_list = ['loan_amnt','int_rate','calculatedDTI']\n",
    "numeric_candidateFeatures_list = ['int_rate','installment','pub_rec','loan_amnt','annual_inc']"
   ]
  },
  {
   "cell_type": "code",
   "execution_count": 18,
   "id": "634e1255",
   "metadata": {},
   "outputs": [],
   "source": [
    "cat_candidateFeatures_list = ['grade','home_ownership','verification_status','addr_state']\n",
    "#cat_candidateFeatures_list = []"
   ]
  },
  {
   "cell_type": "code",
   "execution_count": 19,
   "id": "ff762245",
   "metadata": {},
   "outputs": [],
   "source": [
    "from pyspark.ml.feature import *\n",
    "from pyspark.ml.pipeline import Pipeline\n",
    "from pyspark.ml.classification import *"
   ]
  },
  {
   "cell_type": "code",
   "execution_count": 20,
   "id": "d0e0382f",
   "metadata": {},
   "outputs": [],
   "source": [
    "label_Indexer = StringIndexer(inputCol='loan_status',outputCol='label')"
   ]
  },
  {
   "cell_type": "code",
   "execution_count": 21,
   "id": "88f9521e",
   "metadata": {},
   "outputs": [],
   "source": [
    "cat_Indexer = StringIndexer(inputCols=cat_candidateFeatures_list,outputCols=['grade_index','home_ownership_index'\\\n",
    "                                                                             ,'verification_status_index','addr_state_index'])\n",
    "cat_OneHot  = OneHotEncoder(inputCols=['grade_index','home_ownership_index'\\\n",
    "                                                                             ,'verification_status_index','addr_state_index']\\\n",
    "                            ,outputCols=['grade_binarized','home_ownership_binarized'\\\n",
    "                                         ,'verification_status_binarized','addr_state_binarized'])"
   ]
  },
  {
   "cell_type": "code",
   "execution_count": 22,
   "id": "78a2b28a",
   "metadata": {},
   "outputs": [],
   "source": [
    "#feature_list = numeric_candidateFeatures_list+['grade_binarized','home_ownership_binarized','verification_status_binarized','addr_state_binarized','cat_delinq_2yrs_binarized']\n",
    "feature_list = numeric_candidateFeatures_list"
   ]
  },
  {
   "cell_type": "code",
   "execution_count": 23,
   "id": "523ca9d5",
   "metadata": {},
   "outputs": [
    {
     "data": {
      "text/plain": [
       "['int_rate', 'term', 'loan_amnt', 'annual_inc']"
      ]
     },
     "execution_count": 23,
     "metadata": {},
     "output_type": "execute_result"
    }
   ],
   "source": [
    "feature_list"
   ]
  },
  {
   "cell_type": "code",
   "execution_count": 24,
   "id": "8ddf5937",
   "metadata": {},
   "outputs": [],
   "source": [
    "feature_Assembler = VectorAssembler(inputCols=feature_list,outputCol='features')"
   ]
  },
  {
   "cell_type": "code",
   "execution_count": 25,
   "id": "8cec69bb",
   "metadata": {},
   "outputs": [],
   "source": [
    "def ExtractFeatureImp(featureImp, dataset, featuresCol):\n",
    "    list_extract = []\n",
    "    for i in dataset.schema[featuresCol].metadata[\"ml_attr\"][\"attrs\"]:\n",
    "        list_extract = list_extract + dataset.schema[featuresCol].metadata[\"ml_attr\"][\"attrs\"][i]\n",
    "    varlist = pd.DataFrame(list_extract)\n",
    "    varlist['score'] = varlist['idx'].apply(lambda x: featureImp[x])\n",
    "    return(varlist.sort_values('score', ascending = False))"
   ]
  },
  {
   "cell_type": "markdown",
   "id": "3711f6f0",
   "metadata": {},
   "source": [
    "#### Algorithm: Decision Tree Classifier"
   ]
  },
  {
   "cell_type": "code",
   "execution_count": 26,
   "id": "80bd9cc4",
   "metadata": {},
   "outputs": [],
   "source": [
    "algo = DecisionTreeClassifier(featuresCol='features',labelCol='label')"
   ]
  },
  {
   "cell_type": "code",
   "execution_count": 27,
   "id": "fc755bba",
   "metadata": {},
   "outputs": [],
   "source": [
    "pipeline_transformation = Pipeline().setStages([cat_Indexer,cat_OneHot,feature_Assembler,label_Indexer,algo])"
   ]
  },
  {
   "cell_type": "code",
   "execution_count": 28,
   "id": "104944e0",
   "metadata": {},
   "outputs": [
    {
     "name": "stderr",
     "output_type": "stream",
     "text": [
      "                                                                                \r"
     ]
    }
   ],
   "source": [
    "model = pipeline_transformation.fit(training_df)"
   ]
  },
  {
   "cell_type": "code",
   "execution_count": 29,
   "id": "c379ce6b",
   "metadata": {},
   "outputs": [],
   "source": [
    "result_df = model.transform(testing_df)"
   ]
  },
  {
   "cell_type": "code",
   "execution_count": 30,
   "id": "3fc89dc0",
   "metadata": {},
   "outputs": [
    {
     "name": "stderr",
     "output_type": "stream",
     "text": [
      "                                                                                \r"
     ]
    },
    {
     "name": "stdout",
     "output_type": "stream",
     "text": [
      "+-----------+-----+----------+-----+\n",
      "|loan_status|label|prediction|count|\n",
      "+-----------+-----+----------+-----+\n",
      "|Charged Off|  1.0|       1.0|  334|\n",
      "|Charged Off|  1.0|       0.0|  142|\n",
      "+-----------+-----+----------+-----+\n",
      "\n"
     ]
    }
   ],
   "source": [
    "result_df.select('loan_status','label','prediction').filter(sparkf.col('label') == 1)\\\n",
    ".groupBy('loan_status','label','prediction').count().show()"
   ]
  },
  {
   "cell_type": "code",
   "execution_count": 31,
   "id": "9cf438a6",
   "metadata": {},
   "outputs": [
    {
     "name": "stderr",
     "output_type": "stream",
     "text": [
      "                                                                                \r"
     ]
    }
   ],
   "source": [
    "TP = result_df.select('loan_status','label','prediction')\\\n",
    ".filter((sparkf.col('label') == 1)&(sparkf.col('prediction') == 1))\\\n",
    ".groupBy('loan_status','label','prediction').count().take(1)[0]['count']"
   ]
  },
  {
   "cell_type": "code",
   "execution_count": 32,
   "id": "18a1aa1a",
   "metadata": {},
   "outputs": [
    {
     "name": "stderr",
     "output_type": "stream",
     "text": [
      "                                                                                \r"
     ]
    }
   ],
   "source": [
    "ALL_POSITIVE = result_df.select('loan_status','label','prediction').filter((sparkf.col('label') == 1)).count()"
   ]
  },
  {
   "cell_type": "code",
   "execution_count": 33,
   "id": "f79b8df3",
   "metadata": {},
   "outputs": [
    {
     "name": "stderr",
     "output_type": "stream",
     "text": [
      "                                                                                \r"
     ]
    }
   ],
   "source": [
    "ALL_NEGATIVE = result_df.select('loan_status','label','prediction').filter((sparkf.col('label') == 0)).count()"
   ]
  },
  {
   "cell_type": "code",
   "execution_count": 34,
   "id": "601a4af7",
   "metadata": {},
   "outputs": [
    {
     "data": {
      "text/plain": [
       "6716"
      ]
     },
     "execution_count": 34,
     "metadata": {},
     "output_type": "execute_result"
    }
   ],
   "source": [
    "ALL_POSITIVE+ALL_NEGATIVE"
   ]
  },
  {
   "cell_type": "code",
   "execution_count": 35,
   "id": "71382c8f",
   "metadata": {},
   "outputs": [
    {
     "name": "stderr",
     "output_type": "stream",
     "text": [
      "                                                                                \r"
     ]
    },
    {
     "data": {
      "text/plain": [
       "6716"
      ]
     },
     "execution_count": 35,
     "metadata": {},
     "output_type": "execute_result"
    }
   ],
   "source": [
    "result_df.count()"
   ]
  },
  {
   "cell_type": "code",
   "execution_count": 36,
   "id": "26fda199",
   "metadata": {},
   "outputs": [],
   "source": [
    "SENSITIVITY = TP/ALL_POSITIVE"
   ]
  },
  {
   "cell_type": "code",
   "execution_count": 37,
   "id": "f6baf1a2",
   "metadata": {},
   "outputs": [
    {
     "data": {
      "text/plain": [
       "0.7016806722689075"
      ]
     },
     "execution_count": 37,
     "metadata": {},
     "output_type": "execute_result"
    }
   ],
   "source": [
    "SENSITIVITY"
   ]
  },
  {
   "cell_type": "code",
   "execution_count": 38,
   "id": "d4a1f6a5",
   "metadata": {},
   "outputs": [
    {
     "name": "stderr",
     "output_type": "stream",
     "text": [
      "                                                                                \r"
     ]
    }
   ],
   "source": [
    "TN = result_df.select('loan_status','label','prediction')\\\n",
    ".filter((sparkf.col('label') == 0)&(sparkf.col('prediction') == 0))\\\n",
    ".groupBy('loan_status','label','prediction').count().take(1)[0]['count']"
   ]
  },
  {
   "cell_type": "code",
   "execution_count": 39,
   "id": "1baece64",
   "metadata": {},
   "outputs": [],
   "source": [
    "SPECIFICITY = TN/ALL_NEGATIVE"
   ]
  },
  {
   "cell_type": "code",
   "execution_count": 40,
   "id": "5356d96b",
   "metadata": {},
   "outputs": [
    {
     "data": {
      "text/plain": [
       "0.5376602564102564"
      ]
     },
     "execution_count": 40,
     "metadata": {},
     "output_type": "execute_result"
    }
   ],
   "source": [
    "SPECIFICITY"
   ]
  },
  {
   "cell_type": "code",
   "execution_count": null,
   "id": "66afe79b",
   "metadata": {},
   "outputs": [],
   "source": []
  },
  {
   "cell_type": "code",
   "execution_count": 41,
   "id": "919f7c4e",
   "metadata": {},
   "outputs": [],
   "source": [
    "import pandas as pd"
   ]
  },
  {
   "cell_type": "code",
   "execution_count": 42,
   "id": "77c9df21",
   "metadata": {},
   "outputs": [],
   "source": [
    "featureImportances = model.stages[4].featureImportances.toArray()"
   ]
  },
  {
   "cell_type": "code",
   "execution_count": 43,
   "id": "4ef442ef",
   "metadata": {},
   "outputs": [
    {
     "data": {
      "text/html": [
       "<div>\n",
       "<style scoped>\n",
       "    .dataframe tbody tr th:only-of-type {\n",
       "        vertical-align: middle;\n",
       "    }\n",
       "\n",
       "    .dataframe tbody tr th {\n",
       "        vertical-align: top;\n",
       "    }\n",
       "\n",
       "    .dataframe thead th {\n",
       "        text-align: right;\n",
       "    }\n",
       "</style>\n",
       "<table border=\"1\" class=\"dataframe\">\n",
       "  <thead>\n",
       "    <tr style=\"text-align: right;\">\n",
       "      <th></th>\n",
       "      <th>idx</th>\n",
       "      <th>name</th>\n",
       "      <th>score</th>\n",
       "    </tr>\n",
       "  </thead>\n",
       "  <tbody>\n",
       "    <tr>\n",
       "      <th>0</th>\n",
       "      <td>0</td>\n",
       "      <td>int_rate</td>\n",
       "      <td>0.977885</td>\n",
       "    </tr>\n",
       "    <tr>\n",
       "      <th>1</th>\n",
       "      <td>1</td>\n",
       "      <td>term</td>\n",
       "      <td>0.016704</td>\n",
       "    </tr>\n",
       "    <tr>\n",
       "      <th>2</th>\n",
       "      <td>2</td>\n",
       "      <td>loan_amnt</td>\n",
       "      <td>0.004788</td>\n",
       "    </tr>\n",
       "    <tr>\n",
       "      <th>3</th>\n",
       "      <td>3</td>\n",
       "      <td>annual_inc</td>\n",
       "      <td>0.000624</td>\n",
       "    </tr>\n",
       "  </tbody>\n",
       "</table>\n",
       "</div>"
      ],
      "text/plain": [
       "   idx        name     score\n",
       "0    0    int_rate  0.977885\n",
       "1    1        term  0.016704\n",
       "2    2   loan_amnt  0.004788\n",
       "3    3  annual_inc  0.000624"
      ]
     },
     "execution_count": 43,
     "metadata": {},
     "output_type": "execute_result"
    }
   ],
   "source": [
    "ExtractFeatureImp(featureImportances, result_df, \"features\").head(30)"
   ]
  },
  {
   "cell_type": "code",
   "execution_count": null,
   "id": "4d7e5204",
   "metadata": {},
   "outputs": [],
   "source": []
  },
  {
   "cell_type": "code",
   "execution_count": null,
   "id": "3dfd099e",
   "metadata": {},
   "outputs": [],
   "source": []
  },
  {
   "cell_type": "code",
   "execution_count": null,
   "id": "132bba2a",
   "metadata": {},
   "outputs": [],
   "source": []
  },
  {
   "cell_type": "code",
   "execution_count": null,
   "id": "c08d4757",
   "metadata": {},
   "outputs": [],
   "source": []
  },
  {
   "cell_type": "code",
   "execution_count": null,
   "id": "7c15d833",
   "metadata": {},
   "outputs": [],
   "source": []
  },
  {
   "cell_type": "code",
   "execution_count": null,
   "id": "958c926f",
   "metadata": {},
   "outputs": [],
   "source": []
  },
  {
   "cell_type": "code",
   "execution_count": null,
   "id": "f26d1dd9",
   "metadata": {},
   "outputs": [],
   "source": []
  }
 ],
 "metadata": {
  "kernelspec": {
   "display_name": "Python 3 (ipykernel)",
   "language": "python",
   "name": "python3"
  },
  "language_info": {
   "codemirror_mode": {
    "name": "ipython",
    "version": 3
   },
   "file_extension": ".py",
   "mimetype": "text/x-python",
   "name": "python",
   "nbconvert_exporter": "python",
   "pygments_lexer": "ipython3",
   "version": "3.9.2"
  }
 },
 "nbformat": 4,
 "nbformat_minor": 5
}
