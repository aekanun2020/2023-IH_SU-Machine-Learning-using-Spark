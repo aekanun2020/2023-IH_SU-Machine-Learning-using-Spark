{
 "cells": [
  {
   "cell_type": "code",
   "execution_count": 4,
   "id": "d01fca80",
   "metadata": {},
   "outputs": [
    {
     "name": "stderr",
     "output_type": "stream",
     "text": [
      "23/06/13 03:09:53 WARN NativeCodeLoader: Unable to load native-hadoop library for your platform... using builtin-java classes where applicable\n",
      "Using Spark's default log4j profile: org/apache/spark/log4j-defaults.properties\n",
      "Setting default log level to \"WARN\".\n",
      "To adjust logging level use sc.setLogLevel(newLevel). For SparkR, use setLogLevel(newLevel).\n"
     ]
    }
   ],
   "source": [
    "from pyspark.sql import SparkSession\n",
    "\n",
    "spark = SparkSession.\\\n",
    "    \tbuilder.\\\n",
    "    \tappName(\"lab 2\").\\\n",
    "    \tmaster(\"spark://spark-master:7077\").\\\n",
    "    \tconfig(\"spark.executor.memory\", \"1000m\").\\\n",
    "    \tconfig(\"spark.executor.cores\", \"1\").\\\n",
    "    \tconfig(\"spark.cores.max\", \"4\").\\\n",
    "    \tgetOrCreate()"
   ]
  },
  {
   "cell_type": "code",
   "execution_count": 6,
   "id": "b1498976",
   "metadata": {},
   "outputs": [
    {
     "data": {
      "text/html": [
       "\n",
       "            <div>\n",
       "                <p><b>SparkSession - in-memory</b></p>\n",
       "                \n",
       "        <div>\n",
       "            <p><b>SparkContext</b></p>\n",
       "\n",
       "            <p><a href=\"http://aa8ad65fa17f:4040\">Spark UI</a></p>\n",
       "\n",
       "            <dl>\n",
       "              <dt>Version</dt>\n",
       "                <dd><code>v3.0.0</code></dd>\n",
       "              <dt>Master</dt>\n",
       "                <dd><code>spark://spark-master:7077</code></dd>\n",
       "              <dt>AppName</dt>\n",
       "                <dd><code>lab 2</code></dd>\n",
       "            </dl>\n",
       "        </div>\n",
       "        \n",
       "            </div>\n",
       "        "
      ],
      "text/plain": [
       "<pyspark.sql.session.SparkSession at 0x7fa5fdcc2820>"
      ]
     },
     "execution_count": 6,
     "metadata": {},
     "output_type": "execute_result"
    }
   ],
   "source": [
    "spark"
   ]
  },
  {
   "cell_type": "code",
   "execution_count": 7,
   "id": "e7fb7c21",
   "metadata": {},
   "outputs": [
    {
     "name": "stderr",
     "output_type": "stream",
     "text": [
      "[Stage 2:===================>                                       (1 + 2) / 3]\r"
     ]
    },
    {
     "name": "stdout",
     "output_type": "stream",
     "text": [
      "+----+------+------+\n",
      "| age|gender|income|\n",
      "+----+------+------+\n",
      "|  10|      | 10000|\n",
      "|  20|Female| 30000|\n",
      "|null|  Male| 80000|\n",
      "|null|  Male|  5000|\n",
      "+----+------+------+\n",
      "\n"
     ]
    },
    {
     "name": "stderr",
     "output_type": "stream",
     "text": [
      "                                                                                \r"
     ]
    }
   ],
   "source": [
    "from pyspark.sql.functions import *\n",
    "\n",
    "# Define a dataset.\n",
    "\n",
    "df = spark.sparkContext.parallelize([\n",
    "    (10, '', 10000), (20, 'Female', 30000), (None, 'Male', 80000), (None, 'Male', 5000)\n",
    "]).toDF([\"age\", \"gender\", \"income\"])\n",
    "\n",
    "df.show()\n"
   ]
  },
  {
   "cell_type": "code",
   "execution_count": 8,
   "id": "d785f646",
   "metadata": {},
   "outputs": [
    {
     "name": "stderr",
     "output_type": "stream",
     "text": [
      "                                                                                \r"
     ]
    },
    {
     "name": "stdout",
     "output_type": "stream",
     "text": [
      "+----+------+------+\n",
      "| age|gender|income|\n",
      "+----+------+------+\n",
      "|  10|      | 10000|\n",
      "|  20|Female| 30000|\n",
      "|15.0|  Male| 80000|\n",
      "|15.0|  Male|  5000|\n",
      "+----+------+------+\n",
      "\n"
     ]
    },
    {
     "name": "stderr",
     "output_type": "stream",
     "text": [
      "                                                                                \r"
     ]
    }
   ],
   "source": [
    "# Treat Null Value (None) with Average one.\n",
    "\n",
    "avg_age = df.na.drop().agg(avg(\"age\")).collect()[0][0]\n",
    "\n",
    "sparkf_replaceNull = udf(lambda x: avg_age if x == None else x)\n",
    "\n",
    "no_null_df = df.withColumn('age', sparkf_replaceNull(col('age')))\n",
    "\n",
    "no_null_df.show()\n"
   ]
  },
  {
   "cell_type": "code",
   "execution_count": 10,
   "id": "0738ca9d",
   "metadata": {},
   "outputs": [
    {
     "data": {
      "text/plain": [
       "[Row(avg(age)=15.0)]"
      ]
     },
     "execution_count": 10,
     "metadata": {},
     "output_type": "execute_result"
    }
   ],
   "source": [
    "df.na.drop().agg(avg(\"age\")).collect()"
   ]
  },
  {
   "cell_type": "code",
   "execution_count": 13,
   "id": "bfba60cf",
   "metadata": {},
   "outputs": [
    {
     "data": {
      "text/plain": [
       "float"
      ]
     },
     "execution_count": 13,
     "metadata": {},
     "output_type": "execute_result"
    }
   ],
   "source": [
    "type(df.na.drop().agg(avg(\"age\")).collect()[0][0])"
   ]
  },
  {
   "cell_type": "code",
   "execution_count": 14,
   "id": "aeb61fa7",
   "metadata": {},
   "outputs": [
    {
     "data": {
      "text/plain": [
       "15.0"
      ]
     },
     "execution_count": 14,
     "metadata": {},
     "output_type": "execute_result"
    }
   ],
   "source": [
    "df.na.drop().agg(avg(\"age\")).collect()[0][0]"
   ]
  },
  {
   "cell_type": "code",
   "execution_count": 17,
   "id": "18addb7d",
   "metadata": {},
   "outputs": [
    {
     "name": "stdout",
     "output_type": "stream",
     "text": [
      "+----+------+------+\n",
      "| age|gender|income|\n",
      "+----+------+------+\n",
      "|10.0|      | 10000|\n",
      "|20.0|Female| 30000|\n",
      "|15.0|  Male| 80000|\n",
      "|15.0|  Male|  5000|\n",
      "+----+------+------+\n",
      "\n"
     ]
    }
   ],
   "source": [
    "df.withColumn('age',when(col('age').isNull(),avg_age).otherwise(col('age'))).show()"
   ]
  },
  {
   "cell_type": "code",
   "execution_count": 20,
   "id": "b07eb14a",
   "metadata": {},
   "outputs": [
    {
     "name": "stdout",
     "output_type": "stream",
     "text": [
      "+----+------+------+-----------+\n",
      "| age|gender|income| new_gender|\n",
      "+----+------+------+-----------+\n",
      "|  10|      | 10000|Male_Assume|\n",
      "|  20|Female| 30000|     Female|\n",
      "|null|  Male| 80000|       Male|\n",
      "|null|  Male|  5000|       Male|\n",
      "+----+------+------+-----------+\n",
      "\n"
     ]
    }
   ],
   "source": [
    "df.withColumn('new_gender',when(col('gender')=='','Male_Assume').otherwise(col('gender'))).show()"
   ]
  },
  {
   "cell_type": "code",
   "execution_count": 19,
   "id": "f0d799be",
   "metadata": {},
   "outputs": [
    {
     "name": "stdout",
     "output_type": "stream",
     "text": [
      "+----+------+------+-----------+\n",
      "| age|gender|income| new_gender|\n",
      "+----+------+------+-----------+\n",
      "|  10|      | 10000|Male_Assume|\n",
      "|  20|Female| 30000|     Female|\n",
      "|15.0|  Male| 80000|       Male|\n",
      "|15.0|  Male|  5000|       Male|\n",
      "+----+------+------+-----------+\n",
      "\n"
     ]
    },
    {
     "name": "stderr",
     "output_type": "stream",
     "text": [
      "                                                                                \r"
     ]
    }
   ],
   "source": [
    "# Treat Missing Value with Defined Values.\n",
    "\n",
    "from pyspark.sql.functions import *\n",
    "\n",
    "treat_missing = udf(lambda x: \"Male_Assume\" if x == \"\" else x)\n",
    "\n",
    "no_missing_df = no_null_df.withColumn('new_gender',treat_missing(no_null_df.gender))\n",
    "\n",
    "no_missing_df.show()\n"
   ]
  },
  {
   "cell_type": "code",
   "execution_count": null,
   "id": "60e09636",
   "metadata": {},
   "outputs": [],
   "source": []
  }
 ],
 "metadata": {
  "kernelspec": {
   "display_name": "Python 3 (ipykernel)",
   "language": "python",
   "name": "python3"
  },
  "language_info": {
   "codemirror_mode": {
    "name": "ipython",
    "version": 3
   },
   "file_extension": ".py",
   "mimetype": "text/x-python",
   "name": "python",
   "nbconvert_exporter": "python",
   "pygments_lexer": "ipython3",
   "version": "3.9.2"
  }
 },
 "nbformat": 4,
 "nbformat_minor": 5
}
