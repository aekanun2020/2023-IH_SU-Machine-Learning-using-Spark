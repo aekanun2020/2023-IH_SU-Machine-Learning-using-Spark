{
 "cells": [
  {
   "cell_type": "markdown",
   "id": "e7fcf6dc",
   "metadata": {},
   "source": [
    "# Logistic Regression โดยใช้ ChatGPT ช่วยเขียนโค้ด https://chat.openai.com/share/9848fbef-20c1-4743-be8d-04b442446d54"
   ]
  },
  {
   "cell_type": "code",
   "execution_count": null,
   "id": "42e583c0",
   "metadata": {},
   "outputs": [],
   "source": []
  },
  {
   "cell_type": "code",
   "execution_count": 1,
   "id": "0cf98486",
   "metadata": {},
   "outputs": [
    {
     "name": "stderr",
     "output_type": "stream",
     "text": [
      "23/06/12 14:26:48 WARN NativeCodeLoader: Unable to load native-hadoop library for your platform... using builtin-java classes where applicable\n",
      "Using Spark's default log4j profile: org/apache/spark/log4j-defaults.properties\n",
      "Setting default log level to \"WARN\".\n",
      "To adjust logging level use sc.setLogLevel(newLevel). For SparkR, use setLogLevel(newLevel).\n"
     ]
    }
   ],
   "source": [
    "# ปรับแต่งค่าการทำงานของ Spark\n",
    "from pyspark.sql import SparkSession\n",
    "\n",
    "spark = SparkSession.\\\n",
    "        builder.\\\n",
    "        appName(\"ChiSqSelector:Gender vs. Route\").\\\n",
    "        master(\"spark://spark-master:7077\").\\\n",
    "        config(\"spark.executor.memory\", \"1000m\").\\\n",
    "        config(\"spark.executor.cores\", \"2\").\\\n",
    "        config(\"spark.cores.max\", \"6\").\\\n",
    "        getOrCreate()"
   ]
  },
  {
   "cell_type": "code",
   "execution_count": 2,
   "id": "b1f8777d",
   "metadata": {},
   "outputs": [],
   "source": [
    "# กำหนดตัวแปร\n",
    "\n",
    "HIGHDISPERSION_LIST= [] #เก็บชื่อคอลัมน์\n",
    "HIGHNULL_LIST = [] #เก็บชื่อคอลัมน์\n",
    "NULL_LIST = [] #เก็บชื่อคอลัมน์\n",
    "NULL_PERC = 0.1 #สูงกว่าค่านี้ เป็น High Null ซึ่งอาจใช้วิธีลบทั้ง row ที่มี null ไม่ได้ เพราะอาจทำให้สูญเสียทั้ง row ไปเยอะเกินควร\n",
    "DISPERSION_PERC = 100 #สูงกว่าค่านี้ (%) เป็น High Dispersion"
   ]
  },
  {
   "cell_type": "code",
   "execution_count": 3,
   "id": "d84ba7f5",
   "metadata": {},
   "outputs": [],
   "source": [
    "from pyspark.sql import functions as sparkf\n",
    "from pyspark.sql.types import *"
   ]
  },
  {
   "cell_type": "code",
   "execution_count": 4,
   "id": "056cfe8a",
   "metadata": {},
   "outputs": [],
   "source": [
    "#! pip install scipy"
   ]
  },
  {
   "cell_type": "code",
   "execution_count": 5,
   "id": "29bef466",
   "metadata": {},
   "outputs": [],
   "source": [
    "# เรียกใช้ Module/Library ของ Python\n",
    "\n",
    "import numpy as np\n",
    "import scipy as sp\n",
    "import pandas as pd\n",
    "import matplotlib as mpl\n",
    "import matplotlib.pyplot as plt\n",
    "import seaborn as sns\n",
    "\n",
    "# Pandas options\n",
    "pd.set_option('display.max_colwidth', 1000, 'display.max_rows', None, 'display.max_columns', None)\n",
    "\n",
    "# Plotting options\n",
    "%matplotlib inline\n",
    "mpl.style.use('ggplot')\n",
    "sns.set(style='whitegrid')\n",
    "\n",
    "import warnings\n",
    "warnings.filterwarnings(\"ignore\")"
   ]
  },
  {
   "cell_type": "code",
   "execution_count": 6,
   "id": "8979648e",
   "metadata": {},
   "outputs": [],
   "source": [
    "# ประกาศฟังก์ชั่นที่ใช้ทำ Histogram กับ Boxplot เพื่อวิเคราะห์ distribution (shape), outlier และความสัมพันธ์ (correlation)\n",
    "\n",
    "def plot_var(arg_df, col_name, full_name, continuous):\n",
    "    \"\"\"\n",
    "    Visualize a variable with and without faceting on the loan status.\n",
    "    - col_name is the variable name in the dataframe\n",
    "    - full_name is the full variable name\n",
    "    - continuous is True if the variable is continuous, False otherwise\n",
    "    \"\"\"\n",
    "    f, (ax1, ax2) = plt.subplots(nrows=1, ncols=2, figsize=(12,3), dpi=90)\n",
    "    \n",
    "    # Plot without loan status\n",
    "    if continuous:\n",
    "        sns.distplot(arg_df.loc[arg_df[col_name].notnull(), col_name], kde=False, ax=ax1)\n",
    "    else:\n",
    "        sns.countplot(x=arg_df[col_name], order=sorted(arg_df[col_name].unique()), color='#5975A4', saturation=1, ax=ax1)\n",
    "    ax1.set_xlabel(full_name)\n",
    "    ax1.set_ylabel('Count')\n",
    "    ax1.set_title(full_name)\n",
    "\n",
    "    # Plot with loan status\n",
    "    if continuous:\n",
    "        sns.boxplot(x=col_name, y='loan_status', data=arg_df, ax=ax2)\n",
    "        ax2.set_ylabel('')\n",
    "        ax2.set_title(full_name + ' by Loan Status')\n",
    "    else:\n",
    "        charge_off_rates = arg_df.groupby(col_name)['loan_status'].value_counts(normalize=True).loc[:,'Charged Off']\n",
    "        sns.barplot(x=charge_off_rates.index, y=charge_off_rates.values, color='#5975A4', saturation=1, ax=ax2)\n",
    "        ax2.set_ylabel('Fraction of arg_df Charged-off')\n",
    "        ax2.set_title('Charge-off Rate by ' + full_name)\n",
    "    ax2.set_xlabel(full_name)\n",
    "    \n",
    "    plt.tight_layout()\n",
    "\n"
   ]
  },
  {
   "cell_type": "markdown",
   "id": "d383e451",
   "metadata": {},
   "source": [
    "## 1. Business Understaing\n",
    "    \n",
    "    1.1 Problem Statement: ต้องการทราบว่า ลูกหนี้แต่ละรายจะมาจ่ายหนี้ครบตามสัญญาเงินกู้ (Fully-paid) หรือไม่มาจ่ายฯ (Charged-off)\n",
    "    1.2 Project Objective: การจัดเก็บหนี้ดีขึ้นช่วยเพิ่มรายได้ให้กับกิจการ\n",
    "    1.3 Task of Data Science: Binary Classification\n",
    "    1.4 Cleansing Policy: ธุรกิจมี columns ที่แนะนำว่ามีความสัมพันธ์/ส่งผลต่อการชำระหนี้คืนตามสัญญา, ลบได้ทั้ง row หากมี missing ใน columns และแทนที่ได้ตามความเหมาะสม\n",
    "    1.5 Success Criteria: มี Recall/Sensitivity ไม่น้อยกว่า 0.65 บน Testing set แบบ Hold-out"
   ]
  },
  {
   "cell_type": "markdown",
   "id": "8a51adf7",
   "metadata": {},
   "source": [
    "## 2. Data Understanding\n",
    "    \n",
    "    - มี Label เป็น column: loan_status\n",
    "    - มีขนาดใหญ่ (volume)เกินกว่าเทคโนโลยีปัจจุบัน (Python) จะทำงานได้อย่างมีประสิทธิภาพ จึงต้องใช้ Spark ร่วมด้วย\n",
    "    - CSV เป็น semi-structural data ที่มี header ซึ่งสามารถนำไปพัฒนาเป็น schema ของ structural data (Spark DataFrame) ได้\n",
    "    - Data Dict.: https://docs.google.com/spreadsheets/d/1qtZBSJ-JS7S2tGC0W9Yxp992LmrDaAwGcJB419Htbbw/edit#gid=1163295822"
   ]
  },
  {
   "cell_type": "code",
   "execution_count": 7,
   "id": "06205d35",
   "metadata": {},
   "outputs": [],
   "source": [
    "#กำหนด columns ที่ธุรกิจให้คำแนะนำฯ ไว้\n",
    "\n",
    "businessAttrs_df = [\"loan_amnt\",\"term\",\"int_rate\"\\\n",
    "                                ,\"installment\",\"grade\",\"emp_length\",\\\n",
    "                           \"home_ownership\",\"annual_inc\"\\\n",
    "                                ,\"verification_status\",\"loan_status\",\\\n",
    "                           \"purpose\",\"addr_state\",\"dti\",\"delinq_2yrs\"\\\n",
    "                                ,\"earliest_cr_line\",\\\n",
    "                           \"open_acc\",\"pub_rec\"\\\n",
    "                                ,\"revol_bal\",\"revol_util\",\"total_acc\",\"issue_d\"]"
   ]
  },
  {
   "cell_type": "raw",
   "id": "2ba9695d",
   "metadata": {},
   "source": [
    "! apt-get update\n",
    "! apt-get install wget -y"
   ]
  },
  {
   "cell_type": "raw",
   "id": "a2be36f6",
   "metadata": {},
   "source": [
    "! wget https://storage.googleapis.com/4jun2023/LoanStats_web.csv"
   ]
  },
  {
   "cell_type": "code",
   "execution_count": 8,
   "id": "9431b48b",
   "metadata": {},
   "outputs": [
    {
     "name": "stdout",
     "output_type": "stream",
     "text": [
      "1432493 LoanStats_web.csv\n"
     ]
    }
   ],
   "source": [
    "! wc -l LoanStats_web.csv"
   ]
  },
  {
   "cell_type": "code",
   "execution_count": 9,
   "id": "80566dfc",
   "metadata": {},
   "outputs": [
    {
     "name": "stdout",
     "output_type": "stream",
     "text": [
      "\"id\",\"member_id\",\"loan_amnt\",\"funded_amnt\",\"funded_amnt_inv\",\"term\",\"int_rate\",\"installment\",\"grade\",\"sub_grade\",\"emp_title\",\"emp_length\",\"home_ownership\",\"annual_inc\",\"verification_status\",\"issue_d\",\"loan_status\",\"pymnt_plan\",\"url\",\"desc\",\"purpose\",\"title\",\"zip_code\",\"addr_state\",\"dti\",\"delinq_2yrs\",\"earliest_cr_line\",\"inq_last_6mths\",\"mths_since_last_delinq\",\"mths_since_last_record\",\"open_acc\",\"pub_rec\",\"revol_bal\",\"revol_util\",\"total_acc\",\"initial_list_status\",\"out_prncp\",\"out_prncp_inv\",\"total_pymnt\",\"total_pymnt_inv\",\"total_rec_prncp\",\"total_rec_int\",\"total_rec_late_fee\",\"recoveries\",\"collection_recovery_fee\",\"last_pymnt_d\",\"last_pymnt_amnt\",\"next_pymnt_d\",\"last_credit_pull_d\",\"collections_12_mths_ex_med\",\"mths_since_last_major_derog\",\"policy_code\",\"application_type\",\"annual_inc_joint\",\"dti_joint\",\"verification_status_joint\",\"acc_now_delinq\",\"tot_coll_amt\",\"tot_cur_bal\",\"open_acc_6m\",\"open_act_il\",\"open_il_12m\",\"open_il_24m\",\"mths_since_rcnt_il\",\"total_bal_il\",\"il_util\",\"open_rv_12m\",\"open_rv_24m\",\"max_bal_bc\",\"all_util\",\"total_rev_hi_lim\",\"inq_fi\",\"total_cu_tl\",\"inq_last_12m\",\"acc_open_past_24mths\",\"avg_cur_bal\",\"bc_open_to_buy\",\"bc_util\",\"chargeoff_within_12_mths\",\"delinq_amnt\",\"mo_sin_old_il_acct\",\"mo_sin_old_rev_tl_op\",\"mo_sin_rcnt_rev_tl_op\",\"mo_sin_rcnt_tl\",\"mort_acc\",\"mths_since_recent_bc\",\"mths_since_recent_bc_dlq\",\"mths_since_recent_inq\",\"mths_since_recent_revol_delinq\",\"num_accts_ever_120_pd\",\"num_actv_bc_tl\",\"num_actv_rev_tl\",\"num_bc_sats\",\"num_bc_tl\",\"num_il_tl\",\"num_op_rev_tl\",\"num_rev_accts\",\"num_rev_tl_bal_gt_0\",\"num_sats\",\"num_tl_120dpd_2m\",\"num_tl_30dpd\",\"num_tl_90g_dpd_24m\",\"num_tl_op_past_12m\",\"pct_tl_nvr_dlq\",\"percent_bc_gt_75\",\"pub_rec_bankruptcies\",\"tax_liens\",\"tot_hi_cred_lim\",\"total_bal_ex_mort\",\"total_bc_limit\",\"total_il_high_credit_limit\",\"revol_bal_joint\",\"sec_app_earliest_cr_line\",\"sec_app_inq_last_6mths\",\"sec_app_mort_acc\",\"sec_app_open_acc\",\"sec_app_revol_util\",\"sec_app_open_act_il\",\"sec_app_num_rev_accts\",\"sec_app_chargeoff_within_12_mths\",\"sec_app_collections_12_mths_ex_med\",\"sec_app_mths_since_last_major_derog\",\"hardship_flag\",\"hardship_type\",\"hardship_reason\",\"hardship_status\",\"deferral_term\",\"hardship_amount\",\"hardship_start_date\",\"hardship_end_date\",\"payment_plan_start_date\",\"hardship_length\",\"hardship_dpd\",\"hardship_loan_status\",\"orig_projected_additional_accrued_interest\",\"hardship_payoff_balance_amount\",\"hardship_last_payment_amount\",\"debt_settlement_flag\",\"debt_settlement_flag_date\",\"settlement_status\",\"settlement_date\",\"settlement_amount\",\"settlement_percentage\",\"settlement_term\"\n",
      "\"\",\"\",\"12800\",\"12800\",\"12800\",\" 36 months\",\" 11.99%\",\"425.09\",\"C\",\"C1\",\"LOGISTICS COORDINATOR\",\"6 years\",\"MORTGAGE\",\"53000\",\"Verified\",\"Mar-2016\",\"Fully Paid\",\"n\",\"\",\"\",\"credit_card\",\"Credit card refinancing\",\"330xx\",\"FL\",\"20.99\",\"0\",\"Mar-2002\",\"0\",\"\",\"59\",\"7\",\"1\",\"8777\",\"79.1%\",\"16\",\"w\",\"0.00\",\"0.00\",\"15289.8112319621\",\"15289.81\",\"12800.00\",\"2489.81\",\"0.0\",\"0.0\",\"0.0\",\"Apr-2019\",\"424.75\",\"\",\"Mar-2019\",\"0\",\"\",\"1\",\"Individual\",\"\",\"\",\"\",\"0\",\"0\",\"221036\",\"2\",\"2\",\"1\",\"1\",\"9\",\"23227\",\"68\",\"1\",\"1\",\"3381\",\"71\",\"11100\",\"1\",\"0\",\"2\",\"3\",\"31577\",\"962\",\"87.8\",\"0\",\"0\",\"124\",\"168\",\"4\",\"4\",\"1\",\"43\",\"\",\"7\",\"\",\"0\",\"3\",\"4\",\"3\",\"4\",\"7\",\"4\",\"8\",\"4\",\"7\",\"0\",\"0\",\"0\",\"3\",\"100\",\"100\",\"1\",\"0\",\"235600\",\"32004\",\"7900\",\"34024\",\"\",\"\",\"\",\"\",\"\",\"\",\"\",\"\",\"\",\"\",\"\",\"N\",\"\",\"\",\"\",\"\",\"\",\"\",\"\",\"\",\"\",\"\",\"\",\"\",\"\",\"\",\"N\",\"\",\"\",\"\",\"\",\"\",\"\"\n",
      "\"\",\"\",\"9000\",\"9000\",\"9000\",\" 36 months\",\" 15.31%\",\"313.36\",\"C\",\"C5\",\"Senior Case Assistant\",\"9 years\",\"RENT\",\"52000\",\"Source Verified\",\"Mar-2016\",\"Fully Paid\",\"n\",\"\",\"\",\"debt_consolidation\",\"Debt consolidation\",\"945xx\",\"CA\",\"18.86\",\"0\",\"Nov-1999\",\"0\",\"24\",\"\",\"6\",\"0\",\"11713\",\"73.7%\",\"13\",\"w\",\"0.00\",\"0.00\",\"10193.6517427984\",\"10193.65\",\"9000.00\",\"1193.65\",\"0.0\",\"0.0\",\"0.0\",\"Mar-2017\",\"7064.14\",\"\",\"Jul-2019\",\"0\",\"\",\"1\",\"Individual\",\"\",\"\",\"\",\"0\",\"0\",\"52953\",\"2\",\"1\",\"1\",\"1\",\"4\",\"41240\",\"\",\"3\",\"3\",\"3789\",\"74\",\"15900\",\"0\",\"1\",\"2\",\"4\",\"8826\",\"4187\",\"73.7\",\"0\",\"0\",\"125\",\"196\",\"1\",\"1\",\"0\",\"1\",\"\",\"4\",\"\",\"0\",\"5\",\"5\",\"5\",\"9\",\"3\",\"5\",\"10\",\"5\",\"6\",\"0\",\"0\",\"0\",\"4\",\"92.3\",\"80\",\"0\",\"0\",\"58425\",\"52953\",\"15900\",\"42525\",\"\",\"\",\"\",\"\",\"\",\"\",\"\",\"\",\"\",\"\",\"\",\"N\",\"\",\"\",\"\",\"\",\"\",\"\",\"\",\"\",\"\",\"\",\"\",\"\",\"\",\"\",\"N\",\"\",\"\",\"\",\"\",\"\",\"\"\n"
     ]
    }
   ],
   "source": [
    "! head -3 LoanStats_web.csv"
   ]
  },
  {
   "cell_type": "code",
   "execution_count": 10,
   "id": "20420483",
   "metadata": {},
   "outputs": [
    {
     "name": "stderr",
     "output_type": "stream",
     "text": [
      "                                                                                \r"
     ]
    }
   ],
   "source": [
    "# Spark อ่านข้อมูลจาก .csv แล้ว convert เป็น DataFrame\n",
    "\n",
    "raw_df = spark.read.option('header',True)\\\n",
    ".option(\"quote\", \"\\\"\")\\\n",
    ".option('mode','DROPMALFORMED')\\\n",
    ".option('inferSchema',True)\\\n",
    ".csv('LoanStats_web.csv')\\\n",
    ".select(businessAttrs_df)"
   ]
  },
  {
   "cell_type": "code",
   "execution_count": 11,
   "id": "f0325e40",
   "metadata": {},
   "outputs": [
    {
     "name": "stderr",
     "output_type": "stream",
     "text": [
      "23/06/12 14:27:24 WARN package: Truncated the string representation of a plan since it was too large. This behavior can be adjusted by setting 'spark.sql.debug.maxToStringFields'.\n",
      "                                                                                \r"
     ]
    },
    {
     "data": {
      "text/plain": [
       "1432466"
      ]
     },
     "execution_count": 11,
     "metadata": {},
     "output_type": "execute_result"
    }
   ],
   "source": [
    "# Spark นับจำนวน row ใน DataFrame\n",
    "\n",
    "raw_df.count()"
   ]
  },
  {
   "cell_type": "code",
   "execution_count": 12,
   "id": "6c7960cb",
   "metadata": {},
   "outputs": [
    {
     "name": "stdout",
     "output_type": "stream",
     "text": [
      "root\n",
      " |-- loan_amnt: integer (nullable = true)\n",
      " |-- term: string (nullable = true)\n",
      " |-- int_rate: string (nullable = true)\n",
      " |-- installment: double (nullable = true)\n",
      " |-- grade: string (nullable = true)\n",
      " |-- emp_length: string (nullable = true)\n",
      " |-- home_ownership: string (nullable = true)\n",
      " |-- annual_inc: double (nullable = true)\n",
      " |-- verification_status: string (nullable = true)\n",
      " |-- loan_status: string (nullable = true)\n",
      " |-- purpose: string (nullable = true)\n",
      " |-- addr_state: string (nullable = true)\n",
      " |-- dti: string (nullable = true)\n",
      " |-- delinq_2yrs: string (nullable = true)\n",
      " |-- earliest_cr_line: string (nullable = true)\n",
      " |-- open_acc: integer (nullable = true)\n",
      " |-- pub_rec: integer (nullable = true)\n",
      " |-- revol_bal: integer (nullable = true)\n",
      " |-- revol_util: string (nullable = true)\n",
      " |-- total_acc: integer (nullable = true)\n",
      " |-- issue_d: string (nullable = true)\n",
      "\n"
     ]
    }
   ],
   "source": [
    "raw_df.printSchema()"
   ]
  },
  {
   "cell_type": "code",
   "execution_count": 13,
   "id": "298415c5",
   "metadata": {},
   "outputs": [
    {
     "name": "stderr",
     "output_type": "stream",
     "text": [
      "23/06/12 14:27:51 WARN BLAS: Failed to load implementation from: com.github.fommil.netlib.NativeSystemBLAS\n",
      "23/06/12 14:27:51 WARN BLAS: Failed to load implementation from: com.github.fommil.netlib.NativeRefBLAS\n",
      "                                                                                \r"
     ]
    },
    {
     "name": "stdout",
     "output_type": "stream",
     "text": [
      "Coefficient Matrix:\n",
      " DenseMatrix([[-8.39450260e-08],\n",
      "             [-2.23305203e-05],\n",
      "             [-3.58586062e-06],\n",
      "             [ 8.03578216e-06],\n",
      "             [ 1.21715836e-05],\n",
      "             [ 5.36224449e-06],\n",
      "             [ 4.30715689e-07]])\n",
      "Intercept:\n",
      " [3.600480184986742,3.6962485055588017,2.095058836467167,-0.1568018748944109,-1.0896159039396072,-1.6075993173585088,-6.537770430820183]\n",
      "For 'Current', increasing the loan_amnt by 1 unit changes the log-odds by -8.394502603476724e-08 and the baseline log-odds is 3.600480184986742\n",
      "For 'Fully Paid', increasing the loan_amnt by 1 unit changes the log-odds by -2.233052025496855e-05 and the baseline log-odds is 3.6962485055588017\n",
      "For 'Charged Off', increasing the loan_amnt by 1 unit changes the log-odds by -3.585860621990128e-06 and the baseline log-odds is 2.095058836467167\n",
      "For 'Late (31-120 days)', increasing the loan_amnt by 1 unit changes the log-odds by 8.035782163707356e-06 and the baseline log-odds is -0.1568018748944109\n",
      "For 'In Grace Period', increasing the loan_amnt by 1 unit changes the log-odds by 1.2171583560529529e-05 and the baseline log-odds is -1.0896159039396072\n",
      "For 'Late (16-30 days)', increasing the loan_amnt by 1 unit changes the log-odds by 5.3622444892672076e-06 and the baseline log-odds is -1.6075993173585088\n",
      "For 'Default', increasing the loan_amnt by 1 unit changes the log-odds by 4.307156894893523e-07 and the baseline log-odds is -6.537770430820183\n"
     ]
    }
   ],
   "source": [
    "from pyspark.sql import SparkSession\n",
    "from pyspark.ml.feature import VectorAssembler, StringIndexer\n",
    "from pyspark.ml.classification import LogisticRegression\n",
    "from pyspark.ml import Pipeline\n",
    "\n",
    "df = raw_df.select('loan_amnt','loan_status').dropna()\n",
    "\n",
    "# สร้าง StringIndexer สำหรับ loan_status\n",
    "indexer = StringIndexer(inputCol=\"loan_status\", outputCol=\"loan_status_index\")\n",
    "\n",
    "# กำหนดคอลัมน์คุณลักษณะ (features) และคอลัมน์ label\n",
    "feature_cols = [\"loan_amnt\"]\n",
    "label_col = 'loan_status_index'\n",
    "\n",
    "# สร้าง VectorAssembler เพื่อเตรียม features สำหรับโมเดล\n",
    "assembler = VectorAssembler(inputCols=feature_cols, outputCol='features')\n",
    "\n",
    "# สร้าง Logistic Regression Model\n",
    "lr = LogisticRegression(featuresCol='features', labelCol=label_col)\n",
    "\n",
    "# สร้าง Pipeline\n",
    "pipeline = Pipeline(stages=[indexer, assembler, lr])\n",
    "\n",
    "# ฝึกโมเดลด้วยข้อมูล\n",
    "model = pipeline.fit(df)\n",
    "\n",
    "# แสดงค่าสัมประสิทธิ์และจุดตัดแกน\n",
    "print(\"Coefficient Matrix:\\n\", model.stages[-1].coefficientMatrix)\n",
    "print(\"Intercept:\\n\", model.stages[-1].interceptVector)\n",
    "\n",
    "# ตีความผลลัพธ์\n",
    "indexerModel = model.stages[0]\n",
    "labels = indexerModel.labels\n",
    "for i, label in enumerate(labels):\n",
    "    print(f\"For '{label}', increasing the loan_amnt by 1 unit changes the log-odds by {model.stages[-1].coefficientMatrix[i,0]} and the baseline log-odds is {model.stages[-1].interceptVector[i]}\")\n"
   ]
  },
  {
   "cell_type": "raw",
   "id": "2563ce58",
   "metadata": {},
   "source": [
    "ราได้ตีความและสรุปผลลัพธ์ดังนี้:\n",
    "\n",
    "สำหรับสถานะ 'Current' การเพิ่ม loan_amnt 1 หน่วยจะเปลี่ยนแปลง log-odds ลบลงเป็น -8.39e-08 และจุดเริ่มต้นของ log-odds คือ 3.60\n",
    "สำหรับสถานะ 'Fully Paid' การเพิ่ม loan_amnt 1 หน่วยจะเปลี่ยนแปลง log-odds ลบลงเป็น -2.23e-05 และจุดเริ่มต้นของ log-odds คือ 3.69\n",
    "สำหรับสถานะ 'Charged Off' การเพิ่ม loan_amnt 1 หน่วยจะเปลี่ยนแปลง log-odds ลบลงเป็น -3.59e-06 และจุดเริ่มต้นของ log-odds คือ 2.10\n",
    "สำหรับสถานะ 'Late (31-120 days)' การเพิ่ม loan_amnt 1 หน่วยจะเปลี่ยนแปลง log-odds เพิ่มขึ้นเป็น 8.04e-06 และจุดเริ่มต้นของ log-odds คือ -0.16\n",
    "สำหรับสถานะ 'In Grace Period' การเพิ่ม loan_amnt 1 หน่วยจะเปลี่ยนแปลง log-odds เพิ่มขึ้นเป็น 1.22e-05 และจุดเริ่มต้นของ log-odds คือ -1.09\n",
    "สำหรับสถานะ 'Late (16-30 days)' การเพิ่ม loan_amnt 1 หน่วยจะเปลี่ยนแปลง log-odds เพิ่มขึ้นเป็น 5.36e-06 และจุดเริ่มต้นของ log-odds คือ -1.61\n",
    "สำหรับสถานะ 'Default' การเพิ่ม loan_amnt 1 หน่วยจะเปลี่ยนแปลง log-odds เพิ่มขึ้นเป็น 4.31e-07 และจุดเริ่มต้นของ log-odds คือ -6.54\n",
    "จากผลลัพธ์ดังกล่าว เราสามารถสรุปว่า มีความสัมพันธ์ระหว่าง loan_amnt และสถานะของสินเชื่อ คือ ถ้า loan_amnt เพิ่มขึ้น สถานะของสินเชื่อมีโอกาสเป็น 'Current' หรือ 'Fully Paid' ลดลง แต่โอกาสที่จะเป็น 'Late' หรือ 'Default' จะเพิ่มขึ้น อย่างไรก็ตาม ความสัมพันธ์นี้ไม่แรงมาก และควรใช้ข้อมูลนี้ในการทำนายด้วยความระมัดระวัง สถานะ 'Default' แม้จะมีโอกาสเพิ่มขึ้นเมื่อ loan_amnt เพิ่มขึ้น แต่ความเปลี่ยนแปลงค่อนข้างเล็กเมื่อเทียบกับสถานะอื่น ๆ."
   ]
  }
 ],
 "metadata": {
  "kernelspec": {
   "display_name": "Python 3 (ipykernel)",
   "language": "python",
   "name": "python3"
  },
  "language_info": {
   "codemirror_mode": {
    "name": "ipython",
    "version": 3
   },
   "file_extension": ".py",
   "mimetype": "text/x-python",
   "name": "python",
   "nbconvert_exporter": "python",
   "pygments_lexer": "ipython3",
   "version": "3.9.2"
  }
 },
 "nbformat": 4,
 "nbformat_minor": 5
}
