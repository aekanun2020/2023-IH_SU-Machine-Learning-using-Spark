{
 "cells": [
  {
   "cell_type": "markdown",
   "id": "f09244a6",
   "metadata": {},
   "source": [
    "# การทำ t-test - ตัวอย่างโค้ดและคำอธิบายจาก ChatGPT: https://chat.openai.com/share/2c4ac2a4-86f1-414a-8fb1-2bc1d88294e2"
   ]
  },
  {
   "cell_type": "code",
   "execution_count": null,
   "id": "c48c35df",
   "metadata": {},
   "outputs": [],
   "source": []
  },
  {
   "cell_type": "raw",
   "id": "e7054de1",
   "metadata": {},
   "source": [
    "\"การทดสอบ t สำหรับสองตัวอย่างอิสระ (independent t-test)\" ซึ่งเป็นวิธีการทางสถิติที่ใช้ในการทดสอบว่าความแตกต่างระหว่างค่าเฉลี่ยของสองกลุ่มมีนัยสำคัญทางสถิติหรือไม่ โดยอาศัยค่า t-statistic และ p-value เพื่อใช้ในการตัดสินใจทางสถิติ\n",
    "\n",
    "    t-statistic: เป็นตัวเลขที่ใช้แสดงถึงความแตกต่างระหว่างค่าเฉลี่ยของสองกลุ่มที่นำมาเปรียบเทียบ โดยปรับขนาดของความแตกต่างด้วยการแจกแจงของความคลาดเคลื่อนของค่าเฉลี่ย ถ้าค่า t-statistic มาก หมายความว่าความแตกต่างระหว่างค่าเฉลี่ยของสองกลุ่มมาก และสามารถถือว่ามีนัยสำคัญทางสถิติ\n",
    "\n",
    "    p-value: เป็นค่าที่ใช้บ่งบอกถึงความน่าจะเป็นที่ความแตกต่างระหว่างค่าเฉลี่ยของสองกลุ่มที่เราเห็นนั้นจะเกิดขึ้นโดยบังเอิญ ถ้า p-value น้อย (เช่น น้อยกว่า 0.05) ถือว่าความแตกต่างที่เราเห็นมีนัยสำคัญทางสถิติ\n",
    "\n"
   ]
  },
  {
   "cell_type": "raw",
   "id": "df570b29",
   "metadata": {},
   "source": [
    "t-test ทำหน้าที่ทดสอบความแตกต่างของค่าเฉลี่ย (mean) ระหว่างสองกลุ่ม (ที่สามารถแบ่งจากตัวแปรแบบ categorical) ของตัวแปรที่เป็น continuous.\n",
    "\n",
    "การใช้ t-test จะสามารถทำให้เราสรุปได้ว่า ค่าเฉลี่ยของตัวแปร continuous ในกลุ่มที่หนึ่ง มีความแตกต่างจากกลุ่มที่สองอย่างมีนัยสำคัญทางสถิติหรือไม่. ถ้าค่า p-value ที่ได้จาก t-test น้อยกว่า 0.05 (ที่ถือว่าเป็นเกณฑ์ทั่วไป) ก็จะถือว่าค่าเฉลี่ยของตัวแปร continuous ในสองกลุ่มนั้นแตกต่างกันอย่างมีนัยสำคัญทางสถิติ.\n",
    "\n",
    "ดังนั้น, t-test สามารถใช้ในการทดสอบความสัมพันธ์ระหว่างตัวแปร categorical discrete และ continuous ในแง่ของการเปรียบเทียบค่าเฉลี่ยระหว่างกลุ่มที่แตกต่างกัน."
   ]
  },
  {
   "cell_type": "raw",
   "id": "ab7fd11e",
   "metadata": {},
   "source": [
    "ในกรณีของข้อมูลที่เรากำลังสนใจ สองกลุ่มนั้นคือ \"Fully Paid\" และ \"Charged Off\" ในตัวแปร \"loan_status\".\n",
    "\n",
    "ถ้ามีมากกว่า 2 กลุ่มที่ต้องการทดสอบดูความแตกต่างของค่าเฉลี่ย, t-test อาจจะไม่เหมาะสม เพราะ t-test ถูกออกแบบมาสำหรับการทดสอบความแตกต่างระหว่างสองกลุ่มเท่านั้น.\n",
    "\n",
    "สำหรับกรณีที่มีมากกว่า 2 กลุ่ม, เราสามารถใช้ \"ANOVA\" (Analysis of Variance) ซึ่งเป็นการทดสอบที่ใช้เพื่อทดสอบความแตกต่างระหว่างค่าเฉลี่ยของสามกลุ่มขึ้นไป. หากมีเพียงสองกลุ่ม, ANOVA จะให้ผลลัพธ์ที่เหมือนกับ t-test.\n",
    "\n",
    "แต่ควรระวังว่า ANOVA ทดสอบความแตกต่างระหว่างกลุ่มโดยรวม ไม่ได้ระบุว่ากลุ่มใดที่แตกต่างจากกลุ่มใด. ถ้า ANOVA แสดงว่ามีความแตกต่างที่มีนัยสำคัญ, เราอาจต้องดำเนินการทดสอบเพิ่มเติมเช่นการทำ \"post-hoc test\" เพื่อดูว่าความแตกต่างนั้นมาจากกลุ่มใด."
   ]
  },
  {
   "cell_type": "raw",
   "id": "c306b2f9",
   "metadata": {},
   "source": [
    "การทดสอบ t (t-test) เหมาะสำหรับการทดสอบความแตกต่างของค่าเฉลี่ย (mean) ระหว่างสองกลุ่มที่เป็นตัวแปรต่อเนื่อง (continuous variable) ที่เป็นอิสระต่อกัน (independent).\n",
    "\n",
    "นอกจากนี้เงื่อนไขในการทำ t-test มีดังนี้:\n",
    "\n",
    "    ข้อมูลที่ใช้ในการทดสอบควรมีการแจกแจงปกติ (normal distribution). ถ้าข้อมูลมีการแจกแจงที่เบนเอนต์จากการแจกแจงปกติมาก ๆ การทำ t-test อาจจะไม่เหมาะสม.\n",
    "\n",
    "    ความแปรปรวน (variance) ของข้อมูลในทั้งสองกลุ่มควรเท่ากัน หรือใกล้เคียงกัน. ถ้าความแปรปรวนของข้อมูลในสองกลุ่มแตกต่างกันมาก ๆ การทำ t-test อาจจะไม่เหมาะสม."
   ]
  },
  {
   "cell_type": "code",
   "execution_count": null,
   "id": "70478bd2",
   "metadata": {},
   "outputs": [],
   "source": []
  },
  {
   "cell_type": "code",
   "execution_count": null,
   "id": "19cc43e5",
   "metadata": {},
   "outputs": [],
   "source": []
  },
  {
   "cell_type": "code",
   "execution_count": 1,
   "id": "a0aa834a",
   "metadata": {},
   "outputs": [
    {
     "name": "stderr",
     "output_type": "stream",
     "text": [
      "23/06/12 13:35:16 WARN NativeCodeLoader: Unable to load native-hadoop library for your platform... using builtin-java classes where applicable\n",
      "Using Spark's default log4j profile: org/apache/spark/log4j-defaults.properties\n",
      "Setting default log level to \"WARN\".\n",
      "To adjust logging level use sc.setLogLevel(newLevel). For SparkR, use setLogLevel(newLevel).\n"
     ]
    }
   ],
   "source": [
    "# ปรับแต่งค่าการทำงานของ Spark\n",
    "from pyspark.sql import SparkSession\n",
    "\n",
    "spark = SparkSession.\\\n",
    "        builder.\\\n",
    "        appName(\"ChiSqSelector:Gender vs. Route\").\\\n",
    "        master(\"spark://spark-master:7077\").\\\n",
    "        config(\"spark.executor.memory\", \"1000m\").\\\n",
    "        config(\"spark.executor.cores\", \"2\").\\\n",
    "        config(\"spark.cores.max\", \"6\").\\\n",
    "        getOrCreate()"
   ]
  },
  {
   "cell_type": "code",
   "execution_count": 2,
   "id": "31f01e71",
   "metadata": {},
   "outputs": [],
   "source": [
    "# กำหนดตัวแปร\n",
    "\n",
    "HIGHDISPERSION_LIST= [] #เก็บชื่อคอลัมน์\n",
    "HIGHNULL_LIST = [] #เก็บชื่อคอลัมน์\n",
    "NULL_LIST = [] #เก็บชื่อคอลัมน์\n",
    "NULL_PERC = 0.1 #สูงกว่าค่านี้ เป็น High Null ซึ่งอาจใช้วิธีลบทั้ง row ที่มี null ไม่ได้ เพราะอาจทำให้สูญเสียทั้ง row ไปเยอะเกินควร\n",
    "DISPERSION_PERC = 100 #สูงกว่าค่านี้ (%) เป็น High Dispersion"
   ]
  },
  {
   "cell_type": "code",
   "execution_count": 3,
   "id": "0a83550b",
   "metadata": {},
   "outputs": [],
   "source": [
    "from pyspark.sql import functions as sparkf\n",
    "from pyspark.sql.types import *"
   ]
  },
  {
   "cell_type": "code",
   "execution_count": 4,
   "id": "b4a9aedf",
   "metadata": {},
   "outputs": [],
   "source": [
    "#! pip install scipy"
   ]
  },
  {
   "cell_type": "code",
   "execution_count": 5,
   "id": "acd62819",
   "metadata": {},
   "outputs": [],
   "source": [
    "# เรียกใช้ Module/Library ของ Python\n",
    "\n",
    "import numpy as np\n",
    "import scipy as sp\n",
    "import pandas as pd\n",
    "import matplotlib as mpl\n",
    "import matplotlib.pyplot as plt\n",
    "import seaborn as sns\n",
    "\n",
    "# Pandas options\n",
    "pd.set_option('display.max_colwidth', 1000, 'display.max_rows', None, 'display.max_columns', None)\n",
    "\n",
    "# Plotting options\n",
    "%matplotlib inline\n",
    "mpl.style.use('ggplot')\n",
    "sns.set(style='whitegrid')\n",
    "\n",
    "import warnings\n",
    "warnings.filterwarnings(\"ignore\")"
   ]
  },
  {
   "cell_type": "code",
   "execution_count": 6,
   "id": "e9a35e05",
   "metadata": {},
   "outputs": [],
   "source": [
    "# ประกาศฟังก์ชั่นที่ใช้ทำ Histogram กับ Boxplot เพื่อวิเคราะห์ distribution (shape), outlier และความสัมพันธ์ (correlation)\n",
    "\n",
    "def plot_var(arg_df, col_name, full_name, continuous):\n",
    "    \"\"\"\n",
    "    Visualize a variable with and without faceting on the loan status.\n",
    "    - col_name is the variable name in the dataframe\n",
    "    - full_name is the full variable name\n",
    "    - continuous is True if the variable is continuous, False otherwise\n",
    "    \"\"\"\n",
    "    f, (ax1, ax2) = plt.subplots(nrows=1, ncols=2, figsize=(12,3), dpi=90)\n",
    "    \n",
    "    # Plot without loan status\n",
    "    if continuous:\n",
    "        sns.distplot(arg_df.loc[arg_df[col_name].notnull(), col_name], kde=False, ax=ax1)\n",
    "    else:\n",
    "        sns.countplot(x=arg_df[col_name], order=sorted(arg_df[col_name].unique()), color='#5975A4', saturation=1, ax=ax1)\n",
    "    ax1.set_xlabel(full_name)\n",
    "    ax1.set_ylabel('Count')\n",
    "    ax1.set_title(full_name)\n",
    "\n",
    "    # Plot with loan status\n",
    "    if continuous:\n",
    "        sns.boxplot(x=col_name, y='loan_status', data=arg_df, ax=ax2)\n",
    "        ax2.set_ylabel('')\n",
    "        ax2.set_title(full_name + ' by Loan Status')\n",
    "    else:\n",
    "        charge_off_rates = arg_df.groupby(col_name)['loan_status'].value_counts(normalize=True).loc[:,'Charged Off']\n",
    "        sns.barplot(x=charge_off_rates.index, y=charge_off_rates.values, color='#5975A4', saturation=1, ax=ax2)\n",
    "        ax2.set_ylabel('Fraction of arg_df Charged-off')\n",
    "        ax2.set_title('Charge-off Rate by ' + full_name)\n",
    "    ax2.set_xlabel(full_name)\n",
    "    \n",
    "    plt.tight_layout()\n",
    "\n"
   ]
  },
  {
   "cell_type": "markdown",
   "id": "cd792f30",
   "metadata": {},
   "source": [
    "## 1. Business Understaing\n",
    "    \n",
    "    1.1 Problem Statement: ต้องการทราบว่า ลูกหนี้แต่ละรายจะมาจ่ายหนี้ครบตามสัญญาเงินกู้ (Fully-paid) หรือไม่มาจ่ายฯ (Charged-off)\n",
    "    1.2 Project Objective: การจัดเก็บหนี้ดีขึ้นช่วยเพิ่มรายได้ให้กับกิจการ\n",
    "    1.3 Task of Data Science: Binary Classification\n",
    "    1.4 Cleansing Policy: ธุรกิจมี columns ที่แนะนำว่ามีความสัมพันธ์/ส่งผลต่อการชำระหนี้คืนตามสัญญา, ลบได้ทั้ง row หากมี missing ใน columns และแทนที่ได้ตามความเหมาะสม\n",
    "    1.5 Success Criteria: มี Recall/Sensitivity ไม่น้อยกว่า 0.65 บน Testing set แบบ Hold-out"
   ]
  },
  {
   "cell_type": "markdown",
   "id": "ac85aab5",
   "metadata": {},
   "source": [
    "## 2. Data Understanding\n",
    "    \n",
    "    - มี Label เป็น column: loan_status\n",
    "    - มีขนาดใหญ่ (volume)เกินกว่าเทคโนโลยีปัจจุบัน (Python) จะทำงานได้อย่างมีประสิทธิภาพ จึงต้องใช้ Spark ร่วมด้วย\n",
    "    - CSV เป็น semi-structural data ที่มี header ซึ่งสามารถนำไปพัฒนาเป็น schema ของ structural data (Spark DataFrame) ได้\n",
    "    - Data Dict.: https://docs.google.com/spreadsheets/d/1qtZBSJ-JS7S2tGC0W9Yxp992LmrDaAwGcJB419Htbbw/edit#gid=1163295822"
   ]
  },
  {
   "cell_type": "code",
   "execution_count": 7,
   "id": "45b54dc2",
   "metadata": {},
   "outputs": [],
   "source": [
    "#กำหนด columns ที่ธุรกิจให้คำแนะนำฯ ไว้\n",
    "\n",
    "businessAttrs_df = [\"loan_amnt\",\"term\",\"int_rate\"\\\n",
    "                                ,\"installment\",\"grade\",\"emp_length\",\\\n",
    "                           \"home_ownership\",\"annual_inc\"\\\n",
    "                                ,\"verification_status\",\"loan_status\",\\\n",
    "                           \"purpose\",\"addr_state\",\"dti\",\"delinq_2yrs\"\\\n",
    "                                ,\"earliest_cr_line\",\\\n",
    "                           \"open_acc\",\"pub_rec\"\\\n",
    "                                ,\"revol_bal\",\"revol_util\",\"total_acc\",\"issue_d\"]"
   ]
  },
  {
   "cell_type": "raw",
   "id": "05b9e262",
   "metadata": {},
   "source": [
    "! apt-get update\n",
    "! apt-get install wget -y"
   ]
  },
  {
   "cell_type": "raw",
   "id": "a653b848",
   "metadata": {},
   "source": [
    "! wget https://storage.googleapis.com/4jun2023/LoanStats_web.csv"
   ]
  },
  {
   "cell_type": "code",
   "execution_count": 8,
   "id": "649586c0",
   "metadata": {},
   "outputs": [
    {
     "name": "stdout",
     "output_type": "stream",
     "text": [
      "1432493 LoanStats_web.csv\n"
     ]
    }
   ],
   "source": [
    "! wc -l LoanStats_web.csv"
   ]
  },
  {
   "cell_type": "code",
   "execution_count": 9,
   "id": "1c1ff0bb",
   "metadata": {},
   "outputs": [
    {
     "name": "stdout",
     "output_type": "stream",
     "text": [
      "\"id\",\"member_id\",\"loan_amnt\",\"funded_amnt\",\"funded_amnt_inv\",\"term\",\"int_rate\",\"installment\",\"grade\",\"sub_grade\",\"emp_title\",\"emp_length\",\"home_ownership\",\"annual_inc\",\"verification_status\",\"issue_d\",\"loan_status\",\"pymnt_plan\",\"url\",\"desc\",\"purpose\",\"title\",\"zip_code\",\"addr_state\",\"dti\",\"delinq_2yrs\",\"earliest_cr_line\",\"inq_last_6mths\",\"mths_since_last_delinq\",\"mths_since_last_record\",\"open_acc\",\"pub_rec\",\"revol_bal\",\"revol_util\",\"total_acc\",\"initial_list_status\",\"out_prncp\",\"out_prncp_inv\",\"total_pymnt\",\"total_pymnt_inv\",\"total_rec_prncp\",\"total_rec_int\",\"total_rec_late_fee\",\"recoveries\",\"collection_recovery_fee\",\"last_pymnt_d\",\"last_pymnt_amnt\",\"next_pymnt_d\",\"last_credit_pull_d\",\"collections_12_mths_ex_med\",\"mths_since_last_major_derog\",\"policy_code\",\"application_type\",\"annual_inc_joint\",\"dti_joint\",\"verification_status_joint\",\"acc_now_delinq\",\"tot_coll_amt\",\"tot_cur_bal\",\"open_acc_6m\",\"open_act_il\",\"open_il_12m\",\"open_il_24m\",\"mths_since_rcnt_il\",\"total_bal_il\",\"il_util\",\"open_rv_12m\",\"open_rv_24m\",\"max_bal_bc\",\"all_util\",\"total_rev_hi_lim\",\"inq_fi\",\"total_cu_tl\",\"inq_last_12m\",\"acc_open_past_24mths\",\"avg_cur_bal\",\"bc_open_to_buy\",\"bc_util\",\"chargeoff_within_12_mths\",\"delinq_amnt\",\"mo_sin_old_il_acct\",\"mo_sin_old_rev_tl_op\",\"mo_sin_rcnt_rev_tl_op\",\"mo_sin_rcnt_tl\",\"mort_acc\",\"mths_since_recent_bc\",\"mths_since_recent_bc_dlq\",\"mths_since_recent_inq\",\"mths_since_recent_revol_delinq\",\"num_accts_ever_120_pd\",\"num_actv_bc_tl\",\"num_actv_rev_tl\",\"num_bc_sats\",\"num_bc_tl\",\"num_il_tl\",\"num_op_rev_tl\",\"num_rev_accts\",\"num_rev_tl_bal_gt_0\",\"num_sats\",\"num_tl_120dpd_2m\",\"num_tl_30dpd\",\"num_tl_90g_dpd_24m\",\"num_tl_op_past_12m\",\"pct_tl_nvr_dlq\",\"percent_bc_gt_75\",\"pub_rec_bankruptcies\",\"tax_liens\",\"tot_hi_cred_lim\",\"total_bal_ex_mort\",\"total_bc_limit\",\"total_il_high_credit_limit\",\"revol_bal_joint\",\"sec_app_earliest_cr_line\",\"sec_app_inq_last_6mths\",\"sec_app_mort_acc\",\"sec_app_open_acc\",\"sec_app_revol_util\",\"sec_app_open_act_il\",\"sec_app_num_rev_accts\",\"sec_app_chargeoff_within_12_mths\",\"sec_app_collections_12_mths_ex_med\",\"sec_app_mths_since_last_major_derog\",\"hardship_flag\",\"hardship_type\",\"hardship_reason\",\"hardship_status\",\"deferral_term\",\"hardship_amount\",\"hardship_start_date\",\"hardship_end_date\",\"payment_plan_start_date\",\"hardship_length\",\"hardship_dpd\",\"hardship_loan_status\",\"orig_projected_additional_accrued_interest\",\"hardship_payoff_balance_amount\",\"hardship_last_payment_amount\",\"debt_settlement_flag\",\"debt_settlement_flag_date\",\"settlement_status\",\"settlement_date\",\"settlement_amount\",\"settlement_percentage\",\"settlement_term\"\n",
      "\"\",\"\",\"12800\",\"12800\",\"12800\",\" 36 months\",\" 11.99%\",\"425.09\",\"C\",\"C1\",\"LOGISTICS COORDINATOR\",\"6 years\",\"MORTGAGE\",\"53000\",\"Verified\",\"Mar-2016\",\"Fully Paid\",\"n\",\"\",\"\",\"credit_card\",\"Credit card refinancing\",\"330xx\",\"FL\",\"20.99\",\"0\",\"Mar-2002\",\"0\",\"\",\"59\",\"7\",\"1\",\"8777\",\"79.1%\",\"16\",\"w\",\"0.00\",\"0.00\",\"15289.8112319621\",\"15289.81\",\"12800.00\",\"2489.81\",\"0.0\",\"0.0\",\"0.0\",\"Apr-2019\",\"424.75\",\"\",\"Mar-2019\",\"0\",\"\",\"1\",\"Individual\",\"\",\"\",\"\",\"0\",\"0\",\"221036\",\"2\",\"2\",\"1\",\"1\",\"9\",\"23227\",\"68\",\"1\",\"1\",\"3381\",\"71\",\"11100\",\"1\",\"0\",\"2\",\"3\",\"31577\",\"962\",\"87.8\",\"0\",\"0\",\"124\",\"168\",\"4\",\"4\",\"1\",\"43\",\"\",\"7\",\"\",\"0\",\"3\",\"4\",\"3\",\"4\",\"7\",\"4\",\"8\",\"4\",\"7\",\"0\",\"0\",\"0\",\"3\",\"100\",\"100\",\"1\",\"0\",\"235600\",\"32004\",\"7900\",\"34024\",\"\",\"\",\"\",\"\",\"\",\"\",\"\",\"\",\"\",\"\",\"\",\"N\",\"\",\"\",\"\",\"\",\"\",\"\",\"\",\"\",\"\",\"\",\"\",\"\",\"\",\"\",\"N\",\"\",\"\",\"\",\"\",\"\",\"\"\n",
      "\"\",\"\",\"9000\",\"9000\",\"9000\",\" 36 months\",\" 15.31%\",\"313.36\",\"C\",\"C5\",\"Senior Case Assistant\",\"9 years\",\"RENT\",\"52000\",\"Source Verified\",\"Mar-2016\",\"Fully Paid\",\"n\",\"\",\"\",\"debt_consolidation\",\"Debt consolidation\",\"945xx\",\"CA\",\"18.86\",\"0\",\"Nov-1999\",\"0\",\"24\",\"\",\"6\",\"0\",\"11713\",\"73.7%\",\"13\",\"w\",\"0.00\",\"0.00\",\"10193.6517427984\",\"10193.65\",\"9000.00\",\"1193.65\",\"0.0\",\"0.0\",\"0.0\",\"Mar-2017\",\"7064.14\",\"\",\"Jul-2019\",\"0\",\"\",\"1\",\"Individual\",\"\",\"\",\"\",\"0\",\"0\",\"52953\",\"2\",\"1\",\"1\",\"1\",\"4\",\"41240\",\"\",\"3\",\"3\",\"3789\",\"74\",\"15900\",\"0\",\"1\",\"2\",\"4\",\"8826\",\"4187\",\"73.7\",\"0\",\"0\",\"125\",\"196\",\"1\",\"1\",\"0\",\"1\",\"\",\"4\",\"\",\"0\",\"5\",\"5\",\"5\",\"9\",\"3\",\"5\",\"10\",\"5\",\"6\",\"0\",\"0\",\"0\",\"4\",\"92.3\",\"80\",\"0\",\"0\",\"58425\",\"52953\",\"15900\",\"42525\",\"\",\"\",\"\",\"\",\"\",\"\",\"\",\"\",\"\",\"\",\"\",\"N\",\"\",\"\",\"\",\"\",\"\",\"\",\"\",\"\",\"\",\"\",\"\",\"\",\"\",\"\",\"N\",\"\",\"\",\"\",\"\",\"\",\"\"\n"
     ]
    }
   ],
   "source": [
    "! head -3 LoanStats_web.csv"
   ]
  },
  {
   "cell_type": "code",
   "execution_count": 10,
   "id": "812f1bc7",
   "metadata": {},
   "outputs": [
    {
     "name": "stderr",
     "output_type": "stream",
     "text": [
      "                                                                                \r"
     ]
    }
   ],
   "source": [
    "# Spark อ่านข้อมูลจาก .csv แล้ว convert เป็น DataFrame\n",
    "\n",
    "raw_df = spark.read.option('header',True)\\\n",
    ".option(\"quote\", \"\\\"\")\\\n",
    ".option('mode','DROPMALFORMED')\\\n",
    ".option('inferSchema',True)\\\n",
    ".csv('LoanStats_web.csv')\\\n",
    ".select(businessAttrs_df)"
   ]
  },
  {
   "cell_type": "code",
   "execution_count": 11,
   "id": "7e3f1393",
   "metadata": {},
   "outputs": [
    {
     "name": "stderr",
     "output_type": "stream",
     "text": [
      "23/06/12 13:35:52 WARN package: Truncated the string representation of a plan since it was too large. This behavior can be adjusted by setting 'spark.sql.debug.maxToStringFields'.\n",
      "                                                                                \r"
     ]
    },
    {
     "data": {
      "text/plain": [
       "1432466"
      ]
     },
     "execution_count": 11,
     "metadata": {},
     "output_type": "execute_result"
    }
   ],
   "source": [
    "# Spark นับจำนวน row ใน DataFrame\n",
    "\n",
    "raw_df.count()"
   ]
  },
  {
   "cell_type": "code",
   "execution_count": 12,
   "id": "e0520bae",
   "metadata": {},
   "outputs": [
    {
     "name": "stdout",
     "output_type": "stream",
     "text": [
      "root\n",
      " |-- loan_amnt: integer (nullable = true)\n",
      " |-- term: string (nullable = true)\n",
      " |-- int_rate: string (nullable = true)\n",
      " |-- installment: double (nullable = true)\n",
      " |-- grade: string (nullable = true)\n",
      " |-- emp_length: string (nullable = true)\n",
      " |-- home_ownership: string (nullable = true)\n",
      " |-- annual_inc: double (nullable = true)\n",
      " |-- verification_status: string (nullable = true)\n",
      " |-- loan_status: string (nullable = true)\n",
      " |-- purpose: string (nullable = true)\n",
      " |-- addr_state: string (nullable = true)\n",
      " |-- dti: string (nullable = true)\n",
      " |-- delinq_2yrs: string (nullable = true)\n",
      " |-- earliest_cr_line: string (nullable = true)\n",
      " |-- open_acc: integer (nullable = true)\n",
      " |-- pub_rec: integer (nullable = true)\n",
      " |-- revol_bal: integer (nullable = true)\n",
      " |-- revol_util: string (nullable = true)\n",
      " |-- total_acc: integer (nullable = true)\n",
      " |-- issue_d: string (nullable = true)\n",
      "\n"
     ]
    }
   ],
   "source": [
    "raw_df.printSchema()"
   ]
  },
  {
   "cell_type": "code",
   "execution_count": null,
   "id": "299934b9",
   "metadata": {},
   "outputs": [],
   "source": []
  },
  {
   "cell_type": "code",
   "execution_count": null,
   "id": "f3502460",
   "metadata": {},
   "outputs": [],
   "source": []
  },
  {
   "cell_type": "code",
   "execution_count": 13,
   "id": "18fbe010",
   "metadata": {},
   "outputs": [
    {
     "name": "stderr",
     "output_type": "stream",
     "text": [
      "[Stage 4:====================================================>      (8 + 1) / 9]\r"
     ]
    },
    {
     "name": "stdout",
     "output_type": "stream",
     "text": [
      "+-------+------------------+------------------+\n",
      "|summary|         loan_amnt|       loan_status|\n",
      "+-------+------------------+------------------+\n",
      "|  count|           1432440|           1432440|\n",
      "|   mean|15370.388358325654|              null|\n",
      "| stddev| 9646.026272413836|              null|\n",
      "|    min|              1000|       Charged Off|\n",
      "|    max|             40000|Late (31-120 days)|\n",
      "+-------+------------------+------------------+\n",
      "\n"
     ]
    },
    {
     "name": "stderr",
     "output_type": "stream",
     "text": [
      "                                                                                \r"
     ]
    }
   ],
   "source": [
    "raw_df.select('loan_amnt','loan_status').describe().show()"
   ]
  },
  {
   "cell_type": "code",
   "execution_count": 14,
   "id": "bcf3fc38",
   "metadata": {},
   "outputs": [
    {
     "name": "stderr",
     "output_type": "stream",
     "text": [
      "                                                                                \r"
     ]
    }
   ],
   "source": [
    "pandas_df = raw_df.select('loan_amnt','loan_status').dropna().toPandas()"
   ]
  },
  {
   "cell_type": "code",
   "execution_count": 15,
   "id": "1b5ffbda",
   "metadata": {},
   "outputs": [
    {
     "name": "stdout",
     "output_type": "stream",
     "text": [
      "<class 'pandas.core.frame.DataFrame'>\n",
      "RangeIndex: 1432440 entries, 0 to 1432439\n",
      "Data columns (total 2 columns):\n",
      " #   Column       Non-Null Count    Dtype \n",
      "---  ------       --------------    ----- \n",
      " 0   loan_amnt    1432440 non-null  int32 \n",
      " 1   loan_status  1432440 non-null  object\n",
      "dtypes: int32(1), object(1)\n",
      "memory usage: 16.4+ MB\n"
     ]
    }
   ],
   "source": [
    "pandas_df.info()"
   ]
  },
  {
   "cell_type": "code",
   "execution_count": 16,
   "id": "85e70bc6",
   "metadata": {},
   "outputs": [
    {
     "name": "stdout",
     "output_type": "stream",
     "text": [
      "t-statistic: -61.9248612596206\n",
      "p-value: 0.0\n"
     ]
    }
   ],
   "source": [
    "import scipy.stats as stats\n",
    "\n",
    "# การคำนวณ p-value จากการทดสอบ t-test สำหรับการเปรียบเทียบค่าเฉลี่ยของ loan_amnt ระหว่าง loan_status\n",
    "group1 = pandas_df[pandas_df[\"loan_status\"] == \"Fully Paid\"][\"loan_amnt\"]\n",
    "group2 = pandas_df[pandas_df[\"loan_status\"] == \"Charged Off\"][\"loan_amnt\"]\n",
    "\n",
    "t_stat, p_value = stats.ttest_ind(group1, group2)\n",
    "\n",
    "print(f\"t-statistic: {t_stat}\")\n",
    "print(f\"p-value: {p_value}\")\n"
   ]
  },
  {
   "cell_type": "raw",
   "id": "2700f042",
   "metadata": {},
   "source": [
    "จากการทดสอบ t-test พบว่า p-value มีค่าเป็น 0.0 ซึ่งน้อยกว่าระดับความน่าจะเป็นที่ยอมรับได้ (0.05) ดังนั้นเราจึงปฏิเสธสมมติฐาน null hypothesis ซึ่งระบุว่า \"ไม่มีความแตกต่างทางสถิติระหว่าง loan_amnt ของFully Paid และ Charged Off\" นั่นคือ loan_amnt มีความสัมพันธ์กับ loan_status ในทางสถิติ.\n",
    "\n",
    "แต่นักวิเคราะห์ต้องระวังในการตีความความสัมพันธ์ทางสถิตินี้เพราะอาจเกิดความสับสนระหว่าง \"ความสัมพันธ์ทางสถิติ\" และ \"ความสัมพันธ์ทางสาเหตุ-ผลลัพธ์\". ความสัมพันธ์ทางสถิติที่เราพบจากการทดสอบ t-test ไม่ได้หมายความว่า loan_amnt เป็นสาเหตุที่ทำให้เกิด loan_status แบบใดแบบหนึ่ง.\n",
    "\n",
    "ค่า t-statistic มีค่าสูง (ไม่ว่าจะเป็นค่าบวกหรือค่าลบ) แสดงว่ามีความแตกต่างที่น่าสนใจระหว่างค่าเฉลี่ยของสองกลุ่ม."
   ]
  },
  {
   "cell_type": "code",
   "execution_count": null,
   "id": "7ae3f7e0",
   "metadata": {},
   "outputs": [],
   "source": []
  },
  {
   "cell_type": "code",
   "execution_count": null,
   "id": "c657989d",
   "metadata": {},
   "outputs": [],
   "source": []
  },
  {
   "cell_type": "code",
   "execution_count": 44,
   "id": "f9a96105",
   "metadata": {},
   "outputs": [
    {
     "name": "stderr",
     "output_type": "stream",
     "text": [
      "[Stage 41:===================================================>      (8 + 1) / 9]\r"
     ]
    },
    {
     "name": "stdout",
     "output_type": "stream",
     "text": [
      "+-------+------------------+------------------+\n",
      "|summary|        annual_inc|       loan_status|\n",
      "+-------+------------------+------------------+\n",
      "|  count|           1432440|           1432440|\n",
      "|   mean| 81034.58293296752|              null|\n",
      "| stddev|134183.35696714383|              null|\n",
      "|    min|               0.0|       Charged Off|\n",
      "|    max|             6.1E7|Late (31-120 days)|\n",
      "+-------+------------------+------------------+\n",
      "\n"
     ]
    },
    {
     "name": "stderr",
     "output_type": "stream",
     "text": [
      "                                                                                \r"
     ]
    }
   ],
   "source": [
    "raw_df.select('annual_inc','loan_status').describe().show()"
   ]
  },
  {
   "cell_type": "code",
   "execution_count": 45,
   "id": "c54fb83b",
   "metadata": {},
   "outputs": [
    {
     "name": "stderr",
     "output_type": "stream",
     "text": [
      "                                                                                \r"
     ]
    }
   ],
   "source": [
    "pandas_df = raw_df.select('annual_inc','loan_status').dropna().toPandas()"
   ]
  },
  {
   "cell_type": "code",
   "execution_count": 46,
   "id": "f5e860f4",
   "metadata": {},
   "outputs": [
    {
     "name": "stdout",
     "output_type": "stream",
     "text": [
      "<class 'pandas.core.frame.DataFrame'>\n",
      "RangeIndex: 1432440 entries, 0 to 1432439\n",
      "Data columns (total 2 columns):\n",
      " #   Column       Non-Null Count    Dtype  \n",
      "---  ------       --------------    -----  \n",
      " 0   annual_inc   1432440 non-null  float64\n",
      " 1   loan_status  1432440 non-null  object \n",
      "dtypes: float64(1), object(1)\n",
      "memory usage: 21.9+ MB\n"
     ]
    }
   ],
   "source": [
    "pandas_df.info()"
   ]
  },
  {
   "cell_type": "code",
   "execution_count": 47,
   "id": "05ffce26",
   "metadata": {},
   "outputs": [
    {
     "name": "stdout",
     "output_type": "stream",
     "text": [
      "t-statistic: 31.88305276676603\n",
      "p-value: 6.638497756538794e-223\n"
     ]
    }
   ],
   "source": [
    "import scipy.stats as stats\n",
    "\n",
    "# การคำนวณ p-value จากการทดสอบ t-test สำหรับการเปรียบเทียบค่าเฉลี่ยของ annual_inc ระหว่าง loan_status\n",
    "group1 = pandas_df[pandas_df[\"loan_status\"] == \"Fully Paid\"][\"annual_inc\"]\n",
    "group2 = pandas_df[pandas_df[\"loan_status\"] == \"Charged Off\"][\"annual_inc\"]\n",
    "\n",
    "t_stat, p_value = stats.ttest_ind(group1, group2)\n",
    "\n",
    "print(f\"t-statistic: {t_stat}\")\n",
    "print(f\"p-value: {p_value}\")\n"
   ]
  },
  {
   "cell_type": "code",
   "execution_count": null,
   "id": "0bfee47e",
   "metadata": {},
   "outputs": [],
   "source": []
  },
  {
   "cell_type": "code",
   "execution_count": null,
   "id": "125e5705",
   "metadata": {},
   "outputs": [],
   "source": []
  },
  {
   "cell_type": "code",
   "execution_count": null,
   "id": "472ab823",
   "metadata": {},
   "outputs": [],
   "source": []
  },
  {
   "cell_type": "code",
   "execution_count": null,
   "id": "306d1913",
   "metadata": {},
   "outputs": [],
   "source": []
  },
  {
   "cell_type": "code",
   "execution_count": null,
   "id": "f96a5e56",
   "metadata": {},
   "outputs": [],
   "source": []
  },
  {
   "cell_type": "code",
   "execution_count": null,
   "id": "44f76f04",
   "metadata": {},
   "outputs": [],
   "source": []
  },
  {
   "cell_type": "code",
   "execution_count": null,
   "id": "34b00e5c",
   "metadata": {},
   "outputs": [],
   "source": []
  },
  {
   "cell_type": "code",
   "execution_count": 17,
   "id": "5499fa38",
   "metadata": {},
   "outputs": [
    {
     "name": "stderr",
     "output_type": "stream",
     "text": [
      "[Stage 7:====================================================>      (8 + 1) / 9]\r"
     ]
    },
    {
     "name": "stdout",
     "output_type": "stream",
     "text": [
      "+-------+-------------------+------------------+\n",
      "|summary|            pub_rec|       loan_status|\n",
      "+-------+-------------------+------------------+\n",
      "|  count|            1432439|           1432440|\n",
      "|   mean|0.20539234131435963|              null|\n",
      "| stddev| 0.5861093697871824|              null|\n",
      "|    min|                  0|       Charged Off|\n",
      "|    max|                 61|Late (31-120 days)|\n",
      "+-------+-------------------+------------------+\n",
      "\n"
     ]
    },
    {
     "name": "stderr",
     "output_type": "stream",
     "text": [
      "                                                                                \r"
     ]
    }
   ],
   "source": [
    "raw_df.select('pub_rec','loan_status').describe().show()"
   ]
  },
  {
   "cell_type": "code",
   "execution_count": 18,
   "id": "1ce2ea0a",
   "metadata": {},
   "outputs": [
    {
     "name": "stderr",
     "output_type": "stream",
     "text": [
      "                                                                                \r"
     ]
    }
   ],
   "source": [
    "pandas_df = raw_df.select('pub_rec','loan_status').dropna().toPandas()"
   ]
  },
  {
   "cell_type": "code",
   "execution_count": 19,
   "id": "824e0006",
   "metadata": {},
   "outputs": [
    {
     "name": "stdout",
     "output_type": "stream",
     "text": [
      "<class 'pandas.core.frame.DataFrame'>\n",
      "RangeIndex: 1432439 entries, 0 to 1432438\n",
      "Data columns (total 2 columns):\n",
      " #   Column       Non-Null Count    Dtype \n",
      "---  ------       --------------    ----- \n",
      " 0   pub_rec      1432439 non-null  int32 \n",
      " 1   loan_status  1432439 non-null  object\n",
      "dtypes: int32(1), object(1)\n",
      "memory usage: 16.4+ MB\n"
     ]
    }
   ],
   "source": [
    "pandas_df.info()"
   ]
  },
  {
   "cell_type": "code",
   "execution_count": 20,
   "id": "e97b0983",
   "metadata": {},
   "outputs": [
    {
     "name": "stdout",
     "output_type": "stream",
     "text": [
      "t-statistic: -22.649620378468168\n",
      "p-value: 1.5465007725031826e-113\n"
     ]
    }
   ],
   "source": [
    "import scipy.stats as stats\n",
    "\n",
    "# การคำนวณ p-value จากการทดสอบ t-test สำหรับการเปรียบเทียบค่าเฉลี่ยของ pub_rec ระหว่าง loan_status\n",
    "group1 = pandas_df[pandas_df[\"loan_status\"] == \"Fully Paid\"][\"pub_rec\"]\n",
    "group2 = pandas_df[pandas_df[\"loan_status\"] == \"Charged Off\"][\"pub_rec\"]\n",
    "\n",
    "t_stat, p_value = stats.ttest_ind(group1, group2)\n",
    "\n",
    "print(f\"t-statistic: {t_stat}\")\n",
    "print(f\"p-value: {p_value}\")\n"
   ]
  },
  {
   "cell_type": "code",
   "execution_count": null,
   "id": "17217d66",
   "metadata": {},
   "outputs": [],
   "source": []
  },
  {
   "cell_type": "code",
   "execution_count": 25,
   "id": "4c54a510",
   "metadata": {},
   "outputs": [
    {
     "name": "stderr",
     "output_type": "stream",
     "text": [
      "[Stage 13:===================================================>      (8 + 1) / 9]\r"
     ]
    },
    {
     "name": "stdout",
     "output_type": "stream",
     "text": [
      "+-------+------------------+------------------+\n",
      "|summary|          open_acc|       loan_status|\n",
      "+-------+------------------+------------------+\n",
      "|  count|           1432440|           1432440|\n",
      "|   mean|11.710318756806569|              null|\n",
      "| stddev| 5.841056149724124|              null|\n",
      "|    min|                 0|       Charged Off|\n",
      "|    max|               101|Late (31-120 days)|\n",
      "+-------+------------------+------------------+\n",
      "\n"
     ]
    },
    {
     "name": "stderr",
     "output_type": "stream",
     "text": [
      "                                                                                \r"
     ]
    }
   ],
   "source": [
    "raw_df.select('open_acc','loan_status').describe().show()"
   ]
  },
  {
   "cell_type": "code",
   "execution_count": 26,
   "id": "0cb66582",
   "metadata": {},
   "outputs": [
    {
     "name": "stderr",
     "output_type": "stream",
     "text": [
      "                                                                                \r"
     ]
    }
   ],
   "source": [
    "pandas_df = raw_df.select('open_acc','loan_status').dropna().toPandas()"
   ]
  },
  {
   "cell_type": "code",
   "execution_count": 27,
   "id": "939e2405",
   "metadata": {},
   "outputs": [
    {
     "name": "stdout",
     "output_type": "stream",
     "text": [
      "<class 'pandas.core.frame.DataFrame'>\n",
      "RangeIndex: 1432440 entries, 0 to 1432439\n",
      "Data columns (total 2 columns):\n",
      " #   Column       Non-Null Count    Dtype \n",
      "---  ------       --------------    ----- \n",
      " 0   open_acc     1432440 non-null  int32 \n",
      " 1   loan_status  1432440 non-null  object\n",
      "dtypes: int32(1), object(1)\n",
      "memory usage: 16.4+ MB\n"
     ]
    }
   ],
   "source": [
    "pandas_df.info()"
   ]
  },
  {
   "cell_type": "code",
   "execution_count": 28,
   "id": "8ca7a032",
   "metadata": {},
   "outputs": [
    {
     "name": "stdout",
     "output_type": "stream",
     "text": [
      "t-statistic: -12.916414225912762\n",
      "p-value: 3.6737984709132366e-38\n"
     ]
    }
   ],
   "source": [
    "import scipy.stats as stats\n",
    "\n",
    "# การคำนวณ p-value จากการทดสอบ t-test สำหรับการเปรียบเทียบค่าเฉลี่ยของ open_acc ระหว่าง loan_status\n",
    "group1 = pandas_df[pandas_df[\"loan_status\"] == \"Fully Paid\"][\"open_acc\"]\n",
    "group2 = pandas_df[pandas_df[\"loan_status\"] == \"Charged Off\"][\"open_acc\"]\n",
    "\n",
    "t_stat, p_value = stats.ttest_ind(group1, group2)\n",
    "\n",
    "print(f\"t-statistic: {t_stat}\")\n",
    "print(f\"p-value: {p_value}\")\n"
   ]
  },
  {
   "cell_type": "raw",
   "id": "8aa9134f",
   "metadata": {},
   "source": [
    "ค่า t-statistic ที่ได้รับในที่นี้คือ -12.916414225912762 และ p-value คือ 3.6737984709132366e-38 (น้อยมากเกินกว่าจะเปรียบเทียบได้กับระดับความน่าจะเป็นสมมติฐาน 0.05).\n",
    "\n",
    "ค่า t-statistic ที่ต่ำแสดงว่าความแตกต่างระหว่างค่าเฉลี่ยของ 'open_acc' ระหว่างกลุ่ม 'Fully Paid' และ 'Charged Off' นั้นไม่น่าจะเป็นโดยบังเอิญ และทำให้เราสามารถสรุปได้ว่า มีความสัมพันธ์ทางสถิติระหว่าง 'open_acc' และ 'loan_status'.\n",
    "\n",
    "และเพื่อให้เห็นภาพชัดเจนยิ่งขึ้น ค่า p-value ที่น้อยกว่า 0.05 (ที่เรามักใช้เป็นเกณฑ์ในการตัดสินใจทางสถิติ) ทำให้เราสามารถปฏิเสธสมมติฐานศูนย์หรือสมมติฐานที่ว่าไม่มีความสัมพันธ์ระหว่าง 'open_acc' และ 'loan_status'.\n",
    "\n",
    "ดังนั้น, เราสามารถสรุปได้ว่า 'open_acc' มีความสัมพันธ์ทางสถิติกับ 'loan_status'."
   ]
  },
  {
   "cell_type": "code",
   "execution_count": null,
   "id": "8944b378",
   "metadata": {},
   "outputs": [],
   "source": []
  },
  {
   "cell_type": "code",
   "execution_count": null,
   "id": "562a08ad",
   "metadata": {},
   "outputs": [],
   "source": []
  },
  {
   "cell_type": "code",
   "execution_count": null,
   "id": "6bb3a9fb",
   "metadata": {},
   "outputs": [],
   "source": []
  },
  {
   "cell_type": "code",
   "execution_count": 29,
   "id": "5cb8b2bf",
   "metadata": {},
   "outputs": [
    {
     "name": "stderr",
     "output_type": "stream",
     "text": [
      "[Stage 16:===================================================>      (8 + 1) / 9]\r"
     ]
    },
    {
     "name": "stdout",
     "output_type": "stream",
     "text": [
      "+-------+----------+\n",
      "|summary|      term|\n",
      "+-------+----------+\n",
      "|  count|   1432440|\n",
      "|   mean|      null|\n",
      "| stddev|      null|\n",
      "|    min| 36 months|\n",
      "|    max| 60 months|\n",
      "+-------+----------+\n",
      "\n"
     ]
    },
    {
     "name": "stderr",
     "output_type": "stream",
     "text": [
      "                                                                                \r"
     ]
    }
   ],
   "source": [
    "raw_df.select('term').describe().show()"
   ]
  },
  {
   "cell_type": "code",
   "execution_count": 30,
   "id": "f7185812",
   "metadata": {},
   "outputs": [
    {
     "name": "stderr",
     "output_type": "stream",
     "text": [
      "                                                                                \r"
     ]
    },
    {
     "name": "stdout",
     "output_type": "stream",
     "text": [
      "+----------+-------+\n",
      "|      term|  count|\n",
      "+----------+-------+\n",
      "| 36 months|1036235|\n",
      "|      null|     26|\n",
      "| 60 months| 396205|\n",
      "+----------+-------+\n",
      "\n"
     ]
    }
   ],
   "source": [
    "raw_df.groupBy('term').count().show()"
   ]
  },
  {
   "cell_type": "code",
   "execution_count": 31,
   "id": "e3ae0d75",
   "metadata": {},
   "outputs": [],
   "source": [
    "from pyspark.sql import functions as sparkf"
   ]
  },
  {
   "cell_type": "code",
   "execution_count": 32,
   "id": "18e7e12b",
   "metadata": {},
   "outputs": [
    {
     "name": "stderr",
     "output_type": "stream",
     "text": [
      "                                                                                \r"
     ]
    },
    {
     "name": "stdout",
     "output_type": "stream",
     "text": [
      "+----+-------+\n",
      "|term|  count|\n",
      "+----+-------+\n",
      "|  60| 396205|\n",
      "|null|     26|\n",
      "|  36|1036235|\n",
      "+----+-------+\n",
      "\n"
     ]
    }
   ],
   "source": [
    "raw_df.select('term','loan_status').withColumn('term',sparkf.regexp_replace(sparkf.col('term'),' months',''))\\\n",
    ".groupBy('term').count().show()"
   ]
  },
  {
   "cell_type": "code",
   "execution_count": 39,
   "id": "75737dc1",
   "metadata": {},
   "outputs": [],
   "source": [
    "from pyspark.sql.types import *"
   ]
  },
  {
   "cell_type": "code",
   "execution_count": 41,
   "id": "83598ca6",
   "metadata": {},
   "outputs": [
    {
     "name": "stderr",
     "output_type": "stream",
     "text": [
      "                                                                                \r"
     ]
    }
   ],
   "source": [
    "pandas_df = raw_df\\\n",
    ".select('term','loan_status')\\\n",
    ".withColumn('term',sparkf.regexp_replace(sparkf.col('term'),' months',''))\\\n",
    ".withColumn('term',sparkf.col('term').cast(IntegerType()))\\\n",
    ".dropna().toPandas()"
   ]
  },
  {
   "cell_type": "code",
   "execution_count": 42,
   "id": "f13385ba",
   "metadata": {},
   "outputs": [
    {
     "name": "stdout",
     "output_type": "stream",
     "text": [
      "<class 'pandas.core.frame.DataFrame'>\n",
      "RangeIndex: 1432440 entries, 0 to 1432439\n",
      "Data columns (total 2 columns):\n",
      " #   Column       Non-Null Count    Dtype \n",
      "---  ------       --------------    ----- \n",
      " 0   term         1432440 non-null  int32 \n",
      " 1   loan_status  1432440 non-null  object\n",
      "dtypes: int32(1), object(1)\n",
      "memory usage: 16.4+ MB\n"
     ]
    }
   ],
   "source": [
    "pandas_df.info()"
   ]
  },
  {
   "cell_type": "code",
   "execution_count": 43,
   "id": "a4d8da6f",
   "metadata": {},
   "outputs": [
    {
     "name": "stdout",
     "output_type": "stream",
     "text": [
      "t-statistic: -129.98767251616562\n",
      "p-value: 0.0\n"
     ]
    }
   ],
   "source": [
    "import scipy.stats as stats\n",
    "\n",
    "# การคำนวณ p-value จากการทดสอบ t-test สำหรับการเปรียบเทียบค่าเฉลี่ยของ open_acc ระหว่าง loan_status\n",
    "group1 = pandas_df[pandas_df[\"loan_status\"] == \"Fully Paid\"][\"term\"]\n",
    "group2 = pandas_df[pandas_df[\"loan_status\"] == \"Charged Off\"][\"term\"]\n",
    "\n",
    "t_stat, p_value = stats.ttest_ind(group1, group2)\n",
    "\n",
    "print(f\"t-statistic: {t_stat}\")\n",
    "print(f\"p-value: {p_value}\")\n"
   ]
  },
  {
   "cell_type": "code",
   "execution_count": null,
   "id": "825f9322",
   "metadata": {},
   "outputs": [],
   "source": []
  }
 ],
 "metadata": {
  "kernelspec": {
   "display_name": "Python 3 (ipykernel)",
   "language": "python",
   "name": "python3"
  },
  "language_info": {
   "codemirror_mode": {
    "name": "ipython",
    "version": 3
   },
   "file_extension": ".py",
   "mimetype": "text/x-python",
   "name": "python",
   "nbconvert_exporter": "python",
   "pygments_lexer": "ipython3",
   "version": "3.9.2"
  }
 },
 "nbformat": 4,
 "nbformat_minor": 5
}
