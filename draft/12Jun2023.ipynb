{
 "cells": [
  {
   "cell_type": "code",
   "execution_count": 1,
   "id": "c45539f0",
   "metadata": {},
   "outputs": [
    {
     "name": "stderr",
     "output_type": "stream",
     "text": [
      "23/06/13 02:15:48 WARN NativeCodeLoader: Unable to load native-hadoop library for your platform... using builtin-java classes where applicable\n",
      "Using Spark's default log4j profile: org/apache/spark/log4j-defaults.properties\n",
      "Setting default log level to \"WARN\".\n",
      "To adjust logging level use sc.setLogLevel(newLevel). For SparkR, use setLogLevel(newLevel).\n"
     ]
    }
   ],
   "source": [
    "from pyspark.sql import SparkSession\n",
    "\n",
    "spark = SparkSession.\\\n",
    "    \tbuilder.\\\n",
    "    \tappName(\"จาก raw data สู่ Disk\").\\\n",
    "    \tmaster(\"spark://spark-master:7077\").\\\n",
    "    \tconfig(\"spark.executor.memory\", \"1000m\").\\\n",
    "    \tconfig(\"spark.executor.cores\", \"1\").\\\n",
    "    \tconfig(\"spark.cores.max\", \"4\").\\\n",
    "    \tgetOrCreate()"
   ]
  },
  {
   "cell_type": "code",
   "execution_count": 3,
   "id": "4391b968",
   "metadata": {},
   "outputs": [],
   "source": [
    "colors = ['white','green','yellow','red','brown','pink'] "
   ]
  },
  {
   "cell_type": "code",
   "execution_count": 4,
   "id": "4040d194",
   "metadata": {},
   "outputs": [
    {
     "data": {
      "text/plain": [
       "list"
      ]
     },
     "execution_count": 4,
     "metadata": {},
     "output_type": "execute_result"
    }
   ],
   "source": [
    "type(colors)"
   ]
  },
  {
   "cell_type": "code",
   "execution_count": 5,
   "id": "963741ef",
   "metadata": {},
   "outputs": [
    {
     "data": {
      "text/plain": [
       "'white'"
      ]
     },
     "execution_count": 5,
     "metadata": {},
     "output_type": "execute_result"
    }
   ],
   "source": [
    "colors[0]"
   ]
  },
  {
   "cell_type": "code",
   "execution_count": 6,
   "id": "3ebbecce",
   "metadata": {},
   "outputs": [
    {
     "data": {
      "text/plain": [
       "str"
      ]
     },
     "execution_count": 6,
     "metadata": {},
     "output_type": "execute_result"
    }
   ],
   "source": [
    "type(colors[0])"
   ]
  },
  {
   "cell_type": "code",
   "execution_count": 8,
   "id": "586b257e",
   "metadata": {},
   "outputs": [],
   "source": [
    "color_rdd = spark.sparkContext.parallelize(colors)"
   ]
  },
  {
   "cell_type": "code",
   "execution_count": 9,
   "id": "f69384c3",
   "metadata": {},
   "outputs": [
    {
     "data": {
      "text/plain": [
       "pyspark.rdd.RDD"
      ]
     },
     "execution_count": 9,
     "metadata": {},
     "output_type": "execute_result"
    }
   ],
   "source": [
    "type(color_rdd)"
   ]
  },
  {
   "cell_type": "code",
   "execution_count": 10,
   "id": "042af94e",
   "metadata": {},
   "outputs": [
    {
     "name": "stderr",
     "output_type": "stream",
     "text": [
      "                                                                                \r"
     ]
    },
    {
     "data": {
      "text/plain": [
       "['white', 'green', 'yellow', 'red', 'brown', 'pink']"
      ]
     },
     "execution_count": 10,
     "metadata": {},
     "output_type": "execute_result"
    }
   ],
   "source": [
    "color_rdd.collect()"
   ]
  },
  {
   "cell_type": "code",
   "execution_count": 11,
   "id": "7b2817a9",
   "metadata": {},
   "outputs": [
    {
     "data": {
      "text/plain": [
       "list"
      ]
     },
     "execution_count": 11,
     "metadata": {},
     "output_type": "execute_result"
    }
   ],
   "source": [
    "type(color_rdd.collect())"
   ]
  },
  {
   "cell_type": "code",
   "execution_count": 12,
   "id": "8fc80646",
   "metadata": {},
   "outputs": [
    {
     "name": "stderr",
     "output_type": "stream",
     "text": [
      "                                                                                \r"
     ]
    },
    {
     "data": {
      "text/plain": [
       "[('white', 5),\n",
       " ('green', 5),\n",
       " ('yellow', 6),\n",
       " ('red', 3),\n",
       " ('brown', 5),\n",
       " ('pink', 4)]"
      ]
     },
     "execution_count": 12,
     "metadata": {},
     "output_type": "execute_result"
    }
   ],
   "source": [
    "color_rdd.map(lambda x:(x,len(x))).collect()"
   ]
  },
  {
   "cell_type": "code",
   "execution_count": 13,
   "id": "0560994a",
   "metadata": {},
   "outputs": [
    {
     "data": {
      "text/plain": [
       "list"
      ]
     },
     "execution_count": 13,
     "metadata": {},
     "output_type": "execute_result"
    }
   ],
   "source": [
    "type(color_rdd.map(lambda x:(x,len(x))).collect())"
   ]
  },
  {
   "cell_type": "code",
   "execution_count": 14,
   "id": "093933d2",
   "metadata": {},
   "outputs": [
    {
     "data": {
      "text/plain": [
       "('red', 3)"
      ]
     },
     "execution_count": 14,
     "metadata": {},
     "output_type": "execute_result"
    }
   ],
   "source": [
    "color_rdd.map(lambda x:(x,len(x))).collect()[3]"
   ]
  },
  {
   "cell_type": "code",
   "execution_count": 15,
   "id": "10a9162d",
   "metadata": {},
   "outputs": [
    {
     "data": {
      "text/plain": [
       "tuple"
      ]
     },
     "execution_count": 15,
     "metadata": {},
     "output_type": "execute_result"
    }
   ],
   "source": [
    "type(color_rdd.map(lambda x:(x,len(x))).collect()[3])"
   ]
  },
  {
   "cell_type": "code",
   "execution_count": 16,
   "id": "0665e8af",
   "metadata": {},
   "outputs": [],
   "source": [
    "keyval_rdd = color_rdd.map(lambda x:(x,len(x)))"
   ]
  },
  {
   "cell_type": "code",
   "execution_count": 17,
   "id": "e5f0aded",
   "metadata": {},
   "outputs": [
    {
     "data": {
      "text/plain": [
       "[('white', 5),\n",
       " ('green', 5),\n",
       " ('yellow', 6),\n",
       " ('red', 3),\n",
       " ('brown', 5),\n",
       " ('pink', 4)]"
      ]
     },
     "execution_count": 17,
     "metadata": {},
     "output_type": "execute_result"
    }
   ],
   "source": [
    "keyval_rdd.collect()"
   ]
  },
  {
   "cell_type": "code",
   "execution_count": 18,
   "id": "2d77cfc4",
   "metadata": {},
   "outputs": [
    {
     "data": {
      "text/plain": [
       "pyspark.rdd.PipelinedRDD"
      ]
     },
     "execution_count": 18,
     "metadata": {},
     "output_type": "execute_result"
    }
   ],
   "source": [
    "type(keyval_rdd)"
   ]
  },
  {
   "cell_type": "code",
   "execution_count": 19,
   "id": "292025ce",
   "metadata": {},
   "outputs": [
    {
     "name": "stdout",
     "output_type": "stream",
     "text": [
      "root\n",
      " |-- color: string (nullable = true)\n",
      " |-- length: long (nullable = true)\n",
      "\n"
     ]
    }
   ],
   "source": [
    "keyval_rdd.toDF(['color','length']).printSchema()"
   ]
  },
  {
   "cell_type": "code",
   "execution_count": 20,
   "id": "f563ba77",
   "metadata": {},
   "outputs": [
    {
     "data": {
      "text/plain": [
       "[('white', 5),\n",
       " ('green', 5),\n",
       " ('yellow', 6),\n",
       " ('red', 3),\n",
       " ('brown', 5),\n",
       " ('pink', 4)]"
      ]
     },
     "execution_count": 20,
     "metadata": {},
     "output_type": "execute_result"
    }
   ],
   "source": [
    "keyval_rdd.collect()"
   ]
  },
  {
   "cell_type": "code",
   "execution_count": 21,
   "id": "a1e13e98",
   "metadata": {},
   "outputs": [],
   "source": [
    "color_df = keyval_rdd.toDF(['color','length'])"
   ]
  },
  {
   "cell_type": "code",
   "execution_count": 22,
   "id": "1da732c5",
   "metadata": {},
   "outputs": [
    {
     "name": "stderr",
     "output_type": "stream",
     "text": [
      "[Stage 11:===================>                                      (1 + 2) / 3]\r"
     ]
    },
    {
     "name": "stdout",
     "output_type": "stream",
     "text": [
      "+------+------+\n",
      "| color|length|\n",
      "+------+------+\n",
      "| white|     5|\n",
      "| green|     5|\n",
      "|yellow|     6|\n",
      "|   red|     3|\n",
      "| brown|     5|\n",
      "|  pink|     4|\n",
      "+------+------+\n",
      "\n"
     ]
    },
    {
     "name": "stderr",
     "output_type": "stream",
     "text": [
      "                                                                                \r"
     ]
    }
   ],
   "source": [
    "color_df.show()"
   ]
  },
  {
   "cell_type": "code",
   "execution_count": 24,
   "id": "74465de2",
   "metadata": {},
   "outputs": [
    {
     "name": "stdout",
     "output_type": "stream",
     "text": [
      "root\n",
      " |-- color: string (nullable = true)\n",
      " |-- length: long (nullable = true)\n",
      "\n"
     ]
    }
   ],
   "source": [
    "color_df.printSchema()"
   ]
  },
  {
   "cell_type": "code",
   "execution_count": 25,
   "id": "b1e53041",
   "metadata": {},
   "outputs": [
    {
     "data": {
      "text/plain": [
       "DataFrame[color: string, length: bigint]"
      ]
     },
     "execution_count": 25,
     "metadata": {},
     "output_type": "execute_result"
    }
   ],
   "source": [
    "color_df"
   ]
  },
  {
   "cell_type": "code",
   "execution_count": 26,
   "id": "3a7321bc",
   "metadata": {},
   "outputs": [
    {
     "name": "stderr",
     "output_type": "stream",
     "text": [
      "                                                                                \r"
     ]
    },
    {
     "data": {
      "text/plain": [
       "6"
      ]
     },
     "execution_count": 26,
     "metadata": {},
     "output_type": "execute_result"
    }
   ],
   "source": [
    "color_df.count()"
   ]
  },
  {
   "cell_type": "code",
   "execution_count": 27,
   "id": "3091f04d",
   "metadata": {},
   "outputs": [
    {
     "name": "stdout",
     "output_type": "stream",
     "text": [
      "+------+------+\n",
      "| color|length|\n",
      "+------+------+\n",
      "| white|     5|\n",
      "| green|     5|\n",
      "|yellow|     6|\n",
      "|   red|     3|\n",
      "| brown|     5|\n",
      "|  pink|     4|\n",
      "+------+------+\n",
      "\n"
     ]
    }
   ],
   "source": [
    "color_df.show(100)"
   ]
  },
  {
   "cell_type": "code",
   "execution_count": 28,
   "id": "04b8c741",
   "metadata": {},
   "outputs": [
    {
     "data": {
      "text/plain": [
       "[Row(color='white', length=5),\n",
       " Row(color='green', length=5),\n",
       " Row(color='yellow', length=6),\n",
       " Row(color='red', length=3),\n",
       " Row(color='brown', length=5),\n",
       " Row(color='pink', length=4)]"
      ]
     },
     "execution_count": 28,
     "metadata": {},
     "output_type": "execute_result"
    }
   ],
   "source": [
    "color_df.collect()"
   ]
  },
  {
   "cell_type": "code",
   "execution_count": 30,
   "id": "482545ff",
   "metadata": {},
   "outputs": [
    {
     "data": {
      "text/plain": [
       "['color', 'length']"
      ]
     },
     "execution_count": 30,
     "metadata": {},
     "output_type": "execute_result"
    }
   ],
   "source": [
    "color_df.columns"
   ]
  },
  {
   "cell_type": "code",
   "execution_count": 31,
   "id": "8fd2118e",
   "metadata": {},
   "outputs": [
    {
     "name": "stdout",
     "output_type": "stream",
     "text": [
      "+------+\n",
      "| color|\n",
      "+------+\n",
      "| white|\n",
      "| green|\n",
      "|yellow|\n",
      "|   red|\n",
      "| brown|\n",
      "|  pink|\n",
      "+------+\n",
      "\n"
     ]
    }
   ],
   "source": [
    "color_df.drop('length').show()"
   ]
  },
  {
   "cell_type": "code",
   "execution_count": 32,
   "id": "32e97119",
   "metadata": {},
   "outputs": [
    {
     "name": "stdout",
     "output_type": "stream",
     "text": [
      "+------+------+\n",
      "| color|length|\n",
      "+------+------+\n",
      "| white|     5|\n",
      "| green|     5|\n",
      "|yellow|     6|\n",
      "|   red|     3|\n",
      "| brown|     5|\n",
      "|  pink|     4|\n",
      "+------+------+\n",
      "\n"
     ]
    }
   ],
   "source": [
    "color_df.show()"
   ]
  },
  {
   "cell_type": "code",
   "execution_count": 33,
   "id": "94603478",
   "metadata": {},
   "outputs": [],
   "source": [
    "onlyColorName_df = color_df.drop('length')"
   ]
  },
  {
   "cell_type": "code",
   "execution_count": 34,
   "id": "d4cbc446",
   "metadata": {},
   "outputs": [
    {
     "name": "stdout",
     "output_type": "stream",
     "text": [
      "+------+\n",
      "| color|\n",
      "+------+\n",
      "| white|\n",
      "| green|\n",
      "|yellow|\n",
      "|   red|\n",
      "| brown|\n",
      "|  pink|\n",
      "+------+\n",
      "\n"
     ]
    }
   ],
   "source": [
    "onlyColorName_df.show()"
   ]
  },
  {
   "cell_type": "code",
   "execution_count": 35,
   "id": "0b613e95",
   "metadata": {},
   "outputs": [
    {
     "name": "stdout",
     "output_type": "stream",
     "text": [
      "+------+------+\n",
      "| color|length|\n",
      "+------+------+\n",
      "| white|     5|\n",
      "| green|     5|\n",
      "|yellow|     6|\n",
      "|   red|     3|\n",
      "| brown|     5|\n",
      "|  pink|     4|\n",
      "+------+------+\n",
      "\n"
     ]
    }
   ],
   "source": [
    "color_df.show()"
   ]
  },
  {
   "cell_type": "code",
   "execution_count": 36,
   "id": "e71defe0",
   "metadata": {},
   "outputs": [],
   "source": [
    "from pyspark.sql import functions as sparkf"
   ]
  },
  {
   "cell_type": "code",
   "execution_count": 37,
   "id": "52fc6e11",
   "metadata": {},
   "outputs": [
    {
     "name": "stdout",
     "output_type": "stream",
     "text": [
      "+----------+\n",
      "|mid_length|\n",
      "+----------+\n",
      "|     white|\n",
      "|     green|\n",
      "|     brown|\n",
      "|      pink|\n",
      "+----------+\n",
      "\n"
     ]
    }
   ],
   "source": [
    "color_df.filter(sparkf.col('length').between(4,5))\\\n",
    ".select(sparkf.col('color').alias('mid_length')).show()"
   ]
  },
  {
   "cell_type": "code",
   "execution_count": 39,
   "id": "7e139507",
   "metadata": {},
   "outputs": [],
   "source": [
    "from pyspark.sql import functions as sparkf"
   ]
  },
  {
   "cell_type": "code",
   "execution_count": 40,
   "id": "7bd68919",
   "metadata": {},
   "outputs": [
    {
     "data": {
      "text/plain": [
       "<module 'pyspark.sql.functions' from '/usr/local/lib/python3.9/dist-packages/pyspark/sql/functions.py'>"
      ]
     },
     "execution_count": 40,
     "metadata": {},
     "output_type": "execute_result"
    }
   ],
   "source": [
    "sparkf"
   ]
  },
  {
   "cell_type": "code",
   "execution_count": 41,
   "id": "189e8c75",
   "metadata": {},
   "outputs": [
    {
     "name": "stdout",
     "output_type": "stream",
     "text": [
      "+------+------+\n",
      "| color|length|\n",
      "+------+------+\n",
      "| green|     5|\n",
      "|yellow|     6|\n",
      "| brown|     5|\n",
      "+------+------+\n",
      "\n"
     ]
    }
   ],
   "source": [
    "color_df.filter((sparkf.col('length') > 4)&(sparkf.col('color') !=\"white\"))\\\n",
    ".show()"
   ]
  },
  {
   "cell_type": "code",
   "execution_count": 45,
   "id": "a974959d",
   "metadata": {},
   "outputs": [
    {
     "name": "stdout",
     "output_type": "stream",
     "text": [
      "+------+------+\n",
      "| color|length|\n",
      "+------+------+\n",
      "|yellow|     6|\n",
      "| brown|     5|\n",
      "| green|     5|\n",
      "| white|     5|\n",
      "|  pink|     4|\n",
      "|   red|     3|\n",
      "+------+------+\n",
      "\n"
     ]
    }
   ],
   "source": [
    "color_df.orderBy(sparkf.col('length').desc(), sparkf.col('color').asc()).show()"
   ]
  },
  {
   "cell_type": "code",
   "execution_count": 46,
   "id": "b7165c51",
   "metadata": {},
   "outputs": [
    {
     "name": "stderr",
     "output_type": "stream",
     "text": [
      "[Stage 41:===============================================>        (64 + 5) / 75]\r"
     ]
    },
    {
     "name": "stdout",
     "output_type": "stream",
     "text": [
      "+------+-----+\n",
      "|length|count|\n",
      "+------+-----+\n",
      "|     6|    1|\n",
      "|     5|    3|\n",
      "|     3|    1|\n",
      "|     4|    1|\n",
      "+------+-----+\n",
      "\n"
     ]
    },
    {
     "name": "stderr",
     "output_type": "stream",
     "text": [
      "                                                                                \r"
     ]
    }
   ],
   "source": [
    "color_df.groupBy('length').count().show()"
   ]
  },
  {
   "cell_type": "code",
   "execution_count": 48,
   "id": "5a64793d",
   "metadata": {},
   "outputs": [
    {
     "name": "stderr",
     "output_type": "stream",
     "text": [
      "[Stage 51:============================================>           (59 + 4) / 75]\r"
     ]
    },
    {
     "name": "stdout",
     "output_type": "stream",
     "text": [
      "+------+-----------+\n",
      "| color|avg(length)|\n",
      "+------+-----------+\n",
      "| green|        5.0|\n",
      "|yellow|        6.0|\n",
      "| white|        5.0|\n",
      "|  pink|        4.0|\n",
      "|   red|        3.0|\n",
      "| brown|        5.0|\n",
      "+------+-----------+\n",
      "\n"
     ]
    },
    {
     "name": "stderr",
     "output_type": "stream",
     "text": [
      "                                                                                \r"
     ]
    }
   ],
   "source": [
    "color_df.groupBy('color').agg(sparkf.avg('length')).show()"
   ]
  },
  {
   "cell_type": "code",
   "execution_count": 49,
   "id": "c1c04bbd",
   "metadata": {},
   "outputs": [
    {
     "name": "stderr",
     "output_type": "stream",
     "text": [
      "[Stage 52:=============================>                            (2 + 2) / 4]\r"
     ]
    },
    {
     "name": "stdout",
     "output_type": "stream",
     "text": [
      "+-------+------+------------------+\n",
      "|summary| color|            length|\n",
      "+-------+------+------------------+\n",
      "|  count|     6|                 6|\n",
      "|   mean|  null| 4.666666666666667|\n",
      "| stddev|  null|1.0327955589886444|\n",
      "|    min| brown|                 3|\n",
      "|    max|yellow|                 6|\n",
      "+-------+------+------------------+\n",
      "\n"
     ]
    },
    {
     "name": "stderr",
     "output_type": "stream",
     "text": [
      "                                                                                \r"
     ]
    }
   ],
   "source": [
    "color_df.describe().show()"
   ]
  },
  {
   "cell_type": "code",
   "execution_count": 50,
   "id": "1fd75f9a",
   "metadata": {},
   "outputs": [
    {
     "data": {
      "text/plain": [
       "6"
      ]
     },
     "execution_count": 50,
     "metadata": {},
     "output_type": "execute_result"
    }
   ],
   "source": [
    "color_df.count()"
   ]
  },
  {
   "cell_type": "code",
   "execution_count": null,
   "id": "6508574b",
   "metadata": {},
   "outputs": [],
   "source": []
  }
 ],
 "metadata": {
  "kernelspec": {
   "display_name": "Python 3 (ipykernel)",
   "language": "python",
   "name": "python3"
  },
  "language_info": {
   "codemirror_mode": {
    "name": "ipython",
    "version": 3
   },
   "file_extension": ".py",
   "mimetype": "text/x-python",
   "name": "python",
   "nbconvert_exporter": "python",
   "pygments_lexer": "ipython3",
   "version": "3.9.2"
  }
 },
 "nbformat": 4,
 "nbformat_minor": 5
}
