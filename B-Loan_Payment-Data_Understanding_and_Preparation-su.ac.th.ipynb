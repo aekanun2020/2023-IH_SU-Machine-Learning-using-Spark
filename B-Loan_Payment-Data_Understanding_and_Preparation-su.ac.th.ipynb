{
 "cells": [
  {
   "cell_type": "code",
   "execution_count": 1,
   "id": "735a417a",
   "metadata": {},
   "outputs": [
    {
     "name": "stderr",
     "output_type": "stream",
     "text": [
      "23/06/11 14:29:14 WARN NativeCodeLoader: Unable to load native-hadoop library for your platform... using builtin-java classes where applicable\n",
      "Using Spark's default log4j profile: org/apache/spark/log4j-defaults.properties\n",
      "Setting default log level to \"WARN\".\n",
      "To adjust logging level use sc.setLogLevel(newLevel). For SparkR, use setLogLevel(newLevel).\n"
     ]
    }
   ],
   "source": [
    "# ปรับแต่งค่าการทำงานของ Spark\n",
    "from pyspark.sql import SparkSession\n",
    "\n",
    "spark = SparkSession.\\\n",
    "        builder.\\\n",
    "        appName(\"ChiSqSelector:Gender vs. Route\").\\\n",
    "        master(\"spark://spark-master:7077\").\\\n",
    "        config(\"spark.executor.memory\", \"1000m\").\\\n",
    "        config(\"spark.executor.cores\", \"2\").\\\n",
    "        config(\"spark.cores.max\", \"6\").\\\n",
    "        getOrCreate()"
   ]
  },
  {
   "cell_type": "code",
   "execution_count": 2,
   "id": "c0b2d881",
   "metadata": {},
   "outputs": [],
   "source": [
    "# กำหนดตัวแปร\n",
    "\n",
    "HIGHDISPERSION_LIST= [] #เก็บชื่อคอลัมน์\n",
    "HIGHNULL_LIST = [] #เก็บชื่อคอลัมน์\n",
    "NULL_LIST = [] #เก็บชื่อคอลัมน์\n",
    "NULL_PERC = 0.1 #สูงกว่าค่านี้ เป็น High Null ซึ่งอาจใช้วิธีลบทั้ง row ที่มี null ไม่ได้ เพราะอาจทำให้สูญเสียทั้ง row ไปเยอะเกินควร\n",
    "DISPERSION_PERC = 100 #สูงกว่าค่านี้ (%) เป็น High Dispersion"
   ]
  },
  {
   "cell_type": "code",
   "execution_count": 3,
   "id": "8dddd47f",
   "metadata": {},
   "outputs": [],
   "source": [
    "from pyspark.sql import functions as sparkf\n",
    "from pyspark.sql.types import *"
   ]
  },
  {
   "cell_type": "code",
   "execution_count": 4,
   "id": "46ad8b4e",
   "metadata": {},
   "outputs": [],
   "source": [
    "#! pip install scipy"
   ]
  },
  {
   "cell_type": "code",
   "execution_count": 5,
   "id": "78ba0d62",
   "metadata": {},
   "outputs": [],
   "source": [
    "# เรียกใช้ Module/Library ของ Python\n",
    "\n",
    "import numpy as np\n",
    "import scipy as sp\n",
    "import pandas as pd\n",
    "import matplotlib as mpl\n",
    "import matplotlib.pyplot as plt\n",
    "import seaborn as sns\n",
    "\n",
    "# Pandas options\n",
    "pd.set_option('display.max_colwidth', 1000, 'display.max_rows', None, 'display.max_columns', None)\n",
    "\n",
    "# Plotting options\n",
    "%matplotlib inline\n",
    "mpl.style.use('ggplot')\n",
    "sns.set(style='whitegrid')\n",
    "\n",
    "import warnings\n",
    "warnings.filterwarnings(\"ignore\")"
   ]
  },
  {
   "cell_type": "code",
   "execution_count": 6,
   "id": "b5852ffd",
   "metadata": {},
   "outputs": [],
   "source": [
    "# ประกาศฟังก์ชั่นที่ใช้ทำ Histogram กับ Boxplot เพื่อวิเคราะห์ distribution (shape), outlier และความสัมพันธ์ (correlation)\n",
    "\n",
    "def plot_var(arg_df, col_name, full_name, continuous):\n",
    "    \"\"\"\n",
    "    Visualize a variable with and without faceting on the loan status.\n",
    "    - col_name is the variable name in the dataframe\n",
    "    - full_name is the full variable name\n",
    "    - continuous is True if the variable is continuous, False otherwise\n",
    "    \"\"\"\n",
    "    f, (ax1, ax2) = plt.subplots(nrows=1, ncols=2, figsize=(12,3), dpi=90)\n",
    "    \n",
    "    # Plot without loan status\n",
    "    if continuous:\n",
    "        sns.distplot(arg_df.loc[arg_df[col_name].notnull(), col_name], kde=False, ax=ax1)\n",
    "    else:\n",
    "        sns.countplot(x=arg_df[col_name], order=sorted(arg_df[col_name].unique()), color='#5975A4', saturation=1, ax=ax1)\n",
    "    ax1.set_xlabel(full_name)\n",
    "    ax1.set_ylabel('Count')\n",
    "    ax1.set_title(full_name)\n",
    "\n",
    "    # Plot with loan status\n",
    "    if continuous:\n",
    "        sns.boxplot(x=col_name, y='loan_status', data=arg_df, ax=ax2)\n",
    "        ax2.set_ylabel('')\n",
    "        ax2.set_title(full_name + ' by Loan Status')\n",
    "    else:\n",
    "        charge_off_rates = arg_df.groupby(col_name)['loan_status'].value_counts(normalize=True).loc[:,'Charged Off']\n",
    "        sns.barplot(x=charge_off_rates.index, y=charge_off_rates.values, color='#5975A4', saturation=1, ax=ax2)\n",
    "        ax2.set_ylabel('Fraction of arg_df Charged-off')\n",
    "        ax2.set_title('Charge-off Rate by ' + full_name)\n",
    "    ax2.set_xlabel(full_name)\n",
    "    \n",
    "    plt.tight_layout()\n",
    "\n"
   ]
  },
  {
   "cell_type": "markdown",
   "id": "774fab61",
   "metadata": {},
   "source": [
    "## 1. Business Understaing\n",
    "    \n",
    "    1.1 Problem Statement: ต้องการทราบว่า ลูกหนี้แต่ละรายจะมาจ่ายหนี้ครบตามสัญญาเงินกู้ (Fully-paid) หรือไม่มาจ่ายฯ (Charged-off)\n",
    "    1.2 Project Objective: การจัดเก็บหนี้ดีขึ้นช่วยเพิ่มรายได้ให้กับกิจการ\n",
    "    1.3 Task of Data Science: Binary Classification\n",
    "    1.4 Cleansing Policy: ธุรกิจมี columns ที่แนะนำว่ามีความสัมพันธ์/ส่งผลต่อการชำระหนี้คืนตามสัญญา, ลบได้ทั้ง row หากมี missing ใน columns และแทนที่ได้ตามความเหมาะสม\n",
    "    1.5 Success Criteria: มี Recall/Sensitivity ไม่น้อยกว่า 0.65 บน Testing set แบบ Hold-out"
   ]
  },
  {
   "cell_type": "markdown",
   "id": "b62f6168",
   "metadata": {},
   "source": [
    "## 2. Data Understanding\n",
    "    \n",
    "    - มี Label เป็น column: loan_status\n",
    "    - มีขนาดใหญ่ (volume)เกินกว่าเทคโนโลยีปัจจุบัน (Python) จะทำงานได้อย่างมีประสิทธิภาพ จึงต้องใช้ Spark ร่วมด้วย\n",
    "    - CSV เป็น semi-structural data ที่มี header ซึ่งสามารถนำไปพัฒนาเป็น schema ของ structural data (Spark DataFrame) ได้\n",
    "    - Data Dict.: https://docs.google.com/spreadsheets/d/1qtZBSJ-JS7S2tGC0W9Yxp992LmrDaAwGcJB419Htbbw/edit#gid=1163295822"
   ]
  },
  {
   "cell_type": "code",
   "execution_count": 7,
   "id": "1c90ca21",
   "metadata": {},
   "outputs": [],
   "source": [
    "#กำหนด columns ที่ธุรกิจให้คำแนะนำฯ ไว้\n",
    "\n",
    "businessAttrs_df = [\"loan_amnt\",\"term\",\"int_rate\"\\\n",
    "                                ,\"installment\",\"grade\",\"emp_length\",\\\n",
    "                           \"home_ownership\",\"annual_inc\"\\\n",
    "                                ,\"verification_status\",\"loan_status\",\\\n",
    "                           \"purpose\",\"addr_state\",\"dti\",\"delinq_2yrs\"\\\n",
    "                                ,\"earliest_cr_line\",\\\n",
    "                           \"open_acc\",\"pub_rec\"\\\n",
    "                                ,\"revol_bal\",\"revol_util\",\"total_acc\",\"issue_d\"]"
   ]
  },
  {
   "cell_type": "code",
   "execution_count": 8,
   "id": "08c65e13",
   "metadata": {},
   "outputs": [],
   "source": [
    "###! apt-get update\n",
    "###! apt-get install wget -y"
   ]
  },
  {
   "cell_type": "code",
   "execution_count": 9,
   "id": "dc2ccb7d",
   "metadata": {},
   "outputs": [],
   "source": [
    "###! wget https://storage.googleapis.com/4jun2023/LoanStats_web.csv"
   ]
  },
  {
   "cell_type": "code",
   "execution_count": 10,
   "id": "d6a14311",
   "metadata": {},
   "outputs": [
    {
     "name": "stdout",
     "output_type": "stream",
     "text": [
      "1432493 LoanStats_web.csv\n"
     ]
    }
   ],
   "source": [
    "! wc -l LoanStats_web.csv"
   ]
  },
  {
   "cell_type": "code",
   "execution_count": 11,
   "id": "c27c6590",
   "metadata": {},
   "outputs": [
    {
     "name": "stdout",
     "output_type": "stream",
     "text": [
      "\"id\",\"member_id\",\"loan_amnt\",\"funded_amnt\",\"funded_amnt_inv\",\"term\",\"int_rate\",\"installment\",\"grade\",\"sub_grade\",\"emp_title\",\"emp_length\",\"home_ownership\",\"annual_inc\",\"verification_status\",\"issue_d\",\"loan_status\",\"pymnt_plan\",\"url\",\"desc\",\"purpose\",\"title\",\"zip_code\",\"addr_state\",\"dti\",\"delinq_2yrs\",\"earliest_cr_line\",\"inq_last_6mths\",\"mths_since_last_delinq\",\"mths_since_last_record\",\"open_acc\",\"pub_rec\",\"revol_bal\",\"revol_util\",\"total_acc\",\"initial_list_status\",\"out_prncp\",\"out_prncp_inv\",\"total_pymnt\",\"total_pymnt_inv\",\"total_rec_prncp\",\"total_rec_int\",\"total_rec_late_fee\",\"recoveries\",\"collection_recovery_fee\",\"last_pymnt_d\",\"last_pymnt_amnt\",\"next_pymnt_d\",\"last_credit_pull_d\",\"collections_12_mths_ex_med\",\"mths_since_last_major_derog\",\"policy_code\",\"application_type\",\"annual_inc_joint\",\"dti_joint\",\"verification_status_joint\",\"acc_now_delinq\",\"tot_coll_amt\",\"tot_cur_bal\",\"open_acc_6m\",\"open_act_il\",\"open_il_12m\",\"open_il_24m\",\"mths_since_rcnt_il\",\"total_bal_il\",\"il_util\",\"open_rv_12m\",\"open_rv_24m\",\"max_bal_bc\",\"all_util\",\"total_rev_hi_lim\",\"inq_fi\",\"total_cu_tl\",\"inq_last_12m\",\"acc_open_past_24mths\",\"avg_cur_bal\",\"bc_open_to_buy\",\"bc_util\",\"chargeoff_within_12_mths\",\"delinq_amnt\",\"mo_sin_old_il_acct\",\"mo_sin_old_rev_tl_op\",\"mo_sin_rcnt_rev_tl_op\",\"mo_sin_rcnt_tl\",\"mort_acc\",\"mths_since_recent_bc\",\"mths_since_recent_bc_dlq\",\"mths_since_recent_inq\",\"mths_since_recent_revol_delinq\",\"num_accts_ever_120_pd\",\"num_actv_bc_tl\",\"num_actv_rev_tl\",\"num_bc_sats\",\"num_bc_tl\",\"num_il_tl\",\"num_op_rev_tl\",\"num_rev_accts\",\"num_rev_tl_bal_gt_0\",\"num_sats\",\"num_tl_120dpd_2m\",\"num_tl_30dpd\",\"num_tl_90g_dpd_24m\",\"num_tl_op_past_12m\",\"pct_tl_nvr_dlq\",\"percent_bc_gt_75\",\"pub_rec_bankruptcies\",\"tax_liens\",\"tot_hi_cred_lim\",\"total_bal_ex_mort\",\"total_bc_limit\",\"total_il_high_credit_limit\",\"revol_bal_joint\",\"sec_app_earliest_cr_line\",\"sec_app_inq_last_6mths\",\"sec_app_mort_acc\",\"sec_app_open_acc\",\"sec_app_revol_util\",\"sec_app_open_act_il\",\"sec_app_num_rev_accts\",\"sec_app_chargeoff_within_12_mths\",\"sec_app_collections_12_mths_ex_med\",\"sec_app_mths_since_last_major_derog\",\"hardship_flag\",\"hardship_type\",\"hardship_reason\",\"hardship_status\",\"deferral_term\",\"hardship_amount\",\"hardship_start_date\",\"hardship_end_date\",\"payment_plan_start_date\",\"hardship_length\",\"hardship_dpd\",\"hardship_loan_status\",\"orig_projected_additional_accrued_interest\",\"hardship_payoff_balance_amount\",\"hardship_last_payment_amount\",\"debt_settlement_flag\",\"debt_settlement_flag_date\",\"settlement_status\",\"settlement_date\",\"settlement_amount\",\"settlement_percentage\",\"settlement_term\"\n",
      "\"\",\"\",\"12800\",\"12800\",\"12800\",\" 36 months\",\" 11.99%\",\"425.09\",\"C\",\"C1\",\"LOGISTICS COORDINATOR\",\"6 years\",\"MORTGAGE\",\"53000\",\"Verified\",\"Mar-2016\",\"Fully Paid\",\"n\",\"\",\"\",\"credit_card\",\"Credit card refinancing\",\"330xx\",\"FL\",\"20.99\",\"0\",\"Mar-2002\",\"0\",\"\",\"59\",\"7\",\"1\",\"8777\",\"79.1%\",\"16\",\"w\",\"0.00\",\"0.00\",\"15289.8112319621\",\"15289.81\",\"12800.00\",\"2489.81\",\"0.0\",\"0.0\",\"0.0\",\"Apr-2019\",\"424.75\",\"\",\"Mar-2019\",\"0\",\"\",\"1\",\"Individual\",\"\",\"\",\"\",\"0\",\"0\",\"221036\",\"2\",\"2\",\"1\",\"1\",\"9\",\"23227\",\"68\",\"1\",\"1\",\"3381\",\"71\",\"11100\",\"1\",\"0\",\"2\",\"3\",\"31577\",\"962\",\"87.8\",\"0\",\"0\",\"124\",\"168\",\"4\",\"4\",\"1\",\"43\",\"\",\"7\",\"\",\"0\",\"3\",\"4\",\"3\",\"4\",\"7\",\"4\",\"8\",\"4\",\"7\",\"0\",\"0\",\"0\",\"3\",\"100\",\"100\",\"1\",\"0\",\"235600\",\"32004\",\"7900\",\"34024\",\"\",\"\",\"\",\"\",\"\",\"\",\"\",\"\",\"\",\"\",\"\",\"N\",\"\",\"\",\"\",\"\",\"\",\"\",\"\",\"\",\"\",\"\",\"\",\"\",\"\",\"\",\"N\",\"\",\"\",\"\",\"\",\"\",\"\"\n",
      "\"\",\"\",\"9000\",\"9000\",\"9000\",\" 36 months\",\" 15.31%\",\"313.36\",\"C\",\"C5\",\"Senior Case Assistant\",\"9 years\",\"RENT\",\"52000\",\"Source Verified\",\"Mar-2016\",\"Fully Paid\",\"n\",\"\",\"\",\"debt_consolidation\",\"Debt consolidation\",\"945xx\",\"CA\",\"18.86\",\"0\",\"Nov-1999\",\"0\",\"24\",\"\",\"6\",\"0\",\"11713\",\"73.7%\",\"13\",\"w\",\"0.00\",\"0.00\",\"10193.6517427984\",\"10193.65\",\"9000.00\",\"1193.65\",\"0.0\",\"0.0\",\"0.0\",\"Mar-2017\",\"7064.14\",\"\",\"Jul-2019\",\"0\",\"\",\"1\",\"Individual\",\"\",\"\",\"\",\"0\",\"0\",\"52953\",\"2\",\"1\",\"1\",\"1\",\"4\",\"41240\",\"\",\"3\",\"3\",\"3789\",\"74\",\"15900\",\"0\",\"1\",\"2\",\"4\",\"8826\",\"4187\",\"73.7\",\"0\",\"0\",\"125\",\"196\",\"1\",\"1\",\"0\",\"1\",\"\",\"4\",\"\",\"0\",\"5\",\"5\",\"5\",\"9\",\"3\",\"5\",\"10\",\"5\",\"6\",\"0\",\"0\",\"0\",\"4\",\"92.3\",\"80\",\"0\",\"0\",\"58425\",\"52953\",\"15900\",\"42525\",\"\",\"\",\"\",\"\",\"\",\"\",\"\",\"\",\"\",\"\",\"\",\"N\",\"\",\"\",\"\",\"\",\"\",\"\",\"\",\"\",\"\",\"\",\"\",\"\",\"\",\"\",\"N\",\"\",\"\",\"\",\"\",\"\",\"\"\n"
     ]
    }
   ],
   "source": [
    "! head -3 LoanStats_web.csv"
   ]
  },
  {
   "cell_type": "code",
   "execution_count": 12,
   "id": "8bf2f645",
   "metadata": {},
   "outputs": [
    {
     "name": "stderr",
     "output_type": "stream",
     "text": [
      "                                                                                \r"
     ]
    }
   ],
   "source": [
    "# Spark อ่านข้อมูลจาก .csv แล้ว convert เป็น DataFrame\n",
    "\n",
    "raw_df = spark.read.option('header',True)\\\n",
    ".option(\"quote\", \"\\\"\")\\\n",
    ".option('mode','DROPMALFORMED')\\\n",
    ".option('inferSchema',True)\\\n",
    ".csv('LoanStats_web.csv')\\\n",
    ".select(businessAttrs_df)"
   ]
  },
  {
   "cell_type": "code",
   "execution_count": 13,
   "id": "b9b1e6bb",
   "metadata": {},
   "outputs": [
    {
     "name": "stderr",
     "output_type": "stream",
     "text": [
      "23/06/11 14:29:42 WARN package: Truncated the string representation of a plan since it was too large. This behavior can be adjusted by setting 'spark.sql.debug.maxToStringFields'.\n",
      "                                                                                \r"
     ]
    },
    {
     "data": {
      "text/plain": [
       "1432466"
      ]
     },
     "execution_count": 13,
     "metadata": {},
     "output_type": "execute_result"
    }
   ],
   "source": [
    "# Spark นับจำนวน row ใน DataFrame\n",
    "\n",
    "raw_df.count()"
   ]
  },
  {
   "cell_type": "code",
   "execution_count": 14,
   "id": "16bf6f63",
   "metadata": {},
   "outputs": [
    {
     "name": "stdout",
     "output_type": "stream",
     "text": [
      "root\n",
      " |-- loan_amnt: integer (nullable = true)\n",
      " |-- term: string (nullable = true)\n",
      " |-- int_rate: string (nullable = true)\n",
      " |-- installment: double (nullable = true)\n",
      " |-- grade: string (nullable = true)\n",
      " |-- emp_length: string (nullable = true)\n",
      " |-- home_ownership: string (nullable = true)\n",
      " |-- annual_inc: double (nullable = true)\n",
      " |-- verification_status: string (nullable = true)\n",
      " |-- loan_status: string (nullable = true)\n",
      " |-- purpose: string (nullable = true)\n",
      " |-- addr_state: string (nullable = true)\n",
      " |-- dti: string (nullable = true)\n",
      " |-- delinq_2yrs: string (nullable = true)\n",
      " |-- earliest_cr_line: string (nullable = true)\n",
      " |-- open_acc: integer (nullable = true)\n",
      " |-- pub_rec: integer (nullable = true)\n",
      " |-- revol_bal: integer (nullable = true)\n",
      " |-- revol_util: string (nullable = true)\n",
      " |-- total_acc: integer (nullable = true)\n",
      " |-- issue_d: string (nullable = true)\n",
      "\n"
     ]
    }
   ],
   "source": [
    "raw_df.printSchema()"
   ]
  },
  {
   "cell_type": "code",
   "execution_count": 15,
   "id": "cd9c0226",
   "metadata": {},
   "outputs": [
    {
     "name": "stderr",
     "output_type": "stream",
     "text": [
      "                                                                                \r"
     ]
    }
   ],
   "source": [
    "allRows_count = raw_df.count()"
   ]
  },
  {
   "cell_type": "code",
   "execution_count": null,
   "id": "4dab8ad2",
   "metadata": {},
   "outputs": [],
   "source": []
  },
  {
   "cell_type": "markdown",
   "id": "d8b1a760",
   "metadata": {},
   "source": [
    "### 2.1 Univariate Analysis"
   ]
  },
  {
   "cell_type": "code",
   "execution_count": 16,
   "id": "fe43787d",
   "metadata": {},
   "outputs": [
    {
     "name": "stderr",
     "output_type": "stream",
     "text": [
      "                                                                                \r"
     ]
    },
    {
     "data": {
      "text/html": [
       "<div>\n",
       "<style scoped>\n",
       "    .dataframe tbody tr th:only-of-type {\n",
       "        vertical-align: middle;\n",
       "    }\n",
       "\n",
       "    .dataframe tbody tr th {\n",
       "        vertical-align: top;\n",
       "    }\n",
       "\n",
       "    .dataframe thead th {\n",
       "        text-align: right;\n",
       "    }\n",
       "</style>\n",
       "<table border=\"1\" class=\"dataframe\">\n",
       "  <thead>\n",
       "    <tr style=\"text-align: right;\">\n",
       "      <th></th>\n",
       "      <th>0</th>\n",
       "      <th>1</th>\n",
       "      <th>2</th>\n",
       "      <th>3</th>\n",
       "      <th>4</th>\n",
       "    </tr>\n",
       "  </thead>\n",
       "  <tbody>\n",
       "    <tr>\n",
       "      <th>summary</th>\n",
       "      <td>count</td>\n",
       "      <td>mean</td>\n",
       "      <td>stddev</td>\n",
       "      <td>min</td>\n",
       "      <td>max</td>\n",
       "    </tr>\n",
       "    <tr>\n",
       "      <th>loan_amnt</th>\n",
       "      <td>1432440</td>\n",
       "      <td>15370.388358325654</td>\n",
       "      <td>9646.026272413836</td>\n",
       "      <td>1000</td>\n",
       "      <td>40000</td>\n",
       "    </tr>\n",
       "    <tr>\n",
       "      <th>term</th>\n",
       "      <td>1432440</td>\n",
       "      <td>None</td>\n",
       "      <td>None</td>\n",
       "      <td>36 months</td>\n",
       "      <td>60 months</td>\n",
       "    </tr>\n",
       "    <tr>\n",
       "      <th>int_rate</th>\n",
       "      <td>1432440</td>\n",
       "      <td>None</td>\n",
       "      <td>None</td>\n",
       "      <td>5.31%</td>\n",
       "      <td>30.99%</td>\n",
       "    </tr>\n",
       "    <tr>\n",
       "      <th>installment</th>\n",
       "      <td>1432440</td>\n",
       "      <td>456.68909888718275</td>\n",
       "      <td>281.7139997355062</td>\n",
       "      <td>19.4</td>\n",
       "      <td>1715.42</td>\n",
       "    </tr>\n",
       "    <tr>\n",
       "      <th>grade</th>\n",
       "      <td>1432440</td>\n",
       "      <td>None</td>\n",
       "      <td>None</td>\n",
       "      <td>A</td>\n",
       "      <td>G</td>\n",
       "    </tr>\n",
       "    <tr>\n",
       "      <th>emp_length</th>\n",
       "      <td>1432440</td>\n",
       "      <td>None</td>\n",
       "      <td>None</td>\n",
       "      <td>1 year</td>\n",
       "      <td>n/a</td>\n",
       "    </tr>\n",
       "    <tr>\n",
       "      <th>home_ownership</th>\n",
       "      <td>1432440</td>\n",
       "      <td>None</td>\n",
       "      <td>None</td>\n",
       "      <td>ANY</td>\n",
       "      <td>RENT</td>\n",
       "    </tr>\n",
       "    <tr>\n",
       "      <th>annual_inc</th>\n",
       "      <td>1432440</td>\n",
       "      <td>81034.58293296752</td>\n",
       "      <td>134183.35696714383</td>\n",
       "      <td>0.0</td>\n",
       "      <td>6.1E7</td>\n",
       "    </tr>\n",
       "    <tr>\n",
       "      <th>verification_status</th>\n",
       "      <td>1432440</td>\n",
       "      <td>None</td>\n",
       "      <td>None</td>\n",
       "      <td>Not Verified</td>\n",
       "      <td>Verified</td>\n",
       "    </tr>\n",
       "    <tr>\n",
       "      <th>loan_status</th>\n",
       "      <td>1432440</td>\n",
       "      <td>None</td>\n",
       "      <td>None</td>\n",
       "      <td>Charged Off</td>\n",
       "      <td>Late (31-120 days)</td>\n",
       "    </tr>\n",
       "    <tr>\n",
       "      <th>purpose</th>\n",
       "      <td>1432440</td>\n",
       "      <td>None</td>\n",
       "      <td>None</td>\n",
       "      <td>and also pay off some credit card debt.  I will be debt free except for my payment to you.  I don't care what the interest rate is</td>\n",
       "      <td>wedding</td>\n",
       "    </tr>\n",
       "    <tr>\n",
       "      <th>addr_state</th>\n",
       "      <td>1432440</td>\n",
       "      <td>None</td>\n",
       "      <td>None</td>\n",
       "      <td>AK</td>\n",
       "      <td>debt_consolidation</td>\n",
       "    </tr>\n",
       "    <tr>\n",
       "      <th>dti</th>\n",
       "      <td>1430856</td>\n",
       "      <td>19.211872978044386</td>\n",
       "      <td>15.97277532300159</td>\n",
       "      <td>-1</td>\n",
       "      <td>Debt consolidation</td>\n",
       "    </tr>\n",
       "    <tr>\n",
       "      <th>delinq_2yrs</th>\n",
       "      <td>1432440</td>\n",
       "      <td>0.30147182532729144</td>\n",
       "      <td>0.8643187650693935</td>\n",
       "      <td>0</td>\n",
       "      <td>9</td>\n",
       "    </tr>\n",
       "    <tr>\n",
       "      <th>earliest_cr_line</th>\n",
       "      <td>1432440</td>\n",
       "      <td>None</td>\n",
       "      <td>None</td>\n",
       "      <td>Apr-1955</td>\n",
       "      <td>Sep-2015</td>\n",
       "    </tr>\n",
       "    <tr>\n",
       "      <th>open_acc</th>\n",
       "      <td>1432440</td>\n",
       "      <td>11.710318756806569</td>\n",
       "      <td>5.841056149724126</td>\n",
       "      <td>0</td>\n",
       "      <td>101</td>\n",
       "    </tr>\n",
       "    <tr>\n",
       "      <th>pub_rec</th>\n",
       "      <td>1432439</td>\n",
       "      <td>0.20539234131435963</td>\n",
       "      <td>0.5861093697871824</td>\n",
       "      <td>0</td>\n",
       "      <td>61</td>\n",
       "    </tr>\n",
       "    <tr>\n",
       "      <th>revol_bal</th>\n",
       "      <td>1432439</td>\n",
       "      <td>16846.678102173984</td>\n",
       "      <td>23301.014583199438</td>\n",
       "      <td>0</td>\n",
       "      <td>2358150</td>\n",
       "    </tr>\n",
       "    <tr>\n",
       "      <th>revol_util</th>\n",
       "      <td>1431251</td>\n",
       "      <td>19.0</td>\n",
       "      <td>NaN</td>\n",
       "      <td>0%</td>\n",
       "      <td>99.9%</td>\n",
       "    </tr>\n",
       "    <tr>\n",
       "      <th>total_acc</th>\n",
       "      <td>1432440</td>\n",
       "      <td>23.602901343162717</td>\n",
       "      <td>12.04098331503924</td>\n",
       "      <td>0</td>\n",
       "      <td>176</td>\n",
       "    </tr>\n",
       "    <tr>\n",
       "      <th>issue_d</th>\n",
       "      <td>1432440</td>\n",
       "      <td>None</td>\n",
       "      <td>None</td>\n",
       "      <td>Apr-2016</td>\n",
       "      <td>Sep-2018</td>\n",
       "    </tr>\n",
       "  </tbody>\n",
       "</table>\n",
       "</div>"
      ],
      "text/plain": [
       "                           0                    1                   2  \\\n",
       "summary                count                 mean              stddev   \n",
       "loan_amnt            1432440   15370.388358325654   9646.026272413836   \n",
       "term                 1432440                 None                None   \n",
       "int_rate             1432440                 None                None   \n",
       "installment          1432440   456.68909888718275   281.7139997355062   \n",
       "grade                1432440                 None                None   \n",
       "emp_length           1432440                 None                None   \n",
       "home_ownership       1432440                 None                None   \n",
       "annual_inc           1432440    81034.58293296752  134183.35696714383   \n",
       "verification_status  1432440                 None                None   \n",
       "loan_status          1432440                 None                None   \n",
       "purpose              1432440                 None                None   \n",
       "addr_state           1432440                 None                None   \n",
       "dti                  1430856   19.211872978044386   15.97277532300159   \n",
       "delinq_2yrs          1432440  0.30147182532729144  0.8643187650693935   \n",
       "earliest_cr_line     1432440                 None                None   \n",
       "open_acc             1432440   11.710318756806569   5.841056149724126   \n",
       "pub_rec              1432439  0.20539234131435963  0.5861093697871824   \n",
       "revol_bal            1432439   16846.678102173984  23301.014583199438   \n",
       "revol_util           1431251                 19.0                 NaN   \n",
       "total_acc            1432440   23.602901343162717   12.04098331503924   \n",
       "issue_d              1432440                 None                None   \n",
       "\n",
       "                                                                                                                                                       3  \\\n",
       "summary                                                                                                                                              min   \n",
       "loan_amnt                                                                                                                                           1000   \n",
       "term                                                                                                                                           36 months   \n",
       "int_rate                                                                                                                                           5.31%   \n",
       "installment                                                                                                                                         19.4   \n",
       "grade                                                                                                                                                  A   \n",
       "emp_length                                                                                                                                        1 year   \n",
       "home_ownership                                                                                                                                       ANY   \n",
       "annual_inc                                                                                                                                           0.0   \n",
       "verification_status                                                                                                                         Not Verified   \n",
       "loan_status                                                                                                                                  Charged Off   \n",
       "purpose               and also pay off some credit card debt.  I will be debt free except for my payment to you.  I don't care what the interest rate is   \n",
       "addr_state                                                                                                                                            AK   \n",
       "dti                                                                                                                                                   -1   \n",
       "delinq_2yrs                                                                                                                                            0   \n",
       "earliest_cr_line                                                                                                                                Apr-1955   \n",
       "open_acc                                                                                                                                               0   \n",
       "pub_rec                                                                                                                                                0   \n",
       "revol_bal                                                                                                                                              0   \n",
       "revol_util                                                                                                                                            0%   \n",
       "total_acc                                                                                                                                              0   \n",
       "issue_d                                                                                                                                         Apr-2016   \n",
       "\n",
       "                                      4  \n",
       "summary                             max  \n",
       "loan_amnt                         40000  \n",
       "term                          60 months  \n",
       "int_rate                         30.99%  \n",
       "installment                     1715.42  \n",
       "grade                                 G  \n",
       "emp_length                          n/a  \n",
       "home_ownership                     RENT  \n",
       "annual_inc                        6.1E7  \n",
       "verification_status            Verified  \n",
       "loan_status          Late (31-120 days)  \n",
       "purpose                         wedding  \n",
       "addr_state           debt_consolidation  \n",
       "dti                  Debt consolidation  \n",
       "delinq_2yrs                           9  \n",
       "earliest_cr_line               Sep-2015  \n",
       "open_acc                            101  \n",
       "pub_rec                              61  \n",
       "revol_bal                       2358150  \n",
       "revol_util                        99.9%  \n",
       "total_acc                           176  \n",
       "issue_d                        Sep-2018  "
      ]
     },
     "execution_count": 16,
     "metadata": {},
     "output_type": "execute_result"
    }
   ],
   "source": [
    "# Spark วิเคราะห์ column แล้วแสดงค่าทางสถิติ 5 ค่า ของแต่ละ column โดยมี Python Pandas ช่วยในการแสดงผล\n",
    "\n",
    "raw_df.describe().toPandas().transpose()\n",
    "\n",
    "#### ผลจากการดู Range ขัอเกต คือ annual_inc มี 0 ด้วย"
   ]
  },
  {
   "cell_type": "code",
   "execution_count": 17,
   "id": "d79b1668",
   "metadata": {},
   "outputs": [
    {
     "name": "stderr",
     "output_type": "stream",
     "text": [
      "                                                                                \r"
     ]
    },
    {
     "data": {
      "text/html": [
       "<div>\n",
       "<style scoped>\n",
       "    .dataframe tbody tr th:only-of-type {\n",
       "        vertical-align: middle;\n",
       "    }\n",
       "\n",
       "    .dataframe tbody tr th {\n",
       "        vertical-align: top;\n",
       "    }\n",
       "\n",
       "    .dataframe thead th {\n",
       "        text-align: right;\n",
       "    }\n",
       "</style>\n",
       "<table border=\"1\" class=\"dataframe\">\n",
       "  <thead>\n",
       "    <tr style=\"text-align: right;\">\n",
       "      <th></th>\n",
       "      <th>0</th>\n",
       "      <th>1</th>\n",
       "      <th>2</th>\n",
       "      <th>3</th>\n",
       "      <th>4</th>\n",
       "    </tr>\n",
       "  </thead>\n",
       "  <tbody>\n",
       "    <tr>\n",
       "      <th>summary</th>\n",
       "      <td>count</td>\n",
       "      <td>mean</td>\n",
       "      <td>stddev</td>\n",
       "      <td>min</td>\n",
       "      <td>max</td>\n",
       "    </tr>\n",
       "    <tr>\n",
       "      <th>loan_amnt</th>\n",
       "      <td>1553</td>\n",
       "      <td>19987.411461687057</td>\n",
       "      <td>11113.147359296125</td>\n",
       "      <td>1000</td>\n",
       "      <td>40000</td>\n",
       "    </tr>\n",
       "    <tr>\n",
       "      <th>term</th>\n",
       "      <td>1553</td>\n",
       "      <td>None</td>\n",
       "      <td>None</td>\n",
       "      <td>36 months</td>\n",
       "      <td>60 months</td>\n",
       "    </tr>\n",
       "    <tr>\n",
       "      <th>int_rate</th>\n",
       "      <td>1553</td>\n",
       "      <td>None</td>\n",
       "      <td>None</td>\n",
       "      <td>5.31%</td>\n",
       "      <td>30.79%</td>\n",
       "    </tr>\n",
       "    <tr>\n",
       "      <th>installment</th>\n",
       "      <td>1553</td>\n",
       "      <td>572.9260785576306</td>\n",
       "      <td>325.60197159326947</td>\n",
       "      <td>33.57</td>\n",
       "      <td>1597.6</td>\n",
       "    </tr>\n",
       "    <tr>\n",
       "      <th>grade</th>\n",
       "      <td>1553</td>\n",
       "      <td>None</td>\n",
       "      <td>None</td>\n",
       "      <td>A</td>\n",
       "      <td>G</td>\n",
       "    </tr>\n",
       "    <tr>\n",
       "      <th>emp_length</th>\n",
       "      <td>1553</td>\n",
       "      <td>None</td>\n",
       "      <td>None</td>\n",
       "      <td>1 year</td>\n",
       "      <td>n/a</td>\n",
       "    </tr>\n",
       "    <tr>\n",
       "      <th>home_ownership</th>\n",
       "      <td>1553</td>\n",
       "      <td>None</td>\n",
       "      <td>None</td>\n",
       "      <td>MORTGAGE</td>\n",
       "      <td>RENT</td>\n",
       "    </tr>\n",
       "    <tr>\n",
       "      <th>annual_inc</th>\n",
       "      <td>1553</td>\n",
       "      <td>0.0</td>\n",
       "      <td>0.0</td>\n",
       "      <td>0.0</td>\n",
       "      <td>0.0</td>\n",
       "    </tr>\n",
       "    <tr>\n",
       "      <th>verification_status</th>\n",
       "      <td>1553</td>\n",
       "      <td>None</td>\n",
       "      <td>None</td>\n",
       "      <td>Not Verified</td>\n",
       "      <td>Verified</td>\n",
       "    </tr>\n",
       "    <tr>\n",
       "      <th>loan_status</th>\n",
       "      <td>1553</td>\n",
       "      <td>None</td>\n",
       "      <td>None</td>\n",
       "      <td>Charged Off</td>\n",
       "      <td>Late (31-120 days)</td>\n",
       "    </tr>\n",
       "    <tr>\n",
       "      <th>purpose</th>\n",
       "      <td>1553</td>\n",
       "      <td>None</td>\n",
       "      <td>None</td>\n",
       "      <td>car</td>\n",
       "      <td>vacation</td>\n",
       "    </tr>\n",
       "    <tr>\n",
       "      <th>addr_state</th>\n",
       "      <td>1553</td>\n",
       "      <td>None</td>\n",
       "      <td>None</td>\n",
       "      <td>AK</td>\n",
       "      <td>WY</td>\n",
       "    </tr>\n",
       "    <tr>\n",
       "      <th>dti</th>\n",
       "      <td>12</td>\n",
       "      <td>0.0</td>\n",
       "      <td>0.0</td>\n",
       "      <td>0</td>\n",
       "      <td>0</td>\n",
       "    </tr>\n",
       "    <tr>\n",
       "      <th>delinq_2yrs</th>\n",
       "      <td>1553</td>\n",
       "      <td>0.13715389568576947</td>\n",
       "      <td>0.46652519808724396</td>\n",
       "      <td>0</td>\n",
       "      <td>5</td>\n",
       "    </tr>\n",
       "    <tr>\n",
       "      <th>earliest_cr_line</th>\n",
       "      <td>1553</td>\n",
       "      <td>None</td>\n",
       "      <td>None</td>\n",
       "      <td>Apr-1971</td>\n",
       "      <td>Sep-2014</td>\n",
       "    </tr>\n",
       "    <tr>\n",
       "      <th>open_acc</th>\n",
       "      <td>1553</td>\n",
       "      <td>9.353509336767546</td>\n",
       "      <td>4.990256187132899</td>\n",
       "      <td>1</td>\n",
       "      <td>35</td>\n",
       "    </tr>\n",
       "    <tr>\n",
       "      <th>pub_rec</th>\n",
       "      <td>1553</td>\n",
       "      <td>0.10238248551191242</td>\n",
       "      <td>0.311631457760992</td>\n",
       "      <td>0</td>\n",
       "      <td>2</td>\n",
       "    </tr>\n",
       "    <tr>\n",
       "      <th>revol_bal</th>\n",
       "      <td>1553</td>\n",
       "      <td>17498.609143593047</td>\n",
       "      <td>29288.073420843775</td>\n",
       "      <td>0</td>\n",
       "      <td>609131</td>\n",
       "    </tr>\n",
       "    <tr>\n",
       "      <th>revol_util</th>\n",
       "      <td>1547</td>\n",
       "      <td>None</td>\n",
       "      <td>None</td>\n",
       "      <td>0%</td>\n",
       "      <td>99.9%</td>\n",
       "    </tr>\n",
       "    <tr>\n",
       "      <th>total_acc</th>\n",
       "      <td>1553</td>\n",
       "      <td>18.24146812620734</td>\n",
       "      <td>10.010511532493517</td>\n",
       "      <td>2</td>\n",
       "      <td>78</td>\n",
       "    </tr>\n",
       "    <tr>\n",
       "      <th>issue_d</th>\n",
       "      <td>1553</td>\n",
       "      <td>None</td>\n",
       "      <td>None</td>\n",
       "      <td>Apr-2016</td>\n",
       "      <td>Sep-2018</td>\n",
       "    </tr>\n",
       "  </tbody>\n",
       "</table>\n",
       "</div>"
      ],
      "text/plain": [
       "                         0                    1                    2  \\\n",
       "summary              count                 mean               stddev   \n",
       "loan_amnt             1553   19987.411461687057   11113.147359296125   \n",
       "term                  1553                 None                 None   \n",
       "int_rate              1553                 None                 None   \n",
       "installment           1553    572.9260785576306   325.60197159326947   \n",
       "grade                 1553                 None                 None   \n",
       "emp_length            1553                 None                 None   \n",
       "home_ownership        1553                 None                 None   \n",
       "annual_inc            1553                  0.0                  0.0   \n",
       "verification_status   1553                 None                 None   \n",
       "loan_status           1553                 None                 None   \n",
       "purpose               1553                 None                 None   \n",
       "addr_state            1553                 None                 None   \n",
       "dti                     12                  0.0                  0.0   \n",
       "delinq_2yrs           1553  0.13715389568576947  0.46652519808724396   \n",
       "earliest_cr_line      1553                 None                 None   \n",
       "open_acc              1553    9.353509336767546    4.990256187132899   \n",
       "pub_rec               1553  0.10238248551191242    0.311631457760992   \n",
       "revol_bal             1553   17498.609143593047   29288.073420843775   \n",
       "revol_util            1547                 None                 None   \n",
       "total_acc             1553    18.24146812620734   10.010511532493517   \n",
       "issue_d               1553                 None                 None   \n",
       "\n",
       "                                3                   4  \n",
       "summary                       min                 max  \n",
       "loan_amnt                    1000               40000  \n",
       "term                    36 months           60 months  \n",
       "int_rate                    5.31%              30.79%  \n",
       "installment                 33.57              1597.6  \n",
       "grade                           A                   G  \n",
       "emp_length                 1 year                 n/a  \n",
       "home_ownership           MORTGAGE                RENT  \n",
       "annual_inc                    0.0                 0.0  \n",
       "verification_status  Not Verified            Verified  \n",
       "loan_status           Charged Off  Late (31-120 days)  \n",
       "purpose                       car            vacation  \n",
       "addr_state                     AK                  WY  \n",
       "dti                             0                   0  \n",
       "delinq_2yrs                     0                   5  \n",
       "earliest_cr_line         Apr-1971            Sep-2014  \n",
       "open_acc                        1                  35  \n",
       "pub_rec                         0                   2  \n",
       "revol_bal                       0              609131  \n",
       "revol_util                     0%               99.9%  \n",
       "total_acc                       2                  78  \n",
       "issue_d                  Apr-2016            Sep-2018  "
      ]
     },
     "execution_count": 17,
     "metadata": {},
     "output_type": "execute_result"
    }
   ],
   "source": [
    "#### ขยายผลกลุ่ม annual_inc = 0 ต่อไป เพื่อดูว่า ปล่อยกู้ในกลุ่มนี้ ยังงัยบ้าง\n",
    "raw_df.filter(sparkf.col('annual_inc')==0).describe().toPandas().transpose()"
   ]
  },
  {
   "cell_type": "code",
   "execution_count": 18,
   "id": "b2e0ce4e",
   "metadata": {},
   "outputs": [
    {
     "name": "stderr",
     "output_type": "stream",
     "text": [
      "                                                                                \r"
     ]
    },
    {
     "name": "stdout",
     "output_type": "stream",
     "text": [
      "+---------+-----+\n",
      "|loan_amnt|count|\n",
      "+---------+-----+\n",
      "|    40000|  126|\n",
      "|    20000|   94|\n",
      "|    10000|   87|\n",
      "|    35000|   85|\n",
      "|    15000|   80|\n",
      "|    30000|   75|\n",
      "|    12000|   73|\n",
      "|    25000|   58|\n",
      "|    16000|   56|\n",
      "|    24000|   54|\n",
      "|     5000|   44|\n",
      "|     8000|   42|\n",
      "|    32000|   36|\n",
      "|    18000|   31|\n",
      "|     6000|   25|\n",
      "|    28000|   21|\n",
      "|    14000|   18|\n",
      "|    11000|   17|\n",
      "|     7000|   16|\n",
      "|    13000|   16|\n",
      "+---------+-----+\n",
      "only showing top 20 rows\n",
      "\n"
     ]
    }
   ],
   "source": [
    "#### code ก่อนหน้านี้เห็นว่า กลุ่ม annual_inc = 0 มีการปล่อยกู้ด้วยวงเงินสูงสุด 40,000\n",
    "#### code ในส่วนนี้ เห็นว่า คนที่ได้รับเงินกู้ไป 40,000 มีจำนวน 126 คน ซึ่งมากที่สุดแล้วในกลุ่ม annual_inc = 0\n",
    "raw_df.filter(sparkf.col('annual_inc')==0).groupBy('loan_amnt').count()\\\n",
    ".orderBy('count', ascending=False).show()"
   ]
  },
  {
   "cell_type": "code",
   "execution_count": 19,
   "id": "1fadfee2",
   "metadata": {},
   "outputs": [
    {
     "name": "stderr",
     "output_type": "stream",
     "text": [
      "                                                                                \r"
     ]
    },
    {
     "data": {
      "text/html": [
       "<div>\n",
       "<style scoped>\n",
       "    .dataframe tbody tr th:only-of-type {\n",
       "        vertical-align: middle;\n",
       "    }\n",
       "\n",
       "    .dataframe tbody tr th {\n",
       "        vertical-align: top;\n",
       "    }\n",
       "\n",
       "    .dataframe thead th {\n",
       "        text-align: right;\n",
       "    }\n",
       "</style>\n",
       "<table border=\"1\" class=\"dataframe\">\n",
       "  <thead>\n",
       "    <tr style=\"text-align: right;\">\n",
       "      <th>summary</th>\n",
       "      <th>count</th>\n",
       "      <th>mean</th>\n",
       "      <th>stddev</th>\n",
       "      <th>CV</th>\n",
       "    </tr>\n",
       "  </thead>\n",
       "  <tbody>\n",
       "    <tr>\n",
       "      <th>delinq_2yrs</th>\n",
       "      <td>1432440.0</td>\n",
       "      <td>0.301472</td>\n",
       "      <td>0.864319</td>\n",
       "      <td>286.70</td>\n",
       "    </tr>\n",
       "    <tr>\n",
       "      <th>pub_rec</th>\n",
       "      <td>1432439.0</td>\n",
       "      <td>0.205392</td>\n",
       "      <td>0.586109</td>\n",
       "      <td>285.36</td>\n",
       "    </tr>\n",
       "    <tr>\n",
       "      <th>annual_inc</th>\n",
       "      <td>1432440.0</td>\n",
       "      <td>81034.582933</td>\n",
       "      <td>134183.356967</td>\n",
       "      <td>165.59</td>\n",
       "    </tr>\n",
       "    <tr>\n",
       "      <th>revol_bal</th>\n",
       "      <td>1432439.0</td>\n",
       "      <td>16846.678102</td>\n",
       "      <td>23301.014583</td>\n",
       "      <td>138.31</td>\n",
       "    </tr>\n",
       "    <tr>\n",
       "      <th>dti</th>\n",
       "      <td>1430856.0</td>\n",
       "      <td>19.211873</td>\n",
       "      <td>15.972775</td>\n",
       "      <td>83.14</td>\n",
       "    </tr>\n",
       "    <tr>\n",
       "      <th>loan_amnt</th>\n",
       "      <td>1432440.0</td>\n",
       "      <td>15370.388358</td>\n",
       "      <td>9646.026272</td>\n",
       "      <td>62.76</td>\n",
       "    </tr>\n",
       "    <tr>\n",
       "      <th>installment</th>\n",
       "      <td>1432440.0</td>\n",
       "      <td>456.689099</td>\n",
       "      <td>281.714000</td>\n",
       "      <td>61.69</td>\n",
       "    </tr>\n",
       "    <tr>\n",
       "      <th>total_acc</th>\n",
       "      <td>1432440.0</td>\n",
       "      <td>23.602901</td>\n",
       "      <td>12.040983</td>\n",
       "      <td>51.01</td>\n",
       "    </tr>\n",
       "    <tr>\n",
       "      <th>open_acc</th>\n",
       "      <td>1432440.0</td>\n",
       "      <td>11.710319</td>\n",
       "      <td>5.841056</td>\n",
       "      <td>49.88</td>\n",
       "    </tr>\n",
       "    <tr>\n",
       "      <th>term</th>\n",
       "      <td>1432440.0</td>\n",
       "      <td>NaN</td>\n",
       "      <td>NaN</td>\n",
       "      <td>NaN</td>\n",
       "    </tr>\n",
       "    <tr>\n",
       "      <th>int_rate</th>\n",
       "      <td>1432440.0</td>\n",
       "      <td>NaN</td>\n",
       "      <td>NaN</td>\n",
       "      <td>NaN</td>\n",
       "    </tr>\n",
       "    <tr>\n",
       "      <th>grade</th>\n",
       "      <td>1432440.0</td>\n",
       "      <td>NaN</td>\n",
       "      <td>NaN</td>\n",
       "      <td>NaN</td>\n",
       "    </tr>\n",
       "    <tr>\n",
       "      <th>emp_length</th>\n",
       "      <td>1432440.0</td>\n",
       "      <td>NaN</td>\n",
       "      <td>NaN</td>\n",
       "      <td>NaN</td>\n",
       "    </tr>\n",
       "    <tr>\n",
       "      <th>home_ownership</th>\n",
       "      <td>1432440.0</td>\n",
       "      <td>NaN</td>\n",
       "      <td>NaN</td>\n",
       "      <td>NaN</td>\n",
       "    </tr>\n",
       "    <tr>\n",
       "      <th>verification_status</th>\n",
       "      <td>1432440.0</td>\n",
       "      <td>NaN</td>\n",
       "      <td>NaN</td>\n",
       "      <td>NaN</td>\n",
       "    </tr>\n",
       "    <tr>\n",
       "      <th>loan_status</th>\n",
       "      <td>1432440.0</td>\n",
       "      <td>NaN</td>\n",
       "      <td>NaN</td>\n",
       "      <td>NaN</td>\n",
       "    </tr>\n",
       "    <tr>\n",
       "      <th>purpose</th>\n",
       "      <td>1432440.0</td>\n",
       "      <td>NaN</td>\n",
       "      <td>NaN</td>\n",
       "      <td>NaN</td>\n",
       "    </tr>\n",
       "    <tr>\n",
       "      <th>addr_state</th>\n",
       "      <td>1432440.0</td>\n",
       "      <td>NaN</td>\n",
       "      <td>NaN</td>\n",
       "      <td>NaN</td>\n",
       "    </tr>\n",
       "    <tr>\n",
       "      <th>earliest_cr_line</th>\n",
       "      <td>1432440.0</td>\n",
       "      <td>NaN</td>\n",
       "      <td>NaN</td>\n",
       "      <td>NaN</td>\n",
       "    </tr>\n",
       "    <tr>\n",
       "      <th>revol_util</th>\n",
       "      <td>1431251.0</td>\n",
       "      <td>19.000000</td>\n",
       "      <td>NaN</td>\n",
       "      <td>NaN</td>\n",
       "    </tr>\n",
       "    <tr>\n",
       "      <th>issue_d</th>\n",
       "      <td>1432440.0</td>\n",
       "      <td>NaN</td>\n",
       "      <td>NaN</td>\n",
       "      <td>NaN</td>\n",
       "    </tr>\n",
       "  </tbody>\n",
       "</table>\n",
       "</div>"
      ],
      "text/plain": [
       "summary                  count          mean         stddev      CV\n",
       "delinq_2yrs          1432440.0      0.301472       0.864319  286.70\n",
       "pub_rec              1432439.0      0.205392       0.586109  285.36\n",
       "annual_inc           1432440.0  81034.582933  134183.356967  165.59\n",
       "revol_bal            1432439.0  16846.678102   23301.014583  138.31\n",
       "dti                  1430856.0     19.211873      15.972775   83.14\n",
       "loan_amnt            1432440.0  15370.388358    9646.026272   62.76\n",
       "installment          1432440.0    456.689099     281.714000   61.69\n",
       "total_acc            1432440.0     23.602901      12.040983   51.01\n",
       "open_acc             1432440.0     11.710319       5.841056   49.88\n",
       "term                 1432440.0           NaN            NaN     NaN\n",
       "int_rate             1432440.0           NaN            NaN     NaN\n",
       "grade                1432440.0           NaN            NaN     NaN\n",
       "emp_length           1432440.0           NaN            NaN     NaN\n",
       "home_ownership       1432440.0           NaN            NaN     NaN\n",
       "verification_status  1432440.0           NaN            NaN     NaN\n",
       "loan_status          1432440.0           NaN            NaN     NaN\n",
       "purpose              1432440.0           NaN            NaN     NaN\n",
       "addr_state           1432440.0           NaN            NaN     NaN\n",
       "earliest_cr_line     1432440.0           NaN            NaN     NaN\n",
       "revol_util           1431251.0     19.000000            NaN     NaN\n",
       "issue_d              1432440.0           NaN            NaN     NaN"
      ]
     },
     "execution_count": 19,
     "metadata": {},
     "output_type": "execute_result"
    }
   ],
   "source": [
    "# Spark และ Pandas ร่วมกันคำนวณ Coefficient of Variation (CV)\n",
    "\n",
    "basicStat_pd = raw_df.describe().toPandas().transpose()\n",
    "\n",
    "header_series = basicStat_pd.iloc[0]\n",
    "\n",
    "noColBasicStat_pd = basicStat_pd[1:]\n",
    "\n",
    "noColBasicStat_pd.columns = header_series\n",
    "\n",
    "basicStat_pd = noColBasicStat_pd\n",
    "\n",
    "basicStat_pd = basicStat_pd[['count','mean','stddev']].astype('float64')\n",
    "\n",
    "basicStat_pd = basicStat_pd.assign(CV=lambda x: round((x['stddev']/x['mean'])*100,2))\\\n",
    ".sort_values('CV',ascending=False)\n",
    "basicStat_pd"
   ]
  },
  {
   "cell_type": "code",
   "execution_count": 20,
   "id": "dfb1020f",
   "metadata": {},
   "outputs": [
    {
     "data": {
      "text/html": [
       "<div>\n",
       "<style scoped>\n",
       "    .dataframe tbody tr th:only-of-type {\n",
       "        vertical-align: middle;\n",
       "    }\n",
       "\n",
       "    .dataframe tbody tr th {\n",
       "        vertical-align: top;\n",
       "    }\n",
       "\n",
       "    .dataframe thead th {\n",
       "        text-align: right;\n",
       "    }\n",
       "</style>\n",
       "<table border=\"1\" class=\"dataframe\">\n",
       "  <thead>\n",
       "    <tr style=\"text-align: right;\">\n",
       "      <th>summary</th>\n",
       "      <th>count</th>\n",
       "      <th>mean</th>\n",
       "      <th>stddev</th>\n",
       "      <th>CV</th>\n",
       "    </tr>\n",
       "  </thead>\n",
       "  <tbody>\n",
       "    <tr>\n",
       "      <th>delinq_2yrs</th>\n",
       "      <td>1432440.0</td>\n",
       "      <td>0.301472</td>\n",
       "      <td>0.864319</td>\n",
       "      <td>286.70</td>\n",
       "    </tr>\n",
       "    <tr>\n",
       "      <th>pub_rec</th>\n",
       "      <td>1432439.0</td>\n",
       "      <td>0.205392</td>\n",
       "      <td>0.586109</td>\n",
       "      <td>285.36</td>\n",
       "    </tr>\n",
       "    <tr>\n",
       "      <th>annual_inc</th>\n",
       "      <td>1432440.0</td>\n",
       "      <td>81034.582933</td>\n",
       "      <td>134183.356967</td>\n",
       "      <td>165.59</td>\n",
       "    </tr>\n",
       "    <tr>\n",
       "      <th>revol_bal</th>\n",
       "      <td>1432439.0</td>\n",
       "      <td>16846.678102</td>\n",
       "      <td>23301.014583</td>\n",
       "      <td>138.31</td>\n",
       "    </tr>\n",
       "  </tbody>\n",
       "</table>\n",
       "</div>"
      ],
      "text/plain": [
       "summary          count          mean         stddev      CV\n",
       "delinq_2yrs  1432440.0      0.301472       0.864319  286.70\n",
       "pub_rec      1432439.0      0.205392       0.586109  285.36\n",
       "annual_inc   1432440.0  81034.582933  134183.356967  165.59\n",
       "revol_bal    1432439.0  16846.678102   23301.014583  138.31"
      ]
     },
     "execution_count": 20,
     "metadata": {},
     "output_type": "execute_result"
    }
   ],
   "source": [
    "# Spark และ Pandas ร่วมกันกรองออกมาเฉพาะ CV ที่เกิน DISPERSION_PERC\n",
    "\n",
    "basicStat_pd[basicStat_pd.assign(CV=lambda x: round((x['stddev']/x['mean'])*100,2))\\\n",
    ".sort_values('CV',ascending=False)['CV']>DISPERSION_PERC]"
   ]
  },
  {
   "cell_type": "code",
   "execution_count": 21,
   "id": "fb3c5cb1",
   "metadata": {},
   "outputs": [],
   "source": [
    "# Spark และ Pandas ได้รับรายชื่อ Col. ที่มี Dispersion เกินกว่าค่า DISPERSION_PERC\n",
    "HIGHDISPERSION_LIST = basicStat_pd[basicStat_pd.assign(CV=lambda x: round((x['stddev']/x['mean'])*100,2))\\\n",
    ".sort_values('CV',ascending=False)['CV']>DISPERSION_PERC][:].axes[0].values.tolist()"
   ]
  },
  {
   "cell_type": "code",
   "execution_count": 22,
   "id": "e47ad4cf",
   "metadata": {},
   "outputs": [
    {
     "data": {
      "text/plain": [
       "['delinq_2yrs', 'pub_rec', 'annual_inc', 'revol_bal']"
      ]
     },
     "execution_count": 22,
     "metadata": {},
     "output_type": "execute_result"
    }
   ],
   "source": [
    "HIGHDISPERSION_LIST"
   ]
  },
  {
   "cell_type": "code",
   "execution_count": 23,
   "id": "ad6ac0a7",
   "metadata": {},
   "outputs": [
    {
     "name": "stderr",
     "output_type": "stream",
     "text": [
      "                                                                                \r"
     ]
    },
    {
     "data": {
      "text/plain": [
       "1432466"
      ]
     },
     "execution_count": 23,
     "metadata": {},
     "output_type": "execute_result"
    }
   ],
   "source": [
    "raw_df.count()"
   ]
  },
  {
   "cell_type": "code",
   "execution_count": 24,
   "id": "2db1118d",
   "metadata": {},
   "outputs": [
    {
     "data": {
      "text/html": [
       "<div>\n",
       "<style scoped>\n",
       "    .dataframe tbody tr th:only-of-type {\n",
       "        vertical-align: middle;\n",
       "    }\n",
       "\n",
       "    .dataframe tbody tr th {\n",
       "        vertical-align: top;\n",
       "    }\n",
       "\n",
       "    .dataframe thead th {\n",
       "        text-align: right;\n",
       "    }\n",
       "</style>\n",
       "<table border=\"1\" class=\"dataframe\">\n",
       "  <thead>\n",
       "    <tr style=\"text-align: right;\">\n",
       "      <th>summary</th>\n",
       "      <th>count</th>\n",
       "      <th>mean</th>\n",
       "      <th>stddev</th>\n",
       "      <th>CV</th>\n",
       "      <th>percentageNull</th>\n",
       "    </tr>\n",
       "  </thead>\n",
       "  <tbody>\n",
       "    <tr>\n",
       "      <th>dti</th>\n",
       "      <td>1430856.0</td>\n",
       "      <td>19.211873</td>\n",
       "      <td>15.972775</td>\n",
       "      <td>83.14</td>\n",
       "      <td>0.112394</td>\n",
       "    </tr>\n",
       "    <tr>\n",
       "      <th>revol_util</th>\n",
       "      <td>1431251.0</td>\n",
       "      <td>19.000000</td>\n",
       "      <td>NaN</td>\n",
       "      <td>NaN</td>\n",
       "      <td>0.084819</td>\n",
       "    </tr>\n",
       "    <tr>\n",
       "      <th>revol_bal</th>\n",
       "      <td>1432439.0</td>\n",
       "      <td>16846.678102</td>\n",
       "      <td>23301.014583</td>\n",
       "      <td>138.31</td>\n",
       "      <td>0.001885</td>\n",
       "    </tr>\n",
       "    <tr>\n",
       "      <th>pub_rec</th>\n",
       "      <td>1432439.0</td>\n",
       "      <td>0.205392</td>\n",
       "      <td>0.586109</td>\n",
       "      <td>285.36</td>\n",
       "      <td>0.001885</td>\n",
       "    </tr>\n",
       "    <tr>\n",
       "      <th>delinq_2yrs</th>\n",
       "      <td>1432440.0</td>\n",
       "      <td>0.301472</td>\n",
       "      <td>0.864319</td>\n",
       "      <td>286.70</td>\n",
       "      <td>0.001815</td>\n",
       "    </tr>\n",
       "    <tr>\n",
       "      <th>emp_length</th>\n",
       "      <td>1432440.0</td>\n",
       "      <td>NaN</td>\n",
       "      <td>NaN</td>\n",
       "      <td>NaN</td>\n",
       "      <td>0.001815</td>\n",
       "    </tr>\n",
       "    <tr>\n",
       "      <th>earliest_cr_line</th>\n",
       "      <td>1432440.0</td>\n",
       "      <td>NaN</td>\n",
       "      <td>NaN</td>\n",
       "      <td>NaN</td>\n",
       "      <td>0.001815</td>\n",
       "    </tr>\n",
       "    <tr>\n",
       "      <th>addr_state</th>\n",
       "      <td>1432440.0</td>\n",
       "      <td>NaN</td>\n",
       "      <td>NaN</td>\n",
       "      <td>NaN</td>\n",
       "      <td>0.001815</td>\n",
       "    </tr>\n",
       "    <tr>\n",
       "      <th>purpose</th>\n",
       "      <td>1432440.0</td>\n",
       "      <td>NaN</td>\n",
       "      <td>NaN</td>\n",
       "      <td>NaN</td>\n",
       "      <td>0.001815</td>\n",
       "    </tr>\n",
       "    <tr>\n",
       "      <th>loan_status</th>\n",
       "      <td>1432440.0</td>\n",
       "      <td>NaN</td>\n",
       "      <td>NaN</td>\n",
       "      <td>NaN</td>\n",
       "      <td>0.001815</td>\n",
       "    </tr>\n",
       "    <tr>\n",
       "      <th>verification_status</th>\n",
       "      <td>1432440.0</td>\n",
       "      <td>NaN</td>\n",
       "      <td>NaN</td>\n",
       "      <td>NaN</td>\n",
       "      <td>0.001815</td>\n",
       "    </tr>\n",
       "    <tr>\n",
       "      <th>home_ownership</th>\n",
       "      <td>1432440.0</td>\n",
       "      <td>NaN</td>\n",
       "      <td>NaN</td>\n",
       "      <td>NaN</td>\n",
       "      <td>0.001815</td>\n",
       "    </tr>\n",
       "    <tr>\n",
       "      <th>int_rate</th>\n",
       "      <td>1432440.0</td>\n",
       "      <td>NaN</td>\n",
       "      <td>NaN</td>\n",
       "      <td>NaN</td>\n",
       "      <td>0.001815</td>\n",
       "    </tr>\n",
       "    <tr>\n",
       "      <th>grade</th>\n",
       "      <td>1432440.0</td>\n",
       "      <td>NaN</td>\n",
       "      <td>NaN</td>\n",
       "      <td>NaN</td>\n",
       "      <td>0.001815</td>\n",
       "    </tr>\n",
       "    <tr>\n",
       "      <th>term</th>\n",
       "      <td>1432440.0</td>\n",
       "      <td>NaN</td>\n",
       "      <td>NaN</td>\n",
       "      <td>NaN</td>\n",
       "      <td>0.001815</td>\n",
       "    </tr>\n",
       "    <tr>\n",
       "      <th>open_acc</th>\n",
       "      <td>1432440.0</td>\n",
       "      <td>11.710319</td>\n",
       "      <td>5.841056</td>\n",
       "      <td>49.88</td>\n",
       "      <td>0.001815</td>\n",
       "    </tr>\n",
       "    <tr>\n",
       "      <th>total_acc</th>\n",
       "      <td>1432440.0</td>\n",
       "      <td>23.602901</td>\n",
       "      <td>12.040983</td>\n",
       "      <td>51.01</td>\n",
       "      <td>0.001815</td>\n",
       "    </tr>\n",
       "    <tr>\n",
       "      <th>installment</th>\n",
       "      <td>1432440.0</td>\n",
       "      <td>456.689099</td>\n",
       "      <td>281.714000</td>\n",
       "      <td>61.69</td>\n",
       "      <td>0.001815</td>\n",
       "    </tr>\n",
       "    <tr>\n",
       "      <th>loan_amnt</th>\n",
       "      <td>1432440.0</td>\n",
       "      <td>15370.388358</td>\n",
       "      <td>9646.026272</td>\n",
       "      <td>62.76</td>\n",
       "      <td>0.001815</td>\n",
       "    </tr>\n",
       "    <tr>\n",
       "      <th>annual_inc</th>\n",
       "      <td>1432440.0</td>\n",
       "      <td>81034.582933</td>\n",
       "      <td>134183.356967</td>\n",
       "      <td>165.59</td>\n",
       "      <td>0.001815</td>\n",
       "    </tr>\n",
       "    <tr>\n",
       "      <th>issue_d</th>\n",
       "      <td>1432440.0</td>\n",
       "      <td>NaN</td>\n",
       "      <td>NaN</td>\n",
       "      <td>NaN</td>\n",
       "      <td>0.001815</td>\n",
       "    </tr>\n",
       "  </tbody>\n",
       "</table>\n",
       "</div>"
      ],
      "text/plain": [
       "summary                  count          mean         stddev      CV  \\\n",
       "dti                  1430856.0     19.211873      15.972775   83.14   \n",
       "revol_util           1431251.0     19.000000            NaN     NaN   \n",
       "revol_bal            1432439.0  16846.678102   23301.014583  138.31   \n",
       "pub_rec              1432439.0      0.205392       0.586109  285.36   \n",
       "delinq_2yrs          1432440.0      0.301472       0.864319  286.70   \n",
       "emp_length           1432440.0           NaN            NaN     NaN   \n",
       "earliest_cr_line     1432440.0           NaN            NaN     NaN   \n",
       "addr_state           1432440.0           NaN            NaN     NaN   \n",
       "purpose              1432440.0           NaN            NaN     NaN   \n",
       "loan_status          1432440.0           NaN            NaN     NaN   \n",
       "verification_status  1432440.0           NaN            NaN     NaN   \n",
       "home_ownership       1432440.0           NaN            NaN     NaN   \n",
       "int_rate             1432440.0           NaN            NaN     NaN   \n",
       "grade                1432440.0           NaN            NaN     NaN   \n",
       "term                 1432440.0           NaN            NaN     NaN   \n",
       "open_acc             1432440.0     11.710319       5.841056   49.88   \n",
       "total_acc            1432440.0     23.602901      12.040983   51.01   \n",
       "installment          1432440.0    456.689099     281.714000   61.69   \n",
       "loan_amnt            1432440.0  15370.388358    9646.026272   62.76   \n",
       "annual_inc           1432440.0  81034.582933  134183.356967  165.59   \n",
       "issue_d              1432440.0           NaN            NaN     NaN   \n",
       "\n",
       "summary              percentageNull  \n",
       "dti                        0.112394  \n",
       "revol_util                 0.084819  \n",
       "revol_bal                  0.001885  \n",
       "pub_rec                    0.001885  \n",
       "delinq_2yrs                0.001815  \n",
       "emp_length                 0.001815  \n",
       "earliest_cr_line           0.001815  \n",
       "addr_state                 0.001815  \n",
       "purpose                    0.001815  \n",
       "loan_status                0.001815  \n",
       "verification_status        0.001815  \n",
       "home_ownership             0.001815  \n",
       "int_rate                   0.001815  \n",
       "grade                      0.001815  \n",
       "term                       0.001815  \n",
       "open_acc                   0.001815  \n",
       "total_acc                  0.001815  \n",
       "installment                0.001815  \n",
       "loan_amnt                  0.001815  \n",
       "annual_inc                 0.001815  \n",
       "issue_d                    0.001815  "
      ]
     },
     "execution_count": 24,
     "metadata": {},
     "output_type": "execute_result"
    }
   ],
   "source": [
    "#วิเคราะห์ NULL\n",
    "\n",
    "basicStat_pd.assign(percentageNull=lambda x: ((allRows_count-x['count'])/allRows_count)*100)\\\n",
    ".sort_values('percentageNull',ascending=False)"
   ]
  },
  {
   "cell_type": "raw",
   "id": "0efbc7fa",
   "metadata": {},
   "source": [
    "#วิเคราะห์ NULL\n",
    "\n",
    "basicStat_pd.assign(percentageNull=lambda x: round(((allRows_count-x['count'])/allRows_count)*100,2))\\\n",
    ".sort_values('percentageNull',ascending=False)"
   ]
  },
  {
   "cell_type": "code",
   "execution_count": 25,
   "id": "d620c7c4",
   "metadata": {},
   "outputs": [],
   "source": [
    "# Spark และ Pandas ได้รับรายชื่อ Col. ที่มี Null เกินกว่าค่า NULL_PERC\n",
    "\n",
    "HIGHNULL_LIST = basicStat_pd[basicStat_pd.assign(percentageNull=lambda x: ((allRows_count-x['count'])/allRows_count)*100)\\\n",
    ".sort_values('percentageNull',ascending=False)['percentageNull']>NULL_PERC][:].axes[0].values.tolist()"
   ]
  },
  {
   "cell_type": "raw",
   "id": "0e50733b",
   "metadata": {},
   "source": [
    "# Spark และ Pandas ได้รับรายชื่อ Col. ที่มี Null เกินกว่าค่า NULL_PERC\n",
    "\n",
    "HIGHNULL_LIST = basicStat_pd[basicStat_pd.assign(percentageNull=lambda x: round(((allRows_count-x['count'])/allRows_count)*100,2))\\\n",
    ".sort_values('percentageNull',ascending=False)['percentageNull']>NULL_PERC][:].axes[0].values.tolist()"
   ]
  },
  {
   "cell_type": "code",
   "execution_count": 26,
   "id": "5ac0f2d5",
   "metadata": {},
   "outputs": [
    {
     "data": {
      "text/plain": [
       "['dti']"
      ]
     },
     "execution_count": 26,
     "metadata": {},
     "output_type": "execute_result"
    }
   ],
   "source": [
    "HIGHNULL_LIST"
   ]
  },
  {
   "cell_type": "code",
   "execution_count": 27,
   "id": "ccc53cc2",
   "metadata": {},
   "outputs": [],
   "source": [
    "# Spark และ Pandas ได้รับรายชื่อ Col. ที่มี Null \n",
    "NULL_LIST = basicStat_pd[basicStat_pd.assign(countNull=lambda x: allRows_count-x['count'])\\\n",
    ".sort_values('countNull',ascending=False)['countNull']>0][:].axes[0].values.tolist()"
   ]
  },
  {
   "cell_type": "code",
   "execution_count": 28,
   "id": "5f2941cc",
   "metadata": {},
   "outputs": [
    {
     "name": "stderr",
     "output_type": "stream",
     "text": [
      "                                                                                \r"
     ]
    },
    {
     "name": "stdout",
     "output_type": "stream",
     "text": [
      "+------------------+------+\n",
      "|       loan_status| count|\n",
      "+------------------+------+\n",
      "|        Fully Paid|551955|\n",
      "|           Default|    27|\n",
      "|              null|    26|\n",
      "|   In Grace Period|  7928|\n",
      "|       Charged Off|147348|\n",
      "|Late (31-120 days)| 18752|\n",
      "|           Current|702223|\n",
      "| Late (16-30 days)|  4207|\n",
      "+------------------+------+\n",
      "\n"
     ]
    }
   ],
   "source": [
    "# Spark วิเคราะห์ Imbalance Class\n",
    "\n",
    "raw_df.groupBy('loan_status').count().show()"
   ]
  },
  {
   "cell_type": "code",
   "execution_count": 29,
   "id": "eed9509e",
   "metadata": {},
   "outputs": [
    {
     "name": "stderr",
     "output_type": "stream",
     "text": [
      "                                                                                \r"
     ]
    },
    {
     "name": "stdout",
     "output_type": "stream",
     "text": [
      "+------------------+\n",
      "|       loan_status|\n",
      "+------------------+\n",
      "|        Fully Paid|\n",
      "|           Default|\n",
      "|              null|\n",
      "|   In Grace Period|\n",
      "|       Charged Off|\n",
      "|Late (31-120 days)|\n",
      "|           Current|\n",
      "| Late (16-30 days)|\n",
      "+------------------+\n",
      "\n"
     ]
    }
   ],
   "source": [
    "raw_df.select('loan_status').distinct().show()"
   ]
  },
  {
   "cell_type": "code",
   "execution_count": 30,
   "id": "02c528c5",
   "metadata": {},
   "outputs": [
    {
     "name": "stdout",
     "output_type": "stream",
     "text": [
      "root\n",
      " |-- loan_amnt: integer (nullable = true)\n",
      " |-- term: string (nullable = true)\n",
      " |-- int_rate: string (nullable = true)\n",
      " |-- installment: double (nullable = true)\n",
      " |-- grade: string (nullable = true)\n",
      " |-- emp_length: string (nullable = true)\n",
      " |-- home_ownership: string (nullable = true)\n",
      " |-- annual_inc: double (nullable = true)\n",
      " |-- verification_status: string (nullable = true)\n",
      " |-- loan_status: string (nullable = true)\n",
      " |-- purpose: string (nullable = true)\n",
      " |-- addr_state: string (nullable = true)\n",
      " |-- dti: string (nullable = true)\n",
      " |-- delinq_2yrs: string (nullable = true)\n",
      " |-- earliest_cr_line: string (nullable = true)\n",
      " |-- open_acc: integer (nullable = true)\n",
      " |-- pub_rec: integer (nullable = true)\n",
      " |-- revol_bal: integer (nullable = true)\n",
      " |-- revol_util: string (nullable = true)\n",
      " |-- total_acc: integer (nullable = true)\n",
      " |-- issue_d: string (nullable = true)\n",
      "\n"
     ]
    }
   ],
   "source": [
    "raw_df.printSchema()"
   ]
  },
  {
   "cell_type": "code",
   "execution_count": 31,
   "id": "c9f1a82c",
   "metadata": {},
   "outputs": [
    {
     "name": "stderr",
     "output_type": "stream",
     "text": [
      "                                                                                \r"
     ]
    },
    {
     "name": "stdout",
     "output_type": "stream",
     "text": [
      "+---------+----------+------------------+-------------------+-----+\n",
      "|loan_amnt|annual_inc|               dti|      calculatedDTI|count|\n",
      "+---------+----------+------------------+-------------------+-----+\n",
      "|     8800|   65000.0|Debt consolidation|0.13538461538461538|    1|\n",
      "|    13900|     191.0|               999|  72.77486910994764|    1|\n",
      "|    15600|    1000.0|               999|               15.6|    1|\n",
      "|    17500|    1158.0|               999| 15.112262521588946|    1|\n",
      "|    10000|      36.0|               999| 277.77777777777777|    1|\n",
      "|     3750|     500.0|               999|                7.5|    1|\n",
      "|    20000|    1500.0|               999| 13.333333333333334|    1|\n",
      "|    12000|    1680.6|               999|  7.140307033202428|    1|\n",
      "|    30000|      25.0|               999|             1200.0|    1|\n",
      "|    10000|     420.0|               999|  23.80952380952381|    1|\n",
      "|    35000|    1000.0|               999|               35.0|    7|\n",
      "|    10000|     700.0|               999| 14.285714285714286|    2|\n",
      "|    10250|      33.0|               999|  310.6060606060606|    1|\n",
      "|    40000|     938.0|               999| 42.643923240938165|    1|\n",
      "|    37000|    2500.0|               999|               14.8|    1|\n",
      "|    24500|    1000.0|               999|               24.5|    1|\n",
      "|    40000|     445.0|               999|  89.88764044943821|    1|\n",
      "|    11400|      50.0|               999|              228.0|    1|\n",
      "|    20375|      32.0|               999|          636.71875|    1|\n",
      "|     8000|     800.0|               999|               10.0|    1|\n",
      "+---------+----------+------------------+-------------------+-----+\n",
      "only showing top 20 rows\n",
      "\n"
     ]
    }
   ],
   "source": [
    "raw_df.withColumn('calculatedDTI',sparkf.col('loan_amnt')/sparkf.col('annual_inc'))\\\n",
    ".select('loan_amnt','annual_inc','dti','calculatedDTI').groupBy('loan_amnt','annual_inc','dti','calculatedDTI').count()\\\n",
    ".orderBy('dti', ascending=False).show()\n",
    "\n",
    "### ค่า dti เชื่อถือได้หรือไม่"
   ]
  },
  {
   "cell_type": "code",
   "execution_count": 32,
   "id": "5e64a3e9",
   "metadata": {},
   "outputs": [
    {
     "name": "stderr",
     "output_type": "stream",
     "text": [
      "[Stage 39:>                                                         (0 + 1) / 1]\r"
     ]
    },
    {
     "name": "stdout",
     "output_type": "stream",
     "text": [
      "+---------+----------+----+-------------+\n",
      "|loan_amnt|annual_inc| dti|calculatedDTI|\n",
      "+---------+----------+----+-------------+\n",
      "|     2500|       0.0|null|         null|\n",
      "|    12000|       0.0|null|         null|\n",
      "|    15000|       0.0|null|         null|\n",
      "|     9100|       0.0|null|         null|\n",
      "|    17500|       0.0|null|         null|\n",
      "|    18000|       0.0|null|         null|\n",
      "|     5000|       0.0|null|         null|\n",
      "|     8400|       0.0|null|         null|\n",
      "|    20000|       0.0|null|         null|\n",
      "|    15000|       0.0|null|         null|\n",
      "|    17600|       0.0|null|         null|\n",
      "|    16500|       0.0|null|         null|\n",
      "|    24975|       0.0|null|         null|\n",
      "|     9900|       0.0|null|         null|\n",
      "|    15000|       0.0|null|         null|\n",
      "|     null|      null|null|         null|\n",
      "|     null|      null|null|         null|\n",
      "|    12000|       0.0|null|         null|\n",
      "|    15000|       0.0|null|         null|\n",
      "|    20000|       0.0|null|         null|\n",
      "+---------+----------+----+-------------+\n",
      "only showing top 20 rows\n",
      "\n"
     ]
    },
    {
     "name": "stderr",
     "output_type": "stream",
     "text": [
      "                                                                                \r"
     ]
    }
   ],
   "source": [
    "raw_df.withColumn('calculatedDTI',sparkf.col('loan_amnt')/sparkf.col('annual_inc'))\\\n",
    ".select('loan_amnt','annual_inc','dti','calculatedDTI').filter(sparkf.col('calculatedDTI').isNull()).show()\n",
    "\n",
    "#### พบว่า มี annual_inc = 0 แต่ได้รับเงินกู้ ซึ่งไม่ควรให้ ML จดจำ pattern แบบนี้ไปใช้**"
   ]
  },
  {
   "cell_type": "markdown",
   "id": "807659a4",
   "metadata": {},
   "source": [
    "### 2.2 Bivariate/Multivariate Analysis"
   ]
  },
  {
   "cell_type": "code",
   "execution_count": 33,
   "id": "fdace93b",
   "metadata": {},
   "outputs": [
    {
     "name": "stderr",
     "output_type": "stream",
     "text": [
      "                                                                                \r"
     ]
    },
    {
     "data": {
      "image/png": "[encoded data removed]",
      "text/plain": [
       "<Figure size 1080x270 with 2 Axes>"
      ]
     },
     "metadata": {},
     "output_type": "display_data"
    }
   ],
   "source": [
    "# Spark และ Python ร่วมกันวิเคราะห์หา Distribution (Shape), Outlier และ Correlation ด้วยการใช้เทคนิค Histogram, Boxplot\n",
    "\n",
    "plot_var(raw_df.filter(sparkf.col('annual_inc') == 0).toPandas(),'loan_amnt', 'Loan Amount', continuous=True)\n",
    "\n",
    "### แสดงการแจกแจงความถี่ของ Loan Amount และความสัมพันธ์ระหว่าง Loan Amount กับ Loan Status เฉพาะลูกหนี้ที่ไม่มีรายได้"
   ]
  },
  {
   "cell_type": "code",
   "execution_count": 34,
   "id": "8ec89123",
   "metadata": {},
   "outputs": [
    {
     "name": "stderr",
     "output_type": "stream",
     "text": [
      "                                                                                \r"
     ]
    },
    {
     "data": {
      "image/png": "[encoded data removed]",
      "text/plain": [
       "<Figure size 1080x270 with 2 Axes>"
      ]
     },
     "metadata": {},
     "output_type": "display_data"
    }
   ],
   "source": [
    "plot_var(raw_df.filter(sparkf.col('annual_inc') != 0).toPandas(),'loan_amnt', 'Loan Amount', continuous=True)\n",
    "\n",
    "### แสดงการแจกแจงความถี่ของ Loan Amount และความสัมพันธ์ระหว่าง Loan Amount กับ Loan Status เฉพาะลูกหนี้ที่มีรายได้\n",
    "\n",
    "#### เปรียบเทียบผลจาก code ก่อนหน้านี้ กับ code บรรทัดนี้ ทำให้เห็นว่า ลูกหนี้ที่ annual_inc = 0 มี median ของ loan_amnt ระหว่างคนจ่ายหนี้ครบ กับ คนเบี้ยวหนี้ ต่างกันอย่างมาก\n",
    "#### แตกต่างจาก annual_inc != 0 มี median ของ loan_amnt ระหว่างคนจ่ายหนี้ครบ กับ คนเบี้ยวหนี้ ต่างกันอยู่พอสมควร แต่ไม่มากเท่ากรณีแรก\n",
    "#### เช่นทำให้คิดต่อไปว่า หากมีข้อมูลมากพออาจแยก train เป็น 2 model คือ model สำหรับ annual_inc = 0 กับ annual_inc !=0 "
   ]
  },
  {
   "cell_type": "code",
   "execution_count": 35,
   "id": "7856f5a9",
   "metadata": {},
   "outputs": [
    {
     "name": "stderr",
     "output_type": "stream",
     "text": [
      "                                                                                \r"
     ]
    }
   ],
   "source": [
    "# Spark และ Python ร่วมกัน นำ % sign ออกจาก revol_util เพื่อนำไปใช้วิเคราะห์ใน block code ถัดไป\n",
    "\n",
    "correctedRevolUtil_pd = raw_df.withColumn('revol_util',sparkf.when(sparkf.col('revol_util').isNotNull()\\\n",
    "                                                                   ,sparkf.regexp_replace(sparkf.col('revol_util'),'%',''))\\\n",
    "                  .otherwise(sparkf.col('revol_util')))\\\n",
    ".withColumn('revol_util',sparkf.col('revol_util').cast(FloatType())).toPandas()"
   ]
  },
  {
   "cell_type": "code",
   "execution_count": 36,
   "id": "9dfbc5bc",
   "metadata": {},
   "outputs": [
    {
     "data": {
      "image/png": "[encoded data removed]",
      "text/plain": [
       "<Figure size 1080x270 with 2 Axes>"
      ]
     },
     "metadata": {},
     "output_type": "display_data"
    }
   ],
   "source": [
    "# Spark และ Python ร่วมกันวิเคราะห์หา Distribution (Shape), Outlier และ Correlation ด้วยการใช้เทคนิค Histogram, Boxplot\n",
    "\n",
    "plot_var(correctedRevolUtil_pd,'revol_util', 'revol_util', continuous=True)"
   ]
  },
  {
   "cell_type": "code",
   "execution_count": null,
   "id": "3bf1eefe",
   "metadata": {},
   "outputs": [],
   "source": []
  },
  {
   "cell_type": "code",
   "execution_count": 37,
   "id": "2ef16d69",
   "metadata": {},
   "outputs": [
    {
     "name": "stderr",
     "output_type": "stream",
     "text": [
      "                                                                                \r"
     ]
    }
   ],
   "source": [
    "#### Spark และ Python ร่วมกัน นำ % sign ออกจาก revol_util และเอา outlier ทิ้งไป เพื่อนำไปใช้วิเคราะห์ใน block code ถัดไป\n",
    "\n",
    "noOutlier_correctedRevolUtil_pd = raw_df.withColumn('revol_util',sparkf.when(sparkf.col('revol_util').isNotNull()\\\n",
    "                                                                   ,sparkf.regexp_replace(sparkf.col('revol_util'),'%',''))\\\n",
    "                  .otherwise(sparkf.col('revol_util')))\\\n",
    ".withColumn('revol_util',sparkf.col('revol_util').cast(FloatType()))\\\n",
    ".filter(sparkf.col('revol_util') < 120)\\\n",
    ".toPandas()"
   ]
  },
  {
   "cell_type": "code",
   "execution_count": 38,
   "id": "49ec4ec9",
   "metadata": {},
   "outputs": [
    {
     "data": {
      "image/png": "[encoded data removed]",
      "text/plain": [
       "<Figure size 1080x270 with 2 Axes>"
      ]
     },
     "metadata": {},
     "output_type": "display_data"
    }
   ],
   "source": [
    "#### Spark และ Python ร่วมกันวิเคราะห์หา Distribution (Shape), Outlier และ Correlation ด้วยการใช้เทคนิค Histogram, Boxplot\n",
    "\n",
    "plot_var(noOutlier_correctedRevolUtil_pd,'revol_util', 'revol_util', continuous=True) ##กรณีนี้ไม่มี outlier ที่ revol util แล้ว"
   ]
  },
  {
   "cell_type": "code",
   "execution_count": null,
   "id": "c36d8787",
   "metadata": {},
   "outputs": [],
   "source": []
  },
  {
   "cell_type": "code",
   "execution_count": null,
   "id": "cc32b25f",
   "metadata": {},
   "outputs": [],
   "source": []
  },
  {
   "cell_type": "code",
   "execution_count": null,
   "id": "67576212",
   "metadata": {},
   "outputs": [],
   "source": []
  },
  {
   "cell_type": "code",
   "execution_count": 39,
   "id": "02a937d8",
   "metadata": {},
   "outputs": [
    {
     "name": "stderr",
     "output_type": "stream",
     "text": [
      "                                                                                \r"
     ]
    }
   ],
   "source": [
    "# Spark และ Python ร่วมกัน casting type ที่ delinq_2yrs เพื่อนำไปใช้วิเคราะห์ใน block code ถัดไป\n",
    "\n",
    "correctedDelinq_2yrs_pd = raw_df.withColumn('delinq_2yrs',sparkf.col('delinq_2yrs').cast(FloatType())).toPandas()"
   ]
  },
  {
   "cell_type": "code",
   "execution_count": 40,
   "id": "cf040196",
   "metadata": {},
   "outputs": [
    {
     "data": {
      "image/png": "[encoded data removed]",
      "text/plain": [
       "<Figure size 1080x270 with 2 Axes>"
      ]
     },
     "metadata": {},
     "output_type": "display_data"
    }
   ],
   "source": [
    "# Spark และ Python ร่วมกันวิเคราะห์หา Distribution (Shape), Outlier และ Correlation ด้วยการใช้เทคนิค Histogram, Boxplot\n",
    "\n",
    "plot_var(correctedDelinq_2yrs_pd,'delinq_2yrs', 'delinq_2yrs', continuous=True)"
   ]
  },
  {
   "cell_type": "code",
   "execution_count": 41,
   "id": "af51a8ff",
   "metadata": {},
   "outputs": [
    {
     "name": "stderr",
     "output_type": "stream",
     "text": [
      "[Stage 45:===================================================>      (8 + 1) / 9]\r"
     ]
    },
    {
     "name": "stdout",
     "output_type": "stream",
     "text": [
      "+-------+-------------------+\n",
      "|summary|        delinq_2yrs|\n",
      "+-------+-------------------+\n",
      "|  count|            1432439|\n",
      "|   mean|0.30147182532729144|\n",
      "| stddev| 0.8643187650693935|\n",
      "|    min|                0.0|\n",
      "|    max|               58.0|\n",
      "+-------+-------------------+\n",
      "\n"
     ]
    },
    {
     "name": "stderr",
     "output_type": "stream",
     "text": [
      "                                                                                \r"
     ]
    }
   ],
   "source": [
    "raw_df.withColumn('delinq_2yrs',sparkf.col('delinq_2yrs').cast(FloatType())).select('delinq_2yrs').describe().show()"
   ]
  },
  {
   "cell_type": "code",
   "execution_count": 42,
   "id": "687816e0",
   "metadata": {},
   "outputs": [
    {
     "name": "stderr",
     "output_type": "stream",
     "text": [
      "                                                                                \r"
     ]
    }
   ],
   "source": [
    "#### Spark และ Python ร่วมกัน casting type ที่ delinq_2yrs เพื่อนำไปใช้วิเคราะห์ใน block code ถัดไป\n",
    "\n",
    "noOutlier_correctedDelinq_2yrs_pd = raw_df.withColumn('delinq_2yrs',sparkf.col('delinq_2yrs').cast(FloatType()))\\\n",
    ".filter(sparkf.col('delinq_2yrs')<1.0).toPandas()"
   ]
  },
  {
   "cell_type": "code",
   "execution_count": 43,
   "id": "4456d1b9",
   "metadata": {},
   "outputs": [
    {
     "data": {
      "image/png": "[encoded data removed]",
      "text/plain": [
       "<Figure size 1080x270 with 2 Axes>"
      ]
     },
     "metadata": {},
     "output_type": "display_data"
    }
   ],
   "source": [
    "#### Spark และ Python ร่วมกันวิเคราะห์หา Distribution (Shape), Outlier และ Correlation ด้วยการใช้เทคนิค Histogram, Boxplot\n",
    "\n",
    "plot_var(noOutlier_correctedDelinq_2yrs_pd,'delinq_2yrs', 'delinq_2yrs', continuous=True)"
   ]
  },
  {
   "cell_type": "code",
   "execution_count": 44,
   "id": "1862f382",
   "metadata": {},
   "outputs": [],
   "source": [
    "#raw_df.select('delinq_2yrs').describe().show()"
   ]
  },
  {
   "cell_type": "code",
   "execution_count": 45,
   "id": "c424ca0c",
   "metadata": {},
   "outputs": [],
   "source": [
    "#raw_df.select('delinq_2yrs').withColumn('delinq_2yrs',sparkf.col('delinq_2yrs').cast(FloatType())).describe().show()"
   ]
  },
  {
   "cell_type": "markdown",
   "id": "deeb0384",
   "metadata": {},
   "source": [
    "## 3. Data Preparation"
   ]
  },
  {
   "cell_type": "code",
   "execution_count": 46,
   "id": "adb2cd36",
   "metadata": {},
   "outputs": [],
   "source": [
    "#### ใหม่ ณ 16 JAN 2023\n",
    "# ใช้ Spark ปรับแต่งค่าใน column: annual_inc, loan_status, revol_util, int_rate และ issue_d\n",
    "# ใช้ Spark สร้าง column ใหม่ขึ้นมา คือ calculatedDTI\n",
    "\n",
    "crunched_df = raw_df\\\n",
    ".filter(sparkf.col('annual_inc') != 0)\\\n",
    ".filter((sparkf.col('loan_status') == 'Fully Paid')|(sparkf.col('loan_status') == 'Charged Off'))\\\n",
    ".withColumn('calculatedDTI',sparkf.col('loan_amnt')/sparkf.col('annual_inc'))\\\n",
    ".withColumn('revol_util',sparkf.when(sparkf.col('revol_util').isNotNull(),sparkf.regexp_replace(sparkf.col('revol_util'),'%',''))\\\n",
    "                  .otherwise(sparkf.col('revol_util')))\\\n",
    ".filter(sparkf.col('revol_util') < 120)\\\n",
    ".withColumn('int_rate',sparkf.when(sparkf.col('int_rate').isNotNull(),sparkf.regexp_replace(sparkf.col('int_rate'),'%',''))\\\n",
    "                  .otherwise(sparkf.col('int_rate')))\\\n",
    ".withColumn('issue_d',sparkf.regexp_extract(sparkf.col('issue_d'),'\\d+',0))\\\n",
    ".withColumn('revol_util',sparkf.col('revol_util').cast(IntegerType()))\\\n",
    ".withColumn('int_rate',sparkf.col('int_rate').cast(FloatType()))\\\n",
    ".withColumn('issue_d',sparkf.col('issue_d').cast(IntegerType()))\\\n",
    ".withColumn('delinq_2yrs',sparkf.col('delinq_2yrs').cast(FloatType()))\\\n",
    ".dropna()"
   ]
  },
  {
   "cell_type": "raw",
   "id": "5f2c982d",
   "metadata": {},
   "source": [
    "#### เก่าก่อน 16 JAN 2023\n",
    "# ใช้ Spark ปรับแต่งค่าใน column: annual_inc, loan_status, revol_util, int_rate และ issue_d\n",
    "# ใช้ Spark สร้าง column ใหม่ขึ้นมา คือ calculatedDTI\n",
    "\n",
    "crunched_df = raw_df\\\n",
    ".filter(sparkf.col('annual_inc') != 0)\\\n",
    ".filter((sparkf.col('loan_status') == 'Fully Paid')|(sparkf.col('loan_status') == 'Charged Off'))\\\n",
    ".withColumn('calculatedDTI',sparkf.col('loan_amnt')/sparkf.col('annual_inc'))\\\n",
    ".withColumn('revol_util',sparkf.when(sparkf.col('revol_util').isNotNull(),sparkf.regexp_replace(sparkf.col('revol_util'),'%',''))\\\n",
    "                  .otherwise(sparkf.col('revol_util')))\\\n",
    ".withColumn('int_rate',sparkf.when(sparkf.col('int_rate').isNotNull(),sparkf.regexp_replace(sparkf.col('int_rate'),'%',''))\\\n",
    "                  .otherwise(sparkf.col('int_rate')))\\\n",
    ".withColumn('issue_d',sparkf.regexp_extract(sparkf.col('issue_d'),'\\d+',0))\\\n",
    ".withColumn('revol_util',sparkf.col('revol_util').cast(IntegerType()))\\\n",
    ".withColumn('int_rate',sparkf.col('int_rate').cast(FloatType()))\\\n",
    ".withColumn('issue_d',sparkf.col('issue_d').cast(IntegerType()))\\\n",
    ".dropna()"
   ]
  },
  {
   "cell_type": "code",
   "execution_count": 47,
   "id": "ab3eb075",
   "metadata": {},
   "outputs": [
    {
     "name": "stderr",
     "output_type": "stream",
     "text": [
      "                                                                                \r"
     ]
    },
    {
     "data": {
      "text/html": [
       "<div>\n",
       "<style scoped>\n",
       "    .dataframe tbody tr th:only-of-type {\n",
       "        vertical-align: middle;\n",
       "    }\n",
       "\n",
       "    .dataframe tbody tr th {\n",
       "        vertical-align: top;\n",
       "    }\n",
       "\n",
       "    .dataframe thead th {\n",
       "        text-align: right;\n",
       "    }\n",
       "</style>\n",
       "<table border=\"1\" class=\"dataframe\">\n",
       "  <thead>\n",
       "    <tr style=\"text-align: right;\">\n",
       "      <th></th>\n",
       "      <th>0</th>\n",
       "      <th>1</th>\n",
       "      <th>2</th>\n",
       "      <th>3</th>\n",
       "      <th>4</th>\n",
       "    </tr>\n",
       "  </thead>\n",
       "  <tbody>\n",
       "    <tr>\n",
       "      <th>summary</th>\n",
       "      <td>count</td>\n",
       "      <td>mean</td>\n",
       "      <td>stddev</td>\n",
       "      <td>min</td>\n",
       "      <td>max</td>\n",
       "    </tr>\n",
       "    <tr>\n",
       "      <th>loan_amnt</th>\n",
       "      <td>698342</td>\n",
       "      <td>14499.922351798976</td>\n",
       "      <td>9223.066319877242</td>\n",
       "      <td>1000</td>\n",
       "      <td>40000</td>\n",
       "    </tr>\n",
       "    <tr>\n",
       "      <th>term</th>\n",
       "      <td>698342</td>\n",
       "      <td>None</td>\n",
       "      <td>None</td>\n",
       "      <td>36 months</td>\n",
       "      <td>60 months</td>\n",
       "    </tr>\n",
       "    <tr>\n",
       "      <th>int_rate</th>\n",
       "      <td>698342</td>\n",
       "      <td>13.231893765288989</td>\n",
       "      <td>5.174107541702221</td>\n",
       "      <td>5.31</td>\n",
       "      <td>30.99</td>\n",
       "    </tr>\n",
       "    <tr>\n",
       "      <th>installment</th>\n",
       "      <td>698342</td>\n",
       "      <td>446.6912345097157</td>\n",
       "      <td>282.599606452106</td>\n",
       "      <td>30.12</td>\n",
       "      <td>1715.42</td>\n",
       "    </tr>\n",
       "    <tr>\n",
       "      <th>grade</th>\n",
       "      <td>698342</td>\n",
       "      <td>None</td>\n",
       "      <td>None</td>\n",
       "      <td>A</td>\n",
       "      <td>G</td>\n",
       "    </tr>\n",
       "    <tr>\n",
       "      <th>emp_length</th>\n",
       "      <td>698342</td>\n",
       "      <td>None</td>\n",
       "      <td>None</td>\n",
       "      <td>1 year</td>\n",
       "      <td>n/a</td>\n",
       "    </tr>\n",
       "    <tr>\n",
       "      <th>home_ownership</th>\n",
       "      <td>698342</td>\n",
       "      <td>None</td>\n",
       "      <td>None</td>\n",
       "      <td>ANY</td>\n",
       "      <td>RENT</td>\n",
       "    </tr>\n",
       "    <tr>\n",
       "      <th>annual_inc</th>\n",
       "      <td>698342</td>\n",
       "      <td>79530.96412655976</td>\n",
       "      <td>78144.23143077888</td>\n",
       "      <td>23.0</td>\n",
       "      <td>9573072.0</td>\n",
       "    </tr>\n",
       "    <tr>\n",
       "      <th>verification_status</th>\n",
       "      <td>698342</td>\n",
       "      <td>None</td>\n",
       "      <td>None</td>\n",
       "      <td>Not Verified</td>\n",
       "      <td>Verified</td>\n",
       "    </tr>\n",
       "    <tr>\n",
       "      <th>loan_status</th>\n",
       "      <td>698342</td>\n",
       "      <td>None</td>\n",
       "      <td>None</td>\n",
       "      <td>Charged Off</td>\n",
       "      <td>Fully Paid</td>\n",
       "    </tr>\n",
       "    <tr>\n",
       "      <th>purpose</th>\n",
       "      <td>698342</td>\n",
       "      <td>None</td>\n",
       "      <td>None</td>\n",
       "      <td>car</td>\n",
       "      <td>wedding</td>\n",
       "    </tr>\n",
       "    <tr>\n",
       "      <th>addr_state</th>\n",
       "      <td>698342</td>\n",
       "      <td>None</td>\n",
       "      <td>None</td>\n",
       "      <td>AK</td>\n",
       "      <td>WY</td>\n",
       "    </tr>\n",
       "    <tr>\n",
       "      <th>dti</th>\n",
       "      <td>698342</td>\n",
       "      <td>18.692250845574073</td>\n",
       "      <td>13.593891477773946</td>\n",
       "      <td>-1</td>\n",
       "      <td>999</td>\n",
       "    </tr>\n",
       "    <tr>\n",
       "      <th>delinq_2yrs</th>\n",
       "      <td>698342</td>\n",
       "      <td>0.3281586958825332</td>\n",
       "      <td>0.9012859773439462</td>\n",
       "      <td>0.0</td>\n",
       "      <td>29.0</td>\n",
       "    </tr>\n",
       "    <tr>\n",
       "      <th>earliest_cr_line</th>\n",
       "      <td>698342</td>\n",
       "      <td>None</td>\n",
       "      <td>None</td>\n",
       "      <td>Apr-1955</td>\n",
       "      <td>Sep-2015</td>\n",
       "    </tr>\n",
       "    <tr>\n",
       "      <th>open_acc</th>\n",
       "      <td>698342</td>\n",
       "      <td>11.77128255210198</td>\n",
       "      <td>5.769888628784486</td>\n",
       "      <td>1</td>\n",
       "      <td>86</td>\n",
       "    </tr>\n",
       "    <tr>\n",
       "      <th>pub_rec</th>\n",
       "      <td>698342</td>\n",
       "      <td>0.25011527303241105</td>\n",
       "      <td>0.6682581018804886</td>\n",
       "      <td>0</td>\n",
       "      <td>61</td>\n",
       "    </tr>\n",
       "    <tr>\n",
       "      <th>revol_bal</th>\n",
       "      <td>698342</td>\n",
       "      <td>16101.565339045912</td>\n",
       "      <td>22716.564383991285</td>\n",
       "      <td>0</td>\n",
       "      <td>1113293</td>\n",
       "    </tr>\n",
       "    <tr>\n",
       "      <th>revol_util</th>\n",
       "      <td>698342</td>\n",
       "      <td>47.399188363294776</td>\n",
       "      <td>24.664061604919468</td>\n",
       "      <td>0</td>\n",
       "      <td>119</td>\n",
       "    </tr>\n",
       "    <tr>\n",
       "      <th>total_acc</th>\n",
       "      <td>698342</td>\n",
       "      <td>24.458484524774395</td>\n",
       "      <td>12.174564403700815</td>\n",
       "      <td>2</td>\n",
       "      <td>176</td>\n",
       "    </tr>\n",
       "    <tr>\n",
       "      <th>issue_d</th>\n",
       "      <td>698342</td>\n",
       "      <td>2016.6668680961477</td>\n",
       "      <td>0.776125474913618</td>\n",
       "      <td>2016</td>\n",
       "      <td>2019</td>\n",
       "    </tr>\n",
       "    <tr>\n",
       "      <th>calculatedDTI</th>\n",
       "      <td>698342</td>\n",
       "      <td>0.21698781428656444</td>\n",
       "      <td>1.8167938285879746</td>\n",
       "      <td>1.7142857142857143E-4</td>\n",
       "      <td>1200.0</td>\n",
       "    </tr>\n",
       "  </tbody>\n",
       "</table>\n",
       "</div>"
      ],
      "text/plain": [
       "                          0                    1                   2  \\\n",
       "summary               count                 mean              stddev   \n",
       "loan_amnt            698342   14499.922351798976   9223.066319877242   \n",
       "term                 698342                 None                None   \n",
       "int_rate             698342   13.231893765288989   5.174107541702221   \n",
       "installment          698342    446.6912345097157    282.599606452106   \n",
       "grade                698342                 None                None   \n",
       "emp_length           698342                 None                None   \n",
       "home_ownership       698342                 None                None   \n",
       "annual_inc           698342    79530.96412655976   78144.23143077888   \n",
       "verification_status  698342                 None                None   \n",
       "loan_status          698342                 None                None   \n",
       "purpose              698342                 None                None   \n",
       "addr_state           698342                 None                None   \n",
       "dti                  698342   18.692250845574073  13.593891477773946   \n",
       "delinq_2yrs          698342   0.3281586958825332  0.9012859773439462   \n",
       "earliest_cr_line     698342                 None                None   \n",
       "open_acc             698342    11.77128255210198   5.769888628784486   \n",
       "pub_rec              698342  0.25011527303241105  0.6682581018804886   \n",
       "revol_bal            698342   16101.565339045912  22716.564383991285   \n",
       "revol_util           698342   47.399188363294776  24.664061604919468   \n",
       "total_acc            698342   24.458484524774395  12.174564403700815   \n",
       "issue_d              698342   2016.6668680961477   0.776125474913618   \n",
       "calculatedDTI        698342  0.21698781428656444  1.8167938285879746   \n",
       "\n",
       "                                         3           4  \n",
       "summary                                min         max  \n",
       "loan_amnt                             1000       40000  \n",
       "term                             36 months   60 months  \n",
       "int_rate                              5.31       30.99  \n",
       "installment                          30.12     1715.42  \n",
       "grade                                    A           G  \n",
       "emp_length                          1 year         n/a  \n",
       "home_ownership                         ANY        RENT  \n",
       "annual_inc                            23.0   9573072.0  \n",
       "verification_status           Not Verified    Verified  \n",
       "loan_status                    Charged Off  Fully Paid  \n",
       "purpose                                car     wedding  \n",
       "addr_state                              AK          WY  \n",
       "dti                                     -1         999  \n",
       "delinq_2yrs                            0.0        29.0  \n",
       "earliest_cr_line                  Apr-1955    Sep-2015  \n",
       "open_acc                                 1          86  \n",
       "pub_rec                                  0          61  \n",
       "revol_bal                                0     1113293  \n",
       "revol_util                               0         119  \n",
       "total_acc                                2         176  \n",
       "issue_d                               2016        2019  \n",
       "calculatedDTI        1.7142857142857143E-4      1200.0  "
      ]
     },
     "execution_count": 47,
     "metadata": {},
     "output_type": "execute_result"
    }
   ],
   "source": [
    "crunched_df.describe().toPandas().transpose()"
   ]
  },
  {
   "cell_type": "code",
   "execution_count": 48,
   "id": "57561c76",
   "metadata": {},
   "outputs": [
    {
     "name": "stdout",
     "output_type": "stream",
     "text": [
      "root\n",
      " |-- loan_amnt: integer (nullable = true)\n",
      " |-- term: string (nullable = true)\n",
      " |-- int_rate: float (nullable = true)\n",
      " |-- installment: double (nullable = true)\n",
      " |-- grade: string (nullable = true)\n",
      " |-- emp_length: string (nullable = true)\n",
      " |-- home_ownership: string (nullable = true)\n",
      " |-- annual_inc: double (nullable = true)\n",
      " |-- verification_status: string (nullable = true)\n",
      " |-- loan_status: string (nullable = true)\n",
      " |-- purpose: string (nullable = true)\n",
      " |-- addr_state: string (nullable = true)\n",
      " |-- dti: string (nullable = true)\n",
      " |-- delinq_2yrs: float (nullable = true)\n",
      " |-- earliest_cr_line: string (nullable = true)\n",
      " |-- open_acc: integer (nullable = true)\n",
      " |-- pub_rec: integer (nullable = true)\n",
      " |-- revol_bal: integer (nullable = true)\n",
      " |-- revol_util: integer (nullable = true)\n",
      " |-- total_acc: integer (nullable = true)\n",
      " |-- issue_d: integer (nullable = true)\n",
      " |-- calculatedDTI: double (nullable = true)\n",
      "\n"
     ]
    }
   ],
   "source": [
    "crunched_df.printSchema()"
   ]
  },
  {
   "cell_type": "code",
   "execution_count": 49,
   "id": "c44e3119",
   "metadata": {},
   "outputs": [
    {
     "name": "stderr",
     "output_type": "stream",
     "text": [
      "                                                                                \r"
     ]
    }
   ],
   "source": [
    "crunched_pd = crunched_df.toPandas()"
   ]
  },
  {
   "cell_type": "code",
   "execution_count": 50,
   "id": "a4587dee",
   "metadata": {},
   "outputs": [
    {
     "data": {
      "image/png": "[encoded data removed]",
      "text/plain": [
       "<Figure size 1080x270 with 2 Axes>"
      ]
     },
     "metadata": {},
     "output_type": "display_data"
    }
   ],
   "source": [
    "plot_var(crunched_pd,'annual_inc', 'Annual Income', continuous=True)"
   ]
  },
  {
   "cell_type": "code",
   "execution_count": 51,
   "id": "88461019",
   "metadata": {},
   "outputs": [
    {
     "name": "stderr",
     "output_type": "stream",
     "text": [
      "                                                                                \r"
     ]
    },
    {
     "data": {
      "image/png": "[encoded data removed]",
      "text/plain": [
       "<Figure size 1080x270 with 2 Axes>"
      ]
     },
     "metadata": {},
     "output_type": "display_data"
    }
   ],
   "source": [
    "#เมื่อทดลองเอา Outlier ออก แล้ว ทดสอบความสัมพันธ์ด้วย boxplot อีกครั้ง\n",
    "plot_var(crunched_df.filter(sparkf.col('annual_inc')<150000).toPandas(),'annual_inc', 'Annual Income', continuous=True)"
   ]
  },
  {
   "cell_type": "code",
   "execution_count": null,
   "id": "7082e6fc",
   "metadata": {},
   "outputs": [],
   "source": []
  },
  {
   "cell_type": "code",
   "execution_count": 52,
   "id": "fc29e6d3",
   "metadata": {},
   "outputs": [
    {
     "data": {
      "image/png": "[encoded data removed]",
      "text/plain": [
       "<Figure size 1080x270 with 2 Axes>"
      ]
     },
     "metadata": {},
     "output_type": "display_data"
    }
   ],
   "source": [
    "plot_var(crunched_pd,'int_rate', 'Interest Rate', continuous=True)"
   ]
  },
  {
   "cell_type": "code",
   "execution_count": 53,
   "id": "2a9a3a7f",
   "metadata": {},
   "outputs": [
    {
     "name": "stderr",
     "output_type": "stream",
     "text": [
      "                                                                                \r"
     ]
    },
    {
     "data": {
      "image/png": "[encoded data removed]",
      "text/plain": [
       "<Figure size 1080x270 with 2 Axes>"
      ]
     },
     "metadata": {},
     "output_type": "display_data"
    }
   ],
   "source": [
    "plot_var(crunched_df.filter(((sparkf.col('int_rate')<22)&(sparkf.col('loan_status')=='Fully Paid'))|((sparkf.col('loan_status')=='Charged Off')\\\n",
    "                                                                                                     &(sparkf.col('int_rate')<28))).toPandas()\\\n",
    "         ,'int_rate', 'Interest Rate', continuous=True)"
   ]
  },
  {
   "cell_type": "code",
   "execution_count": 54,
   "id": "8c9bad3d",
   "metadata": {},
   "outputs": [],
   "source": [
    "# Spark สร้าง ABT\n",
    "\n",
    "final_df = crunched_df\\\n",
    ".filter(sparkf.col('annual_inc')<150000)\\\n",
    ".filter(((sparkf.col('int_rate')<22)&(sparkf.col('loan_status')=='Fully Paid'))|((sparkf.col('loan_status')=='Charged Off')&(sparkf.col('int_rate')<28)))## กรอง Outlier ออก"
   ]
  },
  {
   "cell_type": "code",
   "execution_count": 55,
   "id": "09f415f7",
   "metadata": {},
   "outputs": [
    {
     "name": "stderr",
     "output_type": "stream",
     "text": [
      "                                                                                \r"
     ]
    },
    {
     "data": {
      "text/html": [
       "<div>\n",
       "<style scoped>\n",
       "    .dataframe tbody tr th:only-of-type {\n",
       "        vertical-align: middle;\n",
       "    }\n",
       "\n",
       "    .dataframe tbody tr th {\n",
       "        vertical-align: top;\n",
       "    }\n",
       "\n",
       "    .dataframe thead th {\n",
       "        text-align: right;\n",
       "    }\n",
       "</style>\n",
       "<table border=\"1\" class=\"dataframe\">\n",
       "  <thead>\n",
       "    <tr style=\"text-align: right;\">\n",
       "      <th></th>\n",
       "      <th>0</th>\n",
       "      <th>1</th>\n",
       "      <th>2</th>\n",
       "      <th>3</th>\n",
       "      <th>4</th>\n",
       "    </tr>\n",
       "  </thead>\n",
       "  <tbody>\n",
       "    <tr>\n",
       "      <th>summary</th>\n",
       "      <td>count</td>\n",
       "      <td>mean</td>\n",
       "      <td>stddev</td>\n",
       "      <td>min</td>\n",
       "      <td>max</td>\n",
       "    </tr>\n",
       "    <tr>\n",
       "      <th>loan_amnt</th>\n",
       "      <td>614793</td>\n",
       "      <td>13596.431563144017</td>\n",
       "      <td>8641.283157525957</td>\n",
       "      <td>1000</td>\n",
       "      <td>40000</td>\n",
       "    </tr>\n",
       "    <tr>\n",
       "      <th>term</th>\n",
       "      <td>614793</td>\n",
       "      <td>None</td>\n",
       "      <td>None</td>\n",
       "      <td>36 months</td>\n",
       "      <td>60 months</td>\n",
       "    </tr>\n",
       "    <tr>\n",
       "      <th>int_rate</th>\n",
       "      <td>614793</td>\n",
       "      <td>12.681243739186819</td>\n",
       "      <td>4.342249904924828</td>\n",
       "      <td>5.31</td>\n",
       "      <td>27.99</td>\n",
       "    </tr>\n",
       "    <tr>\n",
       "      <th>installment</th>\n",
       "      <td>614793</td>\n",
       "      <td>417.9693555229028</td>\n",
       "      <td>262.87715223264036</td>\n",
       "      <td>30.12</td>\n",
       "      <td>1597.6</td>\n",
       "    </tr>\n",
       "    <tr>\n",
       "      <th>grade</th>\n",
       "      <td>614793</td>\n",
       "      <td>None</td>\n",
       "      <td>None</td>\n",
       "      <td>A</td>\n",
       "      <td>G</td>\n",
       "    </tr>\n",
       "    <tr>\n",
       "      <th>emp_length</th>\n",
       "      <td>614793</td>\n",
       "      <td>None</td>\n",
       "      <td>None</td>\n",
       "      <td>1 year</td>\n",
       "      <td>n/a</td>\n",
       "    </tr>\n",
       "    <tr>\n",
       "      <th>home_ownership</th>\n",
       "      <td>614793</td>\n",
       "      <td>None</td>\n",
       "      <td>None</td>\n",
       "      <td>ANY</td>\n",
       "      <td>RENT</td>\n",
       "    </tr>\n",
       "    <tr>\n",
       "      <th>annual_inc</th>\n",
       "      <td>614793</td>\n",
       "      <td>68402.59555982258</td>\n",
       "      <td>29277.490061514938</td>\n",
       "      <td>25.0</td>\n",
       "      <td>149999.0</td>\n",
       "    </tr>\n",
       "    <tr>\n",
       "      <th>verification_status</th>\n",
       "      <td>614793</td>\n",
       "      <td>None</td>\n",
       "      <td>None</td>\n",
       "      <td>Not Verified</td>\n",
       "      <td>Verified</td>\n",
       "    </tr>\n",
       "    <tr>\n",
       "      <th>loan_status</th>\n",
       "      <td>614793</td>\n",
       "      <td>None</td>\n",
       "      <td>None</td>\n",
       "      <td>Charged Off</td>\n",
       "      <td>Fully Paid</td>\n",
       "    </tr>\n",
       "    <tr>\n",
       "      <th>purpose</th>\n",
       "      <td>614793</td>\n",
       "      <td>None</td>\n",
       "      <td>None</td>\n",
       "      <td>car</td>\n",
       "      <td>wedding</td>\n",
       "    </tr>\n",
       "    <tr>\n",
       "      <th>addr_state</th>\n",
       "      <td>614793</td>\n",
       "      <td>None</td>\n",
       "      <td>None</td>\n",
       "      <td>AK</td>\n",
       "      <td>WY</td>\n",
       "    </tr>\n",
       "    <tr>\n",
       "      <th>dti</th>\n",
       "      <td>614793</td>\n",
       "      <td>18.93545011085014</td>\n",
       "      <td>13.775406052896997</td>\n",
       "      <td>-1</td>\n",
       "      <td>999</td>\n",
       "    </tr>\n",
       "    <tr>\n",
       "      <th>delinq_2yrs</th>\n",
       "      <td>614793</td>\n",
       "      <td>0.32257524077209726</td>\n",
       "      <td>0.8957875696681409</td>\n",
       "      <td>0.0</td>\n",
       "      <td>22.0</td>\n",
       "    </tr>\n",
       "    <tr>\n",
       "      <th>earliest_cr_line</th>\n",
       "      <td>614793</td>\n",
       "      <td>None</td>\n",
       "      <td>None</td>\n",
       "      <td>Apr-1960</td>\n",
       "      <td>Sep-2015</td>\n",
       "    </tr>\n",
       "    <tr>\n",
       "      <th>open_acc</th>\n",
       "      <td>614793</td>\n",
       "      <td>11.568336009030682</td>\n",
       "      <td>5.652962980098664</td>\n",
       "      <td>1</td>\n",
       "      <td>81</td>\n",
       "    </tr>\n",
       "    <tr>\n",
       "      <th>pub_rec</th>\n",
       "      <td>614793</td>\n",
       "      <td>0.2484413452983362</td>\n",
       "      <td>0.6557940914998304</td>\n",
       "      <td>0</td>\n",
       "      <td>61</td>\n",
       "    </tr>\n",
       "    <tr>\n",
       "      <th>revol_bal</th>\n",
       "      <td>614793</td>\n",
       "      <td>14185.591789431564</td>\n",
       "      <td>16235.322837480266</td>\n",
       "      <td>0</td>\n",
       "      <td>959754</td>\n",
       "    </tr>\n",
       "    <tr>\n",
       "      <th>revol_util</th>\n",
       "      <td>614793</td>\n",
       "      <td>46.80615589312175</td>\n",
       "      <td>24.460793502658362</td>\n",
       "      <td>0</td>\n",
       "      <td>119</td>\n",
       "    </tr>\n",
       "    <tr>\n",
       "      <th>total_acc</th>\n",
       "      <td>614793</td>\n",
       "      <td>23.98479813530733</td>\n",
       "      <td>11.956251685102938</td>\n",
       "      <td>2</td>\n",
       "      <td>176</td>\n",
       "    </tr>\n",
       "    <tr>\n",
       "      <th>issue_d</th>\n",
       "      <td>614793</td>\n",
       "      <td>2016.6550660140892</td>\n",
       "      <td>0.7745169367374535</td>\n",
       "      <td>2016</td>\n",
       "      <td>2019</td>\n",
       "    </tr>\n",
       "    <tr>\n",
       "      <th>calculatedDTI</th>\n",
       "      <td>614793</td>\n",
       "      <td>0.2208246321649257</td>\n",
       "      <td>1.8104486529729114</td>\n",
       "      <td>0.006711409395973154</td>\n",
       "      <td>1200.0</td>\n",
       "    </tr>\n",
       "  </tbody>\n",
       "</table>\n",
       "</div>"
      ],
      "text/plain": [
       "                          0                    1                   2  \\\n",
       "summary               count                 mean              stddev   \n",
       "loan_amnt            614793   13596.431563144017   8641.283157525957   \n",
       "term                 614793                 None                None   \n",
       "int_rate             614793   12.681243739186819   4.342249904924828   \n",
       "installment          614793    417.9693555229028  262.87715223264036   \n",
       "grade                614793                 None                None   \n",
       "emp_length           614793                 None                None   \n",
       "home_ownership       614793                 None                None   \n",
       "annual_inc           614793    68402.59555982258  29277.490061514938   \n",
       "verification_status  614793                 None                None   \n",
       "loan_status          614793                 None                None   \n",
       "purpose              614793                 None                None   \n",
       "addr_state           614793                 None                None   \n",
       "dti                  614793    18.93545011085014  13.775406052896997   \n",
       "delinq_2yrs          614793  0.32257524077209726  0.8957875696681409   \n",
       "earliest_cr_line     614793                 None                None   \n",
       "open_acc             614793   11.568336009030682   5.652962980098664   \n",
       "pub_rec              614793   0.2484413452983362  0.6557940914998304   \n",
       "revol_bal            614793   14185.591789431564  16235.322837480266   \n",
       "revol_util           614793    46.80615589312175  24.460793502658362   \n",
       "total_acc            614793    23.98479813530733  11.956251685102938   \n",
       "issue_d              614793   2016.6550660140892  0.7745169367374535   \n",
       "calculatedDTI        614793   0.2208246321649257  1.8104486529729114   \n",
       "\n",
       "                                        3           4  \n",
       "summary                               min         max  \n",
       "loan_amnt                            1000       40000  \n",
       "term                            36 months   60 months  \n",
       "int_rate                             5.31       27.99  \n",
       "installment                         30.12      1597.6  \n",
       "grade                                   A           G  \n",
       "emp_length                         1 year         n/a  \n",
       "home_ownership                        ANY        RENT  \n",
       "annual_inc                           25.0    149999.0  \n",
       "verification_status          Not Verified    Verified  \n",
       "loan_status                   Charged Off  Fully Paid  \n",
       "purpose                               car     wedding  \n",
       "addr_state                             AK          WY  \n",
       "dti                                    -1         999  \n",
       "delinq_2yrs                           0.0        22.0  \n",
       "earliest_cr_line                 Apr-1960    Sep-2015  \n",
       "open_acc                                1          81  \n",
       "pub_rec                                 0          61  \n",
       "revol_bal                               0      959754  \n",
       "revol_util                              0         119  \n",
       "total_acc                               2         176  \n",
       "issue_d                              2016        2019  \n",
       "calculatedDTI        0.006711409395973154      1200.0  "
      ]
     },
     "execution_count": 55,
     "metadata": {},
     "output_type": "execute_result"
    }
   ],
   "source": [
    "final_df.describe().toPandas().transpose()"
   ]
  },
  {
   "cell_type": "code",
   "execution_count": 56,
   "id": "bf8c41d9",
   "metadata": {},
   "outputs": [
    {
     "name": "stdout",
     "output_type": "stream",
     "text": [
      "root\n",
      " |-- loan_amnt: integer (nullable = true)\n",
      " |-- term: string (nullable = true)\n",
      " |-- int_rate: float (nullable = true)\n",
      " |-- installment: double (nullable = true)\n",
      " |-- grade: string (nullable = true)\n",
      " |-- emp_length: string (nullable = true)\n",
      " |-- home_ownership: string (nullable = true)\n",
      " |-- annual_inc: double (nullable = true)\n",
      " |-- verification_status: string (nullable = true)\n",
      " |-- loan_status: string (nullable = true)\n",
      " |-- purpose: string (nullable = true)\n",
      " |-- addr_state: string (nullable = true)\n",
      " |-- dti: string (nullable = true)\n",
      " |-- delinq_2yrs: float (nullable = true)\n",
      " |-- earliest_cr_line: string (nullable = true)\n",
      " |-- open_acc: integer (nullable = true)\n",
      " |-- pub_rec: integer (nullable = true)\n",
      " |-- revol_bal: integer (nullable = true)\n",
      " |-- revol_util: integer (nullable = true)\n",
      " |-- total_acc: integer (nullable = true)\n",
      " |-- issue_d: integer (nullable = true)\n",
      " |-- calculatedDTI: double (nullable = true)\n",
      "\n"
     ]
    }
   ],
   "source": [
    "final_df.printSchema()"
   ]
  },
  {
   "cell_type": "code",
   "execution_count": 57,
   "id": "afad9a6c",
   "metadata": {},
   "outputs": [],
   "source": [
    "# สรุป column ที่เราพิจารณาว่าเป็น high dispersion, มี null เกินกว่าที่กำหนดไว้ และมี null อยู่ใน column"
   ]
  },
  {
   "cell_type": "code",
   "execution_count": 58,
   "id": "3f92da64",
   "metadata": {},
   "outputs": [
    {
     "data": {
      "text/plain": [
       "['delinq_2yrs', 'pub_rec', 'annual_inc', 'revol_bal']"
      ]
     },
     "execution_count": 58,
     "metadata": {},
     "output_type": "execute_result"
    }
   ],
   "source": [
    "HIGHDISPERSION_LIST"
   ]
  },
  {
   "cell_type": "code",
   "execution_count": 59,
   "id": "8822c804",
   "metadata": {},
   "outputs": [
    {
     "data": {
      "text/plain": [
       "['dti']"
      ]
     },
     "execution_count": 59,
     "metadata": {},
     "output_type": "execute_result"
    }
   ],
   "source": [
    "HIGHNULL_LIST"
   ]
  },
  {
   "cell_type": "code",
   "execution_count": 60,
   "id": "797a0f02",
   "metadata": {},
   "outputs": [
    {
     "data": {
      "text/plain": [
       "['delinq_2yrs',\n",
       " 'pub_rec',\n",
       " 'annual_inc',\n",
       " 'revol_bal',\n",
       " 'dti',\n",
       " 'loan_amnt',\n",
       " 'installment',\n",
       " 'total_acc',\n",
       " 'open_acc',\n",
       " 'term',\n",
       " 'int_rate',\n",
       " 'grade',\n",
       " 'emp_length',\n",
       " 'home_ownership',\n",
       " 'verification_status',\n",
       " 'loan_status',\n",
       " 'purpose',\n",
       " 'addr_state',\n",
       " 'earliest_cr_line',\n",
       " 'revol_util',\n",
       " 'issue_d']"
      ]
     },
     "execution_count": 60,
     "metadata": {},
     "output_type": "execute_result"
    }
   ],
   "source": [
    "NULL_LIST"
   ]
  },
  {
   "cell_type": "code",
   "execution_count": null,
   "id": "49f4d51a",
   "metadata": {},
   "outputs": [],
   "source": []
  },
  {
   "cell_type": "code",
   "execution_count": null,
   "id": "e0e6ed42",
   "metadata": {},
   "outputs": [],
   "source": []
  },
  {
   "cell_type": "code",
   "execution_count": null,
   "id": "dc13116b",
   "metadata": {},
   "outputs": [],
   "source": []
  },
  {
   "cell_type": "code",
   "execution_count": null,
   "id": "e6eeff55",
   "metadata": {},
   "outputs": [],
   "source": []
  },
  {
   "cell_type": "code",
   "execution_count": null,
   "id": "c6eb12a1",
   "metadata": {},
   "outputs": [],
   "source": []
  },
  {
   "cell_type": "code",
   "execution_count": null,
   "id": "8c2bbe92",
   "metadata": {},
   "outputs": [],
   "source": []
  }
 ],
 "metadata": {
  "kernelspec": {
   "display_name": "Python 3 (ipykernel)",
   "language": "python",
   "name": "python3"
  },
  "language_info": {
   "codemirror_mode": {
    "name": "ipython",
    "version": 3
   },
   "file_extension": ".py",
   "mimetype": "text/x-python",
   "name": "python",
   "nbconvert_exporter": "python",
   "pygments_lexer": "ipython3",
   "version": "3.9.2"
  }
 },
 "nbformat": 4,
 "nbformat_minor": 5
}
