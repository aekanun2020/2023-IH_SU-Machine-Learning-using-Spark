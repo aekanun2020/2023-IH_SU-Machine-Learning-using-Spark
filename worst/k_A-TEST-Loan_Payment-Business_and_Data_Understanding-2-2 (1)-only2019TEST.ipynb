{
 "cells": [
  {
   "cell_type": "code",
   "execution_count": 1,
   "id": "c96878bd",
   "metadata": {},
   "outputs": [
    {
     "name": "stderr",
     "output_type": "stream",
     "text": [
      "23/06/25 03:00:30 WARN NativeCodeLoader: Unable to load native-hadoop library for your platform... using builtin-java classes where applicable\n",
      "Using Spark's default log4j profile: org/apache/spark/log4j-defaults.properties\n",
      "Setting default log level to \"WARN\".\n",
      "To adjust logging level use sc.setLogLevel(newLevel). For SparkR, use setLogLevel(newLevel).\n"
     ]
    }
   ],
   "source": [
    "# ปรับแต่งค่าการทำงานของ Spark\n",
    "from pyspark.sql import SparkSession\n",
    "\n",
    "spark = SparkSession.\\\n",
    "     builder.\\\n",
    "     appName(\"Kong Spark\").\\\n",
    "     master(\"spark://spark-master:7077\").\\\n",
    "     config(\"spark.executor.memory\", \"4000m\").\\\n",
    "     config(\"spark.executor.cores\", \"2\").\\\n",
    "     config(\"spark.cores.max\", \"8\").\\\n",
    "     getOrCreate()\n"
   ]
  },
  {
   "cell_type": "code",
   "execution_count": 2,
   "id": "6f48f73a",
   "metadata": {},
   "outputs": [],
   "source": [
    "# กำหนดตัวแปร\n",
    "\n",
    "HIGHDISPERSION_LIST= ['delinq_2yrs','pub_rec','annual_inc','revol_bal','dti'] #เก็บชื่อคอลัมน์\n",
    "HIGHNULL_LIST = ['dti','revol_util'] #เก็บชื่อคอลัมน์\n",
    "HIGHOUTLIER = ['loan_amnt','delinq_2yrs','annual_inc']\n",
    "NULL_LIST = [] #เก็บชื่อคอลัมน์\n",
    "NULL_PERC = 0.1 #สูงกว่าค่านี้ เป็น High Null ซึ่งอาจใช้วิธีลบทั้ง row ที่มี null ไม่ได้ เพราะอาจทำให้สูญเสียทั้ง row ไปเยอะเกินควร\n",
    "DISPERSION_PERC = 100 #สูงกว่าค่านี้ (%) เป็น High Dispersion"
   ]
  },
  {
   "cell_type": "code",
   "execution_count": 3,
   "id": "1dd16f49",
   "metadata": {},
   "outputs": [],
   "source": [
    "from pyspark.sql import functions as sparkf\n",
    "from pyspark.sql.types import *"
   ]
  },
  {
   "cell_type": "code",
   "execution_count": 4,
   "id": "0b5a6ef7",
   "metadata": {},
   "outputs": [],
   "source": [
    "#! pip install scipy"
   ]
  },
  {
   "cell_type": "code",
   "execution_count": 5,
   "id": "fbbf5e64",
   "metadata": {},
   "outputs": [],
   "source": [
    "# เรียกใช้ Module/Library ของ Python\n",
    "\n",
    "import numpy as np\n",
    "import scipy as sp\n",
    "import pandas as pd\n",
    "import matplotlib as mpl\n",
    "import matplotlib.pyplot as plt\n",
    "import seaborn as sns\n",
    "\n",
    "# Pandas options\n",
    "pd.set_option('display.max_colwidth', 1000, 'display.max_rows', None, 'display.max_columns', None)\n",
    "\n",
    "# Plotting options\n",
    "%matplotlib inline\n",
    "mpl.style.use('ggplot')\n",
    "sns.set(style='whitegrid')\n",
    "\n",
    "import warnings\n",
    "warnings.filterwarnings(\"ignore\")"
   ]
  },
  {
   "cell_type": "markdown",
   "id": "0dbc2de9",
   "metadata": {},
   "source": [
    "## 1. Business Understaing\n",
    "    \n",
    "    1.1 Problem Statement: ต้องการทราบว่า ลูกหนี้แต่ละรายจะมาจ่ายหนี้ครบตามสัญญาเงินกู้ (Fully-paid) หรือไม่มาจ่ายฯ (Charged-off)\n",
    "    1.2 Project Objective: การจัดเก็บหนี้ดีขึ้นช่วยเพิ่มรายได้ให้กับกิจการ\n",
    "    1.3 Task of Data Science: Binary Classification\n",
    "    1.4 Cleansing Policy: ธุรกิจมี columns ที่แนะนำว่ามีความสัมพันธ์/ส่งผลต่อการชำระหนี้คืนตามสัญญา, ลบได้ทั้ง row หากมี missing ใน columns และแทนที่ได้ตามความเหมาะสม\n",
    "    1.5 Success Criteria: มี Recall/Sensitivity ไม่น้อยกว่า 0.65 บน Testing set แบบ Hold-out"
   ]
  },
  {
   "cell_type": "markdown",
   "id": "ea3a0af9",
   "metadata": {},
   "source": [
    "## 2. Data Understanding\n",
    "    \n",
    "    - มี Label เป็น column: loan_status\n",
    "    - มีขนาดใหญ่ (volume)เกินกว่าเทคโนโลยีปัจจุบัน (Python) จะทำงานได้อย่างมีประสิทธิภาพ จึงต้องใช้ Spark ร่วมด้วย\n",
    "    - CSV เป็น semi-structural data ที่มี header ซึ่งสามารถนำไปพัฒนาเป็น schema ของ structural data (Spark DataFrame) ได้\n",
    "    - Data Dict.: https://docs.google.com/spreadsheets/d/1qtZBSJ-JS7S2tGC0W9Yxp992LmrDaAwGcJB419Htbbw/edit#gid=1163295822"
   ]
  },
  {
   "cell_type": "code",
   "execution_count": 6,
   "id": "04384217",
   "metadata": {},
   "outputs": [],
   "source": [
    "#กำหนด columns ที่ธุรกิจให้คำแนะนำฯ ไว้\n",
    "\n",
    "businessAttrs_df = [\"loan_amnt\",\"term\",\"int_rate\"\\\n",
    "                                ,\"installment\",\"grade\",\"emp_length\",\\\n",
    "                           \"home_ownership\",\"annual_inc\"\\\n",
    "                                ,\"verification_status\",\"loan_status\",\\\n",
    "                           \"purpose\",\"addr_state\",\"dti\",\"delinq_2yrs\"\\\n",
    "                                ,\"earliest_cr_line\",\\\n",
    "                           \"open_acc\",\"pub_rec\"\\\n",
    "                                ,\"revol_bal\",\"revol_util\",\"total_acc\",\"issue_d\"]"
   ]
  },
  {
   "cell_type": "code",
   "execution_count": 7,
   "id": "91d66e30",
   "metadata": {},
   "outputs": [],
   "source": [
    "#! apt-get update"
   ]
  },
  {
   "cell_type": "code",
   "execution_count": 8,
   "id": "54245287",
   "metadata": {},
   "outputs": [],
   "source": [
    "#! apt-get install wget -y"
   ]
  },
  {
   "cell_type": "code",
   "execution_count": 9,
   "id": "1ce1a205",
   "metadata": {},
   "outputs": [],
   "source": [
    "#! wget https://storage.googleapis.com/ntclass/LoanStats_web.csv"
   ]
  },
  {
   "cell_type": "code",
   "execution_count": 10,
   "id": "a6802e1f",
   "metadata": {},
   "outputs": [],
   "source": [
    "# ! wc -l LoanStats_web.csv"
   ]
  },
  {
   "cell_type": "code",
   "execution_count": 11,
   "id": "946ec689",
   "metadata": {},
   "outputs": [],
   "source": [
    "# ! head -3 LoanStats_web.csv"
   ]
  },
  {
   "cell_type": "code",
   "execution_count": 12,
   "id": "ca46abb5",
   "metadata": {},
   "outputs": [
    {
     "name": "stderr",
     "output_type": "stream",
     "text": [
      "                                                                                \r"
     ]
    }
   ],
   "source": [
    "# Spark อ่านข้อมูลจาก .csv แล้ว convert เป็น DataFrame\n",
    "\n",
    "raw_df = spark.read.option('header',True)\\\n",
    ".option(\"quote\", \"\\\"\")\\\n",
    ".option('mode','DROPMALFORMED')\\\n",
    ".option('inferSchema',True)\\\n",
    ".csv('LoanStats_web.csv')\\\n",
    ".select(businessAttrs_df)"
   ]
  },
  {
   "cell_type": "code",
   "execution_count": 13,
   "id": "2c0e6409",
   "metadata": {},
   "outputs": [],
   "source": [
    "# Spark นับจำนวน row ใน DataFrame\n",
    "\n",
    "# raw_df.count()"
   ]
  },
  {
   "cell_type": "code",
   "execution_count": 14,
   "id": "2614242f",
   "metadata": {},
   "outputs": [],
   "source": [
    "# raw_df.printSchema()"
   ]
  },
  {
   "cell_type": "code",
   "execution_count": 15,
   "id": "3b0bcbdf",
   "metadata": {},
   "outputs": [
    {
     "name": "stderr",
     "output_type": "stream",
     "text": [
      "23/06/25 03:01:06 WARN package: Truncated the string representation of a plan since it was too large. This behavior can be adjusted by setting 'spark.sql.debug.maxToStringFields'.\n",
      "                                                                                \r"
     ]
    }
   ],
   "source": [
    "allRows_count = raw_df.count()"
   ]
  },
  {
   "cell_type": "code",
   "execution_count": null,
   "id": "32aa4736",
   "metadata": {},
   "outputs": [],
   "source": []
  },
  {
   "cell_type": "markdown",
   "id": "2afa37c7",
   "metadata": {},
   "source": [
    "### 2.1 Univariate Analysis"
   ]
  },
  {
   "cell_type": "code",
   "execution_count": 16,
   "id": "6d80fabf",
   "metadata": {},
   "outputs": [],
   "source": [
    "# Spark วิเคราะห์ column แล้วแสดงค่าทางสถิติ 5 ค่า ของแต่ละ column โดยมี Python Pandas ช่วยในการแสดงผล\n",
    "\n",
    "# raw_df.describe().toPandas().transpose()\n",
    "\n",
    "#### ผลจากการดู Range ขัอเกต คือ annual_inc มี 0 ด้วย"
   ]
  },
  {
   "cell_type": "code",
   "execution_count": 17,
   "id": "3230e239",
   "metadata": {},
   "outputs": [],
   "source": [
    "#### ขยายผลกลุ่ม annual_inc = 0 ต่อไป เพื่อดูว่า ปล่อยกู้ในกลุ่มนี้ ยังงัยบ้าง\n",
    "# raw_df.filter(sparkf.col('annual_inc')==0).describe().toPandas().transpose()"
   ]
  },
  {
   "cell_type": "code",
   "execution_count": 18,
   "id": "246ba44f",
   "metadata": {},
   "outputs": [],
   "source": [
    "#### code ก่อนหน้านี้เห็นว่า กลุ่ม annual_inc = 0 มีการปล่อยกู้ด้วยวงเงินสูงสุด 40,000\n",
    "#### code ในส่วนนี้ เห็นว่า คนที่ได้รับเงินกู้ไป 40,000 มีจำนวน 126 คน ซึ่งมากที่สุดแล้วในกลุ่ม annual_inc = 0\n",
    "# raw_df.filter(sparkf.col('annual_inc')==0).groupBy('loan_amnt').count()\\\n",
    "# .orderBy('count', ascending=False).show()"
   ]
  },
  {
   "cell_type": "code",
   "execution_count": 19,
   "id": "a45fc90a",
   "metadata": {},
   "outputs": [
    {
     "name": "stderr",
     "output_type": "stream",
     "text": [
      "                                                                                \r"
     ]
    }
   ],
   "source": [
    "# Spark และ Pandas ร่วมกันคำนวณ Coefficient of Variation (CV)\n",
    "\n",
    "basicStat_pd = raw_df.describe().toPandas().transpose()\n",
    "\n",
    "header_series = basicStat_pd.iloc[0]\n",
    "\n",
    "noColBasicStat_pd = basicStat_pd[1:]\n",
    "\n",
    "noColBasicStat_pd.columns = header_series\n",
    "\n",
    "basicStat_pd = noColBasicStat_pd\n",
    "\n",
    "basicStat_pd = basicStat_pd[['count','mean','stddev']].astype('float64')\n",
    "\n",
    "basicStat_pd = basicStat_pd.assign(CV=lambda x: round((x['stddev']/x['mean'])*100,2))\\\n",
    ".sort_values('CV',ascending=False)\n",
    "\n",
    "# basicStat_pd"
   ]
  },
  {
   "cell_type": "code",
   "execution_count": 20,
   "id": "27e3f762",
   "metadata": {},
   "outputs": [
    {
     "data": {
      "text/html": [
       "<div>\n",
       "<style scoped>\n",
       "    .dataframe tbody tr th:only-of-type {\n",
       "        vertical-align: middle;\n",
       "    }\n",
       "\n",
       "    .dataframe tbody tr th {\n",
       "        vertical-align: top;\n",
       "    }\n",
       "\n",
       "    .dataframe thead th {\n",
       "        text-align: right;\n",
       "    }\n",
       "</style>\n",
       "<table border=\"1\" class=\"dataframe\">\n",
       "  <thead>\n",
       "    <tr style=\"text-align: right;\">\n",
       "      <th>summary</th>\n",
       "      <th>count</th>\n",
       "      <th>mean</th>\n",
       "      <th>stddev</th>\n",
       "      <th>CV</th>\n",
       "    </tr>\n",
       "  </thead>\n",
       "  <tbody>\n",
       "    <tr>\n",
       "      <th>delinq_2yrs</th>\n",
       "      <td>1432440.0</td>\n",
       "      <td>0.301472</td>\n",
       "      <td>0.864319</td>\n",
       "      <td>286.70</td>\n",
       "    </tr>\n",
       "    <tr>\n",
       "      <th>pub_rec</th>\n",
       "      <td>1432439.0</td>\n",
       "      <td>0.205392</td>\n",
       "      <td>0.586109</td>\n",
       "      <td>285.36</td>\n",
       "    </tr>\n",
       "    <tr>\n",
       "      <th>annual_inc</th>\n",
       "      <td>1432440.0</td>\n",
       "      <td>81034.582933</td>\n",
       "      <td>134183.356967</td>\n",
       "      <td>165.59</td>\n",
       "    </tr>\n",
       "    <tr>\n",
       "      <th>revol_bal</th>\n",
       "      <td>1432439.0</td>\n",
       "      <td>16846.678102</td>\n",
       "      <td>23301.014583</td>\n",
       "      <td>138.31</td>\n",
       "    </tr>\n",
       "  </tbody>\n",
       "</table>\n",
       "</div>"
      ],
      "text/plain": [
       "summary          count          mean         stddev      CV\n",
       "delinq_2yrs  1432440.0      0.301472       0.864319  286.70\n",
       "pub_rec      1432439.0      0.205392       0.586109  285.36\n",
       "annual_inc   1432440.0  81034.582933  134183.356967  165.59\n",
       "revol_bal    1432439.0  16846.678102   23301.014583  138.31"
      ]
     },
     "execution_count": 20,
     "metadata": {},
     "output_type": "execute_result"
    }
   ],
   "source": [
    "# Spark และ Pandas ร่วมกันกรองออกมาเฉพาะ CV ที่เกิน DISPERSION_PERC\n",
    "\n",
    "basicStat_pd[basicStat_pd.assign(CV=lambda x: round((x['stddev']/x['mean'])*100,2))\\\n",
    ".sort_values('CV',ascending=False)['CV']>DISPERSION_PERC]"
   ]
  },
  {
   "cell_type": "code",
   "execution_count": 21,
   "id": "b28a225b",
   "metadata": {},
   "outputs": [],
   "source": [
    "# Spark และ Pandas ได้รับรายชื่อ Col. ที่มี Dispersion เกินกว่าค่า DISPERSION_PERC\n",
    "HIGHDISPERSION_LIST = basicStat_pd[basicStat_pd.assign(CV=lambda x: round((x['stddev']/x['mean'])*100,2))\\\n",
    ".sort_values('CV',ascending=False)['CV']>DISPERSION_PERC][:].axes[0].values.tolist()"
   ]
  },
  {
   "cell_type": "code",
   "execution_count": 22,
   "id": "f29cc857",
   "metadata": {},
   "outputs": [
    {
     "data": {
      "text/plain": [
       "['delinq_2yrs', 'pub_rec', 'annual_inc', 'revol_bal']"
      ]
     },
     "execution_count": 22,
     "metadata": {},
     "output_type": "execute_result"
    }
   ],
   "source": [
    "HIGHDISPERSION_LIST"
   ]
  },
  {
   "cell_type": "code",
   "execution_count": 23,
   "id": "c86668fe",
   "metadata": {},
   "outputs": [],
   "source": [
    "# raw_df.count()"
   ]
  },
  {
   "cell_type": "code",
   "execution_count": 24,
   "id": "58b807ba",
   "metadata": {},
   "outputs": [],
   "source": [
    "#วิเคราะห์ NULL\n",
    "\n",
    "# basicStat_pd.assign(percentageNull=lambda x: ((allRows_count-x['count'])/allRows_count)*100)\\\n",
    "# .sort_values('percentageNull',ascending=True)"
   ]
  },
  {
   "cell_type": "raw",
   "id": "f97caa4f",
   "metadata": {},
   "source": [
    "#วิเคราะห์ NULL\n",
    "\n",
    "basicStat_pd.assign(percentageNull=lambda x: round(((allRows_count-x['count'])/allRows_count)*100,2))\\\n",
    ".sort_values('percentageNull',ascending=False)"
   ]
  },
  {
   "cell_type": "code",
   "execution_count": 25,
   "id": "00f3aa1a",
   "metadata": {},
   "outputs": [],
   "source": [
    "# Spark และ Pandas ได้รับรายชื่อ Col. ที่มี Null เกินกว่าค่า NULL_PERC\n",
    "\n",
    "HIGHNULL_LIST = basicStat_pd[basicStat_pd.assign(percentageNull=lambda x: ((allRows_count-x['count'])/allRows_count)*100)\\\n",
    ".sort_values('percentageNull',ascending=False)['percentageNull']>NULL_PERC][:].axes[0].values.tolist()"
   ]
  },
  {
   "cell_type": "raw",
   "id": "b51a11a8",
   "metadata": {},
   "source": [
    "# Spark และ Pandas ได้รับรายชื่อ Col. ที่มี Null เกินกว่าค่า NULL_PERC\n",
    "\n",
    "HIGHNULL_LIST = basicStat_pd[basicStat_pd.assign(percentageNull=lambda x: round(((allRows_count-x['count'])/allRows_count)*100,2))\\\n",
    ".sort_values('percentageNull',ascending=False)['percentageNull']>NULL_PERC][:].axes[0].values.tolist()"
   ]
  },
  {
   "cell_type": "code",
   "execution_count": 26,
   "id": "942e4327",
   "metadata": {},
   "outputs": [
    {
     "data": {
      "text/plain": [
       "['dti']"
      ]
     },
     "execution_count": 26,
     "metadata": {},
     "output_type": "execute_result"
    }
   ],
   "source": [
    "HIGHNULL_LIST"
   ]
  },
  {
   "cell_type": "code",
   "execution_count": 27,
   "id": "1360a594",
   "metadata": {},
   "outputs": [],
   "source": [
    "# Spark และ Pandas ได้รับรายชื่อ Col. ที่มี Null \n",
    "NULL_LIST = basicStat_pd[basicStat_pd.assign(countNull=lambda x: allRows_count-x['count'])\\\n",
    ".sort_values('countNull',ascending=False)['countNull']>0][:].axes[0].values.tolist()"
   ]
  },
  {
   "cell_type": "code",
   "execution_count": 28,
   "id": "2424b713",
   "metadata": {},
   "outputs": [],
   "source": [
    "# Spark วิเคราะห์ Imbalance Class\n",
    "\n",
    "# raw_df.groupBy('loan_status').count().show()"
   ]
  },
  {
   "cell_type": "code",
   "execution_count": 29,
   "id": "cc2973c1",
   "metadata": {},
   "outputs": [],
   "source": [
    "# raw_df.select('loan_status').distinct().show()"
   ]
  },
  {
   "cell_type": "code",
   "execution_count": 30,
   "id": "f0bd6ca9",
   "metadata": {},
   "outputs": [],
   "source": [
    "# raw_df.printSchema()"
   ]
  },
  {
   "cell_type": "code",
   "execution_count": 31,
   "id": "d5629e48",
   "metadata": {},
   "outputs": [],
   "source": [
    "# raw_df.withColumn('calculatedDTI',sparkf.col('loan_amnt')/sparkf.col('annual_inc'))\\\n",
    "# .select('loan_amnt','annual_inc','dti','calculatedDTI').groupBy('loan_amnt','annual_inc','dti','calculatedDTI').count()\\\n",
    "# .orderBy('dti', ascending=False).show()\n",
    "\n",
    "### ค่า dti เชื่อถือได้หรือไม่"
   ]
  },
  {
   "cell_type": "code",
   "execution_count": 32,
   "id": "9bee9fb5",
   "metadata": {},
   "outputs": [],
   "source": [
    "# raw_df.withColumn('calculatedDTI',sparkf.col('loan_amnt')/sparkf.col('annual_inc'))\\\n",
    "# .select('loan_amnt','annual_inc','dti','calculatedDTI').filter(sparkf.col('calculatedDTI').isNull()).show()\n",
    "\n",
    "#### พบว่า มี annual_inc = 0 แต่ได้รับเงินกู้ ซึ่งไม่ควรให้ ML จดจำ pattern แบบนี้ไปใช้**"
   ]
  },
  {
   "cell_type": "code",
   "execution_count": 33,
   "id": "c279ef73",
   "metadata": {},
   "outputs": [],
   "source": [
    "# selectedCol_raw_pd = raw_df.toPandas()\n",
    "# import seaborn\n",
    "# seaborn.boxplot(x = selectedCol_raw_pd['loan_amnt'])"
   ]
  },
  {
   "cell_type": "code",
   "execution_count": 34,
   "id": "325896b1",
   "metadata": {},
   "outputs": [],
   "source": [
    "# selectedCol_raw_pd.shape"
   ]
  },
  {
   "cell_type": "code",
   "execution_count": 35,
   "id": "97ed1b1b",
   "metadata": {},
   "outputs": [],
   "source": [
    "# raw_df.groupBy('loan_status').count().show()"
   ]
  },
  {
   "cell_type": "code",
   "execution_count": 36,
   "id": "007c9e1e",
   "metadata": {},
   "outputs": [],
   "source": [
    "# raw_df.printSchema()"
   ]
  },
  {
   "cell_type": "markdown",
   "id": "8911ff33",
   "metadata": {},
   "source": [
    "## Multivariative/Bivariate Ananalysis with Correlation"
   ]
  },
  {
   "cell_type": "code",
   "execution_count": 37,
   "id": "36300b81",
   "metadata": {},
   "outputs": [],
   "source": [
    "\n",
    "# ประกาศฟังก์ชั่นที่ใช้ทำ Histogram กับ Boxplot เพื่อวิเคราะห์ distribution (shape), outlier และความสัมพันธ์ (correlation)\n",
    "\n",
    "def plot_var(arg_df, col_name, full_name, continuous):\n",
    "    \"\"\"\n",
    "    Visualize a variable with and without faceting on the loan status.\n",
    "    - col_name is the variable name in the dataframe\n",
    "    - full_name is the full variable name\n",
    "    - continuous is True if the variable is continuous, False otherwise\n",
    "    \"\"\"\n",
    "#     f, (ax1, ax2) = plt.subplots(nrows=1, ncols=2, figsize=(12,3), dpi=90)\n",
    "    f, (ax1, ax2) = plt.subplots(nrows=1, ncols=2, figsize=(20,3), dpi=50)\n",
    "    \n",
    "    # Plot without loan status\n",
    "    if continuous:\n",
    "        sns.distplot(arg_df.loc[arg_df[col_name].notnull(), col_name], kde=False, ax=ax1)\n",
    "    else:\n",
    "        sns.countplot(x=arg_df[col_name], order=sorted(arg_df[col_name].unique()), color='#5975A4', saturation=1, ax=ax1)\n",
    "    ax1.set_xlabel(full_name)\n",
    "    ax1.set_ylabel('Count')\n",
    "    ax1.set_title(full_name)\n",
    "\n",
    "    # Plot with loan status\n",
    "    if continuous:\n",
    "        sns.boxplot(x=col_name, y='loan_status', data=arg_df, ax=ax2)\n",
    "        ax2.set_ylabel('')\n",
    "        ax2.set_title(full_name + ' by Loan Status')\n",
    "    else:\n",
    "        charge_off_rates = arg_df.groupby(col_name)['loan_status'].value_counts(normalize=True).loc[:,'Charged Off']\n",
    "        sns.barplot(x=charge_off_rates.index, y=charge_off_rates.values, color='#5975A4', saturation=1, ax=ax2)\n",
    "        ax2.set_ylabel('Fraction of arg_df Charged-off')\n",
    "        ax2.set_title('Charge-off Rate by ' + full_name)\n",
    "    ax2.set_xlabel(full_name)\n",
    "    \n",
    "    plt.tight_layout()"
   ]
  },
  {
   "cell_type": "code",
   "execution_count": 38,
   "id": "f5f79eed",
   "metadata": {},
   "outputs": [],
   "source": [
    "# delinq_2yrs (The number of 30+ days past-due incidences of delinquency in the borrower's credit file for the past 2 years)\n",
    "# numerical discrete"
   ]
  },
  {
   "cell_type": "code",
   "execution_count": 39,
   "id": "6a396556",
   "metadata": {},
   "outputs": [],
   "source": [
    "#delinq_2yrs: string (nullable = true)\n",
    "# change type withColumn\n",
    "\n",
    "correctedType_raw_df = raw_df.withColumn('delinq_2yrs',sparkf.col('delinq_2yrs').cast(IntegerType()))"
   ]
  },
  {
   "cell_type": "code",
   "execution_count": 40,
   "id": "a5afaebd",
   "metadata": {},
   "outputs": [],
   "source": [
    "#correctedType_raw_pd = correctedType_raw_df.toPandas()"
   ]
  },
  {
   "cell_type": "code",
   "execution_count": 41,
   "id": "b676cba0",
   "metadata": {},
   "outputs": [],
   "source": [
    "#plot_var(raw_df.filter(sparkf.col('annual_inc') == 0).toPandas(),'loan_amnt', 'Loan Amount', continuous=True)"
   ]
  },
  {
   "cell_type": "code",
   "execution_count": 42,
   "id": "05719eb9",
   "metadata": {},
   "outputs": [],
   "source": [
    "#plot_var(raw_df.filter(sparkf.col('annual_inc') != 0).toPandas(),'loan_amnt', 'Loan Amount', continuous=True)"
   ]
  },
  {
   "cell_type": "code",
   "execution_count": 43,
   "id": "e5cf0cc2",
   "metadata": {},
   "outputs": [],
   "source": [
    "#plot_var(correctedType_raw_pd,'loan_amnt', 'loan_amnt', continuous=True)"
   ]
  },
  {
   "cell_type": "code",
   "execution_count": 44,
   "id": "7836da2e",
   "metadata": {},
   "outputs": [],
   "source": [
    "#plot_var(correctedType_raw_pd,'delinq_2yrs', 'loan_status', continuous=False)"
   ]
  },
  {
   "cell_type": "code",
   "execution_count": 45,
   "id": "1c19232d",
   "metadata": {},
   "outputs": [],
   "source": [
    "#plot_var(correctedType_raw_pd,'annual_inc', 'annual_inc', continuous=True)"
   ]
  },
  {
   "cell_type": "code",
   "execution_count": 46,
   "id": "1f0d250d",
   "metadata": {},
   "outputs": [],
   "source": [
    "#correctedType_raw_df.select('delinq_2yrs').describe().show()"
   ]
  },
  {
   "cell_type": "code",
   "execution_count": 47,
   "id": "6a9dd028",
   "metadata": {},
   "outputs": [],
   "source": [
    "#correctedType_raw_df.groupBy('delinq_2yrs').count().orderBy('delinq_2yrs',ascending=False).show(100)"
   ]
  },
  {
   "cell_type": "code",
   "execution_count": 48,
   "id": "60661264",
   "metadata": {},
   "outputs": [],
   "source": [
    "#correctedType_raw_df.describe().toPandas().transpose()"
   ]
  },
  {
   "cell_type": "code",
   "execution_count": 49,
   "id": "d79d5cd5",
   "metadata": {},
   "outputs": [],
   "source": [
    "#correctedType_raw_pd.info()"
   ]
  },
  {
   "cell_type": "code",
   "execution_count": 50,
   "id": "9d047a4a",
   "metadata": {},
   "outputs": [],
   "source": [
    "# กำหนดตัวแปร\n",
    "\n",
    "HIGHDISPERSION_LIST= ['delinq_2yrs','pub_rec','annual_inc','revol_bal','dti'] #เก็บชื่อคอลัมน์\n",
    "HIGHNULL_LIST = ['dti','revol_util'] #เก็บชื่อคอลัมน์\n",
    "HIGHOUTLIER = ['loan_amnt','delinq_2yrs','annual_inc']\n",
    "NULL_LIST = [] #เก็บชื่อคอลัมน์\n",
    "NULL_PERC = 0.1 #สูงกว่าค่านี้ เป็น High Null ซึ่งอาจใช้วิธีลบทั้ง row ที่มี null ไม่ได้ เพราะอาจทำให้สูญเสียทั้ง row ไปเยอะเกินควร\n",
    "DISPERSION_PERC = 100 #สูงกว่าค่านี้ (%) เป็น High Dispersion"
   ]
  },
  {
   "cell_type": "markdown",
   "id": "7070d4ea",
   "metadata": {},
   "source": [
    "# 3. Data Preparation"
   ]
  },
  {
   "cell_type": "code",
   "execution_count": 51,
   "id": "ce0ba290",
   "metadata": {},
   "outputs": [],
   "source": [
    "noHighNull_df = correctedType_raw_df.dropna(subset=HIGHNULL_LIST)"
   ]
  },
  {
   "cell_type": "code",
   "execution_count": 52,
   "id": "b9aa17ca",
   "metadata": {},
   "outputs": [],
   "source": [
    "#noHighNull_df.describe().toPandas().transpose()"
   ]
  },
  {
   "cell_type": "markdown",
   "id": "c7197b1e",
   "metadata": {},
   "source": [
    "## 1.Dropna"
   ]
  },
  {
   "cell_type": "code",
   "execution_count": 53,
   "id": "f423d227",
   "metadata": {},
   "outputs": [],
   "source": [
    "noNull_df = noHighNull_df.dropna()"
   ]
  },
  {
   "cell_type": "code",
   "execution_count": 54,
   "id": "0334e616",
   "metadata": {},
   "outputs": [],
   "source": [
    "#noNull_df.describe().toPandas().transpose()"
   ]
  },
  {
   "cell_type": "markdown",
   "id": "dc0b4083",
   "metadata": {},
   "source": [
    "## 2.จัดการ term ลบ months ออก"
   ]
  },
  {
   "cell_type": "code",
   "execution_count": 55,
   "id": "de959134",
   "metadata": {},
   "outputs": [],
   "source": [
    "#noNull_df.groupBy('term').count().show()"
   ]
  },
  {
   "cell_type": "code",
   "execution_count": 56,
   "id": "152b7c2f",
   "metadata": {},
   "outputs": [],
   "source": [
    "#noNull_df.select('term').printSchema()"
   ]
  },
  {
   "cell_type": "code",
   "execution_count": 57,
   "id": "66a32cad",
   "metadata": {},
   "outputs": [],
   "source": [
    "# noNull_df.withColumn('term',sparkf.when(sparkf.col('term').isNotNull(),sparkf.regexp_replace(sparkf.col('term'),' months','')).otherwise(sparkf.col('term')))\\\n",
    "# .groupBy('term').count().show()"
   ]
  },
  {
   "cell_type": "code",
   "execution_count": 58,
   "id": "1d1257cc",
   "metadata": {},
   "outputs": [],
   "source": [
    "#noNull_df.select('term').printSchema()"
   ]
  },
  {
   "cell_type": "raw",
   "id": "d5f42c9c",
   "metadata": {},
   "source": [
    "# plot_var(noNull_df.select(sparkf.col('term')).toPandas(),'term','loan_status', continuous=False)"
   ]
  },
  {
   "cell_type": "markdown",
   "id": "13404ac4",
   "metadata": {},
   "source": [
    "### cast type to Interger"
   ]
  },
  {
   "cell_type": "code",
   "execution_count": 59,
   "id": "21a65d43",
   "metadata": {},
   "outputs": [],
   "source": [
    "# noNull_df.withColumn('term',sparkf.when(sparkf.col('term').isNotNull(),sparkf.regexp_replace(sparkf.col('term'),' months','')).otherwise(sparkf.col('term')))\\\n",
    "# .withColumn('term',sparkf.col('term').cast(IntegerType()))\\\n",
    "# .select('term').printSchema()"
   ]
  },
  {
   "cell_type": "markdown",
   "id": "aae647c3",
   "metadata": {},
   "source": [
    "## 3.จัดการ int_rate remote '%'"
   ]
  },
  {
   "cell_type": "code",
   "execution_count": 60,
   "id": "edfbc6f7",
   "metadata": {},
   "outputs": [],
   "source": [
    "# noNull_df\\\n",
    "# .select('int_rate')\\\n",
    "# .describe().toPandas().transpose()"
   ]
  },
  {
   "cell_type": "code",
   "execution_count": 61,
   "id": "de501802",
   "metadata": {},
   "outputs": [],
   "source": [
    "# noNull_df.withColumn('int_rate',sparkf.regexp_replace(sparkf.col('int_rate'),'%',''))\\\n",
    "# .withColumn('int_rate',sparkf.col('int_rate').cast(FloatType()))\\\n",
    "# .select('int_rate').describe().toPandas().transpose()"
   ]
  },
  {
   "cell_type": "markdown",
   "id": "76f08008",
   "metadata": {},
   "source": [
    "## 4.จัดการ emp_length"
   ]
  },
  {
   "cell_type": "code",
   "execution_count": 62,
   "id": "4823a9ef",
   "metadata": {},
   "outputs": [],
   "source": [
    "# noNull_df.withColumn('new_emp_length',sparkf.regexp_replace(sparkf.col('emp_length'),'< 1 year','0'))\\\n",
    "# .withColumn('new_emp_length',sparkf.regexp_replace(sparkf.col('new_emp_length'),'[^0-9]',''))\\\n",
    "# .withColumn('new_emp_length',sparkf.col('new_emp_length').cast(IntegerType()))\\\n",
    "# .select('emp_length','new_emp_length')\\\n",
    "# .groupBy('emp_length','new_emp_length').count().show()"
   ]
  },
  {
   "cell_type": "code",
   "execution_count": 63,
   "id": "4c8bafc8",
   "metadata": {},
   "outputs": [],
   "source": [
    "# noNull_df.withColumn('new_emp_length',sparkf.regexp_replace(sparkf.col('emp_length'),'< 1 year','0'))\\\n",
    "# .withColumn('new_emp_length',sparkf.regexp_replace(sparkf.col('new_emp_length'),'[^0-9]',''))\\\n",
    "# .withColumn('new_emp_length',sparkf.col('new_emp_length').cast(IntegerType()))\\\n",
    "# .dropna()\\\n",
    "# .select('emp_length','new_emp_length')\\\n",
    "# .groupBy('emp_length','new_emp_length').count().show()"
   ]
  },
  {
   "cell_type": "markdown",
   "id": "38d03fc7",
   "metadata": {},
   "source": [
    "## 5.loan_amount"
   ]
  },
  {
   "cell_type": "code",
   "execution_count": 64,
   "id": "575cda78",
   "metadata": {},
   "outputs": [],
   "source": [
    "# noNull_df\\\n",
    "# .withColumn('loan_amnt',sparkf.col('loan_amnt').cast(FloatType()))\\\n",
    "# .filter(sparkf.col('loan_amnt') < 37000.0)\\\n",
    "# .describe().toPandas().transpose()"
   ]
  },
  {
   "cell_type": "markdown",
   "id": "608cb398",
   "metadata": {},
   "source": [
    "## 6.annual_inc"
   ]
  },
  {
   "cell_type": "code",
   "execution_count": 65,
   "id": "adffecbf",
   "metadata": {},
   "outputs": [
    {
     "name": "stderr",
     "output_type": "stream",
     "text": [
      "                                                                                \r"
     ]
    },
    {
     "data": {
      "text/html": [
       "<div>\n",
       "<style scoped>\n",
       "    .dataframe tbody tr th:only-of-type {\n",
       "        vertical-align: middle;\n",
       "    }\n",
       "\n",
       "    .dataframe tbody tr th {\n",
       "        vertical-align: top;\n",
       "    }\n",
       "\n",
       "    .dataframe thead th {\n",
       "        text-align: right;\n",
       "    }\n",
       "</style>\n",
       "<table border=\"1\" class=\"dataframe\">\n",
       "  <thead>\n",
       "    <tr style=\"text-align: right;\">\n",
       "      <th></th>\n",
       "      <th>0</th>\n",
       "      <th>1</th>\n",
       "      <th>2</th>\n",
       "      <th>3</th>\n",
       "      <th>4</th>\n",
       "    </tr>\n",
       "  </thead>\n",
       "  <tbody>\n",
       "    <tr>\n",
       "      <th>summary</th>\n",
       "      <td>count</td>\n",
       "      <td>mean</td>\n",
       "      <td>stddev</td>\n",
       "      <td>min</td>\n",
       "      <td>max</td>\n",
       "    </tr>\n",
       "    <tr>\n",
       "      <th>annual_inc</th>\n",
       "      <td>1429660</td>\n",
       "      <td>81111.82013504994</td>\n",
       "      <td>134221.72384257164</td>\n",
       "      <td>20.0</td>\n",
       "      <td>6.1E7</td>\n",
       "    </tr>\n",
       "  </tbody>\n",
       "</table>\n",
       "</div>"
      ],
      "text/plain": [
       "                  0                  1                   2     3      4\n",
       "summary       count               mean              stddev   min    max\n",
       "annual_inc  1429660  81111.82013504994  134221.72384257164  20.0  6.1E7"
      ]
     },
     "execution_count": 65,
     "metadata": {},
     "output_type": "execute_result"
    }
   ],
   "source": [
    "noNull_df\\\n",
    ".withColumn('annual_inc',sparkf.col('annual_inc').cast(FloatType()))\\\n",
    ".filter(sparkf.col('annual_inc') != 0.0)\\\n",
    ".select('annual_inc').describe().toPandas().transpose()"
   ]
  },
  {
   "cell_type": "code",
   "execution_count": 66,
   "id": "ba8870cf",
   "metadata": {},
   "outputs": [],
   "source": [
    "#plot_var(noNull_df.toPandas(), 'annual_inc', 'annual_inc', continuous=False)"
   ]
  },
  {
   "cell_type": "code",
   "execution_count": 67,
   "id": "224d938e",
   "metadata": {},
   "outputs": [],
   "source": [
    "#plot_var(noNull_df.toPandas(), 'annual_inc', 'annual_inc', continuous=True)"
   ]
  },
  {
   "cell_type": "markdown",
   "id": "5814cd23",
   "metadata": {},
   "source": [
    "## รวม 2-6"
   ]
  },
  {
   "cell_type": "code",
   "execution_count": 68,
   "id": "66665eba",
   "metadata": {},
   "outputs": [],
   "source": [
    "# crunched_df = noNull_df\\\n",
    "# # .withColumn('term',sparkf.when(sparkf.col('term').isNotNull(),sparkf.regexp_replace(sparkf.col('term'),' months','')).otherwise(sparkf.col('term')))\\\n",
    "# # .withColumn('term',sparkf.col('term').cast(IntegerType()))\\\n",
    "# .withColumn('int_rate',sparkf.regexp_replace(sparkf.col('int_rate'),'%',''))\\\n",
    "# .withColumn('int_rate',sparkf.col('int_rate').cast(FloatType()))\\\n",
    "# # .withColumn('new_emp_length',sparkf.regexp_replace(sparkf.col('emp_length'),'< 1 year','0'))\\\n",
    "# # .withColumn('new_emp_length',sparkf.regexp_replace(sparkf.col('new_emp_length'),'[^0-9]',''))\\\n",
    "# # .withColumn('emp_length',sparkf.col('new_emp_length').cast(IntegerType()))\\\n",
    "# .withColumn('loan_amnt',sparkf.col('loan_amnt').cast(FloatType()))\\\n",
    "# .filter(sparkf.col('loan_amnt') < 40000.0)\\\n",
    "# # .withColumn('annual_inc',sparkf.col('annual_inc').cast(FloatType()))\\\n",
    "# # .filter(sparkf.col('annual_inc') != 0.0)\\\n",
    "# .dropna()"
   ]
  },
  {
   "cell_type": "code",
   "execution_count": 69,
   "id": "0fafcedf",
   "metadata": {},
   "outputs": [],
   "source": [
    "# crunched_df = noNull_df\\\n",
    "# .withColumn('int_rate',sparkf.regexp_replace(sparkf.col('int_rate'),'%',''))\\\n",
    "# .withColumn('int_rate',sparkf.col('int_rate').cast(FloatType()))\\\n",
    "# .withColumn('loan_amnt',sparkf.col('loan_amnt').cast(FloatType()))\\\n",
    "# .filter(sparkf.col('loan_amnt') < 40000.0)\\\n",
    "# .dropna()"
   ]
  },
  {
   "cell_type": "code",
   "execution_count": 70,
   "id": "b4195eff",
   "metadata": {},
   "outputs": [],
   "source": [
    "crunched_df = noNull_df\\\n",
    ".withColumn('term',sparkf.when(sparkf.col('term').isNotNull(),sparkf.regexp_replace(sparkf.col('term'),' months','')).otherwise(sparkf.col('term')))\\\n",
    ".withColumn('term',sparkf.col('term').cast(IntegerType()))\\\n",
    ".withColumn('int_rate',sparkf.regexp_replace(sparkf.col('int_rate'),'%',''))\\\n",
    ".withColumn('int_rate',sparkf.col('int_rate').cast(FloatType()))\\\n",
    ".withColumn('loan_amnt',sparkf.col('loan_amnt').cast(FloatType()))\\\n",
    ".filter(sparkf.col('loan_amnt') < 40000.0)\\\n",
    ".withColumn('annual_inc',sparkf.col('annual_inc').cast(FloatType()))\\\n",
    ".filter(sparkf.col('annual_inc') < 150000.0)\\\n",
    ".dropna()"
   ]
  },
  {
   "cell_type": "code",
   "execution_count": 71,
   "id": "e560f51e",
   "metadata": {},
   "outputs": [],
   "source": [
    "# crunched_df.select('term','int_rate','emp_length','loan_amnt').describe().toPandas().transpose()"
   ]
  },
  {
   "cell_type": "code",
   "execution_count": 72,
   "id": "3386609b",
   "metadata": {},
   "outputs": [],
   "source": [
    "# crunched_df.select('loan_status').describe().show()"
   ]
  },
  {
   "cell_type": "code",
   "execution_count": 73,
   "id": "0dfa5574",
   "metadata": {},
   "outputs": [],
   "source": [
    "# crunched_df.groupBy('loan_status').count().show()"
   ]
  },
  {
   "cell_type": "code",
   "execution_count": 74,
   "id": "34aa9dee",
   "metadata": {},
   "outputs": [],
   "source": [
    "# crunched_df.select('term','int_rate','emp_length','loan_amnt')\\\n",
    "# .filter((sparkf.col('loan_status')=='Fully Paid')|(sparkf.col('loan_status')=='Charged Off'))\\\n",
    "# .describe().show()"
   ]
  },
  {
   "cell_type": "code",
   "execution_count": 75,
   "id": "b3b6a261",
   "metadata": {},
   "outputs": [],
   "source": [
    "# crunched_df.select('term','int_rate','emp_length','loan_amnt','loan_status')\\\n",
    "# .filter((sparkf.col('loan_status')=='Fully Paid')|(sparkf.col('loan_status')=='Charged Off'))\\\n",
    "# .groupBy('loan_status').count().show()"
   ]
  },
  {
   "cell_type": "code",
   "execution_count": 76,
   "id": "5c137376",
   "metadata": {},
   "outputs": [],
   "source": [
    "# crunched_df.select('term','int_rate','emp_length','loan_amnt')\\\n",
    "# .filter((sparkf.col('loan_status')=='Fully Paid')|(sparkf.col('loan_status')=='Charged Off'))\\\n",
    "# .count()"
   ]
  },
  {
   "cell_type": "code",
   "execution_count": 77,
   "id": "8baa17ea",
   "metadata": {},
   "outputs": [],
   "source": [
    "abt_df = crunched_df.select('term','int_rate','loan_amnt','annual_inc','loan_status','issue_d')\\\n",
    ".filter((sparkf.col('loan_status')=='Fully Paid')|(sparkf.col('loan_status')=='Charged Off'))\\\n",
    ".withColumn('issue_d',sparkf.regexp_extract(sparkf.col('issue_d'),'\\d+',0))\\\n",
    ".withColumn('issue_d',sparkf.col('issue_d').cast(IntegerType()))"
   ]
  },
  {
   "cell_type": "code",
   "execution_count": 78,
   "id": "1043b3bd",
   "metadata": {},
   "outputs": [
    {
     "name": "stderr",
     "output_type": "stream",
     "text": [
      "                                                                                \r"
     ]
    },
    {
     "data": {
      "text/plain": [
       "641102"
      ]
     },
     "execution_count": 78,
     "metadata": {},
     "output_type": "execute_result"
    }
   ],
   "source": [
    "abt_df.count()"
   ]
  },
  {
   "cell_type": "code",
   "execution_count": 79,
   "id": "cbf3d654",
   "metadata": {},
   "outputs": [
    {
     "name": "stderr",
     "output_type": "stream",
     "text": [
      "                                                                                \r"
     ]
    },
    {
     "data": {
      "text/html": [
       "<div>\n",
       "<style scoped>\n",
       "    .dataframe tbody tr th:only-of-type {\n",
       "        vertical-align: middle;\n",
       "    }\n",
       "\n",
       "    .dataframe tbody tr th {\n",
       "        vertical-align: top;\n",
       "    }\n",
       "\n",
       "    .dataframe thead th {\n",
       "        text-align: right;\n",
       "    }\n",
       "</style>\n",
       "<table border=\"1\" class=\"dataframe\">\n",
       "  <thead>\n",
       "    <tr style=\"text-align: right;\">\n",
       "      <th></th>\n",
       "      <th>0</th>\n",
       "      <th>1</th>\n",
       "      <th>2</th>\n",
       "      <th>3</th>\n",
       "      <th>4</th>\n",
       "    </tr>\n",
       "  </thead>\n",
       "  <tbody>\n",
       "    <tr>\n",
       "      <th>summary</th>\n",
       "      <td>count</td>\n",
       "      <td>mean</td>\n",
       "      <td>stddev</td>\n",
       "      <td>min</td>\n",
       "      <td>max</td>\n",
       "    </tr>\n",
       "    <tr>\n",
       "      <th>term</th>\n",
       "      <td>641102</td>\n",
       "      <td>40.965075760175445</td>\n",
       "      <td>9.72162477973465</td>\n",
       "      <td>36</td>\n",
       "      <td>60</td>\n",
       "    </tr>\n",
       "    <tr>\n",
       "      <th>int_rate</th>\n",
       "      <td>641102</td>\n",
       "      <td>13.354483016292917</td>\n",
       "      <td>5.179147887996389</td>\n",
       "      <td>5.31</td>\n",
       "      <td>30.99</td>\n",
       "    </tr>\n",
       "    <tr>\n",
       "      <th>loan_amnt</th>\n",
       "      <td>641102</td>\n",
       "      <td>13546.667223000397</td>\n",
       "      <td>8394.89122500868</td>\n",
       "      <td>1000.0</td>\n",
       "      <td>39975.0</td>\n",
       "    </tr>\n",
       "    <tr>\n",
       "      <th>annual_inc</th>\n",
       "      <td>641102</td>\n",
       "      <td>68034.25419335006</td>\n",
       "      <td>29107.528004284766</td>\n",
       "      <td>0.0</td>\n",
       "      <td>149999.0</td>\n",
       "    </tr>\n",
       "    <tr>\n",
       "      <th>loan_status</th>\n",
       "      <td>641102</td>\n",
       "      <td>None</td>\n",
       "      <td>None</td>\n",
       "      <td>Charged Off</td>\n",
       "      <td>Fully Paid</td>\n",
       "    </tr>\n",
       "    <tr>\n",
       "      <th>issue_d</th>\n",
       "      <td>641102</td>\n",
       "      <td>2016.6581448817817</td>\n",
       "      <td>0.771854234797894</td>\n",
       "      <td>2016</td>\n",
       "      <td>2019</td>\n",
       "    </tr>\n",
       "  </tbody>\n",
       "</table>\n",
       "</div>"
      ],
      "text/plain": [
       "                  0                   1                   2            3  \\\n",
       "summary       count                mean              stddev          min   \n",
       "term         641102  40.965075760175445    9.72162477973465           36   \n",
       "int_rate     641102  13.354483016292917   5.179147887996389         5.31   \n",
       "loan_amnt    641102  13546.667223000397    8394.89122500868       1000.0   \n",
       "annual_inc   641102   68034.25419335006  29107.528004284766          0.0   \n",
       "loan_status  641102                None                None  Charged Off   \n",
       "issue_d      641102  2016.6581448817817   0.771854234797894         2016   \n",
       "\n",
       "                      4  \n",
       "summary             max  \n",
       "term                 60  \n",
       "int_rate          30.99  \n",
       "loan_amnt       39975.0  \n",
       "annual_inc     149999.0  \n",
       "loan_status  Fully Paid  \n",
       "issue_d            2019  "
      ]
     },
     "execution_count": 79,
     "metadata": {},
     "output_type": "execute_result"
    }
   ],
   "source": [
    "abt_df.describe().toPandas().transpose()"
   ]
  },
  {
   "cell_type": "code",
   "execution_count": 80,
   "id": "13aecb73",
   "metadata": {},
   "outputs": [],
   "source": [
    "# Spark ทำ Hold-out Tesing set\n",
    "\n",
    "candidate_training_df = abt_df.filter(sparkf.col('issue_d') < 2019)\n",
    "test_df = abt_df.filter(sparkf.col('issue_d') >= 2019)"
   ]
  },
  {
   "cell_type": "code",
   "execution_count": 81,
   "id": "53ad2e78",
   "metadata": {},
   "outputs": [
    {
     "name": "stderr",
     "output_type": "stream",
     "text": [
      "[Stage 21:=========================================>              (55 + 4) / 75]\r"
     ]
    },
    {
     "name": "stdout",
     "output_type": "stream",
     "text": [
      "+-----------+------+\n",
      "|loan_status| count|\n",
      "+-----------+------+\n",
      "| Fully Paid|496863|\n",
      "|Charged Off|136941|\n",
      "+-----------+------+\n",
      "\n"
     ]
    },
    {
     "name": "stderr",
     "output_type": "stream",
     "text": [
      "                                                                                \r"
     ]
    }
   ],
   "source": [
    "candidate_training_df.groupBy('loan_status').count().show()"
   ]
  },
  {
   "cell_type": "code",
   "execution_count": 82,
   "id": "b78fe39f",
   "metadata": {},
   "outputs": [
    {
     "name": "stderr",
     "output_type": "stream",
     "text": [
      "                                                                                \r"
     ]
    }
   ],
   "source": [
    "# Spark ทำการสุ่มเลือกข้อมูลเฉพาะจาก training set เพื่อลดจำนวน Fully Paid\n",
    "\n",
    "FullyPaid_training_df = candidate_training_df.filter(sparkf.col('loan_status') == 'Fully Paid').sample(0.30)\n",
    "\n",
    "ChargedOff_training_df = candidate_training_df.filter(sparkf.col('loan_status') == 'Charged Off')\n",
    "\n",
    "FullyPaid_training_num = FullyPaid_training_df.count()\n",
    "\n",
    "ChargedOff_training_num = ChargedOff_training_df.count()\n",
    "\n",
    "train_df = FullyPaid_training_df.union(ChargedOff_training_df)"
   ]
  },
  {
   "cell_type": "code",
   "execution_count": 83,
   "id": "9bd0465c",
   "metadata": {},
   "outputs": [
    {
     "name": "stderr",
     "output_type": "stream",
     "text": [
      "                                                                                \r"
     ]
    },
    {
     "name": "stdout",
     "output_type": "stream",
     "text": [
      "+-----------+------+\n",
      "|loan_status| count|\n",
      "+-----------+------+\n",
      "| Fully Paid|148707|\n",
      "|Charged Off|136941|\n",
      "+-----------+------+\n",
      "\n"
     ]
    }
   ],
   "source": [
    "# Spark ทำสรุปจำนวน row ของแต่ละ class ที่มีความ Balance Class มากขึ้น\n",
    "train_df.groupBy('loan_status').count().show()"
   ]
  },
  {
   "cell_type": "code",
   "execution_count": null,
   "id": "ddbfb465",
   "metadata": {},
   "outputs": [],
   "source": []
  },
  {
   "cell_type": "code",
   "execution_count": null,
   "id": "1e29911e",
   "metadata": {},
   "outputs": [],
   "source": []
  },
  {
   "cell_type": "code",
   "execution_count": null,
   "id": "31d0001a",
   "metadata": {},
   "outputs": [],
   "source": []
  },
  {
   "cell_type": "code",
   "execution_count": null,
   "id": "b0ba18db",
   "metadata": {},
   "outputs": [],
   "source": []
  },
  {
   "cell_type": "code",
   "execution_count": 84,
   "id": "d449b9b2",
   "metadata": {},
   "outputs": [
    {
     "name": "stderr",
     "output_type": "stream",
     "text": [
      "                                                                                \r"
     ]
    },
    {
     "data": {
      "text/plain": [
       "285648"
      ]
     },
     "execution_count": 84,
     "metadata": {},
     "output_type": "execute_result"
    }
   ],
   "source": [
    "train_df.count()"
   ]
  },
  {
   "cell_type": "code",
   "execution_count": 85,
   "id": "99f39c52",
   "metadata": {},
   "outputs": [
    {
     "name": "stderr",
     "output_type": "stream",
     "text": [
      "                                                                                \r"
     ]
    },
    {
     "data": {
      "text/plain": [
       "7298"
      ]
     },
     "execution_count": 85,
     "metadata": {},
     "output_type": "execute_result"
    }
   ],
   "source": [
    "test_df.count()"
   ]
  },
  {
   "cell_type": "code",
   "execution_count": 86,
   "id": "27346c75",
   "metadata": {},
   "outputs": [],
   "source": [
    "#train_df.groupBy('term').count().show()"
   ]
  },
  {
   "cell_type": "code",
   "execution_count": 87,
   "id": "c1438310",
   "metadata": {},
   "outputs": [],
   "source": [
    "#plot_var(train_df.toPandas(), 'term', 'term', continuous=False)"
   ]
  },
  {
   "cell_type": "code",
   "execution_count": 88,
   "id": "56c7b38f",
   "metadata": {},
   "outputs": [],
   "source": [
    "#train_df.select('emp_length').describe().show()"
   ]
  },
  {
   "cell_type": "code",
   "execution_count": 89,
   "id": "17d917af",
   "metadata": {},
   "outputs": [],
   "source": [
    "#plot_var(train_df.toPandas(), 'emp_length', 'emp_length', continuous=True)"
   ]
  },
  {
   "cell_type": "code",
   "execution_count": 90,
   "id": "9ee331cb",
   "metadata": {},
   "outputs": [],
   "source": [
    "#plot_var(train_df.toPandas(), 'emp_length', 'emp_length', continuous=False)"
   ]
  },
  {
   "cell_type": "raw",
   "id": "119b23e4",
   "metadata": {},
   "source": [
    "#plot_var(train_df.filter(sparkf.col('annual_inc') != 0).toPandas(),'annual_inc', 'annual_inc', continuous=True)"
   ]
  },
  {
   "cell_type": "raw",
   "id": "a4c8aa5c",
   "metadata": {},
   "source": [
    "#plot_var(train_df.toPandas(), 'annual_inc', 'annual_inc', continuous=False)"
   ]
  },
  {
   "cell_type": "code",
   "execution_count": 91,
   "id": "9b3e7115",
   "metadata": {},
   "outputs": [],
   "source": [
    "from pyspark.ml.feature import StringIndexer, OneHotEncoder, VectorAssembler"
   ]
  },
  {
   "cell_type": "code",
   "execution_count": 92,
   "id": "670ccf8b",
   "metadata": {},
   "outputs": [],
   "source": [
    "# feture encoding\n",
    "labelIndexer_func = StringIndexer(inputCol='loan_status',outputCol='label',stringOrderType='alphabetDesc')"
   ]
  },
  {
   "cell_type": "code",
   "execution_count": 93,
   "id": "621d420b",
   "metadata": {},
   "outputs": [],
   "source": [
    "#new\n",
    "# labelIndexer_func.fit(train_df).transform(train_df)\\\n",
    "# .groupBy('loan_status','label').count().show()"
   ]
  },
  {
   "cell_type": "code",
   "execution_count": 94,
   "id": "84589d62",
   "metadata": {},
   "outputs": [],
   "source": [
    "# verify only !\n",
    "# labelIndexer_func.fit(train_df).transform(train_df)\\\n",
    "# .groupBy('loan_status','label').count().show()"
   ]
  },
  {
   "cell_type": "code",
   "execution_count": 95,
   "id": "4c744b02",
   "metadata": {},
   "outputs": [],
   "source": [
    "#. รวมค่าของแต่ละ. feature ในการ train\n",
    "featureVec_func = VectorAssembler(inputCols=['term','int_rate','loan_amnt','annual_inc'], outputCol='featureVec')"
   ]
  },
  {
   "cell_type": "code",
   "execution_count": 96,
   "id": "d43a61ec",
   "metadata": {},
   "outputs": [],
   "source": [
    "## verify\n",
    "\n",
    "#featureVec_func.transform(train_df).show(truncate=False)"
   ]
  },
  {
   "cell_type": "code",
   "execution_count": 97,
   "id": "26ecbd83",
   "metadata": {},
   "outputs": [],
   "source": [
    "from pyspark.ml.classification import DecisionTreeClassifier, RandomForestClassifier"
   ]
  },
  {
   "cell_type": "code",
   "execution_count": 98,
   "id": "230ff463",
   "metadata": {},
   "outputs": [],
   "source": [
    "algo_DT = DecisionTreeClassifier(featuresCol='featureVec',labelCol='label')"
   ]
  },
  {
   "cell_type": "code",
   "execution_count": 99,
   "id": "ca1a65d8",
   "metadata": {},
   "outputs": [],
   "source": [
    "from pyspark.ml.pipeline import Pipeline"
   ]
  },
  {
   "cell_type": "code",
   "execution_count": 100,
   "id": "78a12603",
   "metadata": {},
   "outputs": [],
   "source": [
    "pipeline_DT = Pipeline().setStages([labelIndexer_func,featureVec_func,algo_DT])"
   ]
  },
  {
   "cell_type": "code",
   "execution_count": 101,
   "id": "43c9fe84",
   "metadata": {},
   "outputs": [
    {
     "name": "stderr",
     "output_type": "stream",
     "text": [
      "                                                                                \r"
     ]
    }
   ],
   "source": [
    "model_DT = pipeline_DT.fit(train_df)"
   ]
  },
  {
   "cell_type": "markdown",
   "id": "0dbd23c4",
   "metadata": {},
   "source": [
    "### Model Evaluation การวัดและประเมินการทำงานของโมเดล ทดสอบ"
   ]
  },
  {
   "cell_type": "code",
   "execution_count": 102,
   "id": "a23ed57f",
   "metadata": {},
   "outputs": [],
   "source": [
    "# view detail tune model\n",
    "# must be change loan_status to numerical data\n",
    "\n",
    "#test_df.describe().show()"
   ]
  },
  {
   "cell_type": "code",
   "execution_count": 103,
   "id": "8ac1bdda",
   "metadata": {},
   "outputs": [],
   "source": [
    "# model_DT"
   ]
  },
  {
   "cell_type": "code",
   "execution_count": 104,
   "id": "34438d00",
   "metadata": {},
   "outputs": [],
   "source": [
    "# model_DT.stages"
   ]
  },
  {
   "cell_type": "code",
   "execution_count": 105,
   "id": "31965b01",
   "metadata": {},
   "outputs": [],
   "source": [
    "# ทำงานและวัดผล\n",
    "result_DT = model_DT.transform(test_df)"
   ]
  },
  {
   "cell_type": "code",
   "execution_count": 106,
   "id": "8f02915d",
   "metadata": {},
   "outputs": [],
   "source": [
    "# result_DT.select('prediction').show()"
   ]
  },
  {
   "cell_type": "code",
   "execution_count": 107,
   "id": "c6c20dfe",
   "metadata": {},
   "outputs": [],
   "source": [
    "# result_DT.describe().show()"
   ]
  },
  {
   "cell_type": "markdown",
   "id": "3b2db9f6",
   "metadata": {},
   "source": [
    "## Feture Engineering"
   ]
  },
  {
   "cell_type": "code",
   "execution_count": 108,
   "id": "bb917d7a",
   "metadata": {},
   "outputs": [],
   "source": [
    "def ExtractFeatureImp(featureImp, dataset, featuresCol):\n",
    "    list_extract = []\n",
    "    for i in dataset.schema[featuresCol].metadata[\"ml_attr\"][\"attrs\"]:\n",
    "        list_extract = list_extract + dataset.schema[featuresCol].metadata[\"ml_attr\"][\"attrs\"][i]\n",
    "    varlist = pd.DataFrame(list_extract)\n",
    "    varlist['score'] = varlist['idx'].apply(lambda x: featureImp[x])\n",
    "    return(varlist.sort_values('score', ascending = False))"
   ]
  },
  {
   "cell_type": "code",
   "execution_count": 109,
   "id": "22faa8d5",
   "metadata": {},
   "outputs": [],
   "source": [
    "featureImportances = model_DT.stages[2].featureImportances.toArray()"
   ]
  },
  {
   "cell_type": "code",
   "execution_count": 110,
   "id": "5cf1b41c",
   "metadata": {},
   "outputs": [
    {
     "data": {
      "text/html": [
       "<div>\n",
       "<style scoped>\n",
       "    .dataframe tbody tr th:only-of-type {\n",
       "        vertical-align: middle;\n",
       "    }\n",
       "\n",
       "    .dataframe tbody tr th {\n",
       "        vertical-align: top;\n",
       "    }\n",
       "\n",
       "    .dataframe thead th {\n",
       "        text-align: right;\n",
       "    }\n",
       "</style>\n",
       "<table border=\"1\" class=\"dataframe\">\n",
       "  <thead>\n",
       "    <tr style=\"text-align: right;\">\n",
       "      <th></th>\n",
       "      <th>idx</th>\n",
       "      <th>name</th>\n",
       "      <th>score</th>\n",
       "    </tr>\n",
       "  </thead>\n",
       "  <tbody>\n",
       "    <tr>\n",
       "      <th>1</th>\n",
       "      <td>1</td>\n",
       "      <td>int_rate</td>\n",
       "      <td>0.922277</td>\n",
       "    </tr>\n",
       "    <tr>\n",
       "      <th>0</th>\n",
       "      <td>0</td>\n",
       "      <td>term</td>\n",
       "      <td>0.049977</td>\n",
       "    </tr>\n",
       "    <tr>\n",
       "      <th>2</th>\n",
       "      <td>2</td>\n",
       "      <td>loan_amnt</td>\n",
       "      <td>0.018756</td>\n",
       "    </tr>\n",
       "    <tr>\n",
       "      <th>3</th>\n",
       "      <td>3</td>\n",
       "      <td>annual_inc</td>\n",
       "      <td>0.008991</td>\n",
       "    </tr>\n",
       "  </tbody>\n",
       "</table>\n",
       "</div>"
      ],
      "text/plain": [
       "   idx        name     score\n",
       "1    1    int_rate  0.922277\n",
       "0    0        term  0.049977\n",
       "2    2   loan_amnt  0.018756\n",
       "3    3  annual_inc  0.008991"
      ]
     },
     "execution_count": 110,
     "metadata": {},
     "output_type": "execute_result"
    }
   ],
   "source": [
    "ExtractFeatureImp(featureImportances, result_DT, \"featureVec\").head(30)"
   ]
  },
  {
   "cell_type": "markdown",
   "id": "3fd2060f",
   "metadata": {},
   "source": [
    "### Easy Evaluation"
   ]
  },
  {
   "cell_type": "code",
   "execution_count": 111,
   "id": "88b660b0",
   "metadata": {},
   "outputs": [
    {
     "name": "stderr",
     "output_type": "stream",
     "text": [
      "                                                                                \r"
     ]
    },
    {
     "name": "stdout",
     "output_type": "stream",
     "text": [
      "+-----------+-----+----------+-----+\n",
      "|loan_status|label|prediction|count|\n",
      "+-----------+-----+----------+-----+\n",
      "|Charged Off|  1.0|       1.0|  317|\n",
      "| Fully Paid|  0.0|       0.0| 3597|\n",
      "+-----------+-----+----------+-----+\n",
      "\n"
     ]
    }
   ],
   "source": [
    "#### label == prediction\n",
    "result_DT.select('loan_status','label','prediction').filter(sparkf.col('label')==sparkf.col('prediction'))\\\n",
    ".groupBy('loan_status','label','prediction').count().show()"
   ]
  },
  {
   "cell_type": "code",
   "execution_count": 112,
   "id": "53695698",
   "metadata": {},
   "outputs": [
    {
     "name": "stderr",
     "output_type": "stream",
     "text": [
      "[Stage 75:====================================================>   (70 + 5) / 75]\r"
     ]
    },
    {
     "name": "stdout",
     "output_type": "stream",
     "text": [
      "+-----------+-----+----------+-----+\n",
      "|loan_status|label|prediction|count|\n",
      "+-----------+-----+----------+-----+\n",
      "|Charged Off|  1.0|       0.0|  162|\n",
      "| Fully Paid|  0.0|       1.0| 3222|\n",
      "+-----------+-----+----------+-----+\n",
      "\n"
     ]
    },
    {
     "name": "stderr",
     "output_type": "stream",
     "text": [
      "                                                                                \r"
     ]
    }
   ],
   "source": [
    "#### label != prediction\n",
    "result_DT.select('loan_status','label','prediction').filter(sparkf.col('label')!=sparkf.col('prediction'))\\\n",
    ".groupBy('loan_status','label','prediction').count().show()"
   ]
  },
  {
   "cell_type": "code",
   "execution_count": 113,
   "id": "8e1ec671",
   "metadata": {},
   "outputs": [],
   "source": [
    "# test_df.groupBy('loan_status').count().show()"
   ]
  },
  {
   "cell_type": "code",
   "execution_count": 114,
   "id": "d1f134a7",
   "metadata": {},
   "outputs": [],
   "source": [
    "# manual \n",
    "# TP = 19241; FN = 7817;\n",
    "# FP = 11709; TN = 15621;"
   ]
  },
  {
   "cell_type": "code",
   "execution_count": 115,
   "id": "fb6dd1c7",
   "metadata": {},
   "outputs": [
    {
     "name": "stderr",
     "output_type": "stream",
     "text": [
      "                                                                                \r"
     ]
    },
    {
     "data": {
      "text/plain": [
       "162"
      ]
     },
     "execution_count": 115,
     "metadata": {},
     "output_type": "execute_result"
    }
   ],
   "source": [
    "FN = result_DT.select('loan_status','label','prediction')\\\n",
    ".filter((sparkf.col('label') == 1) & (sparkf.col('prediction') == 0))\\\n",
    ".groupBy('loan_status','label','prediction').count().take(1)[0]['count']\n",
    "FN"
   ]
  },
  {
   "cell_type": "code",
   "execution_count": 116,
   "id": "f955e625",
   "metadata": {},
   "outputs": [
    {
     "name": "stderr",
     "output_type": "stream",
     "text": [
      "                                                                                \r"
     ]
    },
    {
     "data": {
      "text/plain": [
       "3222"
      ]
     },
     "execution_count": 116,
     "metadata": {},
     "output_type": "execute_result"
    }
   ],
   "source": [
    "FP = result_DT.select('loan_status','label','prediction')\\\n",
    ".filter((sparkf.col('label') == 0) & (sparkf.col('prediction') == 1))\\\n",
    ".groupBy('loan_status','label','prediction').count().take(1)[0]['count']\n",
    "FP"
   ]
  },
  {
   "cell_type": "code",
   "execution_count": 117,
   "id": "9320fbc9",
   "metadata": {},
   "outputs": [
    {
     "name": "stderr",
     "output_type": "stream",
     "text": [
      "                                                                                \r"
     ]
    },
    {
     "data": {
      "text/plain": [
       "317"
      ]
     },
     "execution_count": 117,
     "metadata": {},
     "output_type": "execute_result"
    }
   ],
   "source": [
    "TP = result_DT.select('loan_status','label','prediction')\\\n",
    ".filter((sparkf.col('label') == 1) & (sparkf.col('prediction') == 1))\\\n",
    ".groupBy('loan_status','label','prediction').count().take(1)[0]['count']\n",
    "TP"
   ]
  },
  {
   "cell_type": "code",
   "execution_count": 118,
   "id": "73f5925f",
   "metadata": {},
   "outputs": [
    {
     "name": "stderr",
     "output_type": "stream",
     "text": [
      "                                                                                \r"
     ]
    },
    {
     "data": {
      "text/plain": [
       "3597"
      ]
     },
     "execution_count": 118,
     "metadata": {},
     "output_type": "execute_result"
    }
   ],
   "source": [
    "TN = result_DT.select('loan_status','label','prediction')\\\n",
    ".filter((sparkf.col('label') == 0) & (sparkf.col('prediction') == 0))\\\n",
    ".groupBy('loan_status','label','prediction').count().take(1)[0]['count']\n",
    "TN"
   ]
  },
  {
   "cell_type": "code",
   "execution_count": 119,
   "id": "cf619c29",
   "metadata": {},
   "outputs": [
    {
     "data": {
      "text/plain": [
       "0.6617954070981211"
      ]
     },
     "execution_count": 119,
     "metadata": {},
     "output_type": "execute_result"
    }
   ],
   "source": [
    "TPR = TP/(TP+FN)\n",
    "TPR"
   ]
  },
  {
   "cell_type": "code",
   "execution_count": 120,
   "id": "c3f3f7d6",
   "metadata": {},
   "outputs": [
    {
     "data": {
      "text/plain": [
       "0.5274967003959525"
      ]
     },
     "execution_count": 120,
     "metadata": {},
     "output_type": "execute_result"
    }
   ],
   "source": [
    "TNR = TN/(TN+FP)\n",
    "TNR"
   ]
  },
  {
   "cell_type": "code",
   "execution_count": 121,
   "id": "364e6294",
   "metadata": {},
   "outputs": [
    {
     "data": {
      "text/plain": [
       "0.4725032996040475"
      ]
     },
     "execution_count": 121,
     "metadata": {},
     "output_type": "execute_result"
    }
   ],
   "source": [
    "FPR = FP/(TN+FP)\n",
    "FPR"
   ]
  },
  {
   "cell_type": "code",
   "execution_count": 122,
   "id": "6ec28795",
   "metadata": {},
   "outputs": [
    {
     "data": {
      "text/plain": [
       "0.33820459290187893"
      ]
     },
     "execution_count": 122,
     "metadata": {},
     "output_type": "execute_result"
    }
   ],
   "source": [
    "FNR = FN/(TP+FN)\n",
    "FNR"
   ]
  },
  {
   "cell_type": "code",
   "execution_count": null,
   "id": "0560932e",
   "metadata": {},
   "outputs": [],
   "source": []
  },
  {
   "cell_type": "code",
   "execution_count": null,
   "id": "97806431",
   "metadata": {},
   "outputs": [],
   "source": []
  },
  {
   "cell_type": "code",
   "execution_count": null,
   "id": "b40d1b15",
   "metadata": {},
   "outputs": [],
   "source": []
  }
 ],
 "metadata": {
  "kernelspec": {
   "display_name": "Python 3 (ipykernel)",
   "language": "python",
   "name": "python3"
  },
  "language_info": {
   "codemirror_mode": {
    "name": "ipython",
    "version": 3
   },
   "file_extension": ".py",
   "mimetype": "text/x-python",
   "name": "python",
   "nbconvert_exporter": "python",
   "pygments_lexer": "ipython3",
   "version": "3.9.2"
  }
 },
 "nbformat": 4,
 "nbformat_minor": 5
}
