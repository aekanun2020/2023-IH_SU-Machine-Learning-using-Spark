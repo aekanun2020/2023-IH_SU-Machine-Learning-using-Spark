{
 "cells": [
  {
   "cell_type": "code",
   "execution_count": 1,
   "id": "76663e0f",
   "metadata": {},
   "outputs": [
    {
     "name": "stderr",
     "output_type": "stream",
     "text": [
      "23/06/25 01:28:15 WARN NativeCodeLoader: Unable to load native-hadoop library for your platform... using builtin-java classes where applicable\n",
      "Using Spark's default log4j profile: org/apache/spark/log4j-defaults.properties\n",
      "Setting default log level to \"WARN\".\n",
      "To adjust logging level use sc.setLogLevel(newLevel). For SparkR, use setLogLevel(newLevel).\n"
     ]
    }
   ],
   "source": [
    "# ปรับแต่งค่าการทำงานของ Spark\n",
    "from pyspark.sql import SparkSession\n",
    "\n",
    "spark = SparkSession.\\\n",
    "        builder.\\\n",
    "        appName(\"ChiSqSelector:Gender vs. Route\").\\\n",
    "        master(\"spark://spark-master:7077\").\\\n",
    "        config(\"spark.executor.memory\", \"1000m\").\\\n",
    "        config(\"spark.executor.cores\", \"2\").\\\n",
    "        config(\"spark.cores.max\", \"6\").\\\n",
    "        getOrCreate()"
   ]
  },
  {
   "cell_type": "code",
   "execution_count": 2,
   "id": "ea2262fe",
   "metadata": {},
   "outputs": [],
   "source": [
    "from pyspark.sql import functions as sparkf\n",
    "from pyspark.sql.types import *"
   ]
  },
  {
   "cell_type": "markdown",
   "id": "92456e82",
   "metadata": {},
   "source": [
    "## 1. Business Understaing\n",
    "    \n",
    "    1.1 Problem Statement: ต้องการทราบว่า ลูกหนี้แต่ละรายจะมาจ่ายหนี้ครบตามสัญญาเงินกู้ (Fully-paid) หรือไม่มาจ่ายฯ (Charged-off)\n",
    "    1.2 Project Objective: การจัดเก็บหนี้ดีขึ้นช่วยเพิ่มรายได้ให้กับกิจการ\n",
    "    1.3 Task of Data Science: Binary Classification\n",
    "    1.4 Cleansing Policy: ธุรกิจมี columns ที่แนะนำว่ามีความสัมพันธ์/ส่งผลต่อการชำระหนี้คืนตามสัญญา, ลบได้ทั้ง row หากมี missing ใน columns และแทนที่ได้ตามความเหมาะสม\n",
    "    1.5 Success Criteria: มี Recall/Sensitivity ไม่น้อยกว่า 0.65 บน Testing set แบบ Hold-out"
   ]
  },
  {
   "cell_type": "markdown",
   "id": "3d0d625a",
   "metadata": {},
   "source": [
    "## 2. Data Understanding\n",
    "    \n",
    "    - มี Label เป็น column: loan_status\n",
    "    - มีขนาดใหญ่ (volume)เกินกว่าเทคโนโลยีปัจจุบัน (Python) จะทำงานได้อย่างมีประสิทธิภาพ จึงต้องใช้ Spark ร่วมด้วย\n",
    "    - CSV เป็น semi-structural data ที่มี header ซึ่งสามารถนำไปพัฒนาเป็น schema ของ structural data (Spark DataFrame) ได้\n",
    "    - Data Dict.: https://docs.google.com/spreadsheets/d/1qtZBSJ-JS7S2tGC0W9Yxp992LmrDaAwGcJB419Htbbw/edit#gid=1163295822"
   ]
  },
  {
   "cell_type": "code",
   "execution_count": 3,
   "id": "863c1242",
   "metadata": {},
   "outputs": [],
   "source": [
    "#กำหนด columns ที่ธุรกิจให้คำแนะนำฯ ไว้\n",
    "\n",
    "businessAttrs_df = [\"loan_amnt\",\"term\",\"int_rate\"\\\n",
    "                                ,\"installment\",\"grade\",\"emp_length\",\\\n",
    "                           \"home_ownership\",\"annual_inc\"\\\n",
    "                                ,\"verification_status\",\"loan_status\",\\\n",
    "                           \"purpose\",\"addr_state\",\"dti\",\"delinq_2yrs\"\\\n",
    "                                ,\"earliest_cr_line\",\\\n",
    "                           \"open_acc\",\"pub_rec\"\\\n",
    "                                ,\"revol_bal\",\"revol_util\",\"total_acc\",\"issue_d\",'acc_now_delinq']"
   ]
  },
  {
   "cell_type": "code",
   "execution_count": 4,
   "id": "01393424",
   "metadata": {},
   "outputs": [],
   "source": [
    "#! apt-get install wget -y"
   ]
  },
  {
   "cell_type": "code",
   "execution_count": 5,
   "id": "7950c633",
   "metadata": {},
   "outputs": [],
   "source": [
    "#! wget https://storage.googleapis.com/ntclass/LoanStats_web.csv"
   ]
  },
  {
   "cell_type": "code",
   "execution_count": 6,
   "id": "358b8a17",
   "metadata": {},
   "outputs": [
    {
     "name": "stderr",
     "output_type": "stream",
     "text": [
      "                                                                                \r"
     ]
    }
   ],
   "source": [
    "# Spark อ่านข้อมูลจาก .csv แล้ว convert เป็น DataFrame\n",
    "\n",
    "raw_df = spark.read.option('header',True)\\\n",
    ".option(\"quote\", \"\\\"\")\\\n",
    ".option('mode','DROPMALFORMED')\\\n",
    ".option('inferSchema',True)\\\n",
    ".csv('LoanStats_web.csv')\\\n",
    ".select(businessAttrs_df)"
   ]
  },
  {
   "cell_type": "markdown",
   "id": "806a7818",
   "metadata": {},
   "source": [
    "### 2.1 Univariate Analysis"
   ]
  },
  {
   "cell_type": "markdown",
   "id": "4b302207",
   "metadata": {},
   "source": [
    "### 2.2 Bivariate/Multivariate Analysis"
   ]
  },
  {
   "cell_type": "markdown",
   "id": "ace26ff1",
   "metadata": {},
   "source": [
    "# 3. Data Preparation"
   ]
  },
  {
   "cell_type": "markdown",
   "id": "f01b5eda",
   "metadata": {},
   "source": [
    "#### 3.1 Cleansing and Transformation - Batch 1"
   ]
  },
  {
   "cell_type": "code",
   "execution_count": 7,
   "id": "fa9a1e54",
   "metadata": {},
   "outputs": [],
   "source": [
    "#### ใหม่ ณ 16 JAN 2023\n",
    "# ใช้ Spark ปรับแต่งค่าใน column: annual_inc, loan_status, revol_util, int_rate และ issue_d\n",
    "# ใช้ Spark สร้าง column ใหม่ขึ้นมา คือ calculatedDTI\n",
    "\n",
    "crunched_df = raw_df\\\n",
    ".filter(sparkf.col('annual_inc') != 0)\\\n",
    ".filter((sparkf.col('loan_status') == 'Fully Paid')|(sparkf.col('loan_status') == 'Charged Off'))\\\n",
    ".withColumn('calculatedDTI',sparkf.col('loan_amnt')/sparkf.col('annual_inc'))\\\n",
    ".withColumn('revol_util',sparkf.when(sparkf.col('revol_util').isNotNull(),sparkf.regexp_replace(sparkf.col('revol_util'),'%',''))\\\n",
    "                  .otherwise(sparkf.col('revol_util')))\\\n",
    ".filter(sparkf.col('revol_util') < 120)\\\n",
    ".withColumn('int_rate',sparkf.when(sparkf.col('int_rate').isNotNull(),sparkf.regexp_replace(sparkf.col('int_rate'),'%',''))\\\n",
    "                  .otherwise(sparkf.col('int_rate')))\\\n",
    ".withColumn('issue_d',sparkf.regexp_extract(sparkf.col('issue_d'),'\\d+',0))\\\n",
    ".withColumn('revol_util',sparkf.col('revol_util').cast(IntegerType()))\\\n",
    ".withColumn('int_rate',sparkf.col('int_rate').cast(FloatType()))\\\n",
    ".withColumn('issue_d',sparkf.col('issue_d').cast(IntegerType()))\\\n",
    ".withColumn('delinq_2yrs',sparkf.col('delinq_2yrs').cast(FloatType()))\\\n",
    ".dropna()"
   ]
  },
  {
   "cell_type": "code",
   "execution_count": null,
   "id": "e715964b",
   "metadata": {},
   "outputs": [],
   "source": []
  },
  {
   "cell_type": "code",
   "execution_count": null,
   "id": "bcb773db",
   "metadata": {},
   "outputs": [],
   "source": []
  },
  {
   "cell_type": "code",
   "execution_count": null,
   "id": "fc5602d0",
   "metadata": {},
   "outputs": [],
   "source": []
  },
  {
   "cell_type": "code",
   "execution_count": 8,
   "id": "fcf290b7",
   "metadata": {},
   "outputs": [
    {
     "name": "stderr",
     "output_type": "stream",
     "text": [
      "                                                                                \r"
     ]
    },
    {
     "data": {
      "text/html": [
       "<div>\n",
       "<style scoped>\n",
       "    .dataframe tbody tr th:only-of-type {\n",
       "        vertical-align: middle;\n",
       "    }\n",
       "\n",
       "    .dataframe tbody tr th {\n",
       "        vertical-align: top;\n",
       "    }\n",
       "\n",
       "    .dataframe thead th {\n",
       "        text-align: right;\n",
       "    }\n",
       "</style>\n",
       "<table border=\"1\" class=\"dataframe\">\n",
       "  <thead>\n",
       "    <tr style=\"text-align: right;\">\n",
       "      <th></th>\n",
       "      <th>0</th>\n",
       "      <th>1</th>\n",
       "      <th>2</th>\n",
       "      <th>3</th>\n",
       "      <th>4</th>\n",
       "    </tr>\n",
       "  </thead>\n",
       "  <tbody>\n",
       "    <tr>\n",
       "      <th>summary</th>\n",
       "      <td>count</td>\n",
       "      <td>mean</td>\n",
       "      <td>stddev</td>\n",
       "      <td>min</td>\n",
       "      <td>max</td>\n",
       "    </tr>\n",
       "    <tr>\n",
       "      <th>loan_amnt</th>\n",
       "      <td>698342</td>\n",
       "      <td>14499.922351798976</td>\n",
       "      <td>9223.066319877242</td>\n",
       "      <td>1000</td>\n",
       "      <td>40000</td>\n",
       "    </tr>\n",
       "    <tr>\n",
       "      <th>term</th>\n",
       "      <td>698342</td>\n",
       "      <td>None</td>\n",
       "      <td>None</td>\n",
       "      <td>36 months</td>\n",
       "      <td>60 months</td>\n",
       "    </tr>\n",
       "    <tr>\n",
       "      <th>int_rate</th>\n",
       "      <td>698342</td>\n",
       "      <td>13.231893765288989</td>\n",
       "      <td>5.174107541702221</td>\n",
       "      <td>5.31</td>\n",
       "      <td>30.99</td>\n",
       "    </tr>\n",
       "    <tr>\n",
       "      <th>installment</th>\n",
       "      <td>698342</td>\n",
       "      <td>446.6912345097157</td>\n",
       "      <td>282.599606452106</td>\n",
       "      <td>30.12</td>\n",
       "      <td>1715.42</td>\n",
       "    </tr>\n",
       "    <tr>\n",
       "      <th>grade</th>\n",
       "      <td>698342</td>\n",
       "      <td>None</td>\n",
       "      <td>None</td>\n",
       "      <td>A</td>\n",
       "      <td>G</td>\n",
       "    </tr>\n",
       "    <tr>\n",
       "      <th>emp_length</th>\n",
       "      <td>698342</td>\n",
       "      <td>None</td>\n",
       "      <td>None</td>\n",
       "      <td>1 year</td>\n",
       "      <td>n/a</td>\n",
       "    </tr>\n",
       "    <tr>\n",
       "      <th>home_ownership</th>\n",
       "      <td>698342</td>\n",
       "      <td>None</td>\n",
       "      <td>None</td>\n",
       "      <td>ANY</td>\n",
       "      <td>RENT</td>\n",
       "    </tr>\n",
       "    <tr>\n",
       "      <th>annual_inc</th>\n",
       "      <td>698342</td>\n",
       "      <td>79530.96412655976</td>\n",
       "      <td>78144.23143077888</td>\n",
       "      <td>23.0</td>\n",
       "      <td>9573072.0</td>\n",
       "    </tr>\n",
       "    <tr>\n",
       "      <th>verification_status</th>\n",
       "      <td>698342</td>\n",
       "      <td>None</td>\n",
       "      <td>None</td>\n",
       "      <td>Not Verified</td>\n",
       "      <td>Verified</td>\n",
       "    </tr>\n",
       "    <tr>\n",
       "      <th>loan_status</th>\n",
       "      <td>698342</td>\n",
       "      <td>None</td>\n",
       "      <td>None</td>\n",
       "      <td>Charged Off</td>\n",
       "      <td>Fully Paid</td>\n",
       "    </tr>\n",
       "    <tr>\n",
       "      <th>purpose</th>\n",
       "      <td>698342</td>\n",
       "      <td>None</td>\n",
       "      <td>None</td>\n",
       "      <td>car</td>\n",
       "      <td>wedding</td>\n",
       "    </tr>\n",
       "    <tr>\n",
       "      <th>addr_state</th>\n",
       "      <td>698342</td>\n",
       "      <td>None</td>\n",
       "      <td>None</td>\n",
       "      <td>AK</td>\n",
       "      <td>WY</td>\n",
       "    </tr>\n",
       "    <tr>\n",
       "      <th>dti</th>\n",
       "      <td>698342</td>\n",
       "      <td>18.692250845574076</td>\n",
       "      <td>13.593891477773948</td>\n",
       "      <td>-1</td>\n",
       "      <td>999</td>\n",
       "    </tr>\n",
       "    <tr>\n",
       "      <th>delinq_2yrs</th>\n",
       "      <td>698342</td>\n",
       "      <td>0.3281586958825332</td>\n",
       "      <td>0.9012859773439462</td>\n",
       "      <td>0.0</td>\n",
       "      <td>29.0</td>\n",
       "    </tr>\n",
       "    <tr>\n",
       "      <th>earliest_cr_line</th>\n",
       "      <td>698342</td>\n",
       "      <td>None</td>\n",
       "      <td>None</td>\n",
       "      <td>Apr-1955</td>\n",
       "      <td>Sep-2015</td>\n",
       "    </tr>\n",
       "    <tr>\n",
       "      <th>open_acc</th>\n",
       "      <td>698342</td>\n",
       "      <td>11.77128255210198</td>\n",
       "      <td>5.769888628784486</td>\n",
       "      <td>1</td>\n",
       "      <td>86</td>\n",
       "    </tr>\n",
       "    <tr>\n",
       "      <th>pub_rec</th>\n",
       "      <td>698342</td>\n",
       "      <td>0.25011527303241105</td>\n",
       "      <td>0.6682581018804887</td>\n",
       "      <td>0</td>\n",
       "      <td>61</td>\n",
       "    </tr>\n",
       "    <tr>\n",
       "      <th>revol_bal</th>\n",
       "      <td>698342</td>\n",
       "      <td>16101.565339045912</td>\n",
       "      <td>22716.564383991285</td>\n",
       "      <td>0</td>\n",
       "      <td>1113293</td>\n",
       "    </tr>\n",
       "    <tr>\n",
       "      <th>revol_util</th>\n",
       "      <td>698342</td>\n",
       "      <td>47.399188363294776</td>\n",
       "      <td>24.664061604919468</td>\n",
       "      <td>0</td>\n",
       "      <td>119</td>\n",
       "    </tr>\n",
       "    <tr>\n",
       "      <th>total_acc</th>\n",
       "      <td>698342</td>\n",
       "      <td>24.458484524774395</td>\n",
       "      <td>12.174564403700815</td>\n",
       "      <td>2</td>\n",
       "      <td>176</td>\n",
       "    </tr>\n",
       "    <tr>\n",
       "      <th>issue_d</th>\n",
       "      <td>698342</td>\n",
       "      <td>2016.6668680961477</td>\n",
       "      <td>0.7761254749136149</td>\n",
       "      <td>2016</td>\n",
       "      <td>2019</td>\n",
       "    </tr>\n",
       "    <tr>\n",
       "      <th>acc_now_delinq</th>\n",
       "      <td>698342</td>\n",
       "      <td>0.005482986845986637</td>\n",
       "      <td>0.07852420118848297</td>\n",
       "      <td>0</td>\n",
       "      <td>4</td>\n",
       "    </tr>\n",
       "    <tr>\n",
       "      <th>calculatedDTI</th>\n",
       "      <td>698342</td>\n",
       "      <td>0.21698781428656444</td>\n",
       "      <td>1.8167938285879743</td>\n",
       "      <td>1.7142857142857143E-4</td>\n",
       "      <td>1200.0</td>\n",
       "    </tr>\n",
       "  </tbody>\n",
       "</table>\n",
       "</div>"
      ],
      "text/plain": [
       "                          0                     1                    2  \\\n",
       "summary               count                  mean               stddev   \n",
       "loan_amnt            698342    14499.922351798976    9223.066319877242   \n",
       "term                 698342                  None                 None   \n",
       "int_rate             698342    13.231893765288989    5.174107541702221   \n",
       "installment          698342     446.6912345097157     282.599606452106   \n",
       "grade                698342                  None                 None   \n",
       "emp_length           698342                  None                 None   \n",
       "home_ownership       698342                  None                 None   \n",
       "annual_inc           698342     79530.96412655976    78144.23143077888   \n",
       "verification_status  698342                  None                 None   \n",
       "loan_status          698342                  None                 None   \n",
       "purpose              698342                  None                 None   \n",
       "addr_state           698342                  None                 None   \n",
       "dti                  698342    18.692250845574076   13.593891477773948   \n",
       "delinq_2yrs          698342    0.3281586958825332   0.9012859773439462   \n",
       "earliest_cr_line     698342                  None                 None   \n",
       "open_acc             698342     11.77128255210198    5.769888628784486   \n",
       "pub_rec              698342   0.25011527303241105   0.6682581018804887   \n",
       "revol_bal            698342    16101.565339045912   22716.564383991285   \n",
       "revol_util           698342    47.399188363294776   24.664061604919468   \n",
       "total_acc            698342    24.458484524774395   12.174564403700815   \n",
       "issue_d              698342    2016.6668680961477   0.7761254749136149   \n",
       "acc_now_delinq       698342  0.005482986845986637  0.07852420118848297   \n",
       "calculatedDTI        698342   0.21698781428656444   1.8167938285879743   \n",
       "\n",
       "                                         3           4  \n",
       "summary                                min         max  \n",
       "loan_amnt                             1000       40000  \n",
       "term                             36 months   60 months  \n",
       "int_rate                              5.31       30.99  \n",
       "installment                          30.12     1715.42  \n",
       "grade                                    A           G  \n",
       "emp_length                          1 year         n/a  \n",
       "home_ownership                         ANY        RENT  \n",
       "annual_inc                            23.0   9573072.0  \n",
       "verification_status           Not Verified    Verified  \n",
       "loan_status                    Charged Off  Fully Paid  \n",
       "purpose                                car     wedding  \n",
       "addr_state                              AK          WY  \n",
       "dti                                     -1         999  \n",
       "delinq_2yrs                            0.0        29.0  \n",
       "earliest_cr_line                  Apr-1955    Sep-2015  \n",
       "open_acc                                 1          86  \n",
       "pub_rec                                  0          61  \n",
       "revol_bal                                0     1113293  \n",
       "revol_util                               0         119  \n",
       "total_acc                                2         176  \n",
       "issue_d                               2016        2019  \n",
       "acc_now_delinq                           0           4  \n",
       "calculatedDTI        1.7142857142857143E-4      1200.0  "
      ]
     },
     "execution_count": 8,
     "metadata": {},
     "output_type": "execute_result"
    }
   ],
   "source": [
    "crunched_df.describe().toPandas().transpose()"
   ]
  },
  {
   "cell_type": "code",
   "execution_count": 9,
   "id": "a15b1e74",
   "metadata": {},
   "outputs": [],
   "source": [
    "from pyspark.ml.feature import VectorAssembler, ChiSqSelector, StringIndexer"
   ]
  },
  {
   "cell_type": "code",
   "execution_count": null,
   "id": "2ab23aea",
   "metadata": {},
   "outputs": [],
   "source": []
  },
  {
   "cell_type": "code",
   "execution_count": null,
   "id": "2fa38ab1",
   "metadata": {},
   "outputs": [],
   "source": []
  },
  {
   "cell_type": "code",
   "execution_count": null,
   "id": "8a06e871",
   "metadata": {},
   "outputs": [],
   "source": []
  },
  {
   "cell_type": "code",
   "execution_count": null,
   "id": "8d40915a",
   "metadata": {},
   "outputs": [],
   "source": []
  },
  {
   "cell_type": "code",
   "execution_count": null,
   "id": "aa66aac3",
   "metadata": {},
   "outputs": [],
   "source": []
  },
  {
   "cell_type": "markdown",
   "id": "d9ba1130",
   "metadata": {},
   "source": [
    "#### 3.2 Cleansing and Transformation - Batch 2"
   ]
  },
  {
   "cell_type": "code",
   "execution_count": 10,
   "id": "8b520dc6",
   "metadata": {},
   "outputs": [],
   "source": [
    "# Spark สร้าง ABT\n",
    "\n",
    "final_df = crunched_df\\\n",
    ".withColumn('term',sparkf.when(sparkf.col('term').isNotNull(),sparkf.regexp_replace(sparkf.col('term'),' months','')).otherwise(sparkf.col('term')))\\\n",
    ".withColumn('term',sparkf.col('term').cast(IntegerType()))\\\n",
    ".filter(sparkf.col('loan_amnt') < 40000.0)\\\n",
    ".filter(sparkf.col('annual_inc')<150000)\\\n",
    ".withColumn('is_debtConsolidation', sparkf.when(sparkf.col('purpose')=='debt_consolidation',1).otherwise(0))"
   ]
  },
  {
   "cell_type": "raw",
   "id": "af20a751",
   "metadata": {},
   "source": [
    "# Spark สร้าง ABT - sensivity: 0.6932773109243697\n",
    "\n",
    "final_df = crunched_df\\\n",
    ".withColumn('term',sparkf.when(sparkf.col('term').isNotNull(),sparkf.regexp_replace(sparkf.col('term'),' months','')).otherwise(sparkf.col('term')))\\\n",
    ".withColumn('term',sparkf.col('term').cast(IntegerType()))\\\n",
    ".filter(sparkf.col('loan_amnt') < 40000.0)\\\n",
    ".filter(sparkf.col('annual_inc')<150000)\\\n",
    ".filter(((sparkf.col('int_rate')<22)&(sparkf.col('loan_status')=='Fully Paid'))\\\n",
    "        |((sparkf.col('loan_status')=='Charged Off')&(sparkf.col('int_rate')<28)))\\\n",
    ".withColumn('is_debtConsolidation', sparkf.when(sparkf.col('purpose')=='debt_consolidation',1).otherwise(0))"
   ]
  },
  {
   "cell_type": "code",
   "execution_count": null,
   "id": "b075800d",
   "metadata": {},
   "outputs": [],
   "source": []
  },
  {
   "cell_type": "markdown",
   "id": "95d22b46",
   "metadata": {},
   "source": [
    "# 4. Modeling & 5. Model Evaluation"
   ]
  },
  {
   "cell_type": "code",
   "execution_count": 11,
   "id": "5ea14bac",
   "metadata": {},
   "outputs": [],
   "source": [
    "# Spark ทำ Hold-out Tesing set\n",
    "\n",
    "candidate_training_df = final_df.filter(sparkf.col('issue_d') < 2019)\n",
    "testing_df = final_df.filter(sparkf.col('issue_d') >= 2019)"
   ]
  },
  {
   "cell_type": "code",
   "execution_count": 12,
   "id": "13b6cac5",
   "metadata": {},
   "outputs": [
    {
     "name": "stderr",
     "output_type": "stream",
     "text": [
      "23/06/25 01:29:33 WARN package: Truncated the string representation of a plan since it was too large. This behavior can be adjusted by setting 'spark.sql.debug.maxToStringFields'.\n",
      "[Stage 13:================================================>       (65 + 4) / 75]\r"
     ]
    },
    {
     "name": "stdout",
     "output_type": "stream",
     "text": [
      "+-----------+------+\n",
      "|loan_status| count|\n",
      "+-----------+------+\n",
      "| Fully Paid|496842|\n",
      "|Charged Off|136929|\n",
      "+-----------+------+\n",
      "\n"
     ]
    },
    {
     "name": "stderr",
     "output_type": "stream",
     "text": [
      "                                                                                \r"
     ]
    }
   ],
   "source": [
    "candidate_training_df.groupBy('loan_status').count().show()"
   ]
  },
  {
   "cell_type": "code",
   "execution_count": 13,
   "id": "2d89686e",
   "metadata": {},
   "outputs": [
    {
     "name": "stderr",
     "output_type": "stream",
     "text": [
      "                                                                                \r"
     ]
    }
   ],
   "source": [
    "# Spark ทำการสุ่มเลือกข้อมูลเฉพาะจาก training set เพื่อลดจำนวน Fully Paid\n",
    "\n",
    "FullyPaid_training_df = candidate_training_df.filter(sparkf.col('loan_status') == 'Fully Paid').sample(0.30)\n",
    "\n",
    "ChargedOff_training_df = candidate_training_df.filter(sparkf.col('loan_status') == 'Charged Off')\n",
    "\n",
    "FullyPaid_training_num = FullyPaid_training_df.count()\n",
    "\n",
    "ChargedOff_training_num = ChargedOff_training_df.count()\n",
    "\n",
    "training_df = FullyPaid_training_df.union(ChargedOff_training_df)"
   ]
  },
  {
   "cell_type": "code",
   "execution_count": 14,
   "id": "97f6312a",
   "metadata": {},
   "outputs": [
    {
     "name": "stderr",
     "output_type": "stream",
     "text": [
      "                                                                                \r"
     ]
    },
    {
     "name": "stdout",
     "output_type": "stream",
     "text": [
      "+-----------+------+\n",
      "|loan_status| count|\n",
      "+-----------+------+\n",
      "| Fully Paid|148912|\n",
      "|Charged Off|136929|\n",
      "+-----------+------+\n",
      "\n"
     ]
    }
   ],
   "source": [
    "# Spark ทำสรุปจำนวน row ของแต่ละ class ที่มีความ Balance Class มากขึ้น\n",
    "training_df.groupBy('loan_status').count().show()"
   ]
  },
  {
   "cell_type": "code",
   "execution_count": 15,
   "id": "50ab198e",
   "metadata": {},
   "outputs": [
    {
     "name": "stderr",
     "output_type": "stream",
     "text": [
      "                                                                                \r"
     ]
    },
    {
     "data": {
      "text/html": [
       "<div>\n",
       "<style scoped>\n",
       "    .dataframe tbody tr th:only-of-type {\n",
       "        vertical-align: middle;\n",
       "    }\n",
       "\n",
       "    .dataframe tbody tr th {\n",
       "        vertical-align: top;\n",
       "    }\n",
       "\n",
       "    .dataframe thead th {\n",
       "        text-align: right;\n",
       "    }\n",
       "</style>\n",
       "<table border=\"1\" class=\"dataframe\">\n",
       "  <thead>\n",
       "    <tr style=\"text-align: right;\">\n",
       "      <th></th>\n",
       "      <th>0</th>\n",
       "      <th>1</th>\n",
       "      <th>2</th>\n",
       "      <th>3</th>\n",
       "      <th>4</th>\n",
       "    </tr>\n",
       "  </thead>\n",
       "  <tbody>\n",
       "    <tr>\n",
       "      <th>summary</th>\n",
       "      <td>count</td>\n",
       "      <td>mean</td>\n",
       "      <td>stddev</td>\n",
       "      <td>min</td>\n",
       "      <td>max</td>\n",
       "    </tr>\n",
       "    <tr>\n",
       "      <th>loan_amnt</th>\n",
       "      <td>285841</td>\n",
       "      <td>14053.542353966017</td>\n",
       "      <td>8518.871212984808</td>\n",
       "      <td>1000</td>\n",
       "      <td>39950</td>\n",
       "    </tr>\n",
       "    <tr>\n",
       "      <th>term</th>\n",
       "      <td>285841</td>\n",
       "      <td>41.938938080961094</td>\n",
       "      <td>10.356828842402134</td>\n",
       "      <td>36</td>\n",
       "      <td>60</td>\n",
       "    </tr>\n",
       "    <tr>\n",
       "      <th>int_rate</th>\n",
       "      <td>285841</td>\n",
       "      <td>14.23937620134024</td>\n",
       "      <td>5.420794231674159</td>\n",
       "      <td>5.31</td>\n",
       "      <td>30.99</td>\n",
       "    </tr>\n",
       "    <tr>\n",
       "      <th>installment</th>\n",
       "      <td>285841</td>\n",
       "      <td>434.8197931017676</td>\n",
       "      <td>264.0998346573607</td>\n",
       "      <td>30.12</td>\n",
       "      <td>1568.25</td>\n",
       "    </tr>\n",
       "    <tr>\n",
       "      <th>grade</th>\n",
       "      <td>285841</td>\n",
       "      <td>None</td>\n",
       "      <td>None</td>\n",
       "      <td>A</td>\n",
       "      <td>G</td>\n",
       "    </tr>\n",
       "    <tr>\n",
       "      <th>emp_length</th>\n",
       "      <td>285841</td>\n",
       "      <td>None</td>\n",
       "      <td>None</td>\n",
       "      <td>1 year</td>\n",
       "      <td>n/a</td>\n",
       "    </tr>\n",
       "    <tr>\n",
       "      <th>home_ownership</th>\n",
       "      <td>285841</td>\n",
       "      <td>None</td>\n",
       "      <td>None</td>\n",
       "      <td>ANY</td>\n",
       "      <td>RENT</td>\n",
       "    </tr>\n",
       "    <tr>\n",
       "      <th>annual_inc</th>\n",
       "      <td>285841</td>\n",
       "      <td>66944.31270653964</td>\n",
       "      <td>28941.090154936493</td>\n",
       "      <td>25.0</td>\n",
       "      <td>149999.0</td>\n",
       "    </tr>\n",
       "    <tr>\n",
       "      <th>verification_status</th>\n",
       "      <td>285841</td>\n",
       "      <td>None</td>\n",
       "      <td>None</td>\n",
       "      <td>Not Verified</td>\n",
       "      <td>Verified</td>\n",
       "    </tr>\n",
       "    <tr>\n",
       "      <th>loan_status</th>\n",
       "      <td>285841</td>\n",
       "      <td>None</td>\n",
       "      <td>None</td>\n",
       "      <td>Charged Off</td>\n",
       "      <td>Fully Paid</td>\n",
       "    </tr>\n",
       "    <tr>\n",
       "      <th>purpose</th>\n",
       "      <td>285841</td>\n",
       "      <td>None</td>\n",
       "      <td>None</td>\n",
       "      <td>car</td>\n",
       "      <td>wedding</td>\n",
       "    </tr>\n",
       "    <tr>\n",
       "      <th>addr_state</th>\n",
       "      <td>285841</td>\n",
       "      <td>None</td>\n",
       "      <td>None</td>\n",
       "      <td>AK</td>\n",
       "      <td>WY</td>\n",
       "    </tr>\n",
       "    <tr>\n",
       "      <th>dti</th>\n",
       "      <td>285841</td>\n",
       "      <td>19.620282044913097</td>\n",
       "      <td>13.770238267661089</td>\n",
       "      <td>-1</td>\n",
       "      <td>999</td>\n",
       "    </tr>\n",
       "    <tr>\n",
       "      <th>delinq_2yrs</th>\n",
       "      <td>285841</td>\n",
       "      <td>0.33460910086376694</td>\n",
       "      <td>0.9168733309282215</td>\n",
       "      <td>0.0</td>\n",
       "      <td>21.0</td>\n",
       "    </tr>\n",
       "    <tr>\n",
       "      <th>earliest_cr_line</th>\n",
       "      <td>285841</td>\n",
       "      <td>None</td>\n",
       "      <td>None</td>\n",
       "      <td>Apr-1960</td>\n",
       "      <td>Sep-2015</td>\n",
       "    </tr>\n",
       "    <tr>\n",
       "      <th>open_acc</th>\n",
       "      <td>285841</td>\n",
       "      <td>11.653317753576289</td>\n",
       "      <td>5.704457743519045</td>\n",
       "      <td>1</td>\n",
       "      <td>74</td>\n",
       "    </tr>\n",
       "    <tr>\n",
       "      <th>pub_rec</th>\n",
       "      <td>285841</td>\n",
       "      <td>0.2636710618840544</td>\n",
       "      <td>0.670402106779527</td>\n",
       "      <td>0</td>\n",
       "      <td>61</td>\n",
       "    </tr>\n",
       "    <tr>\n",
       "      <th>revol_bal</th>\n",
       "      <td>285841</td>\n",
       "      <td>14083.11197483916</td>\n",
       "      <td>15528.703545296195</td>\n",
       "      <td>0</td>\n",
       "      <td>587934</td>\n",
       "    </tr>\n",
       "    <tr>\n",
       "      <th>revol_util</th>\n",
       "      <td>285841</td>\n",
       "      <td>48.449861986209115</td>\n",
       "      <td>24.28629945523923</td>\n",
       "      <td>0</td>\n",
       "      <td>119</td>\n",
       "    </tr>\n",
       "    <tr>\n",
       "      <th>total_acc</th>\n",
       "      <td>285841</td>\n",
       "      <td>23.801396580616498</td>\n",
       "      <td>11.973679690318844</td>\n",
       "      <td>2</td>\n",
       "      <td>176</td>\n",
       "    </tr>\n",
       "    <tr>\n",
       "      <th>issue_d</th>\n",
       "      <td>285841</td>\n",
       "      <td>2016.630021585427</td>\n",
       "      <td>0.7276570561573434</td>\n",
       "      <td>2016</td>\n",
       "      <td>2018</td>\n",
       "    </tr>\n",
       "    <tr>\n",
       "      <th>acc_now_delinq</th>\n",
       "      <td>285841</td>\n",
       "      <td>0.005258168002490895</td>\n",
       "      <td>0.07632349759842778</td>\n",
       "      <td>0</td>\n",
       "      <td>4</td>\n",
       "    </tr>\n",
       "    <tr>\n",
       "      <th>calculatedDTI</th>\n",
       "      <td>285841</td>\n",
       "      <td>0.23618918910041906</td>\n",
       "      <td>2.557002067386773</td>\n",
       "      <td>0.006711409395973154</td>\n",
       "      <td>1200.0</td>\n",
       "    </tr>\n",
       "    <tr>\n",
       "      <th>is_debtConsolidation</th>\n",
       "      <td>285841</td>\n",
       "      <td>0.5799482929320846</td>\n",
       "      <td>0.4935677488564265</td>\n",
       "      <td>0</td>\n",
       "      <td>1</td>\n",
       "    </tr>\n",
       "  </tbody>\n",
       "</table>\n",
       "</div>"
      ],
      "text/plain": [
       "                           0                     1                    2  \\\n",
       "summary                count                  mean               stddev   \n",
       "loan_amnt             285841    14053.542353966017    8518.871212984808   \n",
       "term                  285841    41.938938080961094   10.356828842402134   \n",
       "int_rate              285841     14.23937620134024    5.420794231674159   \n",
       "installment           285841     434.8197931017676    264.0998346573607   \n",
       "grade                 285841                  None                 None   \n",
       "emp_length            285841                  None                 None   \n",
       "home_ownership        285841                  None                 None   \n",
       "annual_inc            285841     66944.31270653964   28941.090154936493   \n",
       "verification_status   285841                  None                 None   \n",
       "loan_status           285841                  None                 None   \n",
       "purpose               285841                  None                 None   \n",
       "addr_state            285841                  None                 None   \n",
       "dti                   285841    19.620282044913097   13.770238267661089   \n",
       "delinq_2yrs           285841   0.33460910086376694   0.9168733309282215   \n",
       "earliest_cr_line      285841                  None                 None   \n",
       "open_acc              285841    11.653317753576289    5.704457743519045   \n",
       "pub_rec               285841    0.2636710618840544    0.670402106779527   \n",
       "revol_bal             285841     14083.11197483916   15528.703545296195   \n",
       "revol_util            285841    48.449861986209115    24.28629945523923   \n",
       "total_acc             285841    23.801396580616498   11.973679690318844   \n",
       "issue_d               285841     2016.630021585427   0.7276570561573434   \n",
       "acc_now_delinq        285841  0.005258168002490895  0.07632349759842778   \n",
       "calculatedDTI         285841   0.23618918910041906    2.557002067386773   \n",
       "is_debtConsolidation  285841    0.5799482929320846   0.4935677488564265   \n",
       "\n",
       "                                         3           4  \n",
       "summary                                min         max  \n",
       "loan_amnt                             1000       39950  \n",
       "term                                    36          60  \n",
       "int_rate                              5.31       30.99  \n",
       "installment                          30.12     1568.25  \n",
       "grade                                    A           G  \n",
       "emp_length                          1 year         n/a  \n",
       "home_ownership                         ANY        RENT  \n",
       "annual_inc                            25.0    149999.0  \n",
       "verification_status           Not Verified    Verified  \n",
       "loan_status                    Charged Off  Fully Paid  \n",
       "purpose                                car     wedding  \n",
       "addr_state                              AK          WY  \n",
       "dti                                     -1         999  \n",
       "delinq_2yrs                            0.0        21.0  \n",
       "earliest_cr_line                  Apr-1960    Sep-2015  \n",
       "open_acc                                 1          74  \n",
       "pub_rec                                  0          61  \n",
       "revol_bal                                0      587934  \n",
       "revol_util                               0         119  \n",
       "total_acc                                2         176  \n",
       "issue_d                               2016        2018  \n",
       "acc_now_delinq                           0           4  \n",
       "calculatedDTI         0.006711409395973154      1200.0  \n",
       "is_debtConsolidation                     0           1  "
      ]
     },
     "execution_count": 15,
     "metadata": {},
     "output_type": "execute_result"
    }
   ],
   "source": [
    "training_df.describe().toPandas().transpose()"
   ]
  },
  {
   "cell_type": "code",
   "execution_count": 16,
   "id": "6647b018",
   "metadata": {},
   "outputs": [
    {
     "name": "stderr",
     "output_type": "stream",
     "text": [
      "                                                                                \r"
     ]
    },
    {
     "data": {
      "text/html": [
       "<div>\n",
       "<style scoped>\n",
       "    .dataframe tbody tr th:only-of-type {\n",
       "        vertical-align: middle;\n",
       "    }\n",
       "\n",
       "    .dataframe tbody tr th {\n",
       "        vertical-align: top;\n",
       "    }\n",
       "\n",
       "    .dataframe thead th {\n",
       "        text-align: right;\n",
       "    }\n",
       "</style>\n",
       "<table border=\"1\" class=\"dataframe\">\n",
       "  <thead>\n",
       "    <tr style=\"text-align: right;\">\n",
       "      <th></th>\n",
       "      <th>0</th>\n",
       "      <th>1</th>\n",
       "      <th>2</th>\n",
       "      <th>3</th>\n",
       "      <th>4</th>\n",
       "    </tr>\n",
       "  </thead>\n",
       "  <tbody>\n",
       "    <tr>\n",
       "      <th>summary</th>\n",
       "      <td>count</td>\n",
       "      <td>mean</td>\n",
       "      <td>stddev</td>\n",
       "      <td>min</td>\n",
       "      <td>max</td>\n",
       "    </tr>\n",
       "    <tr>\n",
       "      <th>loan_amnt</th>\n",
       "      <td>7297</td>\n",
       "      <td>13130.851719884884</td>\n",
       "      <td>8659.574284347007</td>\n",
       "      <td>1000</td>\n",
       "      <td>38975</td>\n",
       "    </tr>\n",
       "    <tr>\n",
       "      <th>term</th>\n",
       "      <td>7297</td>\n",
       "      <td>41.99917774427847</td>\n",
       "      <td>10.392542207483649</td>\n",
       "      <td>36</td>\n",
       "      <td>60</td>\n",
       "    </tr>\n",
       "    <tr>\n",
       "      <th>int_rate</th>\n",
       "      <td>7297</td>\n",
       "      <td>13.77566806228092</td>\n",
       "      <td>5.285655556117107</td>\n",
       "      <td>6.46</td>\n",
       "      <td>30.84</td>\n",
       "    </tr>\n",
       "    <tr>\n",
       "      <th>installment</th>\n",
       "      <td>7297</td>\n",
       "      <td>395.88434013978144</td>\n",
       "      <td>253.33174201210824</td>\n",
       "      <td>30.64</td>\n",
       "      <td>1471.12</td>\n",
       "    </tr>\n",
       "    <tr>\n",
       "      <th>grade</th>\n",
       "      <td>7297</td>\n",
       "      <td>None</td>\n",
       "      <td>None</td>\n",
       "      <td>A</td>\n",
       "      <td>G</td>\n",
       "    </tr>\n",
       "    <tr>\n",
       "      <th>emp_length</th>\n",
       "      <td>7297</td>\n",
       "      <td>None</td>\n",
       "      <td>None</td>\n",
       "      <td>1 year</td>\n",
       "      <td>n/a</td>\n",
       "    </tr>\n",
       "    <tr>\n",
       "      <th>home_ownership</th>\n",
       "      <td>7297</td>\n",
       "      <td>None</td>\n",
       "      <td>None</td>\n",
       "      <td>ANY</td>\n",
       "      <td>RENT</td>\n",
       "    </tr>\n",
       "    <tr>\n",
       "      <th>annual_inc</th>\n",
       "      <td>7297</td>\n",
       "      <td>70260.51902699741</td>\n",
       "      <td>30057.182564052007</td>\n",
       "      <td>250.0</td>\n",
       "      <td>149925.0</td>\n",
       "    </tr>\n",
       "    <tr>\n",
       "      <th>verification_status</th>\n",
       "      <td>7297</td>\n",
       "      <td>None</td>\n",
       "      <td>None</td>\n",
       "      <td>Not Verified</td>\n",
       "      <td>Verified</td>\n",
       "    </tr>\n",
       "    <tr>\n",
       "      <th>loan_status</th>\n",
       "      <td>7297</td>\n",
       "      <td>None</td>\n",
       "      <td>None</td>\n",
       "      <td>Charged Off</td>\n",
       "      <td>Fully Paid</td>\n",
       "    </tr>\n",
       "    <tr>\n",
       "      <th>purpose</th>\n",
       "      <td>7297</td>\n",
       "      <td>None</td>\n",
       "      <td>None</td>\n",
       "      <td>car</td>\n",
       "      <td>vacation</td>\n",
       "    </tr>\n",
       "    <tr>\n",
       "      <th>addr_state</th>\n",
       "      <td>7297</td>\n",
       "      <td>None</td>\n",
       "      <td>None</td>\n",
       "      <td>AK</td>\n",
       "      <td>WY</td>\n",
       "    </tr>\n",
       "    <tr>\n",
       "      <th>dti</th>\n",
       "      <td>7297</td>\n",
       "      <td>19.951480060298724</td>\n",
       "      <td>30.412739425816028</td>\n",
       "      <td>0</td>\n",
       "      <td>999</td>\n",
       "    </tr>\n",
       "    <tr>\n",
       "      <th>delinq_2yrs</th>\n",
       "      <td>7297</td>\n",
       "      <td>0.21748663834452514</td>\n",
       "      <td>0.7554488384386131</td>\n",
       "      <td>0.0</td>\n",
       "      <td>16.0</td>\n",
       "    </tr>\n",
       "    <tr>\n",
       "      <th>earliest_cr_line</th>\n",
       "      <td>7297</td>\n",
       "      <td>None</td>\n",
       "      <td>None</td>\n",
       "      <td>Apr-1970</td>\n",
       "      <td>Sep-2015</td>\n",
       "    </tr>\n",
       "    <tr>\n",
       "      <th>open_acc</th>\n",
       "      <td>7297</td>\n",
       "      <td>11.485542003563108</td>\n",
       "      <td>5.904423388775289</td>\n",
       "      <td>1</td>\n",
       "      <td>63</td>\n",
       "    </tr>\n",
       "    <tr>\n",
       "      <th>pub_rec</th>\n",
       "      <td>7297</td>\n",
       "      <td>0.13813896121693847</td>\n",
       "      <td>0.35601733844079464</td>\n",
       "      <td>0</td>\n",
       "      <td>4</td>\n",
       "    </tr>\n",
       "    <tr>\n",
       "      <th>revol_bal</th>\n",
       "      <td>7297</td>\n",
       "      <td>12804.496505413183</td>\n",
       "      <td>14588.05192820673</td>\n",
       "      <td>0</td>\n",
       "      <td>241296</td>\n",
       "    </tr>\n",
       "    <tr>\n",
       "      <th>revol_util</th>\n",
       "      <td>7297</td>\n",
       "      <td>36.864464848567906</td>\n",
       "      <td>25.251468158352832</td>\n",
       "      <td>0</td>\n",
       "      <td>104</td>\n",
       "    </tr>\n",
       "    <tr>\n",
       "      <th>total_acc</th>\n",
       "      <td>7297</td>\n",
       "      <td>24.682061121008633</td>\n",
       "      <td>13.046845325371981</td>\n",
       "      <td>2</td>\n",
       "      <td>142</td>\n",
       "    </tr>\n",
       "    <tr>\n",
       "      <th>issue_d</th>\n",
       "      <td>7297</td>\n",
       "      <td>2019.0</td>\n",
       "      <td>5.236397009685313E-14</td>\n",
       "      <td>2019</td>\n",
       "      <td>2019</td>\n",
       "    </tr>\n",
       "    <tr>\n",
       "      <th>acc_now_delinq</th>\n",
       "      <td>7297</td>\n",
       "      <td>0.0</td>\n",
       "      <td>0.0</td>\n",
       "      <td>0</td>\n",
       "      <td>0</td>\n",
       "    </tr>\n",
       "    <tr>\n",
       "      <th>calculatedDTI</th>\n",
       "      <td>7297</td>\n",
       "      <td>0.24226166127434953</td>\n",
       "      <td>1.3226988193199407</td>\n",
       "      <td>0.006896551724137931</td>\n",
       "      <td>91.14285714285714</td>\n",
       "    </tr>\n",
       "    <tr>\n",
       "      <th>is_debtConsolidation</th>\n",
       "      <td>7297</td>\n",
       "      <td>0.5377552418802247</td>\n",
       "      <td>0.4986066703185269</td>\n",
       "      <td>0</td>\n",
       "      <td>1</td>\n",
       "    </tr>\n",
       "  </tbody>\n",
       "</table>\n",
       "</div>"
      ],
      "text/plain": [
       "                          0                    1                      2  \\\n",
       "summary               count                 mean                 stddev   \n",
       "loan_amnt              7297   13130.851719884884      8659.574284347007   \n",
       "term                   7297    41.99917774427847     10.392542207483649   \n",
       "int_rate               7297    13.77566806228092      5.285655556117107   \n",
       "installment            7297   395.88434013978144     253.33174201210824   \n",
       "grade                  7297                 None                   None   \n",
       "emp_length             7297                 None                   None   \n",
       "home_ownership         7297                 None                   None   \n",
       "annual_inc             7297    70260.51902699741     30057.182564052007   \n",
       "verification_status    7297                 None                   None   \n",
       "loan_status            7297                 None                   None   \n",
       "purpose                7297                 None                   None   \n",
       "addr_state             7297                 None                   None   \n",
       "dti                    7297   19.951480060298724     30.412739425816028   \n",
       "delinq_2yrs            7297  0.21748663834452514     0.7554488384386131   \n",
       "earliest_cr_line       7297                 None                   None   \n",
       "open_acc               7297   11.485542003563108      5.904423388775289   \n",
       "pub_rec                7297  0.13813896121693847    0.35601733844079464   \n",
       "revol_bal              7297   12804.496505413183      14588.05192820673   \n",
       "revol_util             7297   36.864464848567906     25.251468158352832   \n",
       "total_acc              7297   24.682061121008633     13.046845325371981   \n",
       "issue_d                7297               2019.0  5.236397009685313E-14   \n",
       "acc_now_delinq         7297                  0.0                    0.0   \n",
       "calculatedDTI          7297  0.24226166127434953     1.3226988193199407   \n",
       "is_debtConsolidation   7297   0.5377552418802247     0.4986066703185269   \n",
       "\n",
       "                                         3                  4  \n",
       "summary                                min                max  \n",
       "loan_amnt                             1000              38975  \n",
       "term                                    36                 60  \n",
       "int_rate                              6.46              30.84  \n",
       "installment                          30.64            1471.12  \n",
       "grade                                    A                  G  \n",
       "emp_length                          1 year                n/a  \n",
       "home_ownership                         ANY               RENT  \n",
       "annual_inc                           250.0           149925.0  \n",
       "verification_status           Not Verified           Verified  \n",
       "loan_status                    Charged Off         Fully Paid  \n",
       "purpose                                car           vacation  \n",
       "addr_state                              AK                 WY  \n",
       "dti                                      0                999  \n",
       "delinq_2yrs                            0.0               16.0  \n",
       "earliest_cr_line                  Apr-1970           Sep-2015  \n",
       "open_acc                                 1                 63  \n",
       "pub_rec                                  0                  4  \n",
       "revol_bal                                0             241296  \n",
       "revol_util                               0                104  \n",
       "total_acc                                2                142  \n",
       "issue_d                               2019               2019  \n",
       "acc_now_delinq                           0                  0  \n",
       "calculatedDTI         0.006896551724137931  91.14285714285714  \n",
       "is_debtConsolidation                     0                  1  "
      ]
     },
     "execution_count": 16,
     "metadata": {},
     "output_type": "execute_result"
    }
   ],
   "source": [
    "testing_df.describe().toPandas().transpose()"
   ]
  },
  {
   "cell_type": "markdown",
   "id": "f7f83a86",
   "metadata": {},
   "source": [
    "#### Feature Transformation (Encoding)"
   ]
  },
  {
   "cell_type": "code",
   "execution_count": 17,
   "id": "9f45518a",
   "metadata": {},
   "outputs": [],
   "source": [
    "numeric_candidateFeatures_list = ['int_rate','term','loan_amnt','annual_inc']\n",
    "#numeric_candidateFeatures_list = ['int_rate','installment','loan_amnt','annual_inc','revol_util','delinq_2yrs','is_debtConsolidation','term']"
   ]
  },
  {
   "cell_type": "raw",
   "id": "d196efac",
   "metadata": {},
   "source": [
    "#numeric_candidateFeatures_list = ['loan_amnt','int_rate','calculatedDTI']\n",
    "numeric_candidateFeatures_list = ['int_rate','installment','pub_rec','loan_amnt','annual_inc']"
   ]
  },
  {
   "cell_type": "code",
   "execution_count": 18,
   "id": "fb8c7421",
   "metadata": {},
   "outputs": [],
   "source": [
    "cat_candidateFeatures_list = ['grade','home_ownership','verification_status','addr_state']\n",
    "#cat_candidateFeatures_list = []"
   ]
  },
  {
   "cell_type": "code",
   "execution_count": 19,
   "id": "653b9b58",
   "metadata": {},
   "outputs": [],
   "source": [
    "from pyspark.ml.feature import *\n",
    "from pyspark.ml.pipeline import Pipeline\n",
    "from pyspark.ml.classification import *"
   ]
  },
  {
   "cell_type": "code",
   "execution_count": 20,
   "id": "75856f02",
   "metadata": {},
   "outputs": [],
   "source": [
    "label_Indexer = StringIndexer(inputCol='loan_status',outputCol='label')"
   ]
  },
  {
   "cell_type": "code",
   "execution_count": 21,
   "id": "745c424e",
   "metadata": {},
   "outputs": [],
   "source": [
    "cat_Indexer = StringIndexer(inputCols=cat_candidateFeatures_list,outputCols=['grade_index','home_ownership_index'\\\n",
    "                                                                             ,'verification_status_index','addr_state_index'])\n",
    "cat_OneHot  = OneHotEncoder(inputCols=['grade_index','home_ownership_index'\\\n",
    "                                                                             ,'verification_status_index','addr_state_index']\\\n",
    "                            ,outputCols=['grade_binarized','home_ownership_binarized'\\\n",
    "                                         ,'verification_status_binarized','addr_state_binarized'])"
   ]
  },
  {
   "cell_type": "code",
   "execution_count": 22,
   "id": "a84cc889",
   "metadata": {},
   "outputs": [],
   "source": [
    "#feature_list = numeric_candidateFeatures_list+['grade_binarized','home_ownership_binarized','verification_status_binarized','addr_state_binarized','cat_delinq_2yrs_binarized']\n",
    "feature_list = numeric_candidateFeatures_list"
   ]
  },
  {
   "cell_type": "code",
   "execution_count": 23,
   "id": "7f2a6e06",
   "metadata": {},
   "outputs": [
    {
     "data": {
      "text/plain": [
       "['int_rate', 'term', 'loan_amnt', 'annual_inc']"
      ]
     },
     "execution_count": 23,
     "metadata": {},
     "output_type": "execute_result"
    }
   ],
   "source": [
    "feature_list"
   ]
  },
  {
   "cell_type": "code",
   "execution_count": 24,
   "id": "2afc4e50",
   "metadata": {},
   "outputs": [],
   "source": [
    "feature_Assembler = VectorAssembler(inputCols=feature_list,outputCol='features')"
   ]
  },
  {
   "cell_type": "code",
   "execution_count": 25,
   "id": "a634eb34",
   "metadata": {},
   "outputs": [],
   "source": [
    "def ExtractFeatureImp(featureImp, dataset, featuresCol):\n",
    "    list_extract = []\n",
    "    for i in dataset.schema[featuresCol].metadata[\"ml_attr\"][\"attrs\"]:\n",
    "        list_extract = list_extract + dataset.schema[featuresCol].metadata[\"ml_attr\"][\"attrs\"][i]\n",
    "    varlist = pd.DataFrame(list_extract)\n",
    "    varlist['score'] = varlist['idx'].apply(lambda x: featureImp[x])\n",
    "    return(varlist.sort_values('score', ascending = False))"
   ]
  },
  {
   "cell_type": "markdown",
   "id": "f6f88ff4",
   "metadata": {},
   "source": [
    "#### Algorithm: Decision Tree Classifier"
   ]
  },
  {
   "cell_type": "code",
   "execution_count": 26,
   "id": "6f80a1d2",
   "metadata": {},
   "outputs": [],
   "source": [
    "algo = DecisionTreeClassifier(featuresCol='features',labelCol='label')"
   ]
  },
  {
   "cell_type": "code",
   "execution_count": 27,
   "id": "4b4a70ac",
   "metadata": {},
   "outputs": [],
   "source": [
    "pipeline_transformation = Pipeline().setStages([cat_Indexer,cat_OneHot,feature_Assembler,label_Indexer,algo])"
   ]
  },
  {
   "cell_type": "code",
   "execution_count": 28,
   "id": "844322c3",
   "metadata": {},
   "outputs": [
    {
     "name": "stderr",
     "output_type": "stream",
     "text": [
      "                                                                                \r"
     ]
    }
   ],
   "source": [
    "model = pipeline_transformation.fit(training_df)"
   ]
  },
  {
   "cell_type": "code",
   "execution_count": 29,
   "id": "6becb37e",
   "metadata": {},
   "outputs": [],
   "source": [
    "result_df = model.transform(testing_df)"
   ]
  },
  {
   "cell_type": "code",
   "execution_count": 30,
   "id": "d3f450fd",
   "metadata": {},
   "outputs": [
    {
     "name": "stderr",
     "output_type": "stream",
     "text": [
      "                                                                                \r"
     ]
    },
    {
     "name": "stdout",
     "output_type": "stream",
     "text": [
      "+-----------+-----+----------+-----+\n",
      "|loan_status|label|prediction|count|\n",
      "+-----------+-----+----------+-----+\n",
      "|Charged Off|  1.0|       1.0|  283|\n",
      "|Charged Off|  1.0|       0.0|  196|\n",
      "+-----------+-----+----------+-----+\n",
      "\n"
     ]
    },
    {
     "name": "stderr",
     "output_type": "stream",
     "text": [
      "                                                                                \r"
     ]
    }
   ],
   "source": [
    "result_df.select('loan_status','label','prediction').filter(sparkf.col('label') == 1)\\\n",
    ".groupBy('loan_status','label','prediction').count().show()"
   ]
  },
  {
   "cell_type": "code",
   "execution_count": 31,
   "id": "95891488",
   "metadata": {},
   "outputs": [
    {
     "name": "stderr",
     "output_type": "stream",
     "text": [
      "                                                                                \r"
     ]
    }
   ],
   "source": [
    "TP = result_df.select('loan_status','label','prediction')\\\n",
    ".filter((sparkf.col('label') == 1)&(sparkf.col('prediction') == 1))\\\n",
    ".groupBy('loan_status','label','prediction').count().take(1)[0]['count']"
   ]
  },
  {
   "cell_type": "code",
   "execution_count": 32,
   "id": "99d9153d",
   "metadata": {},
   "outputs": [
    {
     "name": "stderr",
     "output_type": "stream",
     "text": [
      "                                                                                \r"
     ]
    }
   ],
   "source": [
    "ALL_POSITIVE = result_df.select('loan_status','label','prediction').filter((sparkf.col('label') == 1)).count()"
   ]
  },
  {
   "cell_type": "code",
   "execution_count": 33,
   "id": "bae96252",
   "metadata": {},
   "outputs": [
    {
     "name": "stderr",
     "output_type": "stream",
     "text": [
      "                                                                                \r"
     ]
    }
   ],
   "source": [
    "ALL_NEGATIVE = result_df.select('loan_status','label','prediction').filter((sparkf.col('label') == 0)).count()"
   ]
  },
  {
   "cell_type": "code",
   "execution_count": 34,
   "id": "cfd42c7a",
   "metadata": {},
   "outputs": [
    {
     "data": {
      "text/plain": [
       "7297"
      ]
     },
     "execution_count": 34,
     "metadata": {},
     "output_type": "execute_result"
    }
   ],
   "source": [
    "ALL_POSITIVE+ALL_NEGATIVE"
   ]
  },
  {
   "cell_type": "code",
   "execution_count": 35,
   "id": "05581d3d",
   "metadata": {},
   "outputs": [
    {
     "name": "stderr",
     "output_type": "stream",
     "text": [
      "                                                                                \r"
     ]
    },
    {
     "data": {
      "text/plain": [
       "7297"
      ]
     },
     "execution_count": 35,
     "metadata": {},
     "output_type": "execute_result"
    }
   ],
   "source": [
    "result_df.count()"
   ]
  },
  {
   "cell_type": "code",
   "execution_count": 36,
   "id": "67e8b01c",
   "metadata": {},
   "outputs": [],
   "source": [
    "SENSITIVITY = TP/ALL_POSITIVE"
   ]
  },
  {
   "cell_type": "code",
   "execution_count": 37,
   "id": "2b4ae427",
   "metadata": {},
   "outputs": [
    {
     "data": {
      "text/plain": [
       "0.5908141962421712"
      ]
     },
     "execution_count": 37,
     "metadata": {},
     "output_type": "execute_result"
    }
   ],
   "source": [
    "SENSITIVITY"
   ]
  },
  {
   "cell_type": "code",
   "execution_count": 38,
   "id": "0b8327e9",
   "metadata": {},
   "outputs": [
    {
     "name": "stderr",
     "output_type": "stream",
     "text": [
      "                                                                                \r"
     ]
    }
   ],
   "source": [
    "TN = result_df.select('loan_status','label','prediction')\\\n",
    ".filter((sparkf.col('label') == 0)&(sparkf.col('prediction') == 0))\\\n",
    ".groupBy('loan_status','label','prediction').count().take(1)[0]['count']"
   ]
  },
  {
   "cell_type": "code",
   "execution_count": 39,
   "id": "100eddf7",
   "metadata": {},
   "outputs": [],
   "source": [
    "SPECIFICITY = TN/ALL_NEGATIVE"
   ]
  },
  {
   "cell_type": "code",
   "execution_count": 40,
   "id": "276c293e",
   "metadata": {},
   "outputs": [
    {
     "data": {
      "text/plain": [
       "0.5890290407744206"
      ]
     },
     "execution_count": 40,
     "metadata": {},
     "output_type": "execute_result"
    }
   ],
   "source": [
    "SPECIFICITY"
   ]
  },
  {
   "cell_type": "code",
   "execution_count": null,
   "id": "b862c0bd",
   "metadata": {},
   "outputs": [],
   "source": []
  },
  {
   "cell_type": "code",
   "execution_count": 41,
   "id": "692f678c",
   "metadata": {},
   "outputs": [],
   "source": [
    "import pandas as pd"
   ]
  },
  {
   "cell_type": "code",
   "execution_count": 42,
   "id": "bb9382a5",
   "metadata": {},
   "outputs": [],
   "source": [
    "featureImportances = model.stages[4].featureImportances.toArray()"
   ]
  },
  {
   "cell_type": "code",
   "execution_count": 43,
   "id": "08a0afe4",
   "metadata": {},
   "outputs": [
    {
     "data": {
      "text/html": [
       "<div>\n",
       "<style scoped>\n",
       "    .dataframe tbody tr th:only-of-type {\n",
       "        vertical-align: middle;\n",
       "    }\n",
       "\n",
       "    .dataframe tbody tr th {\n",
       "        vertical-align: top;\n",
       "    }\n",
       "\n",
       "    .dataframe thead th {\n",
       "        text-align: right;\n",
       "    }\n",
       "</style>\n",
       "<table border=\"1\" class=\"dataframe\">\n",
       "  <thead>\n",
       "    <tr style=\"text-align: right;\">\n",
       "      <th></th>\n",
       "      <th>idx</th>\n",
       "      <th>name</th>\n",
       "      <th>score</th>\n",
       "    </tr>\n",
       "  </thead>\n",
       "  <tbody>\n",
       "    <tr>\n",
       "      <th>0</th>\n",
       "      <td>0</td>\n",
       "      <td>int_rate</td>\n",
       "      <td>0.934267</td>\n",
       "    </tr>\n",
       "    <tr>\n",
       "      <th>1</th>\n",
       "      <td>1</td>\n",
       "      <td>term</td>\n",
       "      <td>0.045894</td>\n",
       "    </tr>\n",
       "    <tr>\n",
       "      <th>2</th>\n",
       "      <td>2</td>\n",
       "      <td>loan_amnt</td>\n",
       "      <td>0.014612</td>\n",
       "    </tr>\n",
       "    <tr>\n",
       "      <th>3</th>\n",
       "      <td>3</td>\n",
       "      <td>annual_inc</td>\n",
       "      <td>0.005228</td>\n",
       "    </tr>\n",
       "  </tbody>\n",
       "</table>\n",
       "</div>"
      ],
      "text/plain": [
       "   idx        name     score\n",
       "0    0    int_rate  0.934267\n",
       "1    1        term  0.045894\n",
       "2    2   loan_amnt  0.014612\n",
       "3    3  annual_inc  0.005228"
      ]
     },
     "execution_count": 43,
     "metadata": {},
     "output_type": "execute_result"
    }
   ],
   "source": [
    "ExtractFeatureImp(featureImportances, result_df, \"features\").head(30)"
   ]
  },
  {
   "cell_type": "code",
   "execution_count": null,
   "id": "d46b6f78",
   "metadata": {},
   "outputs": [],
   "source": []
  },
  {
   "cell_type": "code",
   "execution_count": null,
   "id": "8a6b1d3f",
   "metadata": {},
   "outputs": [],
   "source": []
  },
  {
   "cell_type": "code",
   "execution_count": null,
   "id": "75ad2103",
   "metadata": {},
   "outputs": [],
   "source": []
  },
  {
   "cell_type": "code",
   "execution_count": null,
   "id": "2a777537",
   "metadata": {},
   "outputs": [],
   "source": []
  },
  {
   "cell_type": "code",
   "execution_count": null,
   "id": "67a5b3c8",
   "metadata": {},
   "outputs": [],
   "source": []
  },
  {
   "cell_type": "code",
   "execution_count": null,
   "id": "0bb72449",
   "metadata": {},
   "outputs": [],
   "source": []
  },
  {
   "cell_type": "code",
   "execution_count": null,
   "id": "9d61ffe6",
   "metadata": {},
   "outputs": [],
   "source": []
  }
 ],
 "metadata": {
  "kernelspec": {
   "display_name": "Python 3 (ipykernel)",
   "language": "python",
   "name": "python3"
  },
  "language_info": {
   "codemirror_mode": {
    "name": "ipython",
    "version": 3
   },
   "file_extension": ".py",
   "mimetype": "text/x-python",
   "name": "python",
   "nbconvert_exporter": "python",
   "pygments_lexer": "ipython3",
   "version": "3.9.2"
  }
 },
 "nbformat": 4,
 "nbformat_minor": 5
}
